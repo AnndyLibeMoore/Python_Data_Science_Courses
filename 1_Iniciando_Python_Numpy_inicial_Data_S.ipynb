{
  "cells": [
    {
      "cell_type": "markdown",
      "metadata": {
        "id": "view-in-github",
        "colab_type": "text"
      },
      "source": [
        "<a href=\"https://colab.research.google.com/github/AnndyLibeMoore/Python_My_Learn/blob/main/1_Iniciando_Python_Numpy_inicial_Data_S.ipynb\" target=\"_parent\"><img src=\"https://colab.research.google.com/assets/colab-badge.svg\" alt=\"Open In Colab\"/></a>"
      ]
    },
    {
      "cell_type": "markdown",
      "metadata": {
        "id": "do3kUOLbltjE"
      },
      "source": [
        "# <font color=green> PYTHON PARA DATA SCIENCE - NUMPY\n",
        "---"
      ]
    },
    {
      "cell_type": "markdown",
      "metadata": {
        "id": "umSz9TLxltjG"
      },
      "source": [
        "# <font color=green> 1. INTRODUCCIÓN A PYTHON\n",
        "---"
      ]
    },
    {
      "cell_type": "markdown",
      "metadata": {
        "id": "gSnX12-sltjH"
      },
      "source": [
        "# 1.1 Introducción"
      ]
    },
    {
      "cell_type": "markdown",
      "metadata": {
        "id": "SRG_k55kltjI"
      },
      "source": [
        "> Python es un lenguaje de programación de alto nivel con soporte a múltiples paradigmas de programación. Es un proyecto *open source* y desde su surgimiento, en 1991, viene convirtiéndose en uno de los lenguajes de programación interpretados más populares.\n",
        ">\n",
        "> En los últimos años Python desarrolló una comunidad activa de procesamiento científico y análisis de datos y viene destacándose como uno de los lenguajes más relevantes cuando el asunto es ciencia de datos y machine learning, tanto en el entorno acadêmico como también en el entorno laboral."
      ]
    },
    {
      "cell_type": "markdown",
      "metadata": {
        "id": "2oZuKvWkltjJ"
      },
      "source": [
        "# 1.2 Instalación y entorno de trabajo"
      ]
    },
    {
      "cell_type": "markdown",
      "metadata": {
        "id": "v4P8bMEIltjK"
      },
      "source": [
        "### Instalación Local\n",
        "\n",
        "### https://www.python.org/downloads/\n",
        "### o\n",
        "### https://www.anaconda.com/distribution/"
      ]
    },
    {
      "cell_type": "markdown",
      "metadata": {
        "id": "FZtu5tjrltjL"
      },
      "source": [
        "### Google Colaboratory\n",
        "\n",
        "### https://colab.research.google.com"
      ]
    },
    {
      "cell_type": "markdown",
      "metadata": {
        "id": "C6vbfq8DltjM"
      },
      "source": [
        "### Verificando versión"
      ]
    },
    {
      "cell_type": "code",
      "execution_count": null,
      "metadata": {
        "colab": {
          "base_uri": "https://localhost:8080/"
        },
        "id": "jeuAt-4NltjM",
        "outputId": "c3d5b6df-7259-4d47-8a80-de3b115cb100"
      },
      "outputs": [
        {
          "output_type": "stream",
          "name": "stdout",
          "text": [
            "Python 3.10.12\n"
          ]
        }
      ],
      "source": [
        "!python -V"
      ]
    },
    {
      "cell_type": "markdown",
      "metadata": {
        "id": "v86aEyR2ltjR"
      },
      "source": [
        "# 1.3 Trabajando con Numpy"
      ]
    },
    {
      "cell_type": "code",
      "execution_count": null,
      "metadata": {
        "id": "6FEhElzNltjR"
      },
      "outputs": [],
      "source": [
        "import numpy as np\n"
      ]
    },
    {
      "cell_type": "code",
      "execution_count": null,
      "metadata": {
        "id": "qjL5wPLKltjU"
      },
      "outputs": [],
      "source": [
        "#importamos el primer archivo en este caso sera txt\n",
        "#indicamos el tipo de dato q vamos a subir con el dtype\n",
        "#creamos una variable e importamos el archivo alli.\n",
        "#indicamos incluso el tipo de dato q contiene el archivo\n",
        "km = np.loadtxt('carros-km.txt', dtype = int)"
      ]
    },
    {
      "cell_type": "code",
      "execution_count": null,
      "metadata": {
        "id": "OFaxgUptltjW",
        "scrolled": true,
        "colab": {
          "base_uri": "https://localhost:8080/"
        },
        "outputId": "afafb235-1549-488b-c721-cafbe17b9d26"
      },
      "outputs": [
        {
          "output_type": "execute_result",
          "data": {
            "text/plain": [
              "array([ 44410,   5712,  37123,      0,  25757,  10728,      0,  77599,\n",
              "        99197,  37978,  12859,   8052,  89773,      0,  41457, 115607,\n",
              "        46449,      0,  37086,  15173, 101193,      0,  98079, 102959,\n",
              "            0,      0,   5795,      0,  58848,  94381,  30163,  53332,\n",
              "        17720,  33808,  90684,  43975,      0,      0,   5526,      0,\n",
              "        93415,  40762,      0,  86302,      0,   9755,  69945,   2395,\n",
              "            0,  80349,  85554,  50496,  67716,  93947,  35345,  81007,\n",
              "       119513,      0,      0,      0,      0,      0, 118895,  48509,\n",
              "       100912,  95649,      0,  90495,      0,  29132,  23802,  84992,\n",
              "        54395,  26731,  44329, 118236, 113808,    610,      0,      0,\n",
              "        12887,  79607,  90924,  42733,      0,      0, 117714, 113885,\n",
              "            0,  30511,  74867, 119760,   8356,  64247,  88661,   4539,\n",
              "       110116,  33215,  92001,      0,  81708,  70641,      0,  91277,\n",
              "        26544,  52596,  47503,  89056,  28834, 110564,  56638,  17357,\n",
              "        74015,  15196,      0,  10821,      0,      0,   9595,  99052,\n",
              "        52389, 119945,  96005,  31639,      0,  80187,      0,  58212,\n",
              "        61672,  32017,      0,  56944,      0,  86519,   4821, 101025,\n",
              "        30705,      0,  32555, 103389,      0,  55289,      0,      0,\n",
              "       115930,  66437,  96800,  14237,  19896, 113045, 114942,   3173,\n",
              "        83611,  25356,  88634,   2314,   2627,  52034,      0,      0,\n",
              "        79577, 108201,  76453,  57683,  96610, 109001,  26212,  45971,\n",
              "        49182,  49907,  38620,  60996,  73914, 107392,   9146,      0,\n",
              "        17924,      0, 116949,  20476,  52804,   8849,  91724,  32056,\n",
              "        74886,      0,      0,  52189,  83559,      0,  20328,      0,\n",
              "        75577,  33659, 104341,  25510,  18965,  87161,   6652,  55738,\n",
              "            0,      0,      0,  64320,      0,  68678,  71697,      0,\n",
              "        34783,  33772,  85127,  13606,  35647,  95128,  14046,  41194,\n",
              "            0,  96100, 103900,  43814,  24638,      0, 110966,  15987,\n",
              "        53369,  10077,  71544,    107,   8394,  41498, 116002, 100858,\n",
              "        67475,   8497,   4420,      0,  58537,      0,      0, 112016,\n",
              "        91840, 112787,      0,      0,   9293,      0,  55083,  48796,\n",
              "            0,  89685,  85384,  98108,  71280,  27505,  29981,  52637,\n",
              "         7685,  50188])"
            ]
          },
          "metadata": {},
          "execution_count": 4
        }
      ],
      "source": [
        "#visualizamos\n",
        "km"
      ]
    },
    {
      "cell_type": "code",
      "execution_count": null,
      "metadata": {
        "id": "FXjYowRDltjZ"
      },
      "outputs": [],
      "source": [
        "#cargamos el archivo de años\n",
        "\n",
        "años = np.loadtxt('carros-años.txt', dtype = int)"
      ]
    },
    {
      "cell_type": "code",
      "execution_count": null,
      "metadata": {
        "id": "f_d2Ya-vltjb",
        "colab": {
          "base_uri": "https://localhost:8080/"
        },
        "outputId": "95f70f2c-c9fa-438c-bb4d-9e6af9720108"
      },
      "outputs": [
        {
          "output_type": "execute_result",
          "data": {
            "text/plain": [
              "array([2003, 1991, 1990, 2020, 2006, 2012, 2020, 2009, 2010, 2011, 2002,\n",
              "       2007, 2001, 2020, 2009, 2016, 2012, 2020, 2016, 2017, 2002, 2020,\n",
              "       1994, 1991, 2020, 2020, 2016, 2020, 2002, 1991, 1997, 1995, 2018,\n",
              "       1991, 2014, 1995, 2020, 2020, 2009, 2020, 2013, 2003, 2020, 2002,\n",
              "       2020, 2002, 2004, 2001, 2020, 2003, 2009, 2006, 2000, 2006, 2010,\n",
              "       1994, 2007, 2020, 2020, 2020, 2020, 2020, 2017, 2011, 2001, 1996,\n",
              "       2020, 1994, 2020, 2007, 1994, 2007, 1997, 2006, 2013, 1994, 2008,\n",
              "       2008, 2020, 2020, 1999, 2007, 1993, 1995, 2020, 2020, 2016, 2011,\n",
              "       2020, 2002, 2013, 2017, 2016, 2008, 2018, 2003, 2003, 2004, 2010,\n",
              "       2020, 2006, 2001, 2020, 2015, 2018, 2017, 1992, 2001, 1993, 1995,\n",
              "       2003, 2014, 2008, 2013, 2020, 2017, 2020, 2020, 2006, 2015, 2007,\n",
              "       2005, 2017, 1998, 2020, 1999, 2020, 2009, 2003, 1994, 2020, 1994,\n",
              "       2020, 2015, 1996, 1997, 1993, 2020, 1992, 1995, 2020, 1990, 2020,\n",
              "       2020, 1991, 1990, 2012, 2007, 2013, 2000, 2002, 1996, 1996, 2015,\n",
              "       1993, 2013, 2013, 2009, 2020, 2020, 2002, 1997, 1998, 2004, 1996,\n",
              "       2015, 2016, 2005, 1999, 1995, 1993, 2004, 2013, 1998, 2018, 2020,\n",
              "       2018, 2020, 1990, 2009, 1990, 2006, 2002, 1991, 1992, 2020, 2020,\n",
              "       2005, 2010, 2020, 2016, 2020, 2010, 1994, 2001, 2014, 1996, 1993,\n",
              "       1993, 2001, 2020, 2020, 2020, 2007, 2020, 2016, 2014, 2020, 2015,\n",
              "       2015, 1996, 2002, 2005, 1995, 1999, 2005, 2020, 1997, 1990, 2001,\n",
              "       2013, 2020, 2017, 2011, 2005, 2007, 1993, 1991, 1991, 1997, 2000,\n",
              "       2007, 2006, 2015, 2008, 2020, 1996, 2020, 2020, 2014, 2004, 2008,\n",
              "       2020, 2020, 2012, 2020, 1996, 2011, 2020, 2010, 2007, 1994, 2007,\n",
              "       2014, 1991, 2002, 1996, 1992])"
            ]
          },
          "metadata": {},
          "execution_count": 6
        }
      ],
      "source": [
        "años"
      ]
    },
    {
      "cell_type": "markdown",
      "metadata": {
        "id": "wMdUsAq4ltjs"
      },
      "source": [
        "### Obtener el promedio de kilometros recorridos por año"
      ]
    },
    {
      "cell_type": "code",
      "source": [
        "\"\"\"\n",
        "la formula seria el\n",
        "km promedio = total km recorridos / años que el vehiculo ha recorrido\n",
        "para obtner el total de años recorridos debemos\n",
        "restar: año actual - año de fabricacion\n",
        "\n",
        "la formula quedria asi:\n",
        "\n",
        "km promedio= total km / (año actual - Año fabricación)\n",
        "\n",
        "\"\"\""
      ],
      "metadata": {
        "id": "LKRe96drYUtG",
        "colab": {
          "base_uri": "https://localhost:8080/"
        },
        "outputId": "b4165df8-c1c0-45f9-d2e1-a2bc9f759bd9"
      },
      "execution_count": null,
      "outputs": [
        {
          "output_type": "execute_result",
          "data": {
            "text/plain": [
              "'\\nla formula seria el\\nkm promedio = total km recorridos / años que el vehiculo ha recorrido\\npara obtner el total de años recorridos debemos\\nrestar: año actual - año de fabricacion\\n\\nla formula quedria asi:\\n\\nkm promedio= total km / (año actual - Año fabricación)\\n\\n'"
            ],
            "application/vnd.google.colaboratory.intrinsic+json": {
              "type": "string"
            }
          },
          "metadata": {},
          "execution_count": 7
        }
      ]
    },
    {
      "cell_type": "code",
      "source": [
        "\"\"\"\n",
        "crearemos la variable que guardara el resultado, a esta\n",
        "le indicamos la formula sera km_promedio\n",
        "km q es la variable q tien os datos de km /\n",
        "el 2020 q es el año \"actual\" - años que es la\n",
        "variable que tiene los años\n",
        "\"\"\""
      ],
      "metadata": {
        "id": "Ni2KRKK8Zt4U",
        "colab": {
          "base_uri": "https://localhost:8080/"
        },
        "outputId": "e6bb72ab-dd10-470e-80fb-4a5198c1a9f3"
      },
      "execution_count": null,
      "outputs": [
        {
          "output_type": "execute_result",
          "data": {
            "text/plain": [
              "'\\ncrearemos la variable que guardara el resultado, a esta\\nle indicamos la formula sera km_promedio\\nkm q es la variable q tien os datos de km /\\nel 2020 q es el año \"actual\" - años que es la\\nvariable que tiene los años\\n'"
            ],
            "application/vnd.google.colaboratory.intrinsic+json": {
              "type": "string"
            }
          },
          "metadata": {},
          "execution_count": 8
        }
      ]
    },
    {
      "cell_type": "code",
      "execution_count": null,
      "metadata": {
        "colab": {
          "base_uri": "https://localhost:8080/"
        },
        "id": "cD2M3s3Fltjt",
        "outputId": "62a90ca2-5131-4d93-9e61-623bc313a76d"
      },
      "outputs": [
        {
          "output_type": "stream",
          "name": "stderr",
          "text": [
            "<ipython-input-9-604be348fb12>:1: RuntimeWarning: invalid value encountered in divide\n",
            "  km_promedio = km /  (2020 - años)\n"
          ]
        }
      ],
      "source": [
        "km_promedio = km /  (2020 - años)\n",
        "\n",
        "#aqui nos dice q hay un valor invalido porque hay\n",
        "#algunos carros fabricados en 2020 asi q el resultados de\n",
        "#la formula sera 0 y por esto indica q es invalido"
      ]
    },
    {
      "cell_type": "code",
      "execution_count": null,
      "metadata": {
        "id": "65IyPzKKltjv",
        "colab": {
          "base_uri": "https://localhost:8080/"
        },
        "outputId": "13136592-2a0a-4b8e-ed8e-adfc90d492af",
        "collapsed": true
      },
      "outputs": [
        {
          "output_type": "execute_result",
          "data": {
            "text/plain": [
              "array([2.61235294e+03, 1.96965517e+02, 1.23743333e+03,            nan,\n",
              "       1.83978571e+03, 1.34100000e+03,            nan, 7.05445455e+03,\n",
              "       9.91970000e+03, 4.21977778e+03, 7.14388889e+02, 6.19384615e+02,\n",
              "       4.72489474e+03,            nan, 3.76881818e+03, 2.89017500e+04,\n",
              "       5.80612500e+03,            nan, 9.27150000e+03, 5.05766667e+03,\n",
              "       5.62183333e+03,            nan, 3.77226923e+03, 3.55031034e+03,\n",
              "                  nan,            nan, 1.44875000e+03,            nan,\n",
              "       3.26933333e+03, 3.25451724e+03, 1.31143478e+03, 2.13328000e+03,\n",
              "       8.86000000e+03, 1.16579310e+03, 1.51140000e+04, 1.75900000e+03,\n",
              "                  nan,            nan, 5.02363636e+02,            nan,\n",
              "       1.33450000e+04, 2.39776471e+03,            nan, 4.79455556e+03,\n",
              "                  nan, 5.41944444e+02, 4.37156250e+03, 1.26052632e+02,\n",
              "                  nan, 4.72641176e+03, 7.77763636e+03, 3.60685714e+03,\n",
              "       3.38580000e+03, 6.71050000e+03, 3.53450000e+03, 3.11565385e+03,\n",
              "       9.19330769e+03,            nan,            nan,            nan,\n",
              "                  nan,            nan, 3.96316667e+04, 5.38988889e+03,\n",
              "       5.31115789e+03, 3.98537500e+03,            nan, 3.48057692e+03,\n",
              "                  nan, 2.24092308e+03, 9.15461538e+02, 6.53784615e+03,\n",
              "       2.36500000e+03, 1.90935714e+03, 6.33271429e+03, 4.54753846e+03,\n",
              "       9.48400000e+03, 5.08333333e+01,            nan,            nan,\n",
              "       6.13666667e+02, 6.12361538e+03, 3.36755556e+03, 1.70932000e+03,\n",
              "                  nan,            nan, 2.94285000e+04, 1.26538889e+04,\n",
              "                  nan, 1.69505556e+03, 1.06952857e+04, 3.99200000e+04,\n",
              "       2.08900000e+03, 5.35391667e+03, 4.43305000e+04, 2.67000000e+02,\n",
              "       6.47741176e+03, 2.07593750e+03, 9.20010000e+03,            nan,\n",
              "       5.83628571e+03, 3.71794737e+03,            nan, 1.82554000e+04,\n",
              "       1.32720000e+04, 1.75320000e+04, 1.69653571e+03, 4.68715789e+03,\n",
              "       1.06792593e+03, 4.42256000e+03, 3.33164706e+03, 2.89283333e+03,\n",
              "       6.16791667e+03, 2.17085714e+03,            nan, 3.60700000e+03,\n",
              "                  nan,            nan, 6.85357143e+02, 1.98104000e+04,\n",
              "       4.02992308e+03, 7.99633333e+03, 3.20016667e+04, 1.43813636e+03,\n",
              "                  nan, 3.81842857e+03,            nan, 5.29200000e+03,\n",
              "       3.62776471e+03, 1.23142308e+03,            nan, 2.19015385e+03,\n",
              "                  nan, 1.73038000e+04, 2.00875000e+02, 4.39239130e+03,\n",
              "       1.13722222e+03,            nan, 1.16267857e+03, 4.13556000e+03,\n",
              "                  nan, 1.84296667e+03,            nan,            nan,\n",
              "       3.99758621e+03, 2.21456667e+03, 1.21000000e+04, 1.09515385e+03,\n",
              "       2.84228571e+03, 5.65225000e+03, 6.38566667e+03, 1.32208333e+02,\n",
              "       3.48379167e+03, 5.07120000e+03, 3.28274074e+03, 3.30571429e+02,\n",
              "       3.75285714e+02, 4.73036364e+03,            nan,            nan,\n",
              "       4.42094444e+03, 4.70439130e+03, 3.47513636e+03, 3.60518750e+03,\n",
              "       4.02541667e+03, 2.18002000e+04, 6.55300000e+03, 3.06473333e+03,\n",
              "       2.34200000e+03, 1.99628000e+03, 1.43037037e+03, 3.81225000e+03,\n",
              "       1.05591429e+04, 4.88145455e+03, 4.57300000e+03,            nan,\n",
              "       8.96200000e+03,            nan, 3.89830000e+03, 1.86145455e+03,\n",
              "       1.76013333e+03, 6.32071429e+02, 5.09577778e+03, 1.10537931e+03,\n",
              "       2.67450000e+03,            nan,            nan, 3.47926667e+03,\n",
              "       8.35590000e+03,            nan, 5.08200000e+03,            nan,\n",
              "       7.55770000e+03, 1.29457692e+03, 5.49163158e+03, 4.25166667e+03,\n",
              "       7.90208333e+02, 3.22818519e+03, 2.46370370e+02, 2.93357895e+03,\n",
              "                  nan,            nan,            nan, 4.94769231e+03,\n",
              "                  nan, 1.71695000e+04, 1.19495000e+04,            nan,\n",
              "       6.95660000e+03, 6.75440000e+03, 3.54695833e+03, 7.55888889e+02,\n",
              "       2.37646667e+03, 3.80512000e+03, 6.68857143e+02, 2.74626667e+03,\n",
              "                  nan, 4.17826087e+03, 3.46333333e+03, 2.30600000e+03,\n",
              "       3.51971429e+03,            nan, 3.69886667e+04, 1.77633333e+03,\n",
              "       3.55793333e+03, 7.75153846e+02, 2.64977778e+03, 3.68965517e+00,\n",
              "       2.89448276e+02, 1.80426087e+03, 5.80010000e+03, 7.75830769e+03,\n",
              "       4.81964286e+03, 1.69940000e+03, 3.68333333e+02,            nan,\n",
              "       2.43904167e+03,            nan,            nan, 1.86693333e+04,\n",
              "       5.74000000e+03, 9.39891667e+03,            nan,            nan,\n",
              "       1.16162500e+03,            nan, 2.29512500e+03, 5.42177778e+03,\n",
              "                  nan, 8.96850000e+03, 6.56800000e+03, 3.77338462e+03,\n",
              "       5.48307692e+03, 4.58416667e+03, 1.03382759e+03, 2.92427778e+03,\n",
              "       3.20208333e+02, 1.79242857e+03])"
            ]
          },
          "metadata": {},
          "execution_count": 10
        }
      ],
      "source": [
        "km_promedio\n",
        "\n",
        "#aqui los valores invalidos los muestra como nan o nulos"
      ]
    },
    {
      "cell_type": "code",
      "execution_count": null,
      "metadata": {
        "colab": {
          "base_uri": "https://localhost:8080/"
        },
        "id": "Z0JCmAWvltjy",
        "outputId": "28a8b60c-cf40-477b-ba66-d6e27b0fe2db"
      },
      "outputs": [
        {
          "output_type": "execute_result",
          "data": {
            "text/plain": [
              "numpy.ndarray"
            ]
          },
          "metadata": {},
          "execution_count": 11
        }
      ],
      "source": [
        "type(km_promedio)\n",
        "\n",
        "#aqui vemos q el tipo de dato de la variable q\n",
        "#creamos es array numpy"
      ]
    },
    {
      "cell_type": "markdown",
      "metadata": {
        "id": "KdG5NmmGltj0"
      },
      "source": [
        "# <font color=green> 2. CARACTERÍSTICAS BÁSICAS DEL LENGUAJE\n",
        "---"
      ]
    },
    {
      "cell_type": "markdown",
      "metadata": {
        "id": "X1K5kisFltj1"
      },
      "source": [
        "# 2.1 Operaciones matemáticas\n",
        "\n",
        "### Operadores aritméticos: $+$, $-$, $*$, $/$, $**$, $\\%$, $//$"
      ]
    },
    {
      "cell_type": "markdown",
      "metadata": {
        "id": "8YCDVpbYltj1"
      },
      "source": [
        "### Suma ($+$)"
      ]
    },
    {
      "cell_type": "code",
      "execution_count": null,
      "metadata": {
        "colab": {
          "base_uri": "https://localhost:8080/"
        },
        "id": "h6DsMqhaltj2",
        "outputId": "e12c23cc-397f-40f7-f72c-58e266c51341"
      },
      "outputs": [
        {
          "output_type": "execute_result",
          "data": {
            "text/plain": [
              "4"
            ]
          },
          "metadata": {},
          "execution_count": 12
        }
      ],
      "source": [
        "2 + 2"
      ]
    },
    {
      "cell_type": "markdown",
      "metadata": {
        "id": "WeJG-WJBltj8"
      },
      "source": [
        "### Resta ($-$)"
      ]
    },
    {
      "cell_type": "code",
      "execution_count": null,
      "metadata": {
        "colab": {
          "base_uri": "https://localhost:8080/"
        },
        "id": "zoB7_OcRltj9",
        "outputId": "1cbdebcf-9dba-435a-de45-97f681ec3041"
      },
      "outputs": [
        {
          "output_type": "execute_result",
          "data": {
            "text/plain": [
              "0"
            ]
          },
          "metadata": {},
          "execution_count": 13
        }
      ],
      "source": [
        "2-2"
      ]
    },
    {
      "cell_type": "markdown",
      "metadata": {
        "id": "zuv8N7fjltkC"
      },
      "source": [
        "### Multiplicación ($*$)"
      ]
    },
    {
      "cell_type": "code",
      "execution_count": null,
      "metadata": {
        "colab": {
          "base_uri": "https://localhost:8080/"
        },
        "id": "TAWG7xSTltkD",
        "outputId": "3f7c1424-bfc0-4bcb-9cd1-b3ae91a8a5e0"
      },
      "outputs": [
        {
          "output_type": "execute_result",
          "data": {
            "text/plain": [
              "6"
            ]
          },
          "metadata": {},
          "execution_count": 14
        }
      ],
      "source": [
        "2 * 3"
      ]
    },
    {
      "cell_type": "markdown",
      "metadata": {
        "id": "dMp7BsnwltkF"
      },
      "source": [
        "### División ($/$) y ($//$)\n",
        "La operación división siempre devuelve un número con punto decimal"
      ]
    },
    {
      "cell_type": "code",
      "execution_count": null,
      "metadata": {
        "colab": {
          "base_uri": "https://localhost:8080/"
        },
        "id": "DD5kx3H3ltkF",
        "outputId": "519d9bf9-16a5-4da7-8ac9-2130eb0a2db6"
      },
      "outputs": [
        {
          "output_type": "execute_result",
          "data": {
            "text/plain": [
              "3.3333333333333335"
            ]
          },
          "metadata": {},
          "execution_count": 15
        }
      ],
      "source": [
        "10 / 3"
      ]
    },
    {
      "cell_type": "code",
      "execution_count": null,
      "metadata": {
        "colab": {
          "base_uri": "https://localhost:8080/"
        },
        "id": "ji0CYH3UltkI",
        "outputId": "07bdea93-c9f9-40e9-e473-99ba81baa73b"
      },
      "outputs": [
        {
          "output_type": "execute_result",
          "data": {
            "text/plain": [
              "3"
            ]
          },
          "metadata": {},
          "execution_count": 16
        }
      ],
      "source": [
        "10 // 3\n",
        "\n",
        "#este operador retorna solo la parte entera de la división"
      ]
    },
    {
      "cell_type": "markdown",
      "metadata": {
        "id": "3DSO7TcvltkL"
      },
      "source": [
        "### Exponenciación ($**$)"
      ]
    },
    {
      "cell_type": "code",
      "execution_count": null,
      "metadata": {
        "colab": {
          "base_uri": "https://localhost:8080/"
        },
        "id": "tBKvl2TWltkM",
        "outputId": "2ed937d8-c7db-4bdb-dd82-57dc588040bb"
      },
      "outputs": [
        {
          "output_type": "execute_result",
          "data": {
            "text/plain": [
              "8"
            ]
          },
          "metadata": {},
          "execution_count": 17
        }
      ],
      "source": [
        "2 ** 3\n"
      ]
    },
    {
      "cell_type": "markdown",
      "metadata": {
        "id": "MhD56p-9ltkQ"
      },
      "source": [
        "### Resto de la división ($\\%$)"
      ]
    },
    {
      "cell_type": "code",
      "execution_count": null,
      "metadata": {
        "colab": {
          "base_uri": "https://localhost:8080/"
        },
        "id": "bfa7phO6ltkR",
        "outputId": "e5426a2b-4886-4a7a-e106-e4e0c8239123"
      },
      "outputs": [
        {
          "output_type": "execute_result",
          "data": {
            "text/plain": [
              "1"
            ]
          },
          "metadata": {},
          "execution_count": 18
        }
      ],
      "source": [
        "10 % 3"
      ]
    },
    {
      "cell_type": "code",
      "execution_count": null,
      "metadata": {
        "colab": {
          "base_uri": "https://localhost:8080/"
        },
        "id": "khIEx6olltkT",
        "outputId": "f7ac8d6d-398b-47c8-83ee-fe26a957e379"
      },
      "outputs": [
        {
          "output_type": "execute_result",
          "data": {
            "text/plain": [
              "0"
            ]
          },
          "metadata": {},
          "execution_count": 19
        }
      ],
      "source": [
        "10 % 2"
      ]
    },
    {
      "cell_type": "markdown",
      "metadata": {
        "id": "8pVVp5fsltkV"
      },
      "source": [
        "### Expresiones matemáticas"
      ]
    },
    {
      "cell_type": "code",
      "source": [
        "\"\"\"\n",
        "la expresion matematica son una serie de nuemeros separada por\n",
        "operadores donde se resuelve ejecutando los operadores\n",
        "iniciando con los de mayor prioridad\n",
        "\"\"\""
      ],
      "metadata": {
        "colab": {
          "base_uri": "https://localhost:8080/"
        },
        "id": "YEUgl9NZdbIR",
        "outputId": "6c65a747-5dbe-45d3-b939-7b9a20536fdd"
      },
      "execution_count": null,
      "outputs": [
        {
          "output_type": "execute_result",
          "data": {
            "text/plain": [
              "'\\nla expresion matematica son una serie de nuemeros separada por\\noperadores donde se resuelve ejecutando los operadores\\niniciando con los de mayor prioridad\\n'"
            ],
            "application/vnd.google.colaboratory.intrinsic+json": {
              "type": "string"
            }
          },
          "metadata": {},
          "execution_count": 20
        }
      ]
    },
    {
      "cell_type": "code",
      "execution_count": null,
      "metadata": {
        "colab": {
          "base_uri": "https://localhost:8080/"
        },
        "id": "jlQTk4gNltkW",
        "outputId": "f297ab04-c58b-47af-9f91-468f9a869864"
      },
      "outputs": [
        {
          "output_type": "execute_result",
          "data": {
            "text/plain": [
              "16"
            ]
          },
          "metadata": {},
          "execution_count": 21
        }
      ],
      "source": [
        "5 * 2 + 3 * 2\n",
        "\n",
        "#aqui el de mayor importancia es la multiplicación"
      ]
    },
    {
      "cell_type": "code",
      "execution_count": null,
      "metadata": {
        "colab": {
          "base_uri": "https://localhost:8080/"
        },
        "id": "kkCb6Crgltka",
        "outputId": "48157568-bcf6-4245-daba-6ec8408a8813"
      },
      "outputs": [
        {
          "output_type": "execute_result",
          "data": {
            "text/plain": [
              "16"
            ]
          },
          "metadata": {},
          "execution_count": 22
        }
      ],
      "source": [
        "(5 * 2) + (3 * 2)\n",
        "\n",
        "#el paraentesis es mayor q la multiplicación\n"
      ]
    },
    {
      "cell_type": "code",
      "execution_count": null,
      "metadata": {
        "colab": {
          "base_uri": "https://localhost:8080/"
        },
        "id": "UD12tlgAltkd",
        "outputId": "3c3d97c3-311d-4eaf-88b6-85b0a5cda984"
      },
      "outputs": [
        {
          "output_type": "execute_result",
          "data": {
            "text/plain": [
              "50"
            ]
          },
          "metadata": {},
          "execution_count": 23
        }
      ],
      "source": [
        "5 * (2 + 3) * 2\n",
        "\n",
        "#aqui encapsulamos la suma y el resultado cambia"
      ]
    },
    {
      "cell_type": "markdown",
      "metadata": {
        "id": "a5tKQ5Beltkf"
      },
      "source": [
        "### La variable _\n",
        "\n",
        "En el modo interactivo, el último resultado impreso en pantalla es atribuído a la variable _"
      ]
    },
    {
      "cell_type": "code",
      "execution_count": null,
      "metadata": {
        "colab": {
          "base_uri": "https://localhost:8080/"
        },
        "id": "VkHEx516ltkg",
        "outputId": "fba18077-2b0e-45f0-c8b6-0742ca4595a3"
      },
      "outputs": [
        {
          "output_type": "execute_result",
          "data": {
            "text/plain": [
              "50"
            ]
          },
          "metadata": {},
          "execution_count": 24
        }
      ],
      "source": [
        "#operador underscore ó subguión\n",
        "#almacena el ultimo resultado q se ejecutó\n",
        "_"
      ]
    },
    {
      "cell_type": "code",
      "execution_count": null,
      "metadata": {
        "colab": {
          "base_uri": "https://localhost:8080/"
        },
        "id": "dFShsobXltki",
        "outputId": "e2e2f9ad-2f45-4c8a-d04e-b11f56ecdf96"
      },
      "outputs": [
        {
          "output_type": "execute_result",
          "data": {
            "text/plain": [
              "10"
            ]
          },
          "metadata": {},
          "execution_count": 25
        }
      ],
      "source": [
        "5 * 2"
      ]
    },
    {
      "cell_type": "code",
      "execution_count": null,
      "metadata": {
        "colab": {
          "base_uri": "https://localhost:8080/"
        },
        "id": "hJIpR3KUltkk",
        "outputId": "74930d3b-0f43-4958-86f2-b2dd0e20b282"
      },
      "outputs": [
        {
          "output_type": "execute_result",
          "data": {
            "text/plain": [
              "10"
            ]
          },
          "metadata": {},
          "execution_count": 26
        }
      ],
      "source": [
        "_"
      ]
    },
    {
      "cell_type": "code",
      "source": [
        "#este operador se puede combinar con una operación\n",
        "_ + 3 * 2"
      ],
      "metadata": {
        "colab": {
          "base_uri": "https://localhost:8080/"
        },
        "id": "GMnmgSJ6H15i",
        "outputId": "1a2f435c-5e0d-4342-9bde-1d45941571e8"
      },
      "execution_count": null,
      "outputs": [
        {
          "output_type": "execute_result",
          "data": {
            "text/plain": [
              "16"
            ]
          },
          "metadata": {},
          "execution_count": 27
        }
      ]
    },
    {
      "cell_type": "code",
      "source": [
        "_ / 2"
      ],
      "metadata": {
        "colab": {
          "base_uri": "https://localhost:8080/"
        },
        "id": "DEMQR4EYH9ye",
        "outputId": "9b465a8a-e99c-41ba-9b29-5925a0212a42"
      },
      "execution_count": null,
      "outputs": [
        {
          "output_type": "execute_result",
          "data": {
            "text/plain": [
              "8.0"
            ]
          },
          "metadata": {},
          "execution_count": 28
        }
      ]
    },
    {
      "cell_type": "markdown",
      "metadata": {
        "id": "MUrQAf6Mltkm"
      },
      "source": [
        "# 2.2 Variables"
      ]
    },
    {
      "cell_type": "markdown",
      "metadata": {
        "id": "qaVLKIeultkn"
      },
      "source": [
        "### Nombres de variables\n",
        "\n",
        "- Nombres de variables pueden comenzar con letras (a - z, A - Z) o con el símbolo *underscore* (_):\n",
        "\n",
        "    > Altura\n",
        "    >\n",
        "    > _peso\n",
        "    \n",
        "- El resto del nombre puede contener letras, números o el símbolo \"_\":\n",
        "\n",
        "    > nombre_de_variable\n",
        "    >\n",
        "    > _valor\n",
        "    >\n",
        "    > dia_28_11_\n",
        "    \n",
        "\n",
        "- Los nombres son *case sensitive*:\n",
        "\n",
        "    > Nombre_De_Variable ≠ nombre_de_variable ≠ NOMBRE_DE_VARIABLE\n",
        "    \n",
        "### <font color=red>Observaciones:\n",
        "- Existen algumas palabras reservadas del lenguaje que no pueden ser utilizadas como nombres de variables:\n",
        "\n",
        "| |Lista de palabras <br>reservadas en Python| |\n",
        "|:-------------:|:------------:|:-------------:|\n",
        "| and           | as           | not           |\n",
        "| assert        | finally      | or            |\n",
        "| break         | for          | pass          |\n",
        "| class         | from         | nonlocal      |\n",
        "| continue      | global       | raise         |\n",
        "| def           | if           | return        |\n",
        "| del           | import       | try           |\n",
        "| elif          | in           | while         |\n",
        "| else          | is           | with          |\n",
        "| except        | lambda       | yield         |\n",
        "| False         | True         | None          |"
      ]
    },
    {
      "cell_type": "markdown",
      "metadata": {
        "id": "3frWjfAtltkn"
      },
      "source": [
        "### Declaración de variables\n",
        "\n",
        "### Operadores de asignación: $=$, $+=$, $-=$, $*=$, $/=$, $**=$, $\\%=$, $//=$"
      ]
    },
    {
      "cell_type": "code",
      "source": [
        "\"\"\"\n",
        "crearemos variables con valor fijo y las usaremos\n",
        "\"\"\""
      ],
      "metadata": {
        "id": "M49m44b1fRyU",
        "colab": {
          "base_uri": "https://localhost:8080/"
        },
        "outputId": "2434983f-4a06-4073-960d-477887caf9e7"
      },
      "execution_count": null,
      "outputs": [
        {
          "output_type": "execute_result",
          "data": {
            "text/plain": [
              "'\\ncrearemos variables con valor fijo y las usaremos\\n'"
            ],
            "application/vnd.google.colaboratory.intrinsic+json": {
              "type": "string"
            }
          },
          "metadata": {},
          "execution_count": 29
        }
      ]
    },
    {
      "cell_type": "code",
      "execution_count": null,
      "metadata": {
        "id": "7VIcrXNHltko"
      },
      "outputs": [],
      "source": [
        "año_actual = 2020\n",
        "año_fabricacion = 2003\n",
        "km_total = 44410.0"
      ]
    },
    {
      "cell_type": "code",
      "execution_count": null,
      "metadata": {
        "colab": {
          "base_uri": "https://localhost:8080/"
        },
        "id": "atVoqp6bltkq",
        "outputId": "f7cb93d9-dedc-4eef-c4b9-54e25a0c270a"
      },
      "outputs": [
        {
          "output_type": "execute_result",
          "data": {
            "text/plain": [
              "2020"
            ]
          },
          "metadata": {},
          "execution_count": 31
        }
      ],
      "source": [
        "año_actual"
      ]
    },
    {
      "cell_type": "code",
      "execution_count": null,
      "metadata": {
        "colab": {
          "base_uri": "https://localhost:8080/"
        },
        "id": "_t82qXrOltkt",
        "outputId": "8b954b57-2cab-4d33-df45-8740e63f894e"
      },
      "outputs": [
        {
          "output_type": "execute_result",
          "data": {
            "text/plain": [
              "2003"
            ]
          },
          "metadata": {},
          "execution_count": 32
        }
      ],
      "source": [
        "año_fabricacion"
      ]
    },
    {
      "cell_type": "code",
      "execution_count": null,
      "metadata": {
        "colab": {
          "base_uri": "https://localhost:8080/"
        },
        "id": "1anwuDHiltkv",
        "outputId": "9d665ce9-7db0-4bd9-b6bf-48eeefc699e7"
      },
      "outputs": [
        {
          "output_type": "execute_result",
          "data": {
            "text/plain": [
              "44410.0"
            ]
          },
          "metadata": {},
          "execution_count": 33
        }
      ],
      "source": [
        "km_total"
      ]
    },
    {
      "cell_type": "markdown",
      "metadata": {
        "id": "gCBkfq_8ltky"
      },
      "source": [
        "# $$km_{promedio} = \\frac {km_{total}}{(Año_{actual} - Año_{fabricación})}$$"
      ]
    },
    {
      "cell_type": "markdown",
      "metadata": {
        "id": "zswWS4hNltky"
      },
      "source": [
        "### Operaciones con variables"
      ]
    },
    {
      "cell_type": "code",
      "source": [
        "#con las variables vamos a hacer la operación"
      ],
      "metadata": {
        "id": "_DQZPA9zftYW"
      },
      "execution_count": null,
      "outputs": []
    },
    {
      "cell_type": "code",
      "execution_count": null,
      "metadata": {
        "colab": {
          "base_uri": "https://localhost:8080/"
        },
        "id": "HxxU0rnfltkz",
        "outputId": "c996d925-21bf-4374-e444-c505e7d8cd5b"
      },
      "outputs": [
        {
          "output_type": "execute_result",
          "data": {
            "text/plain": [
              "2612.3529411764707"
            ]
          },
          "metadata": {},
          "execution_count": 35
        }
      ],
      "source": [
        "km_total / (año_actual - año_fabricacion)"
      ]
    },
    {
      "cell_type": "code",
      "execution_count": null,
      "metadata": {
        "colab": {
          "base_uri": "https://localhost:8080/"
        },
        "id": "_2Qhb32jltk1",
        "outputId": "d84c71a2-5493-4833-a924-6471497a8afc"
      },
      "outputs": [
        {
          "output_type": "execute_result",
          "data": {
            "text/plain": [
              "2612.3529411764707"
            ]
          },
          "metadata": {},
          "execution_count": 36
        }
      ],
      "source": [
        "km_promedio = km_total / (año_actual - año_fabricacion)\n",
        "km_promedio\n",
        "\n",
        "#asignamos el resultado a otra variable a km_promedio"
      ]
    },
    {
      "cell_type": "code",
      "execution_count": null,
      "metadata": {
        "colab": {
          "base_uri": "https://localhost:8080/"
        },
        "id": "nCJzA7dyltk3",
        "outputId": "2904a4c7-27c7-406d-8948-0a65fe6e3671"
      },
      "outputs": [
        {
          "output_type": "execute_result",
          "data": {
            "text/plain": [
              "2612.3529411764707"
            ]
          },
          "metadata": {},
          "execution_count": 37
        }
      ],
      "source": [
        "año_actual = 2020\n",
        "año_fabricacion = 2003\n",
        "km_total = 44410.0\n",
        "km_promedio = km_total / (año_actual - año_fabricacion)\n",
        "km_promedio"
      ]
    },
    {
      "cell_type": "code",
      "execution_count": null,
      "metadata": {
        "colab": {
          "base_uri": "https://localhost:8080/"
        },
        "id": "ifRwQ0vEltk9",
        "outputId": "89e8ea16-2bc8-4f8f-aecc-c48964370848"
      },
      "outputs": [
        {
          "output_type": "execute_result",
          "data": {
            "text/plain": [
              "47022.35294117647"
            ]
          },
          "metadata": {},
          "execution_count": 38
        }
      ],
      "source": [
        "año_actual = 2020\n",
        "año_fabricacion = 2003\n",
        "km_total = 44410.0\n",
        "km_promedio = km_total / (año_actual - año_fabricacion)\n",
        "\n",
        "#aqui ya tenemos el km promedio q recorre el carro del\n",
        "##ejemplo pero ahora quiero saber cuánto habra recorrido\n",
        "#hasta el 2021\n",
        "#teniendo en cuenta q mi año actual es 2020\n",
        "# asi que reescribire la variable km_total\n",
        "# y le aplicare la siguiente operación\n",
        "# a km_total que tiene el km total recorrido del carro\n",
        "#le sumare el km_promedio que recorre por año el carro\n",
        "km_total = km_total + km_promedio\n",
        "km_total\n",
        "\n"
      ]
    },
    {
      "cell_type": "markdown",
      "source": [
        "en la celda anterior obtuve el promedio de km que recorrera el carro en el 2021, tomando en cuenta que el dato que use es que actualmente estoy en el 2020, obtuve el promedio de lo q recorre el auto por año, y obtuve el total de km q habia recorrido hasta el 2020, con esos datos pude obtener la previsión de cuántos km recorreria en el 2021 (año siguiente para el ejemplo) sumando el total de km hasta el 2020 y el promedio q recorre por año. En la siguiente celda obtendre lo mismo pero resumiendo la utima operación con +=\n"
      ],
      "metadata": {
        "id": "cfWa28-kL3QP"
      }
    },
    {
      "cell_type": "code",
      "source": [
        "año_actual = 2020\n",
        "año_fabricacion = 2003\n",
        "km_total = 44410.0\n",
        "km_promedio = km_total / (año_actual - año_fabricacion)\n",
        "\n",
        "km_total +=  km_promedio\n",
        "km_total"
      ],
      "metadata": {
        "colab": {
          "base_uri": "https://localhost:8080/"
        },
        "id": "iu5tatHBMiOc",
        "outputId": "7d752126-86fc-443f-c874-002b0d553f63"
      },
      "execution_count": null,
      "outputs": [
        {
          "output_type": "execute_result",
          "data": {
            "text/plain": [
              "47022.35294117647"
            ]
          },
          "metadata": {},
          "execution_count": 39
        }
      ]
    },
    {
      "cell_type": "markdown",
      "metadata": {
        "id": "fDBrHWSBltlB"
      },
      "source": [
        "### Conclusión:\n",
        "```\n",
        "\"valor = valor + 1\" es equivalente a \"valor += 1\"\n",
        "```"
      ]
    },
    {
      "cell_type": "markdown",
      "source": [
        "aqui estamos indicando q el valor ó la variable a la izquierda es igual a la propia variable mas el valor indicado a la derecha"
      ],
      "metadata": {
        "id": "v44z3wdi2ZLu"
      }
    },
    {
      "cell_type": "markdown",
      "metadata": {
        "id": "uVAyJbmAltlC"
      },
      "source": [
        "### Declaración múltiple"
      ]
    },
    {
      "cell_type": "code",
      "source": [
        "\"\"\"\"\n",
        "aqui declarare las tres variables y sus valores en la misma\n",
        "linea de código solo separada por comas\n",
        "\n",
        "\"\"\""
      ],
      "metadata": {
        "id": "dzz4YBXJi8r-",
        "colab": {
          "base_uri": "https://localhost:8080/"
        },
        "outputId": "e5a2c347-f53c-4aa0-da9b-45b4a63037d3"
      },
      "execution_count": null,
      "outputs": [
        {
          "output_type": "execute_result",
          "data": {
            "text/plain": [
              "'\"\\naqui declarare las tres variables y sus valores en la misma\\nlinea de código solo separada por comas\\n\\n'"
            ],
            "application/vnd.google.colaboratory.intrinsic+json": {
              "type": "string"
            }
          },
          "metadata": {},
          "execution_count": 40
        }
      ]
    },
    {
      "cell_type": "code",
      "execution_count": null,
      "metadata": {
        "id": "oMWEzjPOltlC"
      },
      "outputs": [],
      "source": [
        "año_actual, año_fabricacion, km_total = 2020, 2003, 44410.0\n"
      ]
    },
    {
      "cell_type": "code",
      "execution_count": null,
      "metadata": {
        "colab": {
          "base_uri": "https://localhost:8080/"
        },
        "id": "9ZKlHkLultlE",
        "outputId": "91a24193-65b4-4647-d516-b2b54d30c842"
      },
      "outputs": [
        {
          "output_type": "execute_result",
          "data": {
            "text/plain": [
              "2020"
            ]
          },
          "metadata": {},
          "execution_count": 42
        }
      ],
      "source": [
        "año_actual"
      ]
    },
    {
      "cell_type": "code",
      "execution_count": null,
      "metadata": {
        "colab": {
          "base_uri": "https://localhost:8080/"
        },
        "id": "-mcMuW9nltlG",
        "outputId": "0ca96ea6-5e3f-4156-df18-a7c69b726270"
      },
      "outputs": [
        {
          "output_type": "execute_result",
          "data": {
            "text/plain": [
              "2003"
            ]
          },
          "metadata": {},
          "execution_count": 43
        }
      ],
      "source": [
        "año_fabricacion"
      ]
    },
    {
      "cell_type": "code",
      "execution_count": null,
      "metadata": {
        "colab": {
          "base_uri": "https://localhost:8080/"
        },
        "id": "WFFavLIvltlL",
        "outputId": "ab125715-83b1-4038-c611-1759b891184e"
      },
      "outputs": [
        {
          "output_type": "execute_result",
          "data": {
            "text/plain": [
              "44410.0"
            ]
          },
          "metadata": {},
          "execution_count": 44
        }
      ],
      "source": [
        "km_total"
      ]
    },
    {
      "cell_type": "code",
      "source": [],
      "metadata": {
        "id": "Cglkp0NHjIg-"
      },
      "execution_count": null,
      "outputs": []
    },
    {
      "cell_type": "markdown",
      "metadata": {
        "id": "uoRXMeRDltlQ"
      },
      "source": [
        "# 2.3 Tipos de datos"
      ]
    },
    {
      "cell_type": "markdown",
      "metadata": {
        "id": "sW_G6EjWltlQ"
      },
      "source": [
        "Los tipos de datos especifican como números y caracteres estarán guardados y manipulados dentro de un programa. Los tipos de datos básicos en Python son:\n",
        "\n",
        "1. **Números**\n",
        "    1. ***int*** - Enteros\n",
        "    - ***float*** - Decimales\n",
        "- **Booleanos** - Contiene valores True o False. Esencial cuando comenzamos a trabajar con declaraciones condicionales\n",
        "- ***Strings*** - Secuencia de uno o más caracteres que puede incluir letras, números y otros tipos de caracteres. Representa un texto.\n",
        "- **None** - Representa la ausencia de valor"
      ]
    },
    {
      "cell_type": "markdown",
      "metadata": {
        "id": "-HRRxQOtltlQ"
      },
      "source": [
        "### Números"
      ]
    },
    {
      "cell_type": "code",
      "execution_count": null,
      "metadata": {
        "id": "5PKIcIuUltlR"
      },
      "outputs": [],
      "source": [
        "año_actual = 2020\n"
      ]
    },
    {
      "cell_type": "code",
      "source": [
        "año_actual"
      ],
      "metadata": {
        "colab": {
          "base_uri": "https://localhost:8080/"
        },
        "id": "G4axw25mOTnd",
        "outputId": "fe4bd7f8-ef4a-43a2-e6da-a5154fd0fbf3"
      },
      "execution_count": null,
      "outputs": [
        {
          "output_type": "execute_result",
          "data": {
            "text/plain": [
              "2020"
            ]
          },
          "metadata": {},
          "execution_count": 46
        }
      ]
    },
    {
      "cell_type": "code",
      "source": [
        "type(año_actual)"
      ],
      "metadata": {
        "colab": {
          "base_uri": "https://localhost:8080/"
        },
        "id": "FdD7xPUv4QgA",
        "outputId": "a525650d-57ae-4a5b-e291-7d3cf8c884f4"
      },
      "execution_count": null,
      "outputs": [
        {
          "output_type": "execute_result",
          "data": {
            "text/plain": [
              "int"
            ]
          },
          "metadata": {},
          "execution_count": 47
        }
      ]
    },
    {
      "cell_type": "code",
      "execution_count": null,
      "metadata": {
        "id": "A0nySb3LltlZ"
      },
      "outputs": [],
      "source": [
        "año_fabricacion = 2013"
      ]
    },
    {
      "cell_type": "code",
      "source": [
        "type (año_fabricacion)"
      ],
      "metadata": {
        "id": "-fHKnL24PMwJ",
        "colab": {
          "base_uri": "https://localhost:8080/"
        },
        "outputId": "2d45ffc1-892b-43b1-85ec-eebf480cba80"
      },
      "execution_count": null,
      "outputs": [
        {
          "output_type": "execute_result",
          "data": {
            "text/plain": [
              "int"
            ]
          },
          "metadata": {},
          "execution_count": 49
        }
      ]
    },
    {
      "cell_type": "code",
      "source": [
        "km_total = 44410.0"
      ],
      "metadata": {
        "id": "f8WO_sLTRBXN"
      },
      "execution_count": null,
      "outputs": []
    },
    {
      "cell_type": "code",
      "source": [
        "type (km_total)"
      ],
      "metadata": {
        "colab": {
          "base_uri": "https://localhost:8080/"
        },
        "id": "-pqXFR6HRKXM",
        "outputId": "d15f5971-8960-4c6f-8e23-cc13184dad73"
      },
      "execution_count": null,
      "outputs": [
        {
          "output_type": "execute_result",
          "data": {
            "text/plain": [
              "float"
            ]
          },
          "metadata": {},
          "execution_count": 51
        }
      ]
    },
    {
      "cell_type": "markdown",
      "metadata": {
        "id": "7X9iheAnltld"
      },
      "source": [
        "### Booleanos"
      ]
    },
    {
      "cell_type": "code",
      "execution_count": null,
      "metadata": {
        "id": "liUYdchPltle"
      },
      "outputs": [],
      "source": [
        "zero_km = True"
      ]
    },
    {
      "cell_type": "code",
      "execution_count": null,
      "metadata": {
        "colab": {
          "base_uri": "https://localhost:8080/"
        },
        "id": "oZIQAghaltlh",
        "outputId": "4dc6614c-be8a-433b-bb49-e64fa5168f56"
      },
      "outputs": [
        {
          "output_type": "execute_result",
          "data": {
            "text/plain": [
              "bool"
            ]
          },
          "metadata": {},
          "execution_count": 53
        }
      ],
      "source": [
        "type (zero_km)"
      ]
    },
    {
      "cell_type": "code",
      "execution_count": null,
      "metadata": {
        "id": "XCAYApe3ltlj"
      },
      "outputs": [],
      "source": [
        "zero_km = False"
      ]
    },
    {
      "cell_type": "code",
      "execution_count": null,
      "metadata": {
        "id": "mJ0nGEV7ltll",
        "colab": {
          "base_uri": "https://localhost:8080/"
        },
        "outputId": "392a5c76-1a77-499f-f415-d0e11f7f8233"
      },
      "outputs": [
        {
          "output_type": "execute_result",
          "data": {
            "text/plain": [
              "bool"
            ]
          },
          "metadata": {},
          "execution_count": 55
        }
      ],
      "source": [
        "type(zero_km)"
      ]
    },
    {
      "cell_type": "markdown",
      "metadata": {
        "id": "Ipjq4eiSltlp"
      },
      "source": [
        "### Strings"
      ]
    },
    {
      "cell_type": "code",
      "execution_count": null,
      "metadata": {
        "id": "OeW_GQzOltlr",
        "colab": {
          "base_uri": "https://localhost:8080/"
        },
        "outputId": "17bb10ed-67d9-48fd-df2b-8ad619b00434"
      },
      "outputs": [
        {
          "output_type": "execute_result",
          "data": {
            "text/plain": [
              "'Jetta Variant'"
            ],
            "application/vnd.google.colaboratory.intrinsic+json": {
              "type": "string"
            }
          },
          "metadata": {},
          "execution_count": 56
        }
      ],
      "source": [
        "nombre = 'Jetta Variant'\n",
        "nombre"
      ]
    },
    {
      "cell_type": "code",
      "execution_count": null,
      "metadata": {
        "id": "xF1Bi-Rkltlu",
        "colab": {
          "base_uri": "https://localhost:8080/"
        },
        "outputId": "98b82f10-d2df-49d3-a998-de19d59fbc9b"
      },
      "outputs": [
        {
          "output_type": "execute_result",
          "data": {
            "text/plain": [
              "'Jetta Variant'"
            ],
            "application/vnd.google.colaboratory.intrinsic+json": {
              "type": "string"
            }
          },
          "metadata": {},
          "execution_count": 57
        }
      ],
      "source": [
        "#con comillas dobles\n",
        "nombre = \"Jetta Variant\"\n",
        "nombre"
      ]
    },
    {
      "cell_type": "code",
      "execution_count": null,
      "metadata": {
        "id": "QlobSFUtltlw",
        "colab": {
          "base_uri": "https://localhost:8080/"
        },
        "outputId": "39cc6e26-efef-4f7d-921d-30a3f01efabd"
      },
      "outputs": [
        {
          "output_type": "execute_result",
          "data": {
            "text/plain": [
              "'Jetta \"Variant\"'"
            ],
            "application/vnd.google.colaboratory.intrinsic+json": {
              "type": "string"
            }
          },
          "metadata": {},
          "execution_count": 58
        }
      ],
      "source": [
        "#y si tengo comillas dentro del texto\n",
        "nombre = 'Jetta \"Variant\"'\n",
        "nombre"
      ]
    },
    {
      "cell_type": "code",
      "execution_count": null,
      "metadata": {
        "id": "8LBWzzfbltly",
        "colab": {
          "base_uri": "https://localhost:8080/"
        },
        "outputId": "5d42f886-4210-4c02-8f93-b81e503e35ae"
      },
      "outputs": [
        {
          "output_type": "execute_result",
          "data": {
            "text/plain": [
              "\"'Jetta Variant'\""
            ],
            "application/vnd.google.colaboratory.intrinsic+json": {
              "type": "string"
            }
          },
          "metadata": {},
          "execution_count": 59
        }
      ],
      "source": [
        "\n",
        "nombre = \"'Jetta Variant'\"\n",
        "nombre"
      ]
    },
    {
      "cell_type": "code",
      "execution_count": null,
      "metadata": {
        "id": "ycEhoxtUltl0"
      },
      "outputs": [],
      "source": [
        "#un string con varias lineas\n",
        "carro = '''\n",
        "  Nombre\n",
        "  Edad\n",
        "  Nota\n",
        "'''"
      ]
    },
    {
      "cell_type": "code",
      "execution_count": null,
      "metadata": {
        "id": "bjZQzpuUltl2",
        "colab": {
          "base_uri": "https://localhost:8080/"
        },
        "outputId": "56185255-f4be-4b87-852b-688dff3da9d3"
      },
      "outputs": [
        {
          "output_type": "execute_result",
          "data": {
            "text/plain": [
              "'\\n  Nombre\\n  Edad\\n  Nota\\n'"
            ],
            "application/vnd.google.colaboratory.intrinsic+json": {
              "type": "string"
            }
          },
          "metadata": {},
          "execution_count": 61
        }
      ],
      "source": [
        "carro"
      ]
    },
    {
      "cell_type": "code",
      "source": [
        "type(carro)"
      ],
      "metadata": {
        "colab": {
          "base_uri": "https://localhost:8080/"
        },
        "id": "V56Wl_Hak9MY",
        "outputId": "3a649dc1-60c9-435b-fe15-9226fd2c3a3c"
      },
      "execution_count": null,
      "outputs": [
        {
          "output_type": "execute_result",
          "data": {
            "text/plain": [
              "str"
            ]
          },
          "metadata": {},
          "execution_count": 62
        }
      ]
    },
    {
      "cell_type": "markdown",
      "metadata": {
        "id": "w6bJU-R9ltl5"
      },
      "source": [
        "### None"
      ]
    },
    {
      "cell_type": "code",
      "execution_count": null,
      "metadata": {
        "id": "RgeVhXGxltl5"
      },
      "outputs": [],
      "source": [
        "#variable nula\n",
        "kilometraje = None\n",
        "kilometraje"
      ]
    },
    {
      "cell_type": "code",
      "execution_count": null,
      "metadata": {
        "id": "MJI6PKS6ltl8",
        "colab": {
          "base_uri": "https://localhost:8080/"
        },
        "outputId": "b952c2fb-a31e-4f55-8f9c-d563aed333ec"
      },
      "outputs": [
        {
          "output_type": "execute_result",
          "data": {
            "text/plain": [
              "NoneType"
            ]
          },
          "metadata": {},
          "execution_count": 64
        }
      ],
      "source": [
        "type(kilometraje)"
      ]
    },
    {
      "cell_type": "markdown",
      "metadata": {
        "id": "_ilupwV-ltl-"
      },
      "source": [
        "# 2.4 Conversión de tipos"
      ]
    },
    {
      "cell_type": "code",
      "execution_count": null,
      "metadata": {
        "id": "D5hq5Qbvltl-",
        "colab": {
          "base_uri": "https://localhost:8080/"
        },
        "outputId": "6428df1d-7a7d-4f7b-87fb-56e7841ebc60"
      },
      "outputs": [
        {
          "output_type": "execute_result",
          "data": {
            "text/plain": [
              "'\\nconvertiremos un tipo de variable a otro tipo, estos es necesario\\nporq la mayoria de veces tendremos datos str pero necesitaremos\\ncamboiralos a numeros para poder hacer operaciones\\n'"
            ],
            "application/vnd.google.colaboratory.intrinsic+json": {
              "type": "string"
            }
          },
          "metadata": {},
          "execution_count": 65
        }
      ],
      "source": [
        "\"\"\"\n",
        "convertiremos un tipo de variable a otro tipo, estos es necesario\n",
        "porq la mayoria de veces tendremos datos str pero necesitaremos\n",
        "camboiralos a numeros para poder hacer operaciones\n",
        "\"\"\""
      ]
    },
    {
      "cell_type": "code",
      "execution_count": null,
      "metadata": {
        "id": "aJ0vi8_Nltl_"
      },
      "outputs": [],
      "source": [
        "a = 10\n",
        "b = 20\n",
        "c = 'Python es '\n",
        "d = 'genial'"
      ]
    },
    {
      "cell_type": "code",
      "execution_count": null,
      "metadata": {
        "id": "29FVH7p7ltmB",
        "colab": {
          "base_uri": "https://localhost:8080/"
        },
        "outputId": "067d2744-5895-48de-b930-ff7bb2ab205b"
      },
      "outputs": [
        {
          "output_type": "execute_result",
          "data": {
            "text/plain": [
              "int"
            ]
          },
          "metadata": {},
          "execution_count": 67
        }
      ],
      "source": [
        "type(a)"
      ]
    },
    {
      "cell_type": "code",
      "execution_count": null,
      "metadata": {
        "id": "NGseTO2SltmC",
        "colab": {
          "base_uri": "https://localhost:8080/"
        },
        "outputId": "b43983e3-627f-4b4d-e6ea-54846b9c5e59"
      },
      "outputs": [
        {
          "output_type": "execute_result",
          "data": {
            "text/plain": [
              "int"
            ]
          },
          "metadata": {},
          "execution_count": 68
        }
      ],
      "source": [
        "type(b)"
      ]
    },
    {
      "cell_type": "code",
      "execution_count": null,
      "metadata": {
        "id": "yaSBhwNWltmE",
        "colab": {
          "base_uri": "https://localhost:8080/"
        },
        "outputId": "c6788e48-a7c6-4f3c-a222-b8a516a9a79b"
      },
      "outputs": [
        {
          "output_type": "execute_result",
          "data": {
            "text/plain": [
              "str"
            ]
          },
          "metadata": {},
          "execution_count": 69
        }
      ],
      "source": [
        "type(c)"
      ]
    },
    {
      "cell_type": "code",
      "execution_count": null,
      "metadata": {
        "id": "5zMXVwLHltmF",
        "colab": {
          "base_uri": "https://localhost:8080/"
        },
        "outputId": "43a281d4-ddbe-49ab-c2a1-7e07c259d0e7"
      },
      "outputs": [
        {
          "output_type": "execute_result",
          "data": {
            "text/plain": [
              "str"
            ]
          },
          "metadata": {},
          "execution_count": 70
        }
      ],
      "source": [
        "type(d)"
      ]
    },
    {
      "cell_type": "code",
      "execution_count": null,
      "metadata": {
        "id": "JJrqKRZFltmJ",
        "colab": {
          "base_uri": "https://localhost:8080/"
        },
        "outputId": "b65d6784-0ea1-485e-a73e-19587a8ac939"
      },
      "outputs": [
        {
          "output_type": "execute_result",
          "data": {
            "text/plain": [
              "30"
            ]
          },
          "metadata": {},
          "execution_count": 71
        }
      ],
      "source": [
        "a + b"
      ]
    },
    {
      "cell_type": "code",
      "execution_count": null,
      "metadata": {
        "id": "hWEIttpgltmM",
        "colab": {
          "base_uri": "https://localhost:8080/"
        },
        "outputId": "63fdbce0-6e95-4e00-d965-6928146ce01b"
      },
      "outputs": [
        {
          "output_type": "execute_result",
          "data": {
            "text/plain": [
              "'Python es genial'"
            ],
            "application/vnd.google.colaboratory.intrinsic+json": {
              "type": "string"
            }
          },
          "metadata": {},
          "execution_count": 72
        }
      ],
      "source": [
        "c + d"
      ]
    },
    {
      "cell_type": "code",
      "source": [
        "#c + a\n",
        "\n",
        "#esta operación dará error\n",
        "#para hacer una operacion ambas variables deben ser del msimo tipo"
      ],
      "metadata": {
        "id": "GpVeEfCamBZF"
      },
      "execution_count": null,
      "outputs": []
    },
    {
      "cell_type": "markdown",
      "metadata": {
        "id": "dByigpENltmO"
      },
      "source": [
        "### Conversiones de tipo\n",
        "\n",
        "Funciones int(), float(), str()"
      ]
    },
    {
      "cell_type": "code",
      "source": [
        "#cada funcion anteriormente mencionada convierte el valor\n",
        "#q se le otorgue segun lo q es, osea si es int convertira\n",
        "#el valor q se le de a un int y asi\n",
        "\n",
        "\"\"\"\n",
        "hay q tener en cuenta q no siempre sera posible por jemplo\n",
        "la variable c no se puede convertir a int\n",
        "mientras que la variable a y b sí pueden ser convertidas a\n",
        "texto\n",
        "\"\"\""
      ],
      "metadata": {
        "id": "wEuma1qYmZbV",
        "colab": {
          "base_uri": "https://localhost:8080/"
        },
        "outputId": "bb485937-29c4-41df-cf46-9ed7e757ec6f"
      },
      "execution_count": null,
      "outputs": [
        {
          "output_type": "execute_result",
          "data": {
            "text/plain": [
              "'\\nhay q tener en cuenta q no siempre sera posible por jemplo\\nla variable c no se puede convertir a int\\nmientras que la variable a y b sí pueden ser convertidas a\\ntexto\\n'"
            ],
            "application/vnd.google.colaboratory.intrinsic+json": {
              "type": "string"
            }
          },
          "metadata": {},
          "execution_count": 74
        }
      ]
    },
    {
      "cell_type": "code",
      "execution_count": null,
      "metadata": {
        "id": "MtecvWlsltmP",
        "colab": {
          "base_uri": "https://localhost:8080/"
        },
        "outputId": "411d53eb-6795-4dfb-ac16-7291f072ac1f"
      },
      "outputs": [
        {
          "output_type": "execute_result",
          "data": {
            "text/plain": [
              "'10'"
            ],
            "application/vnd.google.colaboratory.intrinsic+json": {
              "type": "string"
            }
          },
          "metadata": {},
          "execution_count": 75
        }
      ],
      "source": [
        "str(a)"
      ]
    },
    {
      "cell_type": "code",
      "execution_count": null,
      "metadata": {
        "id": "S1NuIhDVltmS",
        "colab": {
          "base_uri": "https://localhost:8080/"
        },
        "outputId": "334718f5-ecf2-4691-e103-88dcdb8095aa"
      },
      "outputs": [
        {
          "output_type": "execute_result",
          "data": {
            "text/plain": [
              "str"
            ]
          },
          "metadata": {},
          "execution_count": 76
        }
      ],
      "source": [
        "type(str(a))"
      ]
    },
    {
      "cell_type": "code",
      "execution_count": null,
      "metadata": {
        "id": "3kCUD1X-ltmT",
        "colab": {
          "base_uri": "https://localhost:8080/"
        },
        "outputId": "a8f64ad5-1212-445c-91b0-22fef8da1258"
      },
      "outputs": [
        {
          "output_type": "execute_result",
          "data": {
            "text/plain": [
              "'Python es 10'"
            ],
            "application/vnd.google.colaboratory.intrinsic+json": {
              "type": "string"
            }
          },
          "metadata": {},
          "execution_count": 77
        }
      ],
      "source": [
        "c + str(a)"
      ]
    },
    {
      "cell_type": "code",
      "execution_count": null,
      "metadata": {
        "id": "TTjSEVRaltmU",
        "colab": {
          "base_uri": "https://localhost:8080/"
        },
        "outputId": "92f19634-c434-4514-92d2-82755c14620f"
      },
      "outputs": [
        {
          "output_type": "execute_result",
          "data": {
            "text/plain": [
              "10.0"
            ]
          },
          "metadata": {},
          "execution_count": 78
        }
      ],
      "source": [
        "float(a)"
      ]
    },
    {
      "cell_type": "code",
      "execution_count": null,
      "metadata": {
        "id": "P1P1bXaYltmV"
      },
      "outputs": [],
      "source": [
        "var = 3.141592"
      ]
    },
    {
      "cell_type": "code",
      "execution_count": null,
      "metadata": {
        "id": "F_8Cn0aAltmW",
        "colab": {
          "base_uri": "https://localhost:8080/"
        },
        "outputId": "09647b5e-daf8-415e-a725-1f9a8d31777a"
      },
      "outputs": [
        {
          "output_type": "execute_result",
          "data": {
            "text/plain": [
              "3"
            ]
          },
          "metadata": {},
          "execution_count": 80
        }
      ],
      "source": [
        "int(var)"
      ]
    },
    {
      "cell_type": "code",
      "execution_count": null,
      "metadata": {
        "id": "_KA6MUgmltmY"
      },
      "outputs": [],
      "source": [
        "var = 3.99"
      ]
    },
    {
      "cell_type": "code",
      "execution_count": null,
      "metadata": {
        "id": "7uiCxqUcltma",
        "colab": {
          "base_uri": "https://localhost:8080/"
        },
        "outputId": "9048fe87-bef2-41fb-ce30-6ff0b863f3cb"
      },
      "outputs": [
        {
          "output_type": "execute_result",
          "data": {
            "text/plain": [
              "3"
            ]
          },
          "metadata": {},
          "execution_count": 82
        }
      ],
      "source": [
        "int(var)"
      ]
    },
    {
      "cell_type": "markdown",
      "metadata": {
        "id": "gGpflJMYltmd"
      },
      "source": [
        "# 2.5 Indentación, comentarios y formatación de *strings*\n",
        "\n",
        "### Indentación\n",
        "\n",
        "En el lenguaje Python los programas son estructurados por medio de indentación. En cualquier lenguaje de programación la práctica de colocar indentación es bastante útil, facilitando la lectura y también el mantenimiento del código. En Python la indentación no es solamente una cuestión de organización y estilo, sino que es un requisito del lenguaje."
      ]
    },
    {
      "cell_type": "code",
      "source": [
        "\"\"\"\n",
        "en el siguiente ejemplo el bucle if  else nos muestra\n",
        "la importacia de la indentación.\n",
        "\"\"\""
      ],
      "metadata": {
        "id": "JhUt4l0Unfxb",
        "colab": {
          "base_uri": "https://localhost:8080/"
        },
        "outputId": "27c39782-0a77-43cf-abe4-0715d65cea20"
      },
      "execution_count": null,
      "outputs": [
        {
          "output_type": "execute_result",
          "data": {
            "text/plain": [
              "'\\nen el siguiente ejemplo el bucle if  else nos muestra\\nla importacia de la indentación.\\n'"
            ],
            "application/vnd.google.colaboratory.intrinsic+json": {
              "type": "string"
            }
          },
          "metadata": {},
          "execution_count": 83
        }
      ]
    },
    {
      "cell_type": "code",
      "execution_count": null,
      "metadata": {
        "id": "DqXANnyultmw",
        "colab": {
          "base_uri": "https://localhost:8080/"
        },
        "outputId": "179b38e0-d391-4c0e-8a7c-9fbe5d8cf7fb"
      },
      "outputs": [
        {
          "output_type": "stream",
          "name": "stdout",
          "text": [
            "Verdadero\n"
          ]
        }
      ],
      "source": [
        "año_actual = 2020\n",
        "año_fabricacion = 2020\n",
        "\n",
        "if (año_actual == año_fabricacion):\n",
        "    print('Verdadero')\n",
        "else:\n",
        "    print('Falso')"
      ]
    },
    {
      "cell_type": "code",
      "source": [
        "#si quetamos la indentación dara un error diciendo\n",
        "#que esta esprando la indentación"
      ],
      "metadata": {
        "id": "ZsQAm8c9B5oX"
      },
      "execution_count": null,
      "outputs": []
    },
    {
      "cell_type": "code",
      "source": [
        "año_actual = 2020\n",
        "año_fabricacion = 2021\n",
        "\n",
        "if (año_actual == año_fabricacion):\n",
        "    print('Verdadero')\n",
        "else:\n",
        "    print('Falso')"
      ],
      "metadata": {
        "colab": {
          "base_uri": "https://localhost:8080/"
        },
        "id": "91zQkZ3CBz8Z",
        "outputId": "76262fcc-6300-49b8-a143-0317bce3cc43"
      },
      "execution_count": null,
      "outputs": [
        {
          "output_type": "stream",
          "name": "stdout",
          "text": [
            "Falso\n"
          ]
        }
      ]
    },
    {
      "cell_type": "markdown",
      "metadata": {
        "id": "dNBfv7x7ltmy"
      },
      "source": [
        "### Comentarios\n",
        "\n",
        "Comentarios son extremamente importantes en un programa. Consiste en un texto que describe lo que el programa o una parte específica del programa está haciendo. Los comentarios son ignorados por el interpretador Python.\n",
        "\n",
        "Podemos tener comentarios de una única linea o de múltiples líneas."
      ]
    },
    {
      "cell_type": "code",
      "execution_count": null,
      "metadata": {
        "id": "GN3DfwiRltmy",
        "colab": {
          "base_uri": "https://localhost:8080/"
        },
        "outputId": "5e30ed51-4cdc-4c9f-806d-bca283680c48"
      },
      "outputs": [
        {
          "output_type": "execute_result",
          "data": {
            "text/plain": [
              "2020"
            ]
          },
          "metadata": {},
          "execution_count": 87
        }
      ],
      "source": [
        "# Esto es un comentario\n",
        "año_actual = 2020\n",
        "año_actual"
      ]
    },
    {
      "cell_type": "code",
      "execution_count": null,
      "metadata": {
        "id": "PICBiohFltm2",
        "colab": {
          "base_uri": "https://localhost:8080/"
        },
        "outputId": "2c17e23b-a05b-4a39-c1ca-f6692266858f"
      },
      "outputs": [
        {
          "output_type": "execute_result",
          "data": {
            "text/plain": [
              "2020"
            ]
          },
          "metadata": {},
          "execution_count": 88
        }
      ],
      "source": [
        "# Esto\n",
        "# es un\n",
        "# comentario\n",
        "año_actual = 2020\n",
        "año_actual"
      ]
    },
    {
      "cell_type": "code",
      "execution_count": null,
      "metadata": {
        "id": "PTkJ4Vjultm4",
        "colab": {
          "base_uri": "https://localhost:8080/"
        },
        "outputId": "80dd5077-c684-43bd-efdc-400e4d8b8e09"
      },
      "outputs": [
        {
          "output_type": "execute_result",
          "data": {
            "text/plain": [
              "2020"
            ]
          },
          "metadata": {},
          "execution_count": 89
        }
      ],
      "source": [
        "'''Esto es un\n",
        "comentario'''\n",
        "año_actual = 2020\n",
        "año_actual"
      ]
    },
    {
      "cell_type": "code",
      "execution_count": null,
      "metadata": {
        "id": "SYEGdALxltm5",
        "colab": {
          "base_uri": "https://localhost:8080/"
        },
        "outputId": "455904c5-26d9-4b80-8f2e-18db0ee223ab"
      },
      "outputs": [
        {
          "output_type": "stream",
          "name": "stdout",
          "text": [
            "Verdadero\n"
          ]
        }
      ],
      "source": [
        "# Definiendo variables\n",
        "año_actual = 2020\n",
        "año_fabricacion = 2020\n",
        "\n",
        "'''\n",
        "Estructura condicional que vamos\n",
        "a aprender la próxima clase\n",
        "'''\n",
        "if (año_actual == año_fabricacion):   # Probando si la condición es verdadera\n",
        "    print('Verdadero')\n",
        "else:                               # Probando si la condición es falsa\n",
        "    print('Falso')"
      ]
    },
    {
      "cell_type": "markdown",
      "metadata": {
        "id": "8--bcJ01ltm8"
      },
      "source": [
        "### Formatación de *strings*"
      ]
    },
    {
      "cell_type": "markdown",
      "metadata": {
        "id": "CMovhJZ_ltnG"
      },
      "source": [
        "## *str.format()*\n",
        "\n",
        "https://docs.python.org/3.6/library/stdtypes.html#str.format"
      ]
    },
    {
      "cell_type": "code",
      "source": [
        "''' formactacion de strings, me sirve para mostrar\n",
        "los resultados, esto lo usamos cuando debemos mostrarlo\n",
        "al usuario final\n",
        "veremos ejemplos de hacerlo\n",
        "\n",
        "'''"
      ],
      "metadata": {
        "colab": {
          "base_uri": "https://localhost:8080/"
        },
        "id": "X54I3eQXohak",
        "outputId": "95bae3f2-882c-4e81-a21b-1df3605cc29a"
      },
      "execution_count": null,
      "outputs": [
        {
          "output_type": "execute_result",
          "data": {
            "text/plain": [
              "' formactacion de strings, me sirve para mostrar\\nlos resultados, esto lo usamos cuando debemos mostrarlo\\nal usuario final\\nveremos ejemplos de hacerlo\\n\\n'"
            ],
            "application/vnd.google.colaboratory.intrinsic+json": {
              "type": "string"
            }
          },
          "metadata": {},
          "execution_count": 91
        }
      ]
    },
    {
      "cell_type": "code",
      "execution_count": null,
      "metadata": {
        "id": "N12xmMehltnG",
        "colab": {
          "base_uri": "https://localhost:8080/"
        },
        "outputId": "447be5d8-2e5e-4287-e831-80f8f871fb9e"
      },
      "outputs": [
        {
          "output_type": "stream",
          "name": "stdout",
          "text": [
            "Hola, {}\n"
          ]
        }
      ],
      "source": [
        "print('Hola, {}')"
      ]
    },
    {
      "cell_type": "code",
      "source": [
        "''' el texto que esta dentro del print tambien es un objeto\n",
        "de python y tiene metodos, como el format. El format\n",
        "puedo pasarle parlabras com parametros, solo debo ponelas\n",
        "en parentesis y el format buscara las llaves y las\n",
        "sustituira por el valor q le he dado entre parentesis'''"
      ],
      "metadata": {
        "id": "XN2iK0Mco29R",
        "colab": {
          "base_uri": "https://localhost:8080/"
        },
        "outputId": "89715858-7920-4c9e-a45f-0f4d9ca46c42"
      },
      "execution_count": null,
      "outputs": [
        {
          "output_type": "execute_result",
          "data": {
            "text/plain": [
              "' el texto que esta dentro del print tambien es un objeto\\nde python y tiene metodos, como el format. El format\\npuedo pasarle parlabras com parametros, solo debo ponelas\\nen parentesis y el format buscara las llaves y las\\nsustituira por el valor q le he dado entre parentesis'"
            ],
            "application/vnd.google.colaboratory.intrinsic+json": {
              "type": "string"
            }
          },
          "metadata": {},
          "execution_count": 93
        }
      ]
    },
    {
      "cell_type": "code",
      "execution_count": null,
      "metadata": {
        "id": "mRBmU9G1ltnJ",
        "colab": {
          "base_uri": "https://localhost:8080/"
        },
        "outputId": "3d46db7a-bae1-4c45-ab7d-d3b5f6cee3dc"
      },
      "outputs": [
        {
          "output_type": "stream",
          "name": "stdout",
          "text": [
            "Hola, Andrea\n"
          ]
        }
      ],
      "source": [
        "print('Hola, {}'.format('Andrea'))"
      ]
    },
    {
      "cell_type": "code",
      "execution_count": null,
      "metadata": {
        "id": "wpqEsTwnltnL",
        "colab": {
          "base_uri": "https://localhost:8080/"
        },
        "outputId": "97a95cc1-8641-4aa8-d980-8382f4390df4"
      },
      "outputs": [
        {
          "output_type": "stream",
          "name": "stdout",
          "text": [
            "Hola, Andrea! Esta es su visita número 32\n"
          ]
        }
      ],
      "source": [
        "print('Hola, {}! Esta es su visita número {}'.format('Andrea', 32))"
      ]
    },
    {
      "cell_type": "code",
      "source": [
        "print('Hola, {nombre}! Esta es su visita número {visita}'.format(visita=32, nombre='Andrea'))"
      ],
      "metadata": {
        "colab": {
          "base_uri": "https://localhost:8080/"
        },
        "id": "10J7nyQapzEp",
        "outputId": "4027ad4e-4e9e-4e8d-b471-20e928206353"
      },
      "execution_count": null,
      "outputs": [
        {
          "output_type": "stream",
          "name": "stdout",
          "text": [
            "Hola, Andrea! Esta es su visita número 32\n"
          ]
        }
      ]
    },
    {
      "cell_type": "code",
      "source": [
        "'''como vemos dentro del format incluso puedo\n",
        "asignar variables'''\n"
      ],
      "metadata": {
        "colab": {
          "base_uri": "https://localhost:8080/"
        },
        "id": "X5U7CTsfqCyt",
        "outputId": "ae3874b4-a42a-4675-a01e-649ebf78af57"
      },
      "execution_count": null,
      "outputs": [
        {
          "output_type": "execute_result",
          "data": {
            "text/plain": [
              "'como vemos dentro del format incluso puedo\\nasignar variables'"
            ],
            "application/vnd.google.colaboratory.intrinsic+json": {
              "type": "string"
            }
          },
          "metadata": {},
          "execution_count": 97
        }
      ]
    },
    {
      "cell_type": "markdown",
      "metadata": {
        "id": "V-wPNUN9ltnN"
      },
      "source": [
        "## *f-Strings*\n",
        "\n",
        "https://docs.python.org/3.6/reference/lexical_analysis.html#f-strings"
      ]
    },
    {
      "cell_type": "code",
      "source": [
        "'''este es un metodo reciente. como vemos en el siguiente\n",
        "ejemplo la f al inicio sustituira el texto con los\n",
        " valores del las variables, la f buscará las variables para\n",
        " hacer la sustitución\n",
        " si no ponemos la f no susutituira los valores'''"
      ],
      "metadata": {
        "id": "TB-m3T_YqJah",
        "colab": {
          "base_uri": "https://localhost:8080/"
        },
        "outputId": "af5eec40-1b06-4e2d-c56c-2e2156f7a97a"
      },
      "execution_count": null,
      "outputs": [
        {
          "output_type": "execute_result",
          "data": {
            "text/plain": [
              "'este es un metodo reciente. como vemos en el siguiente\\nejemplo la f al inicio sustituira el texto con los\\n valores del las variables, la f buscará las variables para\\n hacer la sustitución\\n si no ponemos la f no susutituira los valores'"
            ],
            "application/vnd.google.colaboratory.intrinsic+json": {
              "type": "string"
            }
          },
          "metadata": {},
          "execution_count": 98
        }
      ]
    },
    {
      "cell_type": "code",
      "execution_count": null,
      "metadata": {
        "id": "7Fq_WPv0ltnO"
      },
      "outputs": [],
      "source": [
        "nombre = 'Andrea'\n",
        "visita = 32"
      ]
    },
    {
      "cell_type": "code",
      "execution_count": null,
      "metadata": {
        "id": "bE3qbd6WltnR",
        "colab": {
          "base_uri": "https://localhost:8080/"
        },
        "outputId": "3d5a3f9f-1fe5-4b5f-aeaf-a314f61d42f8"
      },
      "outputs": [
        {
          "output_type": "stream",
          "name": "stdout",
          "text": [
            "Hola, {nombre}! Esta es su visita número {visita}\n"
          ]
        }
      ],
      "source": [
        "print('Hola, {nombre}! Esta es su visita número {visita}')"
      ]
    },
    {
      "cell_type": "code",
      "source": [
        "print(f'Hola, {nombre}! Esta es su visita número {visita}')"
      ],
      "metadata": {
        "colab": {
          "base_uri": "https://localhost:8080/"
        },
        "id": "YhjKq_p3qbxk",
        "outputId": "ac4a5312-16d1-4b07-c47d-94db82044ed7"
      },
      "execution_count": null,
      "outputs": [
        {
          "output_type": "stream",
          "name": "stdout",
          "text": [
            "Hola, Andrea! Esta es su visita número 32\n"
          ]
        }
      ]
    },
    {
      "cell_type": "markdown",
      "metadata": {
        "id": "_IZuNE48ltnS"
      },
      "source": [
        "# <font color=green> 3. TRABAJANDO CON LISTAS\n",
        "---"
      ]
    },
    {
      "cell_type": "markdown",
      "metadata": {
        "id": "zhS89xysltnS"
      },
      "source": [
        "# 3.1 Creando listas\n",
        "\n",
        "Listas son secuencias **mutables** que son utilizadas para guardar\n",
        "colecciones de objetos, generalmente homogéneos.\n",
        "Pueden ser construídas de varias formas:\n",
        "```\n",
        "- Utilizando un par de corchetes: [ ], [ 1 ]\n",
        "- Utilizando un par de corchetes con objetos separados por comas: [ 1, 2, 3 ]\n",
        "```"
      ]
    },
    {
      "cell_type": "code",
      "execution_count": null,
      "metadata": {
        "id": "aE4UWF10ltnS",
        "colab": {
          "base_uri": "https://localhost:8080/"
        },
        "outputId": "64c161ce-a162-418a-f236-230fbfc6f39f"
      },
      "outputs": [
        {
          "output_type": "execute_result",
          "data": {
            "text/plain": [
              "['Cerraduras eléctricas',\n",
              " 'Piloto automático',\n",
              " 'Asientos de cuero',\n",
              " 'Aire acondicionado',\n",
              " 'Sensor de estacionamiento',\n",
              " 'Sensor de lluvia']"
            ]
          },
          "metadata": {},
          "execution_count": 102
        }
      ],
      "source": [
        "Accesorios = ['Cerraduras eléctricas', 'Piloto automático', 'Asientos de cuero', 'Aire acondicionado', 'Sensor de estacionamiento', 'Sensor de lluvia']\n",
        "Accesorios"
      ]
    },
    {
      "cell_type": "markdown",
      "metadata": {
        "id": "Mmlkh5TVltnT"
      },
      "source": [
        "### Lista con tipos de datos variados"
      ]
    },
    {
      "cell_type": "code",
      "execution_count": null,
      "metadata": {
        "id": "Mfpu7NoJltnT"
      },
      "outputs": [],
      "source": [
        "Carro_1 = ['Jetta Variant', 'Motor 4.0 Turbo', 2003, 44410.0, False, ['Cerraduras eléctricas', 'Piloto automático'], 88078.64]\n",
        "Carro_2 = ['Passat', 'Motor Diesel', 1991, 5712.0, False, ['Central multimedia', 'Frenos ABS'], 106161.94]"
      ]
    },
    {
      "cell_type": "code",
      "source": [
        "Carro_1"
      ],
      "metadata": {
        "colab": {
          "base_uri": "https://localhost:8080/"
        },
        "id": "truLxTpENZj7",
        "outputId": "d4270dab-ee22-4aab-dc90-47b0e5bfdbff"
      },
      "execution_count": null,
      "outputs": [
        {
          "output_type": "execute_result",
          "data": {
            "text/plain": [
              "['Jetta Variant',\n",
              " 'Motor 4.0 Turbo',\n",
              " 2003,\n",
              " 44410.0,\n",
              " False,\n",
              " ['Cerraduras eléctricas', 'Piloto automático'],\n",
              " 88078.64]"
            ]
          },
          "metadata": {},
          "execution_count": 104
        }
      ]
    },
    {
      "cell_type": "code",
      "execution_count": null,
      "metadata": {
        "id": "EJSJFJjKltnV",
        "colab": {
          "base_uri": "https://localhost:8080/"
        },
        "outputId": "cc1561dd-9d14-47d9-f955-75b1473ec567"
      },
      "outputs": [
        {
          "output_type": "execute_result",
          "data": {
            "text/plain": [
              "['Passat',\n",
              " 'Motor Diesel',\n",
              " 1991,\n",
              " 5712.0,\n",
              " False,\n",
              " ['Central multimedia', 'Frenos ABS'],\n",
              " 106161.94]"
            ]
          },
          "metadata": {},
          "execution_count": 105
        }
      ],
      "source": [
        "Carro_2"
      ]
    },
    {
      "cell_type": "code",
      "execution_count": null,
      "metadata": {
        "id": "7MMG7L8VltnX"
      },
      "outputs": [],
      "source": [
        "#crearemos una lista con las listas q tenemos\n",
        "\n",
        "Carros = [Carro_1, Carro_2]"
      ]
    },
    {
      "cell_type": "code",
      "execution_count": null,
      "metadata": {
        "id": "7E8erLgZltnZ",
        "colab": {
          "base_uri": "https://localhost:8080/"
        },
        "outputId": "2056f8e6-b4c9-4449-d488-cc391a61f3af"
      },
      "outputs": [
        {
          "output_type": "execute_result",
          "data": {
            "text/plain": [
              "[['Jetta Variant',\n",
              "  'Motor 4.0 Turbo',\n",
              "  2003,\n",
              "  44410.0,\n",
              "  False,\n",
              "  ['Cerraduras eléctricas', 'Piloto automático'],\n",
              "  88078.64],\n",
              " ['Passat',\n",
              "  'Motor Diesel',\n",
              "  1991,\n",
              "  5712.0,\n",
              "  False,\n",
              "  ['Central multimedia', 'Frenos ABS'],\n",
              "  106161.94]]"
            ]
          },
          "metadata": {},
          "execution_count": 107
        }
      ],
      "source": [
        "Carros"
      ]
    },
    {
      "cell_type": "markdown",
      "metadata": {
        "id": "5yMXJ0xdltna"
      },
      "source": [
        "# 3.2 Operaciones con listas\n",
        "\n",
        "https://docs.python.org/3.6/library/stdtypes.html#common-sequence-operations"
      ]
    },
    {
      "cell_type": "code",
      "source": [
        "\"\"\"\n",
        "en el link se muestra un catálogo completo de tipos de\n",
        "operaciones q se pueden realizar con listas\n",
        "\n",
        "veremos X in A\n",
        "este busca si el elemento X esta en la lista A\n",
        "esto sirve para identificar una caracteristica especifica en\n",
        "nuestra lista y si esta trabajar con ella\n",
        "\"\"\""
      ],
      "metadata": {
        "colab": {
          "base_uri": "https://localhost:8080/"
        },
        "id": "FrmXDTRUN5RT",
        "outputId": "0b03a9be-cc2c-4917-ef5b-219eba55f919"
      },
      "execution_count": null,
      "outputs": [
        {
          "output_type": "execute_result",
          "data": {
            "text/plain": [
              "'\\nen el link se muestra un catálogo completo de tipos de\\noperaciones q se pueden realizar con listas\\n\\nveremos X in A\\neste busca si el elemento X esta en la lista A\\nesto sirve para identificar una caracteristica especifica en\\nnuestra lista y si esta trabajar con ella\\n'"
            ],
            "application/vnd.google.colaboratory.intrinsic+json": {
              "type": "string"
            }
          },
          "metadata": {},
          "execution_count": 108
        }
      ]
    },
    {
      "cell_type": "markdown",
      "metadata": {
        "id": "YSorJOGlltna"
      },
      "source": [
        "## *x in A*\n",
        "\n",
        "Devuelve **True** si un elemento de la lista *A es igual a x*."
      ]
    },
    {
      "cell_type": "code",
      "execution_count": null,
      "metadata": {
        "id": "GgSP_nlHltnb",
        "colab": {
          "base_uri": "https://localhost:8080/"
        },
        "outputId": "a2ab13b3-d87b-4aa2-f228-d482acbf1800"
      },
      "outputs": [
        {
          "output_type": "execute_result",
          "data": {
            "text/plain": [
              "['Cerraduras eléctricas',\n",
              " 'Piloto automático',\n",
              " 'Asientos de cuero',\n",
              " 'Aire acondicionado',\n",
              " 'Sensor de estacionamiento',\n",
              " 'Sensor de lluvia']"
            ]
          },
          "metadata": {},
          "execution_count": 109
        }
      ],
      "source": [
        "Accesorios"
      ]
    },
    {
      "cell_type": "code",
      "execution_count": null,
      "metadata": {
        "id": "_JyyHPmWltnd",
        "colab": {
          "base_uri": "https://localhost:8080/"
        },
        "outputId": "7b381a9a-bf39-4176-be98-b1bfbc4fb743"
      },
      "outputs": [
        {
          "output_type": "execute_result",
          "data": {
            "text/plain": [
              "True"
            ]
          },
          "metadata": {},
          "execution_count": 110
        }
      ],
      "source": [
        "\"\"\"\n",
        "nuestro elemento x sera cerraduras electricas, busquemos\n",
        "\"\"\"\n",
        "\n",
        "'Cerraduras eléctricas' in Accesorios"
      ]
    },
    {
      "cell_type": "code",
      "execution_count": null,
      "metadata": {
        "id": "tebg9gAyltne",
        "colab": {
          "base_uri": "https://localhost:8080/"
        },
        "outputId": "157c962d-7a00-4935-db14-9c7a30ff12a0"
      },
      "outputs": [
        {
          "output_type": "execute_result",
          "data": {
            "text/plain": [
              "False"
            ]
          },
          "metadata": {},
          "execution_count": 111
        }
      ],
      "source": [
        "# y si no existe? sera False\n",
        "\n",
        "'4 x 4' in Accesorios"
      ]
    },
    {
      "cell_type": "code",
      "execution_count": null,
      "metadata": {
        "id": "W_1PKJYsltnf",
        "colab": {
          "base_uri": "https://localhost:8080/"
        },
        "outputId": "58cb8357-44a5-4e10-cd36-e166922d78cd"
      },
      "outputs": [
        {
          "output_type": "execute_result",
          "data": {
            "text/plain": [
              "False"
            ]
          },
          "metadata": {},
          "execution_count": 112
        }
      ],
      "source": [
        "# podemos preguntarle si  X no esta en A\n",
        "\n",
        "'Cerraduras eléctricas' not in Accesorios"
      ]
    },
    {
      "cell_type": "code",
      "execution_count": null,
      "metadata": {
        "id": "1WNsBXFyltng",
        "colab": {
          "base_uri": "https://localhost:8080/"
        },
        "outputId": "2cd47537-cfe5-44c7-d637-0045843c2c65"
      },
      "outputs": [
        {
          "output_type": "execute_result",
          "data": {
            "text/plain": [
              "True"
            ]
          },
          "metadata": {},
          "execution_count": 113
        }
      ],
      "source": [
        "'4 x 4' not in Accesorios"
      ]
    },
    {
      "cell_type": "markdown",
      "metadata": {
        "id": "RF6_rf90ltnh"
      },
      "source": [
        "## *A + B*\n",
        "\n",
        "Concatena las listas *A y B*."
      ]
    },
    {
      "cell_type": "code",
      "source": [
        "\"\"\"\n",
        "otro operador el A + B\n",
        "este operador no solo suma sino que concatena las listas\n",
        "\n",
        "en el siguiente ejemplo tenemos la lista de accesorios\n",
        "dividad en dos asi q vamos a juntas ambas listas en\n",
        "una sola\n",
        "\"\"\""
      ],
      "metadata": {
        "colab": {
          "base_uri": "https://localhost:8080/"
        },
        "id": "aTBzNJ11PBhO",
        "outputId": "4fb5e85f-560c-4a4d-9f49-a663241c0ebb"
      },
      "execution_count": null,
      "outputs": [
        {
          "output_type": "execute_result",
          "data": {
            "text/plain": [
              "'\\notro operador el A + B\\neste operador no solo suma sino que concatena las listas\\n\\nen el siguiente ejemplo tenemos la lista de accesorios\\ndividad en dos asi q vamos a juntas ambas listas en\\nuna sola\\n'"
            ],
            "application/vnd.google.colaboratory.intrinsic+json": {
              "type": "string"
            }
          },
          "metadata": {},
          "execution_count": 114
        }
      ]
    },
    {
      "cell_type": "code",
      "execution_count": null,
      "metadata": {
        "id": "8lnzbYnRltnh"
      },
      "outputs": [],
      "source": [
        "A = ['Cerraduras eléctricas', 'Piloto automático', 'Asientos de cuero']\n",
        "B = ['Aire acondicionado', 'Sensor de estacionamiento', 'Sensor de lluvia']"
      ]
    },
    {
      "cell_type": "code",
      "execution_count": null,
      "metadata": {
        "id": "SzbiHHF4ltni",
        "colab": {
          "base_uri": "https://localhost:8080/"
        },
        "outputId": "3385bba6-d8f1-4b80-83b4-516e6d87d4a0"
      },
      "outputs": [
        {
          "output_type": "execute_result",
          "data": {
            "text/plain": [
              "['Cerraduras eléctricas',\n",
              " 'Piloto automático',\n",
              " 'Asientos de cuero',\n",
              " 'Aire acondicionado',\n",
              " 'Sensor de estacionamiento',\n",
              " 'Sensor de lluvia']"
            ]
          },
          "metadata": {},
          "execution_count": 116
        }
      ],
      "source": [
        "A + B"
      ]
    },
    {
      "cell_type": "markdown",
      "metadata": {
        "id": "iTv5t7zAltnk"
      },
      "source": [
        "## *len(A)*\n",
        "\n",
        "Tamaño de la lista A."
      ]
    },
    {
      "cell_type": "code",
      "execution_count": null,
      "metadata": {
        "id": "It5Cn5aXltni",
        "colab": {
          "base_uri": "https://localhost:8080/"
        },
        "outputId": "bf1f2a83-56ee-410d-95a0-1afa9e111b11"
      },
      "outputs": [
        {
          "output_type": "execute_result",
          "data": {
            "text/plain": [
              "'\\neste operados nos permite saber el tamaaño\\no sea cuántos elementos tiene mi lista\\n'"
            ],
            "application/vnd.google.colaboratory.intrinsic+json": {
              "type": "string"
            }
          },
          "metadata": {},
          "execution_count": 117
        }
      ],
      "source": [
        "\"\"\"\n",
        "este operados nos permite saber el tamaaño\n",
        "o sea cuántos elementos tiene mi lista\n",
        "\"\"\""
      ]
    },
    {
      "cell_type": "code",
      "execution_count": null,
      "metadata": {
        "id": "dtbuCDSOltnk",
        "colab": {
          "base_uri": "https://localhost:8080/"
        },
        "outputId": "7eb1bacb-d8d3-4cb1-8ba9-300b80c0c06e"
      },
      "outputs": [
        {
          "output_type": "execute_result",
          "data": {
            "text/plain": [
              "6"
            ]
          },
          "metadata": {},
          "execution_count": 118
        }
      ],
      "source": [
        "len(Accesorios)"
      ]
    },
    {
      "cell_type": "markdown",
      "metadata": {
        "id": "k7wWCbAmltnl"
      },
      "source": [
        "# 3.3 Selecciones en listas"
      ]
    },
    {
      "cell_type": "markdown",
      "metadata": {
        "id": "uF3NmgUaltnl"
      },
      "source": [
        "## *A[ n ]*\n",
        "\n",
        "Devuelve el n-ésimo objeto de la lista *A*.\n",
        "\n",
        "<font color=red>**Observación:**</font> Listas tienen indexación con inicio en cero."
      ]
    },
    {
      "cell_type": "code",
      "execution_count": null,
      "metadata": {
        "id": "f5ct7w1Wltnm",
        "colab": {
          "base_uri": "https://localhost:8080/"
        },
        "outputId": "5149a254-1a91-4f85-c594-3fd3ae0f1399"
      },
      "outputs": [
        {
          "output_type": "execute_result",
          "data": {
            "text/plain": [
              "'\\nveremos formas de hacer selecciones en las listas\\no sea a extraer los elementos\\n\\ncada elemento tiene un orden un indice, para extraer el\\nelemento necesitamos saber qué posición tiene,\\nrecordemos que el primer indice es 0\\n el método A[n]\\n lista[índice]\\n'"
            ],
            "application/vnd.google.colaboratory.intrinsic+json": {
              "type": "string"
            }
          },
          "metadata": {},
          "execution_count": 119
        }
      ],
      "source": [
        "\"\"\"\n",
        "veremos formas de hacer selecciones en las listas\n",
        "o sea a extraer los elementos\n",
        "\n",
        "cada elemento tiene un orden un indice, para extraer el\n",
        "elemento necesitamos saber qué posición tiene,\n",
        "recordemos que el primer indice es 0\n",
        " el método A[n]\n",
        " lista[índice]\n",
        "\"\"\""
      ]
    },
    {
      "cell_type": "code",
      "execution_count": null,
      "metadata": {
        "id": "-BLG7yifltnn",
        "colab": {
          "base_uri": "https://localhost:8080/"
        },
        "outputId": "9dea4413-562a-4dcb-b037-7e090cd5bcae"
      },
      "outputs": [
        {
          "output_type": "execute_result",
          "data": {
            "text/plain": [
              "['Cerraduras eléctricas',\n",
              " 'Piloto automático',\n",
              " 'Asientos de cuero',\n",
              " 'Aire acondicionado',\n",
              " 'Sensor de estacionamiento',\n",
              " 'Sensor de lluvia']"
            ]
          },
          "metadata": {},
          "execution_count": 120
        }
      ],
      "source": [
        "Accesorios"
      ]
    },
    {
      "cell_type": "code",
      "execution_count": null,
      "metadata": {
        "id": "SoL6PIjJltno",
        "colab": {
          "base_uri": "https://localhost:8080/"
        },
        "outputId": "59fccd52-46e8-4d9e-81b4-9f97dfd064b0"
      },
      "outputs": [
        {
          "output_type": "execute_result",
          "data": {
            "text/plain": [
              "'Cerraduras eléctricas'"
            ],
            "application/vnd.google.colaboratory.intrinsic+json": {
              "type": "string"
            }
          },
          "metadata": {},
          "execution_count": 121
        }
      ],
      "source": [
        "Accesorios[0]"
      ]
    },
    {
      "cell_type": "code",
      "execution_count": null,
      "metadata": {
        "id": "pGMDc5FLltnq",
        "colab": {
          "base_uri": "https://localhost:8080/"
        },
        "outputId": "7f0a8eaa-87c4-47db-915d-7899e958aef9"
      },
      "outputs": [
        {
          "output_type": "execute_result",
          "data": {
            "text/plain": [
              "'Piloto automático'"
            ],
            "application/vnd.google.colaboratory.intrinsic+json": {
              "type": "string"
            }
          },
          "metadata": {},
          "execution_count": 122
        }
      ],
      "source": [
        "Accesorios[1]"
      ]
    },
    {
      "cell_type": "code",
      "execution_count": null,
      "metadata": {
        "id": "m3AaFe73ltnr",
        "colab": {
          "base_uri": "https://localhost:8080/"
        },
        "outputId": "87e5fa2f-7484-48dd-e2c6-e0a9bc2b0d1e"
      },
      "outputs": [
        {
          "output_type": "execute_result",
          "data": {
            "text/plain": [
              "'Sensor de lluvia'"
            ],
            "application/vnd.google.colaboratory.intrinsic+json": {
              "type": "string"
            }
          },
          "metadata": {},
          "execution_count": 123
        }
      ],
      "source": [
        "# si yo quiero extraer el último elemento\n",
        "Accesorios[5]"
      ]
    },
    {
      "cell_type": "code",
      "execution_count": null,
      "metadata": {
        "id": "AeDJviqoltns",
        "colab": {
          "base_uri": "https://localhost:8080/"
        },
        "outputId": "c142594b-d81b-48bf-cb34-8904b1a8bea4"
      },
      "outputs": [
        {
          "output_type": "execute_result",
          "data": {
            "text/plain": [
              "'Sensor de lluvia'"
            ],
            "application/vnd.google.colaboratory.intrinsic+json": {
              "type": "string"
            }
          },
          "metadata": {},
          "execution_count": 124
        }
      ],
      "source": [
        "#si no sé qué # de indice tiene...\n",
        "\n",
        "Accesorios[-1]"
      ]
    },
    {
      "cell_type": "code",
      "execution_count": null,
      "metadata": {
        "id": "KdenG1BZltnt",
        "colab": {
          "base_uri": "https://localhost:8080/"
        },
        "outputId": "bcf8f0aa-62ff-4c21-adc0-858f73e2bc4f"
      },
      "outputs": [
        {
          "output_type": "execute_result",
          "data": {
            "text/plain": [
              "[['Jetta Variant',\n",
              "  'Motor 4.0 Turbo',\n",
              "  2003,\n",
              "  44410.0,\n",
              "  False,\n",
              "  ['Cerraduras eléctricas', 'Piloto automático'],\n",
              "  88078.64],\n",
              " ['Passat',\n",
              "  'Motor Diesel',\n",
              "  1991,\n",
              "  5712.0,\n",
              "  False,\n",
              "  ['Central multimedia', 'Frenos ABS'],\n",
              "  106161.94]]"
            ]
          },
          "metadata": {},
          "execution_count": 125
        }
      ],
      "source": [
        "# tengo una lista donde sus elementos son listas\n",
        "# cómo extraigo ?\n",
        "\n",
        "Carros\n",
        "\n"
      ]
    },
    {
      "cell_type": "code",
      "execution_count": null,
      "metadata": {
        "id": "iOjsfrlFltnu",
        "colab": {
          "base_uri": "https://localhost:8080/"
        },
        "outputId": "e95f8762-d7a7-4331-e09c-fd817ddad28c"
      },
      "outputs": [
        {
          "output_type": "execute_result",
          "data": {
            "text/plain": [
              "['Jetta Variant',\n",
              " 'Motor 4.0 Turbo',\n",
              " 2003,\n",
              " 44410.0,\n",
              " False,\n",
              " ['Cerraduras eléctricas', 'Piloto automático'],\n",
              " 88078.64]"
            ]
          },
          "metadata": {},
          "execution_count": 126
        }
      ],
      "source": [
        "#quiero el primer elemento\n",
        "\n",
        "Carros[0]"
      ]
    },
    {
      "cell_type": "code",
      "execution_count": null,
      "metadata": {
        "id": "6BrON70Zltnu",
        "colab": {
          "base_uri": "https://localhost:8080/"
        },
        "outputId": "40a72e13-474f-4429-e1ab-7258b30cc09f"
      },
      "outputs": [
        {
          "output_type": "execute_result",
          "data": {
            "text/plain": [
              "'Jetta Variant'"
            ],
            "application/vnd.google.colaboratory.intrinsic+json": {
              "type": "string"
            }
          },
          "metadata": {},
          "execution_count": 127
        }
      ],
      "source": [
        "# y ahora quiero el primer elemento, asi acceso al\n",
        "#priemer elemento y dentro de este al primer\n",
        "#elemento de nuevo\n",
        "\n",
        "Carros[0][0]"
      ]
    },
    {
      "cell_type": "code",
      "source": [
        "#quiero el penultimo elemento q es otra lista\n",
        "\n",
        "Carros[0]"
      ],
      "metadata": {
        "colab": {
          "base_uri": "https://localhost:8080/"
        },
        "id": "zTXyuxnLR4iR",
        "outputId": "fb6b3a2d-3fce-45c1-fc3b-a098c1771656"
      },
      "execution_count": null,
      "outputs": [
        {
          "output_type": "execute_result",
          "data": {
            "text/plain": [
              "['Jetta Variant',\n",
              " 'Motor 4.0 Turbo',\n",
              " 2003,\n",
              " 44410.0,\n",
              " False,\n",
              " ['Cerraduras eléctricas', 'Piloto automático'],\n",
              " 88078.64]"
            ]
          },
          "metadata": {},
          "execution_count": 128
        }
      ]
    },
    {
      "cell_type": "code",
      "source": [
        "#el ultimo elemento es -1 pero yo quiero\n",
        "#el penultimo es -2\n",
        "Carros[0][-2]"
      ],
      "metadata": {
        "colab": {
          "base_uri": "https://localhost:8080/"
        },
        "id": "Q-1JU_qVSDoE",
        "outputId": "13eeecde-e8bf-4940-932a-203a985f0d86"
      },
      "execution_count": null,
      "outputs": [
        {
          "output_type": "execute_result",
          "data": {
            "text/plain": [
              "['Cerraduras eléctricas', 'Piloto automático']"
            ]
          },
          "metadata": {},
          "execution_count": 129
        }
      ]
    },
    {
      "cell_type": "code",
      "source": [
        "'''ahora quieroel segundo elemento, del penultimo\n",
        "elemento del primer elemento.\n",
        "osea necesito acceder a la primer lista,\n",
        "luego al penultimo elemento de esa lista\n",
        "y luego al segundo elemento de esta.'''\n",
        "\n",
        "Carros[0][-2][1]"
      ],
      "metadata": {
        "colab": {
          "base_uri": "https://localhost:8080/"
        },
        "id": "gz7PMAe0SHDN",
        "outputId": "279a888c-6b06-404e-cd46-3f4d0ba259ad"
      },
      "execution_count": null,
      "outputs": [
        {
          "output_type": "execute_result",
          "data": {
            "text/plain": [
              "'Piloto automático'"
            ],
            "application/vnd.google.colaboratory.intrinsic+json": {
              "type": "string"
            }
          },
          "metadata": {},
          "execution_count": 130
        }
      ]
    },
    {
      "cell_type": "markdown",
      "metadata": {
        "id": "9WgwxPIMltnv"
      },
      "source": [
        "## *A[ i : j ]*\n",
        "\n",
        "Recorta la lista A desde el índice i hasta j. En este recorte el elemento con índice i **es incluído** y el elemento con índice j **no es incluído** en el resultado."
      ]
    },
    {
      "cell_type": "code",
      "execution_count": null,
      "metadata": {
        "id": "bJzL2PMiltnv",
        "colab": {
          "base_uri": "https://localhost:8080/"
        },
        "outputId": "faa1505e-c386-4d1d-d90d-cf4fc0582321"
      },
      "outputs": [
        {
          "output_type": "execute_result",
          "data": {
            "text/plain": [
              "'\\nquiero accesar no solo a un elemento sino a varios\\na esto se le llama recortas listas\\npara esto usaremos\\nA[i:j]\\n\\nA sera la lista\\ni sera el primer elemento desde donde queremos cortar\\nj sera el ultimo elemento hasta donde queremos cortar\\n\\ntengamos en cuenta q en el corte el i sera incluido\\npero el indice j no sera tomado en cuenta en el\\nresultado final\\n\\nveamos\\n'"
            ],
            "application/vnd.google.colaboratory.intrinsic+json": {
              "type": "string"
            }
          },
          "metadata": {},
          "execution_count": 131
        }
      ],
      "source": [
        "\"\"\"\n",
        "quiero accesar no solo a un elemento sino a varios\n",
        "a esto se le llama recortas listas\n",
        "para esto usaremos\n",
        "A[i:j]\n",
        "\n",
        "A sera la lista\n",
        "i sera el primer elemento desde donde queremos cortar\n",
        "j sera el ultimo elemento hasta donde queremos cortar\n",
        "\n",
        "tengamos en cuenta q en el corte el i sera incluido\n",
        "pero el indice j no sera tomado en cuenta en el\n",
        "resultado final\n",
        "\n",
        "veamos\n",
        "\"\"\""
      ]
    },
    {
      "cell_type": "code",
      "execution_count": null,
      "metadata": {
        "id": "sFAlJ4u_ltnw",
        "colab": {
          "base_uri": "https://localhost:8080/"
        },
        "outputId": "4e69057c-b526-4b18-aaf7-10d2fbf647d1"
      },
      "outputs": [
        {
          "output_type": "execute_result",
          "data": {
            "text/plain": [
              "['Cerraduras eléctricas',\n",
              " 'Piloto automático',\n",
              " 'Asientos de cuero',\n",
              " 'Aire acondicionado',\n",
              " 'Sensor de estacionamiento',\n",
              " 'Sensor de lluvia']"
            ]
          },
          "metadata": {},
          "execution_count": 132
        }
      ],
      "source": [
        "Accesorios"
      ]
    },
    {
      "cell_type": "code",
      "execution_count": null,
      "metadata": {
        "id": "dFdTBWa9ltnz",
        "colab": {
          "base_uri": "https://localhost:8080/"
        },
        "outputId": "e17bc0b7-377e-47b7-b08f-c6fd77516487"
      },
      "outputs": [
        {
          "output_type": "execute_result",
          "data": {
            "text/plain": [
              "'quiero desde asientos de cuero hasta sensor de\\nestacionamiento'"
            ],
            "application/vnd.google.colaboratory.intrinsic+json": {
              "type": "string"
            }
          },
          "metadata": {},
          "execution_count": 133
        }
      ],
      "source": [
        "\"\"\"quiero desde asientos de cuero hasta sensor de\n",
        "estacionamiento\"\"\""
      ]
    },
    {
      "cell_type": "code",
      "execution_count": null,
      "metadata": {
        "id": "yxxB2-_Dltn0",
        "colab": {
          "base_uri": "https://localhost:8080/"
        },
        "outputId": "f9207353-05ab-4228-d6e2-1b2838e33b76"
      },
      "outputs": [
        {
          "output_type": "execute_result",
          "data": {
            "text/plain": [
              "['Asientos de cuero', 'Aire acondicionado', 'Sensor de estacionamiento']"
            ]
          },
          "metadata": {},
          "execution_count": 134
        }
      ],
      "source": [
        "Accesorios[2:5]"
      ]
    },
    {
      "cell_type": "code",
      "source": [
        "#aqui es cuando no sé qué indice tienen los últimos\n",
        "#elementos\n",
        "Accesorios[2:-1]"
      ],
      "metadata": {
        "colab": {
          "base_uri": "https://localhost:8080/"
        },
        "id": "fcbDpU5-TAB6",
        "outputId": "010983d7-fb09-41fd-f455-330d1da1bbff"
      },
      "execution_count": null,
      "outputs": [
        {
          "output_type": "execute_result",
          "data": {
            "text/plain": [
              "['Asientos de cuero', 'Aire acondicionado', 'Sensor de estacionamiento']"
            ]
          },
          "metadata": {},
          "execution_count": 135
        }
      ]
    },
    {
      "cell_type": "code",
      "source": [
        "\"\"\"y si quiero incluir hasta el último elemento\n",
        "pongo el # del indice que deberia segur\n",
        "en mi lista si tengo 6 elementos, 5 indices el último\n",
        "indice q hay es 5 asi que debo poner el 6\n",
        "para q aparezca el último elemento\n",
        "\"\"\"\n",
        "\n",
        "Accesorios[2:6]"
      ],
      "metadata": {
        "colab": {
          "base_uri": "https://localhost:8080/"
        },
        "id": "-x8HzrKHTeF6",
        "outputId": "a6c91a33-7a69-4cc3-c1d9-2aa20a23a3f7"
      },
      "execution_count": null,
      "outputs": [
        {
          "output_type": "execute_result",
          "data": {
            "text/plain": [
              "['Asientos de cuero',\n",
              " 'Aire acondicionado',\n",
              " 'Sensor de estacionamiento',\n",
              " 'Sensor de lluvia']"
            ]
          },
          "metadata": {},
          "execution_count": 136
        }
      ]
    },
    {
      "cell_type": "code",
      "source": [
        "# y si no sé el último indice ?...\n",
        "\n",
        "Accesorios[2:]"
      ],
      "metadata": {
        "colab": {
          "base_uri": "https://localhost:8080/"
        },
        "id": "D4TAdIG2UAsQ",
        "outputId": "b4ef25e5-be22-4da7-b30c-66d0c296a4a0"
      },
      "execution_count": null,
      "outputs": [
        {
          "output_type": "execute_result",
          "data": {
            "text/plain": [
              "['Asientos de cuero',\n",
              " 'Aire acondicionado',\n",
              " 'Sensor de estacionamiento',\n",
              " 'Sensor de lluvia']"
            ]
          },
          "metadata": {},
          "execution_count": 137
        }
      ]
    },
    {
      "cell_type": "code",
      "source": [
        "# y si quiero emepezar el corte desde el primer elemento\n",
        "#puedo obviar ese primer elemento\n",
        "\n",
        "Accesorios[:5]"
      ],
      "metadata": {
        "colab": {
          "base_uri": "https://localhost:8080/"
        },
        "id": "UufRuUqMUYkb",
        "outputId": "f17afd3d-e86a-4fd5-d9e2-d5cf50ceffa6"
      },
      "execution_count": null,
      "outputs": [
        {
          "output_type": "execute_result",
          "data": {
            "text/plain": [
              "['Cerraduras eléctricas',\n",
              " 'Piloto automático',\n",
              " 'Asientos de cuero',\n",
              " 'Aire acondicionado',\n",
              " 'Sensor de estacionamiento']"
            ]
          },
          "metadata": {},
          "execution_count": 138
        }
      ]
    },
    {
      "cell_type": "markdown",
      "metadata": {
        "id": "R-S-LCPGltn0"
      },
      "source": [
        "# 3.4 Métodos en listas\n",
        "\n",
        "https://docs.python.org/3.6/library/stdtypes.html#mutable-sequence-types"
      ]
    },
    {
      "cell_type": "markdown",
      "metadata": {
        "id": "j9s2OyyPltn1"
      },
      "source": [
        "## *A.sort()*\n",
        "\n",
        "Ordena la lista *A*."
      ]
    },
    {
      "cell_type": "code",
      "execution_count": null,
      "metadata": {
        "id": "A2dJGhFsltn1",
        "colab": {
          "base_uri": "https://localhost:8080/"
        },
        "outputId": "8a694d98-10c3-46da-9666-aec8c679f465"
      },
      "outputs": [
        {
          "output_type": "execute_result",
          "data": {
            "text/plain": [
              "'\\nrecordemos q las listas son un objeto y estos tienen\\nmetodos funciones etc\\n\\nveremos los metodos\\n\\nsort()\\n\\neste metodo ordena los elementos alfabeticamente\\n\\nA.sort()\\nlistas.sort()\\n'"
            ],
            "application/vnd.google.colaboratory.intrinsic+json": {
              "type": "string"
            }
          },
          "metadata": {},
          "execution_count": 139
        }
      ],
      "source": [
        "\"\"\"\n",
        "recordemos q las listas son un objeto y estos tienen\n",
        "metodos funciones etc\n",
        "\n",
        "veremos los metodos\n",
        "\n",
        "sort()\n",
        "\n",
        "este metodo ordena los elementos alfabeticamente\n",
        "\n",
        "A.sort()\n",
        "listas.sort()\n",
        "\"\"\""
      ]
    },
    {
      "cell_type": "code",
      "execution_count": null,
      "metadata": {
        "id": "VDWCHlTcltn2",
        "colab": {
          "base_uri": "https://localhost:8080/"
        },
        "outputId": "33a3d261-3c89-4d81-8182-4898306d0106"
      },
      "outputs": [
        {
          "output_type": "execute_result",
          "data": {
            "text/plain": [
              "['Aire acondicionado',\n",
              " 'Asientos de cuero',\n",
              " 'Cerraduras eléctricas',\n",
              " 'Piloto automático',\n",
              " 'Sensor de estacionamiento',\n",
              " 'Sensor de lluvia']"
            ]
          },
          "metadata": {},
          "execution_count": 140
        }
      ],
      "source": [
        "Accesorios.sort()\n",
        "Accesorios"
      ]
    },
    {
      "cell_type": "markdown",
      "metadata": {
        "id": "N9Spp7-xltn3"
      },
      "source": [
        "## *A.append(x)*\n",
        "\n",
        "Añade el elemento *x al final de la lista A*"
      ]
    },
    {
      "cell_type": "code",
      "execution_count": null,
      "metadata": {
        "id": "l7I_U-sRltn4",
        "colab": {
          "base_uri": "https://localhost:8080/"
        },
        "outputId": "061e2567-d400-43e7-9606-e0bd2d9836e6"
      },
      "outputs": [
        {
          "output_type": "execute_result",
          "data": {
            "text/plain": [
              "['Aire acondicionado',\n",
              " 'Asientos de cuero',\n",
              " 'Cerraduras eléctricas',\n",
              " 'Piloto automático',\n",
              " 'Sensor de estacionamiento',\n",
              " 'Sensor de lluvia',\n",
              " '4 x 4']"
            ]
          },
          "metadata": {},
          "execution_count": 141
        }
      ],
      "source": [
        "\"\"\"\n",
        "este metodo inserta un nuevo elemto\n",
        "al final de nuestra lista\n",
        "\"\"\"\n",
        "\n",
        "Accesorios.append('4 x 4')\n",
        "Accesorios"
      ]
    },
    {
      "cell_type": "markdown",
      "metadata": {
        "id": "eiP3oACPltn6"
      },
      "source": [
        "## *A.pop(i)*\n",
        "\n",
        "Elimina y devuelve el elemento de índice i de la lista *A*.\n",
        "\n",
        "<font color=red>**Observación:**</font> Por *defecto* el método *pop()* elimina y devuelve el último elemento de una lista."
      ]
    },
    {
      "cell_type": "code",
      "execution_count": null,
      "metadata": {
        "id": "BoCKa5Hqltn6",
        "colab": {
          "base_uri": "https://localhost:8080/"
        },
        "outputId": "e748f96c-f113-450c-a486-b61d4b8e5719"
      },
      "outputs": [
        {
          "output_type": "execute_result",
          "data": {
            "text/plain": [
              "'\\neste metodo elimina elementos de nuestra lista\\n'"
            ],
            "application/vnd.google.colaboratory.intrinsic+json": {
              "type": "string"
            }
          },
          "metadata": {},
          "execution_count": 142
        }
      ],
      "source": [
        "\"\"\"\n",
        "este metodo elimina elementos de nuestra lista\n",
        "\"\"\"\n",
        "\n",
        "#Accesorios.pop() si yo no pongo un elemento\n",
        "#aqui entre parentesis eliminara el último\n",
        "#elemento de nuestra lista\n",
        "\n",
        "#si quiero eleiminar uno en concreto\n",
        "# pongo el indice de ese elemento"
      ]
    },
    {
      "cell_type": "code",
      "execution_count": null,
      "metadata": {
        "id": "GfGX1jw-ltn9",
        "colab": {
          "base_uri": "https://localhost:8080/"
        },
        "outputId": "14bf6378-855f-4808-c6ba-f53a37912ed1"
      },
      "outputs": [
        {
          "output_type": "execute_result",
          "data": {
            "text/plain": [
              "['Aire acondicionado',\n",
              " 'Asientos de cuero',\n",
              " 'Cerraduras eléctricas',\n",
              " 'Piloto automático',\n",
              " 'Sensor de estacionamiento',\n",
              " 'Sensor de lluvia']"
            ]
          },
          "metadata": {},
          "execution_count": 143
        }
      ],
      "source": [
        "Accesorios.pop()\n",
        "Accesorios"
      ]
    },
    {
      "cell_type": "code",
      "execution_count": null,
      "metadata": {
        "id": "tppe9tqbltn-",
        "colab": {
          "base_uri": "https://localhost:8080/"
        },
        "outputId": "5ba9f349-7e38-4032-e306-bbaf6ee622c2"
      },
      "outputs": [
        {
          "output_type": "execute_result",
          "data": {
            "text/plain": [
              "['Aire acondicionado',\n",
              " 'Asientos de cuero',\n",
              " 'Cerraduras eléctricas',\n",
              " 'Piloto automático',\n",
              " 'Sensor de estacionamiento',\n",
              " 'Sensor de lluvia']"
            ]
          },
          "metadata": {},
          "execution_count": 144
        }
      ],
      "source": [
        "Accesorios"
      ]
    },
    {
      "cell_type": "code",
      "execution_count": null,
      "metadata": {
        "id": "Ku6ZHTdJltn_",
        "colab": {
          "base_uri": "https://localhost:8080/"
        },
        "outputId": "9e4958c0-e66d-4154-fb06-b90185e5c636"
      },
      "outputs": [
        {
          "output_type": "execute_result",
          "data": {
            "text/plain": [
              "'Piloto automático'"
            ],
            "application/vnd.google.colaboratory.intrinsic+json": {
              "type": "string"
            }
          },
          "metadata": {},
          "execution_count": 145
        }
      ],
      "source": [
        "# quiero eliminar un elemento en concreto\n",
        "\n",
        "Accesorios.pop(3)"
      ]
    },
    {
      "cell_type": "code",
      "source": [
        "Accesorios"
      ],
      "metadata": {
        "colab": {
          "base_uri": "https://localhost:8080/"
        },
        "id": "J5PP28zgWSOH",
        "outputId": "bc4043a4-7e34-4f68-ab80-2245a13320cb"
      },
      "execution_count": null,
      "outputs": [
        {
          "output_type": "execute_result",
          "data": {
            "text/plain": [
              "['Aire acondicionado',\n",
              " 'Asientos de cuero',\n",
              " 'Cerraduras eléctricas',\n",
              " 'Sensor de estacionamiento',\n",
              " 'Sensor de lluvia']"
            ]
          },
          "metadata": {},
          "execution_count": 146
        }
      ]
    },
    {
      "cell_type": "markdown",
      "metadata": {
        "id": "NySIp62hltoC"
      },
      "source": [
        "## *A.copy()*\n",
        "\n",
        "Crea una copia de la lista *A*.\n",
        "\n",
        "<font color=red>**Observación:**</font> El mismo resultado puede ser obtenido con el seguinte código:\n",
        "```\n",
        "A[:]\n",
        "```"
      ]
    },
    {
      "cell_type": "code",
      "execution_count": null,
      "metadata": {
        "id": "yP9ODygcltoC",
        "colab": {
          "base_uri": "https://localhost:8080/"
        },
        "outputId": "5919376f-7648-442b-8bd7-90fb18960a04"
      },
      "outputs": [
        {
          "output_type": "execute_result",
          "data": {
            "text/plain": [
              "['Aire acondicionado',\n",
              " 'Asientos de cuero',\n",
              " 'Cerraduras eléctricas',\n",
              " 'Sensor de estacionamiento',\n",
              " 'Sensor de lluvia']"
            ]
          },
          "metadata": {},
          "execution_count": 147
        }
      ],
      "source": [
        "# este metodo copiara la lista\n",
        "\n",
        "\"\"\" en programación una manera de copias es la siguiente\n",
        "pero qué pasa si con figuramos ó cambiamos\n",
        "la lista 2 q sera la copia, veamos\n",
        "\"\"\"\n",
        "\n",
        "Accesorios_2 = Accesorios\n",
        "Accesorios_2"
      ]
    },
    {
      "cell_type": "code",
      "execution_count": null,
      "metadata": {
        "id": "W3eQdVWkltoF",
        "colab": {
          "base_uri": "https://localhost:8080/"
        },
        "outputId": "63a3f444-1641-4688-8cb4-38b51a8ec6f3"
      },
      "outputs": [
        {
          "output_type": "execute_result",
          "data": {
            "text/plain": [
              "['Aire acondicionado',\n",
              " 'Asientos de cuero',\n",
              " 'Cerraduras eléctricas',\n",
              " 'Sensor de estacionamiento',\n",
              " 'Sensor de lluvia',\n",
              " '4 x 4']"
            ]
          },
          "metadata": {},
          "execution_count": 148
        }
      ],
      "source": [
        "Accesorios_2.append('4 x 4')\n",
        "Accesorios_2"
      ]
    },
    {
      "cell_type": "code",
      "execution_count": null,
      "metadata": {
        "id": "OVbvjjmdltoG",
        "colab": {
          "base_uri": "https://localhost:8080/"
        },
        "outputId": "07621739-1132-4c32-dea6-a921cac8633e"
      },
      "outputs": [
        {
          "output_type": "execute_result",
          "data": {
            "text/plain": [
              "['Aire acondicionado',\n",
              " 'Asientos de cuero',\n",
              " 'Cerraduras eléctricas',\n",
              " 'Sensor de estacionamiento',\n",
              " 'Sensor de lluvia',\n",
              " '4 x 4']"
            ]
          },
          "metadata": {},
          "execution_count": 149
        }
      ],
      "source": [
        "Accesorios"
      ]
    },
    {
      "cell_type": "code",
      "execution_count": null,
      "metadata": {
        "id": "P-MN1JfAltoH",
        "colab": {
          "base_uri": "https://localhost:8080/"
        },
        "outputId": "2cd84af8-8310-4a4e-86d9-3ce4d5ecb2a7"
      },
      "outputs": [
        {
          "output_type": "execute_result",
          "data": {
            "text/plain": [
              "'\\ncomo vemos al hacer la copia de esta manera si\\nmodificamos una lista, ambas estaran modificadas\\naqui en python solo le creamos un nuevo nombre\\nasi que la puedo llamar de con cualquiera de los\\n2, pero es la misma lista. no es una copia de esta\\n\\nla forma correcta es con el metodo copy()\\n\\nveamos\\n'"
            ],
            "application/vnd.google.colaboratory.intrinsic+json": {
              "type": "string"
            }
          },
          "metadata": {},
          "execution_count": 150
        }
      ],
      "source": [
        "\"\"\"\n",
        "como vemos al hacer la copia de esta manera si\n",
        "modificamos una lista, ambas estaran modificadas\n",
        "aqui en python solo le creamos un nuevo nombre\n",
        "asi que la puedo llamar de con cualquiera de los\n",
        "2, pero es la misma lista. no es una copia de esta\n",
        "\n",
        "la forma correcta es con el metodo copy()\n",
        "\n",
        "veamos\n",
        "\"\"\""
      ]
    },
    {
      "cell_type": "code",
      "execution_count": null,
      "metadata": {
        "id": "ZVQ38eqVltoJ",
        "colab": {
          "base_uri": "https://localhost:8080/"
        },
        "outputId": "8e1a5ef8-826d-46e3-eb46-cc265ec817ad"
      },
      "outputs": [
        {
          "output_type": "execute_result",
          "data": {
            "text/plain": [
              "['Aire acondicionado',\n",
              " 'Asientos de cuero',\n",
              " 'Cerraduras eléctricas',\n",
              " 'Sensor de estacionamiento',\n",
              " 'Sensor de lluvia']"
            ]
          },
          "metadata": {},
          "execution_count": 151
        }
      ],
      "source": [
        "#eliminemos el elemento q no necesitamos\n",
        "\n",
        "Accesorios.pop()\n",
        "Accesorios"
      ]
    },
    {
      "cell_type": "code",
      "execution_count": null,
      "metadata": {
        "id": "bqPiw5wSltoM",
        "colab": {
          "base_uri": "https://localhost:8080/"
        },
        "outputId": "317e4ae8-83da-4317-e37c-107efa6274f4"
      },
      "outputs": [
        {
          "output_type": "execute_result",
          "data": {
            "text/plain": [
              "['Aire acondicionado',\n",
              " 'Asientos de cuero',\n",
              " 'Cerraduras eléctricas',\n",
              " 'Sensor de estacionamiento',\n",
              " 'Sensor de lluvia']"
            ]
          },
          "metadata": {},
          "execution_count": 152
        }
      ],
      "source": [
        "Accesorios_2\n",
        "\n",
        "#como vemos es la misma lista y se han modificado\n"
      ]
    },
    {
      "cell_type": "code",
      "execution_count": null,
      "metadata": {
        "id": "Lo9WgzF6ltoP",
        "colab": {
          "base_uri": "https://localhost:8080/"
        },
        "outputId": "cd588864-9f48-4edd-b93a-53b01a7ab098"
      },
      "outputs": [
        {
          "output_type": "execute_result",
          "data": {
            "text/plain": [
              "['Aire acondicionado',\n",
              " 'Asientos de cuero',\n",
              " 'Cerraduras eléctricas',\n",
              " 'Sensor de estacionamiento',\n",
              " 'Sensor de lluvia']"
            ]
          },
          "metadata": {},
          "execution_count": 153
        }
      ],
      "source": [
        "#hagamos la copia\n",
        "\n",
        "Accesorios_2 =Accesorios.copy()\n",
        "Accesorios_2"
      ]
    },
    {
      "cell_type": "code",
      "execution_count": null,
      "metadata": {
        "id": "r2LPHB34ltoQ",
        "colab": {
          "base_uri": "https://localhost:8080/"
        },
        "outputId": "a6795e60-5a06-4ac7-915d-1cf2cd6a8d71"
      },
      "outputs": [
        {
          "output_type": "execute_result",
          "data": {
            "text/plain": [
              "['Aire acondicionado',\n",
              " 'Asientos de cuero',\n",
              " 'Cerraduras eléctricas',\n",
              " 'Sensor de estacionamiento',\n",
              " 'Sensor de lluvia',\n",
              " '4 x 4']"
            ]
          },
          "metadata": {},
          "execution_count": 154
        }
      ],
      "source": [
        "Accesorios_2.append('4 x 4')\n",
        "Accesorios_2"
      ]
    },
    {
      "cell_type": "code",
      "execution_count": null,
      "metadata": {
        "id": "UQqUkO8YltoR",
        "colab": {
          "base_uri": "https://localhost:8080/"
        },
        "outputId": "ace349e8-b637-4081-d61c-9e552d4516ca"
      },
      "outputs": [
        {
          "output_type": "execute_result",
          "data": {
            "text/plain": [
              "['Aire acondicionado',\n",
              " 'Asientos de cuero',\n",
              " 'Cerraduras eléctricas',\n",
              " 'Sensor de estacionamiento',\n",
              " 'Sensor de lluvia']"
            ]
          },
          "metadata": {},
          "execution_count": 155
        }
      ],
      "source": [
        "#verifiquemos q nuestra primer lista no se modifico\n",
        "Accesorios"
      ]
    },
    {
      "cell_type": "code",
      "execution_count": null,
      "metadata": {
        "id": "5hC4R-jNltoS",
        "colab": {
          "base_uri": "https://localhost:8080/"
        },
        "outputId": "04204bad-2b09-498f-e678-d9f87848c1bc"
      },
      "outputs": [
        {
          "output_type": "execute_result",
          "data": {
            "text/plain": [
              "['Aire acondicionado',\n",
              " 'Asientos de cuero',\n",
              " 'Cerraduras eléctricas',\n",
              " 'Sensor de estacionamiento',\n",
              " 'Sensor de lluvia']"
            ]
          },
          "metadata": {},
          "execution_count": 156
        }
      ],
      "source": [
        "\"\"\"\n",
        "hay otra forma de copiar una lista\n",
        "\"\"\"\n",
        "\n",
        "Accesorios_3 = Accesorios[:]\n",
        "Accesorios_3"
      ]
    },
    {
      "cell_type": "code",
      "source": [
        "Accesorios"
      ],
      "metadata": {
        "colab": {
          "base_uri": "https://localhost:8080/"
        },
        "id": "93oBwRuvPQO3",
        "outputId": "430ca339-af1f-493e-93e1-b7b773c2eca3"
      },
      "execution_count": null,
      "outputs": [
        {
          "output_type": "execute_result",
          "data": {
            "text/plain": [
              "['Aire acondicionado',\n",
              " 'Asientos de cuero',\n",
              " 'Cerraduras eléctricas',\n",
              " 'Sensor de estacionamiento',\n",
              " 'Sensor de lluvia']"
            ]
          },
          "metadata": {},
          "execution_count": 157
        }
      ]
    },
    {
      "cell_type": "markdown",
      "metadata": {
        "id": "8zMZNsg2ltoU"
      },
      "source": [
        "# <font color=green> 4. ESTRUCTURAS DE REPETICIÓN Y CONDICIONALES\n",
        "---"
      ]
    },
    {
      "cell_type": "markdown",
      "metadata": {
        "id": "gxUmCLyJltoU"
      },
      "source": [
        "# 4.1 Instrucción *for*\n",
        "\n",
        "#### Formato estándar\n",
        "\n",
        "```\n",
        "for <variable> in <coleccion>:\n",
        "    <instrucciones>\n",
        "```"
      ]
    },
    {
      "cell_type": "markdown",
      "metadata": {
        "id": "Irl5oa0altoU"
      },
      "source": [
        "### Loops con listas"
      ]
    },
    {
      "cell_type": "code",
      "execution_count": null,
      "metadata": {
        "id": "E1LZ5n25ltoV",
        "colab": {
          "base_uri": "https://localhost:8080/"
        },
        "outputId": "229822f8-80ed-4d1e-a068-8f2759a28abc"
      },
      "outputs": [
        {
          "output_type": "execute_result",
          "data": {
            "text/plain": [
              "['Aire acondicionado',\n",
              " 'Asientos de cuero',\n",
              " 'Cerraduras eléctricas',\n",
              " 'Sensor de estacionamiento',\n",
              " 'Sensor de lluvia']"
            ]
          },
          "metadata": {},
          "execution_count": 158
        }
      ],
      "source": [
        "Accesorios = ['Aire acondicionado',\n",
        " 'Asientos de cuero',\n",
        " 'Cerraduras eléctricas',\n",
        " 'Sensor de estacionamiento',\n",
        " 'Sensor de lluvia']\n",
        "\n",
        "Accesorios"
      ]
    },
    {
      "cell_type": "code",
      "execution_count": null,
      "metadata": {
        "id": "Z459QqsFltoY",
        "colab": {
          "base_uri": "https://localhost:8080/"
        },
        "outputId": "8ac99f76-6e41-4359-afc4-283c6ee8ba3a"
      },
      "outputs": [
        {
          "output_type": "stream",
          "name": "stdout",
          "text": [
            "Aire acondicionado\n",
            "Asientos de cuero\n",
            "Cerraduras eléctricas\n",
            "Sensor de estacionamiento\n",
            "Sensor de lluvia\n"
          ]
        }
      ],
      "source": [
        "\"\"\"ahora recorreremos cada uno de los elementos con for\n",
        "for\n",
        "i sera la variable q representa cada elemento\n",
        "Accesorios sera la coleccionq  queremos iterar esta vez\n",
        "\"\"\"\n",
        "\n",
        "for i in Accesorios:\n",
        "  print(i)\n",
        "\n",
        "\n",
        "#aqui ya no esta en lista ya no hay corchetes, solo\n",
        "#hay un print"
      ]
    },
    {
      "cell_type": "markdown",
      "metadata": {
        "id": "Gbztj9T4ltoZ"
      },
      "source": [
        "###  List comprehensions\n",
        "\n",
        "https://docs.python.org/3.6/tutorial/datastructures.html#list-comprehensions"
      ]
    },
    {
      "cell_type": "markdown",
      "metadata": {
        "id": "4Y8g0cSHjbof"
      },
      "source": [
        "*range()* -> https://docs.python.org/3.6/library/functions.html#func-range"
      ]
    },
    {
      "cell_type": "code",
      "execution_count": null,
      "metadata": {
        "id": "xDo9TLdYltoZ",
        "colab": {
          "base_uri": "https://localhost:8080/"
        },
        "outputId": "48d37037-f69b-421d-a1a7-95a960064921"
      },
      "outputs": [
        {
          "output_type": "execute_result",
          "data": {
            "text/plain": [
              "'\\nesta es una forma mas resumida de crear una lista\\npar ello usaremos una función q se llama range\\nesta nos ayuda a crear valores secuenciales d forma\\nordenada, veamos\\n'"
            ],
            "application/vnd.google.colaboratory.intrinsic+json": {
              "type": "string"
            }
          },
          "metadata": {},
          "execution_count": 160
        }
      ],
      "source": [
        "\"\"\"\n",
        "esta es una forma mas resumida de crear una lista\n",
        "par ello usaremos una función q se llama range\n",
        "esta nos ayuda a crear valores secuenciales d forma\n",
        "ordenada, veamos\n",
        "\"\"\""
      ]
    },
    {
      "cell_type": "code",
      "execution_count": null,
      "metadata": {
        "id": "V12p_CQBltoc",
        "colab": {
          "base_uri": "https://localhost:8080/"
        },
        "outputId": "4444bccb-20a6-4dcd-8a82-119fd95ccb2a"
      },
      "outputs": [
        {
          "output_type": "execute_result",
          "data": {
            "text/plain": [
              "range(0, 10)"
            ]
          },
          "metadata": {},
          "execution_count": 161
        }
      ],
      "source": [
        "#quiero una lista de 10 elementos\n",
        "\n",
        "range(10)"
      ]
    },
    {
      "cell_type": "code",
      "execution_count": null,
      "metadata": {
        "id": "OOzHHRWHltof",
        "colab": {
          "base_uri": "https://localhost:8080/"
        },
        "outputId": "a19a374a-031f-4ebb-e95b-94b14ee752c1"
      },
      "outputs": [
        {
          "output_type": "execute_result",
          "data": {
            "text/plain": [
              "[0, 1, 2, 3, 4, 5, 6, 7, 8, 9]"
            ]
          },
          "metadata": {},
          "execution_count": 162
        }
      ],
      "source": [
        "#ahora quiero una lista con un rango de valores ordenados\n",
        "# de 0 a 10\n",
        "# recordemos q para crear la lista uso list\n",
        "list(range(10))"
      ]
    },
    {
      "cell_type": "code",
      "execution_count": null,
      "metadata": {
        "id": "TKynwnxgltog",
        "colab": {
          "base_uri": "https://localhost:8080/"
        },
        "outputId": "12cef877-6d8d-4d18-9331-5a17312b7ffa"
      },
      "outputs": [
        {
          "output_type": "stream",
          "name": "stdout",
          "text": [
            "0\n",
            "1\n",
            "2\n",
            "3\n",
            "4\n",
            "5\n",
            "6\n",
            "7\n",
            "8\n",
            "9\n"
          ]
        }
      ],
      "source": [
        "#recorreremos cada elemento\n",
        "\n",
        "for i in range(10):\n",
        "  print(i)"
      ]
    },
    {
      "cell_type": "code",
      "execution_count": null,
      "metadata": {
        "id": "d77YH_dVltoh",
        "colab": {
          "base_uri": "https://localhost:8080/"
        },
        "outputId": "043219d4-7dc1-4fa9-f531-23cfd24928ff"
      },
      "outputs": [
        {
          "output_type": "stream",
          "name": "stdout",
          "text": [
            "0\n",
            "1\n",
            "4\n",
            "9\n",
            "16\n",
            "25\n",
            "36\n",
            "49\n",
            "64\n",
            "81\n"
          ]
        }
      ],
      "source": [
        "# ahora quiero printar el valor al cuadrado de cada\n",
        "#elemento\n",
        "#recordemos  que ** es elevación en python\n",
        "\n",
        "for i in range(10):\n",
        "  print(i ** 2)"
      ]
    },
    {
      "cell_type": "code",
      "execution_count": null,
      "metadata": {
        "id": "3OmElLO2ltoi"
      },
      "outputs": [],
      "source": [
        "#ahora quiero guardarlos en una lista\n",
        "# creare una lista vacia\n",
        "\n",
        "cuadrado=[]"
      ]
    },
    {
      "cell_type": "code",
      "execution_count": null,
      "metadata": {
        "id": "HKUkvcDkltok",
        "colab": {
          "base_uri": "https://localhost:8080/"
        },
        "outputId": "4be1bcf4-4e45-4f57-f945-20258ceebf1f"
      },
      "outputs": [
        {
          "output_type": "execute_result",
          "data": {
            "text/plain": [
              "[0, 1, 4, 9, 16, 25, 36, 49, 64, 81]"
            ]
          },
          "metadata": {},
          "execution_count": 166
        }
      ],
      "source": [
        "#ahora almacenare cada elemento en la lista\n",
        "\n",
        "for i in range(10):\n",
        "  cuadrado.append(i ** 2)\n",
        "\n",
        "cuadrado\n",
        "\n",
        "#aqui para llamar a la lista me salgo de la identación\n",
        "#por q si lo hago dentro el resultado sera diferente\n",
        "#y  ya no quiero hacer nada dentro del for"
      ]
    },
    {
      "cell_type": "code",
      "source": [
        "#cómo hacer lo anterioro en un sola linea de código\n",
        "\n",
        "#qué es lo realmente importante en el código anterior\n",
        "#usemos la list comprenhension\n",
        "\n",
        "#qué operación estoy realizando con cada elemento?\n",
        "# qué es lo importante del código anterior?\n",
        "#tengo la lista, el for, la operacion del for\n",
        "# q es la elevación al cuadrado. entonces\n",
        "#veamos cómo podemos mantener esto de una forma más\n",
        "#simplificada\n",
        "\n",
        "#primero la operación, en este caso la elvación al cuadrado\n",
        "#despues el for\n",
        "# y luego la lista de los elementos\n",
        "\n",
        "cuadrado = [i**2 for i in range(10)]"
      ],
      "metadata": {
        "id": "p4grCJ3odU7P"
      },
      "execution_count": null,
      "outputs": []
    },
    {
      "cell_type": "code",
      "source": [
        "cuadrado"
      ],
      "metadata": {
        "colab": {
          "base_uri": "https://localhost:8080/"
        },
        "id": "_HkwfCRseAL4",
        "outputId": "5fb67f0c-0874-45c5-bde6-1326725c8b16"
      },
      "execution_count": null,
      "outputs": [
        {
          "output_type": "execute_result",
          "data": {
            "text/plain": [
              "[0, 1, 4, 9, 16, 25, 36, 49, 64, 81]"
            ]
          },
          "metadata": {},
          "execution_count": 168
        }
      ]
    },
    {
      "cell_type": "code",
      "source": [
        "#muy bien tenemos el mismo resultado,\n",
        "\"\"\"\n",
        "primero la operacion dentro del corchete\n",
        "y luego el for q itera\n",
        "\n",
        "\"\"\""
      ],
      "metadata": {
        "colab": {
          "base_uri": "https://localhost:8080/"
        },
        "id": "Fnj7X4STeCHQ",
        "outputId": "48cf53d8-29ec-4d13-918e-49917175c175"
      },
      "execution_count": null,
      "outputs": [
        {
          "output_type": "execute_result",
          "data": {
            "text/plain": [
              "'\\nprimero la operacion dentro del corchete\\ny luego el for q itera\\n\\n'"
            ],
            "application/vnd.google.colaboratory.intrinsic+json": {
              "type": "string"
            }
          },
          "metadata": {},
          "execution_count": 169
        }
      ]
    },
    {
      "cell_type": "markdown",
      "metadata": {
        "id": "AcAcaKFXltom"
      },
      "source": [
        "# 4.2 Loops anidados"
      ]
    },
    {
      "cell_type": "code",
      "source": [
        "\"\"\"\n",
        "bien, ya sabemos q para iterar necesitamos u loop o\n",
        "for pero y si tenemos una lista de listas, cómo\n",
        "puedo recorrerlas?\n",
        "con un solo loop no se puede se necesitan varios loops\n",
        "aprendamos de los loops anidados\n",
        "\n",
        "extraigamos los elementos de las siguientes sub listas\n",
        "\"\"\""
      ],
      "metadata": {
        "colab": {
          "base_uri": "https://localhost:8080/"
        },
        "id": "6k3N4Rx7eTwq",
        "outputId": "7d2cc99d-d447-44fe-f48d-5b39dc697821"
      },
      "execution_count": null,
      "outputs": [
        {
          "output_type": "execute_result",
          "data": {
            "text/plain": [
              "'\\nbien, ya sabemos q para iterar necesitamos u loop o\\nfor pero y si tenemos una lista de listas, cómo\\npuedo recorrerlas?\\ncon un solo loop no se puede se necesitan varios loops\\naprendamos de los loops anidados\\n\\nextraigamos los elementos de las siguientes sub listas\\n'"
            ],
            "application/vnd.google.colaboratory.intrinsic+json": {
              "type": "string"
            }
          },
          "metadata": {},
          "execution_count": 170
        }
      ]
    },
    {
      "cell_type": "code",
      "execution_count": null,
      "metadata": {
        "id": "mjgJCo3dlton",
        "colab": {
          "base_uri": "https://localhost:8080/"
        },
        "outputId": "1700bc39-5a9e-42dd-ce79-d401ffbbf13f"
      },
      "outputs": [
        {
          "output_type": "execute_result",
          "data": {
            "text/plain": [
              "[['Llantas de aleación',\n",
              "  'Cerraduras eléctricas',\n",
              "  'Piloto automático',\n",
              "  'Asientos de cuero',\n",
              "  'Aire acondicionado',\n",
              "  'Sensor de estacionamiento',\n",
              "  'Sensor de crepúsculo',\n",
              "  'Sensor de lluvia'],\n",
              " ['Central multimedia',\n",
              "  'Techo panorámico',\n",
              "  'Frenos ABS',\n",
              "  '4 X 4',\n",
              "  'Panel digital',\n",
              "  'Piloto automático',\n",
              "  'Asientos de cuero',\n",
              "  'Cámara de estacionamiento'],\n",
              " ['Piloto automático',\n",
              "  'Control de estabilidad',\n",
              "  'Sensor crepuscular',\n",
              "  'Frenos ABS',\n",
              "  'Transmisión automática',\n",
              "  'Asientos de cuero',\n",
              "  'Central multimedia',\n",
              "  'Ventanas eléctricas']]"
            ]
          },
          "metadata": {},
          "execution_count": 171
        }
      ],
      "source": [
        "datos = [\n",
        "    ['Llantas de aleación', 'Cerraduras eléctricas', 'Piloto automático', 'Asientos de cuero', 'Aire acondicionado', 'Sensor de estacionamiento', 'Sensor de crepúsculo', 'Sensor de lluvia'],\n",
        "    ['Central multimedia', 'Techo panorámico', 'Frenos ABS', '4 X 4', 'Panel digital', 'Piloto automático', 'Asientos de cuero', 'Cámara de estacionamiento'],\n",
        "    ['Piloto automático', 'Control de estabilidad', 'Sensor crepuscular', 'Frenos ABS', 'Transmisión automática', 'Asientos de cuero', 'Central multimedia', 'Ventanas eléctricas']\n",
        "]\n",
        "datos"
      ]
    },
    {
      "cell_type": "code",
      "execution_count": null,
      "metadata": {
        "id": "pLgxwApVltop",
        "colab": {
          "base_uri": "https://localhost:8080/"
        },
        "outputId": "0d84a31c-e59d-4fcd-8155-faf29bed3c6a"
      },
      "outputs": [
        {
          "output_type": "stream",
          "name": "stdout",
          "text": [
            "['Llantas de aleación', 'Cerraduras eléctricas', 'Piloto automático', 'Asientos de cuero', 'Aire acondicionado', 'Sensor de estacionamiento', 'Sensor de crepúsculo', 'Sensor de lluvia']\n",
            "['Central multimedia', 'Techo panorámico', 'Frenos ABS', '4 X 4', 'Panel digital', 'Piloto automático', 'Asientos de cuero', 'Cámara de estacionamiento']\n",
            "['Piloto automático', 'Control de estabilidad', 'Sensor crepuscular', 'Frenos ABS', 'Transmisión automática', 'Asientos de cuero', 'Central multimedia', 'Ventanas eléctricas']\n"
          ]
        }
      ],
      "source": [
        "# con el primer loop llegaremmos a las sublistas\n",
        "for i in datos:\n",
        "  print(i)"
      ]
    },
    {
      "cell_type": "code",
      "execution_count": null,
      "metadata": {
        "id": "OYnDRvcYltor",
        "colab": {
          "base_uri": "https://localhost:8080/"
        },
        "outputId": "431d2cd4-7f33-4acb-af4f-4a5e6196d742"
      },
      "outputs": [
        {
          "output_type": "stream",
          "name": "stdout",
          "text": [
            "Llantas de aleación\n",
            "Cerraduras eléctricas\n",
            "Piloto automático\n",
            "Asientos de cuero\n",
            "Aire acondicionado\n",
            "Sensor de estacionamiento\n",
            "Sensor de crepúsculo\n",
            "Sensor de lluvia\n",
            "Central multimedia\n",
            "Techo panorámico\n",
            "Frenos ABS\n",
            "4 X 4\n",
            "Panel digital\n",
            "Piloto automático\n",
            "Asientos de cuero\n",
            "Cámara de estacionamiento\n",
            "Piloto automático\n",
            "Control de estabilidad\n",
            "Sensor crepuscular\n",
            "Frenos ABS\n",
            "Transmisión automática\n",
            "Asientos de cuero\n",
            "Central multimedia\n",
            "Ventanas eléctricas\n"
          ]
        }
      ],
      "source": [
        "# ahora, cómo llego a los elementos de cada sublista\n",
        "#cada elemento de mis lista datos es una lista, osea\n",
        "#que aqui en el for esta representado por i, por tanto\n",
        "#i representa 3 elementos de mi lista y cada elemento es\n",
        "# una sublista tambien definidos como\n",
        "#una coleccion de datos y por esto tambien se le puede\n",
        "#aplicar un for a este elemento i.\n",
        "\n",
        "#veamos\n",
        "\n",
        "for i in datos:\n",
        " for item in i:\n",
        "  print(item)"
      ]
    },
    {
      "cell_type": "code",
      "execution_count": null,
      "metadata": {
        "id": "DbJa5_cJltos",
        "colab": {
          "base_uri": "https://localhost:8080/"
        },
        "outputId": "d58de4d3-8042-436b-b8c4-53293c725007"
      },
      "outputs": [
        {
          "output_type": "execute_result",
          "data": {
            "text/plain": [
              "'\\nbien en la celda anterior logramos llegar a cada\\nelemento de las sublistas\\n\\ntenemos 2 for, con el primero llegamos a las\\nsublistas\\n\\nfor i in datos\\n\\naqui datos es la lista completa, e i representa cada\\nelemento o sea cada sublista.\\n\\ncon el segundo for\\n\\nfor item in i\\n\\nitem es cada elemento de las sublistas q en este caso\\na las sublistas les hemos dado el nombre ó las hemos\\nrespresentado con i, asi que\\neste for recorrera cada item de i osea\\ncada elemento de las sublistas.\\n\\n'"
            ],
            "application/vnd.google.colaboratory.intrinsic+json": {
              "type": "string"
            }
          },
          "metadata": {},
          "execution_count": 174
        }
      ],
      "source": [
        "\"\"\"\n",
        "bien en la celda anterior logramos llegar a cada\n",
        "elemento de las sublistas\n",
        "\n",
        "tenemos 2 for, con el primero llegamos a las\n",
        "sublistas\n",
        "\n",
        "for i in datos\n",
        "\n",
        "aqui datos es la lista completa, e i representa cada\n",
        "elemento o sea cada sublista.\n",
        "\n",
        "con el segundo for\n",
        "\n",
        "for item in i\n",
        "\n",
        "item es cada elemento de las sublistas q en este caso\n",
        "a las sublistas les hemos dado el nombre ó las hemos\n",
        "respresentado con i, asi que\n",
        "este for recorrera cada item de i osea\n",
        "cada elemento de las sublistas.\n",
        "\n",
        "\"\"\"\n"
      ]
    },
    {
      "cell_type": "code",
      "source": [
        "#ahora los elementos ya estan sueltos, quiero\n",
        "#guardarlos en una variable\n",
        "\n",
        "Accesorios = []\n",
        "\n",
        "for i in datos:\n",
        " for item in i:\n",
        "  Accesorios.append(item)\n",
        "\n",
        "Accesorios\n",
        "\n"
      ],
      "metadata": {
        "colab": {
          "base_uri": "https://localhost:8080/"
        },
        "id": "ChBEUMXugzJK",
        "outputId": "bf79a8a6-b1b3-40bb-f78b-52417da92d5a"
      },
      "execution_count": null,
      "outputs": [
        {
          "output_type": "execute_result",
          "data": {
            "text/plain": [
              "['Llantas de aleación',\n",
              " 'Cerraduras eléctricas',\n",
              " 'Piloto automático',\n",
              " 'Asientos de cuero',\n",
              " 'Aire acondicionado',\n",
              " 'Sensor de estacionamiento',\n",
              " 'Sensor de crepúsculo',\n",
              " 'Sensor de lluvia',\n",
              " 'Central multimedia',\n",
              " 'Techo panorámico',\n",
              " 'Frenos ABS',\n",
              " '4 X 4',\n",
              " 'Panel digital',\n",
              " 'Piloto automático',\n",
              " 'Asientos de cuero',\n",
              " 'Cámara de estacionamiento',\n",
              " 'Piloto automático',\n",
              " 'Control de estabilidad',\n",
              " 'Sensor crepuscular',\n",
              " 'Frenos ABS',\n",
              " 'Transmisión automática',\n",
              " 'Asientos de cuero',\n",
              " 'Central multimedia',\n",
              " 'Ventanas eléctricas']"
            ]
          },
          "metadata": {},
          "execution_count": 175
        }
      ]
    },
    {
      "cell_type": "code",
      "source": [
        "\"\"\"\n",
        "bien, aqui creamos la variable o la lista\n",
        "Accesorios y con el metodo append le\n",
        "añadimos los elementos de cada sublista\n",
        "q recorrimos q en este caso los representamos\n",
        "com item.\n",
        "\n",
        "Ahora tengo una lista q ya tiene elementos\n",
        "individulaes  y asi ya puedo usarlos. pero\n",
        "aun tenemos elementos repetidos\n",
        "\n",
        "\"\"\""
      ],
      "metadata": {
        "colab": {
          "base_uri": "https://localhost:8080/"
        },
        "id": "_7y6UQmLhKhT",
        "outputId": "e9275bee-0977-4bf9-cc22-03f9d5da1238"
      },
      "execution_count": null,
      "outputs": [
        {
          "output_type": "execute_result",
          "data": {
            "text/plain": [
              "'\\nbien, aqui creamos la variable o la lista\\nAccesorios y con el metodo append le\\nañadimos los elementos de cada sublista\\nq recorrimos q en este caso los representamos\\ncom item.\\n\\nAhora tengo una lista q ya tiene elementos\\nindividulaes  y asi ya puedo usarlos. pero\\naun tenemos elementos repetidos\\n\\n'"
            ],
            "application/vnd.google.colaboratory.intrinsic+json": {
              "type": "string"
            }
          },
          "metadata": {},
          "execution_count": 176
        }
      ]
    },
    {
      "cell_type": "markdown",
      "metadata": {
        "id": "RrGAOy1rn1Dj"
      },
      "source": [
        "## *set()*\n",
        "\n",
        "https://docs.python.org/3.6/library/stdtypes.html#types-set\n",
        "\n",
        "https://docs.python.org/3.6/library/functions.html#func-set"
      ]
    },
    {
      "cell_type": "code",
      "execution_count": null,
      "metadata": {
        "id": "CuB-9ClSltos",
        "colab": {
          "base_uri": "https://localhost:8080/"
        },
        "outputId": "4f6f9571-94dc-4fe8-b9e5-c8b1e62faddd"
      },
      "outputs": [
        {
          "output_type": "execute_result",
          "data": {
            "text/plain": [
              "{'4 X 4',\n",
              " 'Aire acondicionado',\n",
              " 'Asientos de cuero',\n",
              " 'Central multimedia',\n",
              " 'Cerraduras eléctricas',\n",
              " 'Control de estabilidad',\n",
              " 'Cámara de estacionamiento',\n",
              " 'Frenos ABS',\n",
              " 'Llantas de aleación',\n",
              " 'Panel digital',\n",
              " 'Piloto automático',\n",
              " 'Sensor crepuscular',\n",
              " 'Sensor de crepúsculo',\n",
              " 'Sensor de estacionamiento',\n",
              " 'Sensor de lluvia',\n",
              " 'Techo panorámico',\n",
              " 'Transmisión automática',\n",
              " 'Ventanas eléctricas'}"
            ]
          },
          "metadata": {},
          "execution_count": 177
        }
      ],
      "source": [
        "\"\"\"\n",
        "los links muestran en qué momentos se usa el método\n",
        "set, uno de estos momentos en los q se usa es para\n",
        "remover duplicidad de alguna colección\n",
        "\n",
        "\"\"\"\n",
        "\n",
        "set(Accesorios)\n",
        "\n",
        "\n"
      ]
    },
    {
      "cell_type": "code",
      "source": [
        "\"\"\"\n",
        "bien aqui se elimino la duplicidad, incluso\n",
        "organizo en orden alfabetico\n",
        "pero ya no es unalista\n",
        "ahora es un diccionario que tiene llaves\n",
        "cómo convertir esto a lista?\n",
        "\n",
        "veamos\n",
        "\n",
        "\"\"\"\n",
        "\n",
        "list(set(Accesorios))"
      ],
      "metadata": {
        "colab": {
          "base_uri": "https://localhost:8080/"
        },
        "id": "G9hxufBniKDD",
        "outputId": "662b8054-dc35-4555-d1bd-999a361ab346"
      },
      "execution_count": null,
      "outputs": [
        {
          "output_type": "execute_result",
          "data": {
            "text/plain": [
              "['Sensor de estacionamiento',\n",
              " 'Panel digital',\n",
              " 'Aire acondicionado',\n",
              " 'Sensor de crepúsculo',\n",
              " 'Cámara de estacionamiento',\n",
              " 'Sensor de lluvia',\n",
              " 'Central multimedia',\n",
              " 'Asientos de cuero',\n",
              " 'Frenos ABS',\n",
              " 'Cerraduras eléctricas',\n",
              " '4 X 4',\n",
              " 'Sensor crepuscular',\n",
              " 'Ventanas eléctricas',\n",
              " 'Piloto automático',\n",
              " 'Techo panorámico',\n",
              " 'Control de estabilidad',\n",
              " 'Llantas de aleación',\n",
              " 'Transmisión automática']"
            ]
          },
          "metadata": {},
          "execution_count": 178
        }
      ]
    },
    {
      "cell_type": "markdown",
      "metadata": {
        "id": "9hHKKABhltot"
      },
      "source": [
        "### List comprehensions"
      ]
    },
    {
      "cell_type": "code",
      "execution_count": null,
      "metadata": {
        "id": "T6t79LTlltot",
        "colab": {
          "base_uri": "https://localhost:8080/"
        },
        "outputId": "69b65b56-6ae6-40ad-c276-6ac370a138fc"
      },
      "outputs": [
        {
          "output_type": "execute_result",
          "data": {
            "text/plain": [
              "['Llantas de aleación',\n",
              " 'Cerraduras eléctricas',\n",
              " 'Piloto automático',\n",
              " 'Asientos de cuero',\n",
              " 'Aire acondicionado',\n",
              " 'Sensor de estacionamiento',\n",
              " 'Sensor de crepúsculo',\n",
              " 'Sensor de lluvia',\n",
              " 'Central multimedia',\n",
              " 'Techo panorámico',\n",
              " 'Frenos ABS',\n",
              " '4 X 4',\n",
              " 'Panel digital',\n",
              " 'Piloto automático',\n",
              " 'Asientos de cuero',\n",
              " 'Cámara de estacionamiento',\n",
              " 'Piloto automático',\n",
              " 'Control de estabilidad',\n",
              " 'Sensor crepuscular',\n",
              " 'Frenos ABS',\n",
              " 'Transmisión automática',\n",
              " 'Asientos de cuero',\n",
              " 'Central multimedia',\n",
              " 'Ventanas eléctricas']"
            ]
          },
          "metadata": {},
          "execution_count": 179
        }
      ],
      "source": [
        "\"\"\"cómo realizar lo anterior con list comprenhension?\n",
        "Accesorios = []\n",
        "\n",
        "for i in datos:\n",
        " for item in i:\n",
        "  Accesorios.append(item)\n",
        "\n",
        "Accesorios\n",
        "\n",
        "la operacion es agregar los items a la lista accesorios\n",
        "y luego ponemos los for\n",
        "\"\"\"\n",
        "#lista= operacion, for( los for van en orden)\n",
        "Accesorios = [item for i in datos for item in i]\n",
        "Accesorios\n",
        "\n"
      ]
    },
    {
      "cell_type": "code",
      "source": [
        "#Ahora en el anterior linea de código no eliminamos\n",
        "#los duplicados, hagamoslo\n",
        "\n",
        "Accesorios = set([item for i in datos for item in i])\n",
        "Accesorios"
      ],
      "metadata": {
        "colab": {
          "base_uri": "https://localhost:8080/"
        },
        "id": "loPawqhBj4mP",
        "outputId": "c802cbb8-8ab5-402b-c23a-5d6be22b6751"
      },
      "execution_count": null,
      "outputs": [
        {
          "output_type": "execute_result",
          "data": {
            "text/plain": [
              "{'4 X 4',\n",
              " 'Aire acondicionado',\n",
              " 'Asientos de cuero',\n",
              " 'Central multimedia',\n",
              " 'Cerraduras eléctricas',\n",
              " 'Control de estabilidad',\n",
              " 'Cámara de estacionamiento',\n",
              " 'Frenos ABS',\n",
              " 'Llantas de aleación',\n",
              " 'Panel digital',\n",
              " 'Piloto automático',\n",
              " 'Sensor crepuscular',\n",
              " 'Sensor de crepúsculo',\n",
              " 'Sensor de estacionamiento',\n",
              " 'Sensor de lluvia',\n",
              " 'Techo panorámico',\n",
              " 'Transmisión automática',\n",
              " 'Ventanas eléctricas'}"
            ]
          },
          "metadata": {},
          "execution_count": 180
        }
      ]
    },
    {
      "cell_type": "code",
      "source": [
        "#como vemos ya no es una lista, recordemos q set no\n",
        "#devuelve lista asi q tenemos q convertirlo a lista\n",
        "\n",
        "Accesorios = list(set([item for i in datos for item in i]))\n",
        "Accesorios"
      ],
      "metadata": {
        "colab": {
          "base_uri": "https://localhost:8080/"
        },
        "id": "Bdi7sfbykJYA",
        "outputId": "7393c283-e024-4742-e76a-e13740406a72"
      },
      "execution_count": null,
      "outputs": [
        {
          "output_type": "execute_result",
          "data": {
            "text/plain": [
              "['Sensor de estacionamiento',\n",
              " 'Panel digital',\n",
              " 'Aire acondicionado',\n",
              " 'Sensor de crepúsculo',\n",
              " 'Cámara de estacionamiento',\n",
              " 'Sensor de lluvia',\n",
              " 'Central multimedia',\n",
              " 'Asientos de cuero',\n",
              " 'Frenos ABS',\n",
              " 'Cerraduras eléctricas',\n",
              " '4 X 4',\n",
              " 'Sensor crepuscular',\n",
              " 'Ventanas eléctricas',\n",
              " 'Piloto automático',\n",
              " 'Techo panorámico',\n",
              " 'Control de estabilidad',\n",
              " 'Llantas de aleación',\n",
              " 'Transmisión automática']"
            ]
          },
          "metadata": {},
          "execution_count": 181
        }
      ]
    },
    {
      "cell_type": "code",
      "source": [
        "#ahora sí accesorios es una lista, con elementos únicos"
      ],
      "metadata": {
        "id": "u-7iI3fUkZlJ"
      },
      "execution_count": null,
      "outputs": []
    },
    {
      "cell_type": "markdown",
      "metadata": {
        "id": "cJ4fPdj5ltou"
      },
      "source": [
        "# 4.3 Instrucción *if*\n",
        "\n",
        "#### Formato estándar\n",
        "\n",
        "```\n",
        "if <condicion>:\n",
        "     <instrucciones en caso la condición sea verdadera>\n",
        "```"
      ]
    },
    {
      "cell_type": "code",
      "source": [
        "\"\"\"\n",
        "esta la usamos cuando queremos hacer tests\n",
        "ó cuando queremos comparar valores\n",
        "\n",
        "tenemos los operadores de comparación\n",
        "== igual\n",
        "!= diferente\n",
        "> mayor\n",
        "< menor\n",
        ">= mayor iguial\n",
        "<= menor igual\n",
        "\n",
        "\n",
        "y operadores lógicos q nos ayudaran a probar\n",
        "nuestra condicion dentro de la instrucción\n",
        "\n",
        "and - y\n",
        "or - ó\n",
        "not - no\n",
        "\"\"\""
      ],
      "metadata": {
        "colab": {
          "base_uri": "https://localhost:8080/"
        },
        "id": "YBMy19a6kuCn",
        "outputId": "34b302be-6e84-4346-f0b4-597df1901338"
      },
      "execution_count": null,
      "outputs": [
        {
          "output_type": "execute_result",
          "data": {
            "text/plain": [
              "'\\nesta la usamos cuando queremos hacer tests\\nó cuando queremos comparar valores\\n\\ntenemos los operadores de comparación\\n== igual\\n!= diferente\\n> mayor\\n< menor\\n>= mayor iguial\\n<= menor igual\\n\\n\\ny operadores lógicos q nos ayudaran a probar\\nnuestra condicion dentro de la instrucción\\n\\nand - y\\nor - ó\\nnot - no\\n'"
            ],
            "application/vnd.google.colaboratory.intrinsic+json": {
              "type": "string"
            }
          },
          "metadata": {},
          "execution_count": 183
        }
      ]
    },
    {
      "cell_type": "markdown",
      "metadata": {
        "id": "bqOYDJiWltou"
      },
      "source": [
        "### Operadores de comparación: $==$, $!=$, $>$, $<$, $>=$, $<=$\n",
        "### y\n",
        "### Operadores lógicos: $and$, $or$, $not$"
      ]
    },
    {
      "cell_type": "code",
      "execution_count": null,
      "metadata": {
        "id": "5eY_XPmrltov",
        "colab": {
          "base_uri": "https://localhost:8080/"
        },
        "outputId": "0360616b-3d79-4797-f0cf-d47813669204"
      },
      "outputs": [
        {
          "output_type": "execute_result",
          "data": {
            "text/plain": [
              "[['Jetta Variant', 2003, False],\n",
              " ['Passat', 1991, False],\n",
              " ['Crossfox', 1990, False],\n",
              " ['DS5', 2019, True],\n",
              " ['Aston Martin DB4', 2006, False],\n",
              " ['Palio Weekend', 2012, False],\n",
              " ['A5', 2019, True],\n",
              " ['Série 3 Cabrio', 2009, False],\n",
              " ['Dodge Jorney', 2019, False],\n",
              " ['Carens', 2011, False]]"
            ]
          },
          "metadata": {},
          "execution_count": 184
        }
      ],
      "source": [
        "# 1º objeto de la lista - Nombre del vehículo\n",
        "# 2º objeto de la lista - Año de fabricación\n",
        "# 3º objeto de la lista - Vehículo es cero km?\n",
        "\n",
        "datos = [\n",
        "    ['Jetta Variant', 2003, False],\n",
        "    ['Passat', 1991, False],\n",
        "    ['Crossfox', 1990, False],\n",
        "    ['DS5', 2019, True],\n",
        "    ['Aston Martin DB4', 2006, False],\n",
        "    ['Palio Weekend', 2012, False],\n",
        "    ['A5', 2019, True],\n",
        "    ['Série 3 Cabrio', 2009, False],\n",
        "    ['Dodge Jorney', 2019, False],\n",
        "    ['Carens', 2011, False]\n",
        "]\n",
        "datos"
      ]
    },
    {
      "cell_type": "code",
      "execution_count": null,
      "metadata": {
        "id": "nyb0iDH1ltoy",
        "colab": {
          "base_uri": "https://localhost:8080/"
        },
        "outputId": "f8386621-214e-4aae-b36b-b30037231c99"
      },
      "outputs": [
        {
          "output_type": "stream",
          "name": "stdout",
          "text": [
            "['DS5', 2019, True]\n",
            "['A5', 2019, True]\n"
          ]
        }
      ],
      "source": [
        "#queremos extraer los elementos de vehiculos 0 km\n",
        "# primero identificar q sea 0 km\n",
        "#debemos verificar si el 3 elemento de cada sublista es true,\n",
        "#para ello usamos if\n",
        "\n",
        "#primero un for para recorrer\n",
        "\"\"\"\n",
        "i seran la representacion de cada sublista\n",
        "en la condicion voy a la sublista con\n",
        "i y lo q quiero comparar es la ultima pocision\n",
        "de cada sublista, la última pocision en este caso\n",
        "tiene es el indice 2 asi q dire i[2]\n",
        "operador comparativo de igualdad ==\n",
        "contra el True y ahora pido que me imprima\n",
        "solo los que cumplen con la condición , osea q\n",
        "me imprima las sublistas donde su\n",
        "ultima pocision es True\n",
        "\"\"\"\n",
        "\n",
        "for i in datos:\n",
        "  if (i [2] == True):\n",
        "   print(i)"
      ]
    },
    {
      "cell_type": "code",
      "execution_count": null,
      "metadata": {
        "id": "5MlITJppltoy",
        "colab": {
          "base_uri": "https://localhost:8080/"
        },
        "outputId": "7c07bf78-3545-4c26-be81-d9e981f6ada1"
      },
      "outputs": [
        {
          "output_type": "execute_result",
          "data": {
            "text/plain": [
              "[['DS5', 2019, True], ['A5', 2019, True]]"
            ]
          },
          "metadata": {},
          "execution_count": 186
        }
      ],
      "source": [
        "#ahora guardare esos resultados en una lista\n",
        "\n",
        "cero_km_T = []\n",
        "\n",
        "for i in datos:\n",
        "  if (i [2] == True):\n",
        "   cero_km_T.append(i)\n",
        "\n",
        "cero_km_T\n",
        "\n"
      ]
    },
    {
      "cell_type": "code",
      "source": [
        "#ahora quiero guardar los vehiculos q no son 0km\n",
        "\n",
        "\n",
        "cero_km_F = []\n",
        "\n",
        "for i in datos:\n",
        "  if (i [2] == False):\n",
        "   cero_km_F.append(i)\n",
        "\n",
        "cero_km_F"
      ],
      "metadata": {
        "colab": {
          "base_uri": "https://localhost:8080/"
        },
        "id": "hL7Xs952nrR0",
        "outputId": "6f7677ba-b787-477f-c8e5-32a2c37493f1"
      },
      "execution_count": null,
      "outputs": [
        {
          "output_type": "execute_result",
          "data": {
            "text/plain": [
              "[['Jetta Variant', 2003, False],\n",
              " ['Passat', 1991, False],\n",
              " ['Crossfox', 1990, False],\n",
              " ['Aston Martin DB4', 2006, False],\n",
              " ['Palio Weekend', 2012, False],\n",
              " ['Série 3 Cabrio', 2009, False],\n",
              " ['Dodge Jorney', 2019, False],\n",
              " ['Carens', 2011, False]]"
            ]
          },
          "metadata": {},
          "execution_count": 187
        }
      ]
    },
    {
      "cell_type": "markdown",
      "metadata": {
        "id": "51Js0kXD0aRH"
      },
      "source": [
        "### List comprehensions"
      ]
    },
    {
      "cell_type": "code",
      "execution_count": null,
      "metadata": {
        "id": "Ly4QUX5J0aRI",
        "colab": {
          "base_uri": "https://localhost:8080/"
        },
        "outputId": "e9d5fab2-2ca4-42b4-9a18-8615ee585895"
      },
      "outputs": [
        {
          "output_type": "execute_result",
          "data": {
            "text/plain": [
              "[['DS5', 2019, True], ['A5', 2019, True]]"
            ]
          },
          "metadata": {},
          "execution_count": 188
        }
      ],
      "source": [
        "#hagamos los anterior con list comprenhension\n",
        "\n",
        "\n",
        "cero_km_T = [i for i in datos if (i [2] == True)]\n",
        "cero_km_T"
      ]
    },
    {
      "cell_type": "code",
      "source": [
        "cero_km_F = [i for i in datos if (i [2] == False)]\n",
        "cero_km_F"
      ],
      "metadata": {
        "colab": {
          "base_uri": "https://localhost:8080/"
        },
        "id": "bHHuzCE2oQ8f",
        "outputId": "aa4e9c1b-0794-4965-92ac-8eab39990cde"
      },
      "execution_count": null,
      "outputs": [
        {
          "output_type": "execute_result",
          "data": {
            "text/plain": [
              "[['Jetta Variant', 2003, False],\n",
              " ['Passat', 1991, False],\n",
              " ['Crossfox', 1990, False],\n",
              " ['Aston Martin DB4', 2006, False],\n",
              " ['Palio Weekend', 2012, False],\n",
              " ['Série 3 Cabrio', 2009, False],\n",
              " ['Dodge Jorney', 2019, False],\n",
              " ['Carens', 2011, False]]"
            ]
          },
          "metadata": {},
          "execution_count": 189
        }
      ]
    },
    {
      "cell_type": "markdown",
      "metadata": {
        "id": "CKjrvO5Tltoz"
      },
      "source": [
        "# 4.4 Instrucciones *if-else* y *if-elif-else*\n",
        "\n",
        "#### Formato estándar\n",
        "\n",
        "```\n",
        "if <condicion>:\n",
        "    <instrucciones en caso la condición sea verdadera>\n",
        "else:\n",
        "    <instrucciones en caso la condición no sea verdadera>\n",
        "```"
      ]
    },
    {
      "cell_type": "code",
      "execution_count": null,
      "metadata": {
        "id": "K_VORb47ltoz",
        "colab": {
          "base_uri": "https://localhost:8080/"
        },
        "outputId": "c3862672-c0e6-4fcf-b096-9967f03477ba"
      },
      "outputs": [
        {
          "output_type": "execute_result",
          "data": {
            "text/plain": [
              "'\\nif-else\\nesta nos indica q cuando una condicion  se cumple\\nponemos las instrucciones en la siguiente linea\\nsi no se cumple ponemos else y luego las\\ninstrucciones necesarias\\n'"
            ],
            "application/vnd.google.colaboratory.intrinsic+json": {
              "type": "string"
            }
          },
          "metadata": {},
          "execution_count": 190
        }
      ],
      "source": [
        "\"\"\"\n",
        "if-else\n",
        "esta nos indica q cuando una condicion  se cumple\n",
        "ponemos las instrucciones en la siguiente linea\n",
        "si no se cumple ponemos else y luego las\n",
        "instrucciones necesarias\n",
        "\"\"\""
      ]
    },
    {
      "cell_type": "code",
      "execution_count": null,
      "metadata": {
        "id": "vhz5T7jDlto1",
        "colab": {
          "base_uri": "https://localhost:8080/"
        },
        "outputId": "6c3a82f6-67bb-496c-affc-1e8261f2dc6f"
      },
      "outputs": [
        {
          "output_type": "execute_result",
          "data": {
            "text/plain": [
              "[['Jetta Variant', 2003, False],\n",
              " ['Passat', 1991, False],\n",
              " ['Crossfox', 1990, False],\n",
              " ['DS5', 2019, True],\n",
              " ['Aston Martin DB4', 2006, False],\n",
              " ['Palio Weekend', 2012, False],\n",
              " ['A5', 2019, True],\n",
              " ['Série 3 Cabrio', 2009, False],\n",
              " ['Dodge Jorney', 2019, False],\n",
              " ['Carens', 2011, False]]"
            ]
          },
          "metadata": {},
          "execution_count": 191
        }
      ],
      "source": [
        "datos"
      ]
    },
    {
      "cell_type": "code",
      "source": [
        "\"\"\"\n",
        "tenemos q crear dos listas vacias\n",
        "en una sola linea\n",
        "\"\"\"\n",
        "\n",
        "cero_km_F, cero_km_T = [], []\n",
        "\n",
        "\"\"\"\n",
        "añadimos el else luego de la instruccion del if\n",
        "y le ponemos su propia instrucción\n",
        "\"\"\"\n",
        "\n",
        "for i in datos:\n",
        "  if (i [2] == False):\n",
        "   cero_km_F.append(i)\n",
        "  else:\n",
        "    cero_km_T.append(i)\n",
        "\n"
      ],
      "metadata": {
        "id": "czsbUFev4qxV"
      },
      "execution_count": null,
      "outputs": []
    },
    {
      "cell_type": "code",
      "source": [
        "cero_km_F\n"
      ],
      "metadata": {
        "colab": {
          "base_uri": "https://localhost:8080/"
        },
        "id": "uOCjPI4k5P6Q",
        "outputId": "c27088c6-61d3-4156-bbb6-1d73e0f96377"
      },
      "execution_count": null,
      "outputs": [
        {
          "output_type": "execute_result",
          "data": {
            "text/plain": [
              "[['Jetta Variant', 2003, False],\n",
              " ['Passat', 1991, False],\n",
              " ['Crossfox', 1990, False],\n",
              " ['Aston Martin DB4', 2006, False],\n",
              " ['Palio Weekend', 2012, False],\n",
              " ['Série 3 Cabrio', 2009, False],\n",
              " ['Dodge Jorney', 2019, False],\n",
              " ['Carens', 2011, False]]"
            ]
          },
          "metadata": {},
          "execution_count": 193
        }
      ]
    },
    {
      "cell_type": "code",
      "source": [
        "cero_km_T"
      ],
      "metadata": {
        "colab": {
          "base_uri": "https://localhost:8080/"
        },
        "id": "IinWtvjQ5SpM",
        "outputId": "88c79a6b-b76c-4450-fee5-b941f942f017"
      },
      "execution_count": null,
      "outputs": [
        {
          "output_type": "execute_result",
          "data": {
            "text/plain": [
              "[['DS5', 2019, True], ['A5', 2019, True]]"
            ]
          },
          "metadata": {},
          "execution_count": 194
        }
      ]
    },
    {
      "cell_type": "markdown",
      "metadata": {
        "id": "Z2-8WeN1lto2"
      },
      "source": [
        "#### Formato estándar\n",
        "\n",
        "```\n",
        "if <condicion 1>:\n",
        "    <instrucciones en caso la condición 1 sea verdadera>\n",
        "elif <condicion 2>:\n",
        "    <instrucciones en caso la condición 2 sea verdadera>\n",
        "elif <condicion 3>:\n",
        "    <instrucciones en caso la condición 3 sea verdadera>\n",
        "                        .\n",
        "                        .\n",
        "                        .\n",
        "else:\n",
        "    <instrucciones en caso las condiciones anteriores no sean verdaderas>\n",
        "```"
      ]
    },
    {
      "cell_type": "code",
      "execution_count": null,
      "metadata": {
        "id": "ggrbaB4Tlto2",
        "colab": {
          "base_uri": "https://localhost:8080/"
        },
        "outputId": "f605a4be-c5e7-46d5-cce3-174762b65528"
      },
      "outputs": [
        {
          "output_type": "execute_result",
          "data": {
            "text/plain": [
              "[['Jetta Variant', 2003, False],\n",
              " ['Passat', 1991, False],\n",
              " ['Crossfox', 1990, False],\n",
              " ['DS5', 2019, True],\n",
              " ['Aston Martin DB4', 2006, False],\n",
              " ['Palio Weekend', 2012, False],\n",
              " ['A5', 2019, True],\n",
              " ['Série 3 Cabrio', 2009, False],\n",
              " ['Dodge Jorney', 2019, False],\n",
              " ['Carens', 2011, False]]"
            ]
          },
          "metadata": {},
          "execution_count": 195
        }
      ],
      "source": [
        "datos"
      ]
    },
    {
      "cell_type": "code",
      "source": [
        "\"\"\"\n",
        "bien aqui usaremos el año de fabricacion para el ejemplo\n",
        "y usar el if elif y else para categorizarlos\n",
        "\"\"\""
      ],
      "metadata": {
        "colab": {
          "base_uri": "https://localhost:8080/"
        },
        "id": "TN7SVvELTm1d",
        "outputId": "4fe37b14-42e0-4e8f-ec9b-fd5231fbe82d"
      },
      "execution_count": null,
      "outputs": [
        {
          "output_type": "execute_result",
          "data": {
            "text/plain": [
              "'\\nbien aqui usaremos el año de fabricacion para el ejemplo\\ny usar el if elif y else para categorizarlos\\n'"
            ],
            "application/vnd.google.colaboratory.intrinsic+json": {
              "type": "string"
            }
          },
          "metadata": {},
          "execution_count": 196
        }
      ]
    },
    {
      "cell_type": "code",
      "execution_count": null,
      "metadata": {
        "id": "KJgRc1F9lto3",
        "colab": {
          "base_uri": "https://localhost:8080/"
        },
        "outputId": "3648923b-5372-4121-e0c2-117fb8efcc7f"
      },
      "outputs": [
        {
          "output_type": "stream",
          "name": "stdout",
          "text": [
            "AND\n",
            "(True and True) el resultado es: True\n",
            "(True and False) el resultado es: False\n",
            "(False and True) el resultado es: False\n",
            "(False and False) el resultado es: False\n"
          ]
        }
      ],
      "source": [
        "print('AND')\n",
        "print(f'(True and True) el resultado es: {True and True}')\n",
        "print(f'(True and False) el resultado es: {True and False}')\n",
        "print(f'(False and True) el resultado es: {False and True}')\n",
        "print(f'(False and False) el resultado es: {False and False}')"
      ]
    },
    {
      "cell_type": "code",
      "execution_count": null,
      "metadata": {
        "id": "sb0mSh-o0aRM",
        "colab": {
          "base_uri": "https://localhost:8080/"
        },
        "outputId": "e780f738-fe94-4692-85e5-1e41ab68bd83"
      },
      "outputs": [
        {
          "output_type": "stream",
          "name": "stdout",
          "text": [
            "OR\n",
            "(True or True) el resultado es: True\n",
            "(True or False) el resultado es: True\n",
            "(False or True) el resultado es: True\n",
            "(False or False) el resultado es: False\n"
          ]
        }
      ],
      "source": [
        "print('OR')\n",
        "print(f'(True or True) el resultado es: {True or True}')\n",
        "print(f'(True or False) el resultado es: {True or False}')\n",
        "print(f'(False or True) el resultado es: {False or True}')\n",
        "print(f'(False or False) el resultado es: {False or False}')"
      ]
    },
    {
      "cell_type": "code",
      "execution_count": null,
      "metadata": {
        "id": "AfNdTPzElto3"
      },
      "outputs": [],
      "source": [
        "# voy a crear 3 listas para guardar alli los datos, voy a\n",
        "#separar y categorizar por año en cada lista\n",
        "A,B,C = [], [],[]"
      ]
    },
    {
      "cell_type": "code",
      "execution_count": null,
      "metadata": {
        "id": "5bN7SuvTlto4"
      },
      "outputs": [],
      "source": [
        "#recorro la lista datos\n",
        "\n",
        "for i in datos:\n",
        "  if (i[1] <= 2000):\n",
        "    A.append(i)\n",
        "    # bien aqui uso i para representar las sublistas\n",
        "    #[1 ] pocision del año de fabricacion que es lo\n",
        "    #que quiero comparar\n",
        "    #<= 2000 operador de comparacion y comparación\n",
        "    #y si es cierto guardo en lista A\n",
        "    '''  elif(i[1]>2000 i[1<=2010])  aqui deberia de\n",
        "    hacer dos condiciones pero para ello usare\n",
        "    and porq necesito q ambas sean verdaderas'''\n",
        "  elif(i[1]>2000 and i[1]<=2010):\n",
        "    B.append(i)\n",
        "  else:\n",
        "    C.append(i)    #el eslse guardara todo el restante q no cumple las\n",
        "                   #condiciones anteriores"
      ]
    },
    {
      "cell_type": "code",
      "execution_count": null,
      "metadata": {
        "id": "dDEl3Vfglto4",
        "colab": {
          "base_uri": "https://localhost:8080/"
        },
        "outputId": "9dd9cd06-c44f-4a7a-ab8e-08af6c47b9b8"
      },
      "outputs": [
        {
          "output_type": "execute_result",
          "data": {
            "text/plain": [
              "[['Passat', 1991, False], ['Crossfox', 1990, False]]"
            ]
          },
          "metadata": {},
          "execution_count": 201
        }
      ],
      "source": [
        "A"
      ]
    },
    {
      "cell_type": "code",
      "execution_count": null,
      "metadata": {
        "id": "Ot4HLQlelto5",
        "colab": {
          "base_uri": "https://localhost:8080/"
        },
        "outputId": "a15c4da1-aa0f-495e-a5ac-d5dc7b9ed2ab"
      },
      "outputs": [
        {
          "output_type": "execute_result",
          "data": {
            "text/plain": [
              "[['Jetta Variant', 2003, False],\n",
              " ['Aston Martin DB4', 2006, False],\n",
              " ['Série 3 Cabrio', 2009, False]]"
            ]
          },
          "metadata": {},
          "execution_count": 202
        }
      ],
      "source": [
        "B"
      ]
    },
    {
      "cell_type": "code",
      "execution_count": null,
      "metadata": {
        "id": "FN26ZBKJlto5",
        "colab": {
          "base_uri": "https://localhost:8080/"
        },
        "outputId": "da424e89-0900-443b-8091-457f38117ad5"
      },
      "outputs": [
        {
          "output_type": "execute_result",
          "data": {
            "text/plain": [
              "[['DS5', 2019, True],\n",
              " ['Palio Weekend', 2012, False],\n",
              " ['A5', 2019, True],\n",
              " ['Dodge Jorney', 2019, False],\n",
              " ['Carens', 2011, False]]"
            ]
          },
          "metadata": {},
          "execution_count": 203
        }
      ],
      "source": [
        "C"
      ]
    },
    {
      "cell_type": "code",
      "source": [
        "\"\"\"\n",
        "cuando usamos and esto solo se cumplira cuando\n",
        "ambas condiciones sean verdaderas, si una de las dos\n",
        "es falsa la condicion no se cumple y por tanto\n",
        "no se ejecuta\n",
        "\n",
        "cómo saber qué combinacion podemos usar. arriba\n",
        "vemos anotaciones de usar or y and\n",
        "\"\"\""
      ],
      "metadata": {
        "colab": {
          "base_uri": "https://localhost:8080/"
        },
        "id": "opJinabwXeSu",
        "outputId": "3b459a1c-670a-478a-bfa3-09b55081cca5"
      },
      "execution_count": null,
      "outputs": [
        {
          "output_type": "execute_result",
          "data": {
            "text/plain": [
              "'\\ncuando usamos and esto solo se cumplira cuando\\nambas condiciones sean verdaderas, si una de las dos\\nes falsa la condicion no se cumple y por tanto\\nno se ejecuta\\n\\ncómo saber qué combinacion podemos usar. arriba\\nvemos anotaciones de usar or y and\\n'"
            ],
            "application/vnd.google.colaboratory.intrinsic+json": {
              "type": "string"
            }
          },
          "metadata": {},
          "execution_count": 204
        }
      ]
    },
    {
      "cell_type": "code",
      "source": [
        "A,B,C = [],[],[]\n",
        "\n",
        "for i in datos:\n",
        "  if (i[1] <= 2000):\n",
        "    A.append(i)\n",
        "  elif(2000 < i[1]<=2010): #forma simplicada\n",
        "    B.append(i)\n",
        "  else:\n",
        "    C.append(i)"
      ],
      "metadata": {
        "id": "pWVJtxSUX_eA"
      },
      "execution_count": null,
      "outputs": []
    },
    {
      "cell_type": "code",
      "source": [
        "A"
      ],
      "metadata": {
        "colab": {
          "base_uri": "https://localhost:8080/"
        },
        "id": "aqFrpMwfYk_f",
        "outputId": "a1963ad4-0ddb-4fa7-b614-a58d5b6229d5"
      },
      "execution_count": null,
      "outputs": [
        {
          "output_type": "execute_result",
          "data": {
            "text/plain": [
              "[['Passat', 1991, False], ['Crossfox', 1990, False]]"
            ]
          },
          "metadata": {},
          "execution_count": 206
        }
      ]
    },
    {
      "cell_type": "code",
      "source": [
        "B"
      ],
      "metadata": {
        "colab": {
          "base_uri": "https://localhost:8080/"
        },
        "id": "IkNibOlBYpv3",
        "outputId": "e3dc4cf4-9354-4992-b52b-503cce36b1c6"
      },
      "execution_count": null,
      "outputs": [
        {
          "output_type": "execute_result",
          "data": {
            "text/plain": [
              "[['Jetta Variant', 2003, False],\n",
              " ['Aston Martin DB4', 2006, False],\n",
              " ['Série 3 Cabrio', 2009, False]]"
            ]
          },
          "metadata": {},
          "execution_count": 207
        }
      ]
    },
    {
      "cell_type": "code",
      "source": [
        "C"
      ],
      "metadata": {
        "colab": {
          "base_uri": "https://localhost:8080/"
        },
        "id": "j516L3zfYwRH",
        "outputId": "9bd56af5-6698-4dce-9cf0-978f8bb7b243"
      },
      "execution_count": null,
      "outputs": [
        {
          "output_type": "execute_result",
          "data": {
            "text/plain": [
              "[['DS5', 2019, True],\n",
              " ['Palio Weekend', 2012, False],\n",
              " ['A5', 2019, True],\n",
              " ['Dodge Jorney', 2019, False],\n",
              " ['Carens', 2011, False]]"
            ]
          },
          "metadata": {},
          "execution_count": 208
        }
      ]
    },
    {
      "cell_type": "markdown",
      "metadata": {
        "id": "aRfQfubxlto6"
      },
      "source": [
        "# <font color=green> 5. NUMPY BÁSICO\n",
        "---\n",
        "\n",
        "Numpy es la abreviación de Numerical Python y es uno de los paquetes más importantes para procesamiento numérico en Python. Numpy ofrece la base para la mayoría de los paquetes de aplicaciones científicas que usen datos numéricos en Python (estructuras de datos y algoritmos). Pueden destacarse los siguientes recursos que el paquete Numpy contiene:\n",
        "\n",
        "- Un poderoso objeto array multidimensional;\n",
        "- Funciones matemáticas sofisticadas para operaciones con arrays sin la necesidad de utilización de bucles *for*;\n",
        "- Recursos de algebra linear y generación de números aleatórios\n",
        "\n",
        "Además de sus obvios usos científicos, el paquete NumPy también es muy utilizado en análisis de datos como un eficiente contenedor multidimensional de datos genéricos para transporte entre diversos algoritmos y bibliotecas en Python.\n",
        "\n",
        "**Versión:** 1.18.4\n",
        "\n",
        "**Instalación:** https://scipy.org/install.html\n",
        "\n",
        "**Documentación:** https://numpy.org/doc/1.18/"
      ]
    },
    {
      "cell_type": "markdown",
      "metadata": {
        "id": "RtG2-g1ultme"
      },
      "source": [
        "### Paquetes\n",
        "\n",
        "Existen diversos paquetes Python disponibles para download en internet. Cada paquete tiene como objetivo la solución de determinado tipo de problema y para esto son desarrollados nuevos tipos, funciones y métodos.\n",
        "\n",
        "Algunos paquetes son bastante utilizados en un contexto de ciencia de datos, como por ejemplo:\n",
        "\n",
        "- Numpy\n",
        "- Pandas\n",
        "- Scikit-learn\n",
        "- Matplotlib\n",
        "\n",
        "Algunos paquetes no son distribuidos en la instalación estándar de Python. En este caso debemos instalar los paquetes que necesitamos en nuestro sistema para poder utilizar sus funcionalidades."
      ]
    },
    {
      "cell_type": "markdown",
      "metadata": {
        "id": "b8prsQjmltme"
      },
      "source": [
        "### Importando todo el paquete"
      ]
    },
    {
      "cell_type": "code",
      "execution_count": null,
      "metadata": {
        "id": "lP0tqXHLltmf"
      },
      "outputs": [],
      "source": [
        "import numpy"
      ]
    },
    {
      "cell_type": "markdown",
      "metadata": {
        "id": "a2-nN3Je6NjO"
      },
      "source": [
        "https://numpy.org/doc/1.16/reference/generated/numpy.arange.html"
      ]
    },
    {
      "cell_type": "code",
      "execution_count": null,
      "metadata": {
        "id": "Y40UP3K7ltmg",
        "colab": {
          "base_uri": "https://localhost:8080/"
        },
        "outputId": "98baf033-755e-470f-bb32-15b513219ade"
      },
      "outputs": [
        {
          "output_type": "execute_result",
          "data": {
            "text/plain": [
              "array([0, 1, 2, 3, 4, 5, 6, 7, 8, 9])"
            ]
          },
          "metadata": {},
          "execution_count": 210
        }
      ],
      "source": [
        "'''\n",
        "usaremos el metdo arange, este metodo genera\n",
        "una lista con valores secuenciales de cierto\n",
        "tamaño, este metodo esta dentro de numpy'''\n",
        "\n",
        "numpy.arange(10)"
      ]
    },
    {
      "cell_type": "markdown",
      "metadata": {
        "id": "84-53f4Lltmh"
      },
      "source": [
        "### Importando todo el paquete y asignándole un nuevo nombre"
      ]
    },
    {
      "cell_type": "code",
      "execution_count": null,
      "metadata": {
        "id": "CzESWck7ltmi"
      },
      "outputs": [],
      "source": [
        "import numpy as np"
      ]
    },
    {
      "cell_type": "code",
      "execution_count": null,
      "metadata": {
        "id": "RC7Dr5Viltmj",
        "colab": {
          "base_uri": "https://localhost:8080/"
        },
        "outputId": "1353cd55-f67c-4538-c195-af48bb05d177"
      },
      "outputs": [
        {
          "output_type": "execute_result",
          "data": {
            "text/plain": [
              "array([0, 1, 2, 3, 4, 5, 6, 7, 8, 9])"
            ]
          },
          "metadata": {},
          "execution_count": 212
        }
      ],
      "source": [
        "np.arange(10)"
      ]
    },
    {
      "cell_type": "markdown",
      "metadata": {
        "id": "WWawttSpltml"
      },
      "source": [
        "### Importando parte del paquete"
      ]
    },
    {
      "cell_type": "code",
      "execution_count": null,
      "metadata": {
        "id": "8kTeo3Ltltmo"
      },
      "outputs": [],
      "source": [
        "''' cuando importamos un paquete este importa\n",
        "todos los metodos q ocupan toda nuestra memoria\n",
        "asi q podemos importar solo el metodo q usaremos\n",
        "'''\n",
        "from numpy import arange"
      ]
    },
    {
      "cell_type": "code",
      "execution_count": null,
      "metadata": {
        "id": "4LPnpiEwltmt",
        "colab": {
          "base_uri": "https://localhost:8080/"
        },
        "outputId": "f65b0f2c-e96e-4645-c6f3-3bf40f409f56"
      },
      "outputs": [
        {
          "output_type": "execute_result",
          "data": {
            "text/plain": [
              "array([0, 1, 2, 3, 4, 5, 6, 7, 8, 9])"
            ]
          },
          "metadata": {},
          "execution_count": 214
        }
      ],
      "source": [
        "arange(10)"
      ]
    },
    {
      "cell_type": "markdown",
      "metadata": {
        "id": "VSmffnCklto6"
      },
      "source": [
        "# 5.1 Creando arrays Numpy"
      ]
    },
    {
      "cell_type": "code",
      "execution_count": null,
      "metadata": {
        "id": "Wqpin_-Plto8"
      },
      "outputs": [],
      "source": [
        "import numpy as np"
      ]
    },
    {
      "cell_type": "markdown",
      "metadata": {
        "id": "ock4Ku-Ulto8"
      },
      "source": [
        "### A partir de listas\n",
        "\n",
        "https://numpy.org/doc/1.16/user/basics.creation.html"
      ]
    },
    {
      "cell_type": "code",
      "execution_count": null,
      "metadata": {
        "id": "82H-09CQlto9"
      },
      "outputs": [],
      "source": [
        "km = np.array([1000, 2300, 4987, 1500])"
      ]
    },
    {
      "cell_type": "code",
      "execution_count": null,
      "metadata": {
        "id": "8VYE3JSYlto9",
        "colab": {
          "base_uri": "https://localhost:8080/"
        },
        "outputId": "8fa709a2-152e-401d-b0ba-c88b1f6e8d4e"
      },
      "outputs": [
        {
          "output_type": "execute_result",
          "data": {
            "text/plain": [
              "array([1000, 2300, 4987, 1500])"
            ]
          },
          "metadata": {},
          "execution_count": 217
        }
      ],
      "source": [
        "km"
      ]
    },
    {
      "cell_type": "code",
      "execution_count": null,
      "metadata": {
        "id": "OBsa5Cfplto-",
        "colab": {
          "base_uri": "https://localhost:8080/"
        },
        "outputId": "5d8b7c11-7920-4786-b29a-b53407f78479"
      },
      "outputs": [
        {
          "output_type": "execute_result",
          "data": {
            "text/plain": [
              "numpy.ndarray"
            ]
          },
          "metadata": {},
          "execution_count": 218
        }
      ],
      "source": [
        "type(km)\n",
        "#aqui vemos qué tipo de dato es km\n",
        "# es un array"
      ]
    },
    {
      "cell_type": "markdown",
      "metadata": {
        "id": "RfQ3jJSAlto-"
      },
      "source": [
        "https://numpy.org/doc/1.16/user/basics.types.html"
      ]
    },
    {
      "cell_type": "code",
      "execution_count": null,
      "metadata": {
        "id": "6yLpkJcAlto-",
        "colab": {
          "base_uri": "https://localhost:8080/"
        },
        "outputId": "5e732c0b-d30a-4366-960f-033aa03d0553"
      },
      "outputs": [
        {
          "output_type": "execute_result",
          "data": {
            "text/plain": [
              "dtype('int64')"
            ]
          },
          "metadata": {},
          "execution_count": 219
        }
      ],
      "source": [
        "#aqui ya sabems q km es numpy y podemos usar en el\n",
        "#los metodos de numpy, como el dtype\n",
        "#que me dice qué tipo de datos tiene km\n",
        "km.dtype\n"
      ]
    },
    {
      "cell_type": "markdown",
      "metadata": {
        "id": "1pFx86QPlto_"
      },
      "source": [
        "### A partir de datos externos\n",
        "\n",
        "https://numpy.org/doc/1.16/reference/generated/numpy.loadtxt.html"
      ]
    },
    {
      "cell_type": "code",
      "execution_count": null,
      "metadata": {
        "id": "26pQLNgrlto_"
      },
      "outputs": [],
      "source": [
        "#generaremos un array a partir de datos externos,\n",
        "#en este caso un archivo de texto, este es un archivo\n",
        "#unidimensional porq no tiene columnas y filas\n",
        "#pero con numpy podemos generar varias dimensiones"
      ]
    },
    {
      "cell_type": "code",
      "execution_count": null,
      "metadata": {
        "id": "FoP42bdpltpA",
        "scrolled": true
      },
      "outputs": [],
      "source": [
        "#fname es nombre del archivo\n",
        "km = np.loadtxt(fname= 'carros-km.txt', dtype = int)"
      ]
    },
    {
      "cell_type": "code",
      "execution_count": null,
      "metadata": {
        "id": "MNPjZJbYltpA",
        "colab": {
          "base_uri": "https://localhost:8080/"
        },
        "outputId": "c16b224b-85d3-434b-a8b2-20c91249f10e"
      },
      "outputs": [
        {
          "output_type": "execute_result",
          "data": {
            "text/plain": [
              "array([ 44410,   5712,  37123,      0,  25757,  10728,      0,  77599,\n",
              "        99197,  37978,  12859,   8052,  89773,      0,  41457, 115607,\n",
              "        46449,      0,  37086,  15173, 101193,      0,  98079, 102959,\n",
              "            0,      0,   5795,      0,  58848,  94381,  30163,  53332,\n",
              "        17720,  33808,  90684,  43975,      0,      0,   5526,      0,\n",
              "        93415,  40762,      0,  86302,      0,   9755,  69945,   2395,\n",
              "            0,  80349,  85554,  50496,  67716,  93947,  35345,  81007,\n",
              "       119513,      0,      0,      0,      0,      0, 118895,  48509,\n",
              "       100912,  95649,      0,  90495,      0,  29132,  23802,  84992,\n",
              "        54395,  26731,  44329, 118236, 113808,    610,      0,      0,\n",
              "        12887,  79607,  90924,  42733,      0,      0, 117714, 113885,\n",
              "            0,  30511,  74867, 119760,   8356,  64247,  88661,   4539,\n",
              "       110116,  33215,  92001,      0,  81708,  70641,      0,  91277,\n",
              "        26544,  52596,  47503,  89056,  28834, 110564,  56638,  17357,\n",
              "        74015,  15196,      0,  10821,      0,      0,   9595,  99052,\n",
              "        52389, 119945,  96005,  31639,      0,  80187,      0,  58212,\n",
              "        61672,  32017,      0,  56944,      0,  86519,   4821, 101025,\n",
              "        30705,      0,  32555, 103389,      0,  55289,      0,      0,\n",
              "       115930,  66437,  96800,  14237,  19896, 113045, 114942,   3173,\n",
              "        83611,  25356,  88634,   2314,   2627,  52034,      0,      0,\n",
              "        79577, 108201,  76453,  57683,  96610, 109001,  26212,  45971,\n",
              "        49182,  49907,  38620,  60996,  73914, 107392,   9146,      0,\n",
              "        17924,      0, 116949,  20476,  52804,   8849,  91724,  32056,\n",
              "        74886,      0,      0,  52189,  83559,      0,  20328,      0,\n",
              "        75577,  33659, 104341,  25510,  18965,  87161,   6652,  55738,\n",
              "            0,      0,      0,  64320,      0,  68678,  71697,      0,\n",
              "        34783,  33772,  85127,  13606,  35647,  95128,  14046,  41194,\n",
              "            0,  96100, 103900,  43814,  24638,      0, 110966,  15987,\n",
              "        53369,  10077,  71544,    107,   8394,  41498, 116002, 100858,\n",
              "        67475,   8497,   4420,      0,  58537,      0,      0, 112016,\n",
              "        91840, 112787,      0,      0,   9293,      0,  55083,  48796,\n",
              "            0,  89685,  85384,  98108,  71280,  27505,  29981,  52637,\n",
              "         7685,  50188])"
            ]
          },
          "metadata": {},
          "execution_count": 222
        }
      ],
      "source": [
        "km"
      ]
    },
    {
      "cell_type": "markdown",
      "metadata": {
        "id": "_wnTg0wJltpB"
      },
      "source": [
        "### Arrays con dos dimensiones"
      ]
    },
    {
      "cell_type": "code",
      "execution_count": null,
      "metadata": {
        "id": "Gt1dL27GltpB",
        "scrolled": true,
        "colab": {
          "base_uri": "https://localhost:8080/"
        },
        "outputId": "7f8ed75d-9d95-42c7-eec1-9d142c24f607"
      },
      "outputs": [
        {
          "output_type": "execute_result",
          "data": {
            "text/plain": [
              "[['Llantas de aleación',\n",
              "  'Cerraduras eléctricas',\n",
              "  'Piloto automático',\n",
              "  'Asientos de cuero',\n",
              "  'Aire acondicionado',\n",
              "  'Sensor de estacionamiento',\n",
              "  'Sensor de crepúsculo',\n",
              "  'Sensor de lluvia'],\n",
              " ['Central multimedia',\n",
              "  'Techo panorámico',\n",
              "  'Frenos ABS',\n",
              "  '4 X 4',\n",
              "  'Panel digital',\n",
              "  'Piloto automático',\n",
              "  'Asientos de cuero',\n",
              "  'Cámara de estacionamiento'],\n",
              " ['Piloto automático',\n",
              "  'Control de estabilidad',\n",
              "  'Sensor crepuscular',\n",
              "  'Frenos ABS',\n",
              "  'Transmisión automática',\n",
              "  'Asientos de cuero',\n",
              "  'Central multimedia',\n",
              "  'Ventanas eléctricas']]"
            ]
          },
          "metadata": {},
          "execution_count": 223
        }
      ],
      "source": [
        "datos = [\n",
        "    ['Llantas de aleación', 'Cerraduras eléctricas', 'Piloto automático', 'Asientos de cuero', 'Aire acondicionado', 'Sensor de estacionamiento', 'Sensor de crepúsculo', 'Sensor de lluvia'],\n",
        "    ['Central multimedia', 'Techo panorámico', 'Frenos ABS', '4 X 4', 'Panel digital', 'Piloto automático', 'Asientos de cuero', 'Cámara de estacionamiento'],\n",
        "    ['Piloto automático', 'Control de estabilidad', 'Sensor crepuscular', 'Frenos ABS', 'Transmisión automática', 'Asientos de cuero', 'Central multimedia', 'Ventanas eléctricas']\n",
        "]\n",
        "datos"
      ]
    },
    {
      "cell_type": "code",
      "execution_count": null,
      "metadata": {
        "id": "IlbYeZPkltpC"
      },
      "outputs": [],
      "source": [
        "#generaremos un array np en base a la lista de datos que tenemos\n",
        "\n",
        "Accesorios = np.array(datos)"
      ]
    },
    {
      "cell_type": "code",
      "execution_count": null,
      "metadata": {
        "id": "FgjmWozgltpD",
        "scrolled": true,
        "colab": {
          "base_uri": "https://localhost:8080/"
        },
        "outputId": "89c5c090-da11-4d45-d2f2-200793ce783d"
      },
      "outputs": [
        {
          "output_type": "execute_result",
          "data": {
            "text/plain": [
              "array([['Llantas de aleación', 'Cerraduras eléctricas',\n",
              "        'Piloto automático', 'Asientos de cuero', 'Aire acondicionado',\n",
              "        'Sensor de estacionamiento', 'Sensor de crepúsculo',\n",
              "        'Sensor de lluvia'],\n",
              "       ['Central multimedia', 'Techo panorámico', 'Frenos ABS', '4 X 4',\n",
              "        'Panel digital', 'Piloto automático', 'Asientos de cuero',\n",
              "        'Cámara de estacionamiento'],\n",
              "       ['Piloto automático', 'Control de estabilidad',\n",
              "        'Sensor crepuscular', 'Frenos ABS', 'Transmisión automática',\n",
              "        'Asientos de cuero', 'Central multimedia', 'Ventanas eléctricas']],\n",
              "      dtype='<U25')"
            ]
          },
          "metadata": {},
          "execution_count": 225
        }
      ],
      "source": [
        "Accesorios"
      ]
    },
    {
      "cell_type": "code",
      "execution_count": null,
      "metadata": {
        "id": "TDM9HskUltpD",
        "colab": {
          "base_uri": "https://localhost:8080/"
        },
        "outputId": "033ef5d1-2785-41ab-f627-e190a2046fee"
      },
      "outputs": [
        {
          "output_type": "execute_result",
          "data": {
            "text/plain": [
              "(258,)"
            ]
          },
          "metadata": {},
          "execution_count": 226
        }
      ],
      "source": [
        "#este array q generamos tiene varias listas q tiene\n",
        "#varias dimensiones\n",
        "\n",
        "km.shape\n",
        "\n",
        "#este metodo muestra en este caso\n",
        "#como tiene una sola dimension, tiene\n",
        "#una sola fila asi q muestra\n",
        "#en este caso 258 elementos"
      ]
    },
    {
      "cell_type": "code",
      "execution_count": null,
      "metadata": {
        "id": "bBmnzpF5ltpE",
        "colab": {
          "base_uri": "https://localhost:8080/"
        },
        "outputId": "e219134b-c327-4372-bd81-b20fa092a55f"
      },
      "outputs": [
        {
          "output_type": "execute_result",
          "data": {
            "text/plain": [
              "(3, 8)"
            ]
          },
          "metadata": {},
          "execution_count": 227
        }
      ],
      "source": [
        "Accesorios.shape\n",
        "\n",
        "#este tiene varias dimensiones asi que muestra\n",
        "#(numero de filas, numero de columnas)"
      ]
    },
    {
      "cell_type": "markdown",
      "metadata": {
        "id": "cPbkST9pltpE"
      },
      "source": [
        "### Comparando desempeño con listas"
      ]
    },
    {
      "cell_type": "code",
      "execution_count": null,
      "metadata": {
        "id": "tTPC-G4vltpE"
      },
      "outputs": [],
      "source": [
        "#array numpy\n",
        "\n",
        "np_array= np.arange(1000000)"
      ]
    },
    {
      "cell_type": "code",
      "execution_count": null,
      "metadata": {
        "id": "PIC-ndg9ltpF"
      },
      "outputs": [],
      "source": [
        "#lista de python\n",
        "\n",
        "py_list = list(range(1000000))"
      ]
    },
    {
      "cell_type": "code",
      "execution_count": null,
      "metadata": {
        "id": "vXy57nk2ltpF",
        "colab": {
          "base_uri": "https://localhost:8080/"
        },
        "outputId": "4b0e29d8-ebda-4323-ae2b-bf95a20f8c6f"
      },
      "outputs": [
        {
          "output_type": "stream",
          "name": "stdout",
          "text": [
            "CPU times: user 95.5 ms, sys: 0 ns, total: 95.5 ms\n",
            "Wall time: 117 ms\n"
          ]
        }
      ],
      "source": [
        "#bien tenemos ambas listas, de los mismos elementos\n",
        "#cuál demorara menos en ser recorrida\n",
        "#%time captara el tiempo q demorara el loop\n",
        "# q crearemos, este loop recorrera 100 veces\n",
        "# y cada vez q recorra los elementos lo multiplicara por 2\n",
        "# y hara esto 100 veces\n",
        "#aqui el _ pide q se guarde el último calculo hecho ó\n",
        "#tambien aqui sustituye la variable X pero como no\n",
        "#se esta usando la variable x en ningun momento\n",
        "#solo se ignora y para esto se usa el _\n",
        "\n",
        "%time  for _ in range(100): np_array *= 2"
      ]
    },
    {
      "cell_type": "code",
      "execution_count": null,
      "metadata": {
        "id": "I94lVgCRltpG",
        "colab": {
          "base_uri": "https://localhost:8080/"
        },
        "outputId": "b0bba67f-bf1c-4833-b469-a49bfb3d3f92"
      },
      "outputs": [
        {
          "output_type": "stream",
          "name": "stdout",
          "text": [
            "CPU times: user 10.4 s, sys: 2.63 s, total: 13 s\n",
            "Wall time: 13.7 s\n"
          ]
        }
      ],
      "source": [
        "#aqui uso la x, recorremos la lista y cada\n",
        "#elemento se multiplica por 2, la x representa\n",
        "#los elementos y esto se repetira 100veces\n",
        "\n",
        "\n",
        "%time  for _ in range(100): py_list = [x*2 for x in py_list]\n"
      ]
    },
    {
      "cell_type": "code",
      "source": [
        "# como vemos la lista de python tardo casi 16.3 segundos pero\n",
        "# en numpy se tardo solo 86.4 milisegundos por esto\n",
        "#para grandes cantidades de datos numpy es mas optimo"
      ],
      "metadata": {
        "id": "Jfd9cbtVfTDY"
      },
      "execution_count": null,
      "outputs": []
    },
    {
      "cell_type": "markdown",
      "metadata": {
        "id": "ul4MuKyTltpG"
      },
      "source": [
        "# 5.2 Operaciones aritméticas con arrays Numpy"
      ]
    },
    {
      "cell_type": "markdown",
      "metadata": {
        "id": "QwnxO_rYltpH"
      },
      "source": [
        "### Operaciones entre arrays y constantes"
      ]
    },
    {
      "cell_type": "code",
      "execution_count": null,
      "metadata": {
        "id": "63KVHPK0ltpH"
      },
      "outputs": [],
      "source": [
        "km = [44410., 5712., 37123., 0., 25757.]\n",
        "años = [2003, 1991, 1990, 2019, 2006]"
      ]
    },
    {
      "cell_type": "code",
      "execution_count": null,
      "metadata": {
        "id": "AryIZaBIltpH",
        "colab": {
          "base_uri": "https://localhost:8080/",
          "height": 35
        },
        "outputId": "9b4be313-4fd0-4b76-d42b-c07a50da23c0"
      },
      "outputs": [
        {
          "output_type": "execute_result",
          "data": {
            "text/plain": [
              "'\\nquiero calcular la edad de cada vehiculo\\nq seria con el año actual - el año de fabricacion\\n'"
            ],
            "application/vnd.google.colaboratory.intrinsic+json": {
              "type": "string"
            }
          },
          "metadata": {},
          "execution_count": 234
        }
      ],
      "source": [
        "\"\"\"\n",
        "quiero calcular la edad de cada vehiculo\n",
        "q seria con el año actual - el año de fabricacion\n",
        "\"\"\"\n",
        "# calculemos:\n",
        "\n",
        "#  edad = 2020 - años\n",
        "\n",
        "#ups aqui tenemso un error, no podemos hacer una\n",
        "#operacion entre str(años) e int(2020). Por eso en listas\n",
        "# no es recomendable para operaciones sino mas bien\n",
        "# numpy arrays"
      ]
    },
    {
      "cell_type": "code",
      "execution_count": null,
      "metadata": {
        "id": "s8GvEk4HltpI"
      },
      "outputs": [],
      "source": [
        "#haremos excta,ente la misma operacion\n",
        "#pero con arrays\n",
        "\n",
        "km = np.array([44410., 5712., 37123., 0., 25757.])\n",
        "años = np.array([2003, 1991, 1990, 2019, 2006])"
      ]
    },
    {
      "cell_type": "code",
      "execution_count": null,
      "metadata": {
        "id": "aUnYV7OultpI"
      },
      "outputs": [],
      "source": [
        "edad = 2020 - años"
      ]
    },
    {
      "cell_type": "code",
      "execution_count": null,
      "metadata": {
        "id": "vg5yZ9IpltpJ",
        "colab": {
          "base_uri": "https://localhost:8080/"
        },
        "outputId": "98c03e9a-dffd-49ea-926b-f70a58bd4153"
      },
      "outputs": [
        {
          "output_type": "execute_result",
          "data": {
            "text/plain": [
              "array([17, 29, 30,  1, 14])"
            ]
          },
          "metadata": {},
          "execution_count": 237
        }
      ],
      "source": [
        "edad"
      ]
    },
    {
      "cell_type": "code",
      "source": [
        "'''\n",
        "como vemos aqui logramos combinar str e int\n",
        "'''"
      ],
      "metadata": {
        "id": "X075FebZgaYN",
        "colab": {
          "base_uri": "https://localhost:8080/",
          "height": 35
        },
        "outputId": "dc5b7ee8-7c89-40ab-a371-7a5ca7c35401"
      },
      "execution_count": null,
      "outputs": [
        {
          "output_type": "execute_result",
          "data": {
            "text/plain": [
              "'\\ncomo vemos aqui logramos combinar str e int\\n'"
            ],
            "application/vnd.google.colaboratory.intrinsic+json": {
              "type": "string"
            }
          },
          "metadata": {},
          "execution_count": 238
        }
      ]
    },
    {
      "cell_type": "markdown",
      "metadata": {
        "id": "qn1PUsM9ltpJ"
      },
      "source": [
        "### Operaciones entre arrays"
      ]
    },
    {
      "cell_type": "code",
      "execution_count": null,
      "metadata": {
        "id": "gU_d5aZkltpJ"
      },
      "outputs": [],
      "source": [
        "'''\n",
        "km promedio de cada vehiculo\n",
        "necesItamos el km_total del vehiculo / entre\n",
        "la edad de cada vehiculo q esta en edad\n",
        "'''\n",
        "\n",
        "km_media = km /edad"
      ]
    },
    {
      "cell_type": "code",
      "execution_count": null,
      "metadata": {
        "id": "U9DXntUEltpK",
        "colab": {
          "base_uri": "https://localhost:8080/"
        },
        "outputId": "4508234e-da02-4c24-cbf8-b1bc5a4bd635"
      },
      "outputs": [
        {
          "output_type": "execute_result",
          "data": {
            "text/plain": [
              "array([2612.35294118,  196.96551724, 1237.43333333,    0.        ,\n",
              "       1839.78571429])"
            ]
          },
          "metadata": {},
          "execution_count": 240
        }
      ],
      "source": [
        "km_media"
      ]
    },
    {
      "cell_type": "code",
      "execution_count": null,
      "metadata": {
        "id": "n0rPxgY1ltpL",
        "colab": {
          "base_uri": "https://localhost:8080/"
        },
        "outputId": "e4face44-350d-4fbc-e5d5-8e7260ebd385"
      },
      "outputs": [
        {
          "output_type": "execute_result",
          "data": {
            "text/plain": [
              "2612.3529411764707"
            ]
          },
          "metadata": {},
          "execution_count": 250
        }
      ],
      "source": [
        "'''\n",
        "aqui python recogio cada valor q tiene el array km\n",
        "y lo dividio entre cada valor de edad'''\n",
        "\n",
        "#verifiquemos haceindolo manualmente\n",
        "#km / edad\n",
        "44410. / 17\n",
        "\n"
      ]
    },
    {
      "cell_type": "code",
      "source": [
        "\n",
        "'''asi con array numpy no necesitamos\n",
        "iterar toda la lista sino q él solito hace todo'''"
      ],
      "metadata": {
        "colab": {
          "base_uri": "https://localhost:8080/",
          "height": 35
        },
        "id": "RKPx9aXmjHpG",
        "outputId": "860864b5-74c8-477c-cdb5-ee9e29584683"
      },
      "execution_count": null,
      "outputs": [
        {
          "output_type": "execute_result",
          "data": {
            "text/plain": [
              "'asi con array numpy no necesitamos\\niterar toda la lista sino q él solito hace todo'"
            ],
            "application/vnd.google.colaboratory.intrinsic+json": {
              "type": "string"
            }
          },
          "metadata": {},
          "execution_count": 244
        }
      ]
    },
    {
      "cell_type": "markdown",
      "metadata": {
        "id": "o4-gsGICltpN"
      },
      "source": [
        "### Operaciones con arrays de dos dimensiones"
      ]
    },
    {
      "cell_type": "code",
      "execution_count": null,
      "metadata": {
        "id": "VT71Pbb3ltpN"
      },
      "outputs": [],
      "source": [
        "#creamos un array de dos dimensiones\n",
        "# km sera la primer dimension\n",
        "#años sera la otra dimension\n",
        "datos = np.array([km, años])"
      ]
    },
    {
      "cell_type": "code",
      "execution_count": null,
      "metadata": {
        "id": "bgDe00q8ltpO",
        "colab": {
          "base_uri": "https://localhost:8080/"
        },
        "outputId": "6205999c-8b23-4572-fab7-ddf5b8c54e5f"
      },
      "outputs": [
        {
          "output_type": "execute_result",
          "data": {
            "text/plain": [
              "array([[44410.,  5712., 37123.,     0., 25757.],\n",
              "       [ 2003.,  1991.,  1990.,  2019.,  2006.]])"
            ]
          },
          "metadata": {},
          "execution_count": 246
        }
      ],
      "source": [
        "datos"
      ]
    },
    {
      "cell_type": "code",
      "execution_count": null,
      "metadata": {
        "id": "jIQU2ugKltpP",
        "colab": {
          "base_uri": "https://localhost:8080/"
        },
        "outputId": "c8b21ece-cb90-474b-9a95-f76dd075ba3b"
      },
      "outputs": [
        {
          "output_type": "execute_result",
          "data": {
            "text/plain": [
              "(2, 5)"
            ]
          },
          "metadata": {},
          "execution_count": 247
        }
      ],
      "source": [
        "datos.shape"
      ]
    },
    {
      "cell_type": "markdown",
      "metadata": {
        "id": "dsgz-E5ZltpP"
      },
      "source": [
        "![1410-img01.png](https://caelum-online-public.s3.amazonaws.com/1410-pythondatascience/01/1410-img01.png)"
      ]
    },
    {
      "cell_type": "code",
      "execution_count": null,
      "metadata": {
        "id": "imANn6HultpQ",
        "colab": {
          "base_uri": "https://localhost:8080/"
        },
        "outputId": "18741f45-7ded-406f-ef98-415cb341807e"
      },
      "outputs": [
        {
          "output_type": "execute_result",
          "data": {
            "text/plain": [
              "array([44410.,  5712., 37123.,     0., 25757.])"
            ]
          },
          "metadata": {},
          "execution_count": 248
        }
      ],
      "source": [
        "datos[0]"
      ]
    },
    {
      "cell_type": "code",
      "execution_count": null,
      "metadata": {
        "id": "Nkp9ljkvltpQ",
        "colab": {
          "base_uri": "https://localhost:8080/"
        },
        "outputId": "90f9bc46-baf1-4512-baf8-29aa2fd8f677"
      },
      "outputs": [
        {
          "output_type": "execute_result",
          "data": {
            "text/plain": [
              "array([2003., 1991., 1990., 2019., 2006.])"
            ]
          },
          "metadata": {},
          "execution_count": 249
        }
      ],
      "source": [
        "datos[1]"
      ]
    },
    {
      "cell_type": "code",
      "execution_count": null,
      "metadata": {
        "id": "njJ2z3HJltpR"
      },
      "outputs": [],
      "source": [
        "#km_media = km / edad (año actual - año fabricacion)\n",
        "km_media = datos[0] / (2020 - datos[1])"
      ]
    },
    {
      "cell_type": "code",
      "source": [
        "km_media"
      ],
      "metadata": {
        "colab": {
          "base_uri": "https://localhost:8080/"
        },
        "id": "7eHHDO6Mi2HX",
        "outputId": "e9bf8366-6353-4399-b658-300e24b49da4"
      },
      "execution_count": null,
      "outputs": [
        {
          "output_type": "execute_result",
          "data": {
            "text/plain": [
              "array([2612.35294118,  196.96551724, 1237.43333333,    0.        ,\n",
              "       1839.78571429])"
            ]
          },
          "metadata": {},
          "execution_count": 252
        }
      ]
    },
    {
      "cell_type": "markdown",
      "metadata": {
        "id": "4CAwtS0-ltpR"
      },
      "source": [
        "# 5.3 Selecciones con arrays Numpy"
      ]
    },
    {
      "cell_type": "markdown",
      "metadata": {
        "id": "QDAT1vODltpS"
      },
      "source": [
        "![1410-img01.png](https://caelum-online-public.s3.amazonaws.com/1410-pythondatascience/01/1410-img01.png)"
      ]
    },
    {
      "cell_type": "code",
      "execution_count": null,
      "metadata": {
        "id": "nZpPGS2TltpS",
        "colab": {
          "base_uri": "https://localhost:8080/"
        },
        "outputId": "d058efef-59c1-4092-9638-7fad8e5a6c7a"
      },
      "outputs": [
        {
          "output_type": "execute_result",
          "data": {
            "text/plain": [
              "array([[44410.,  5712., 37123.,     0., 25757.],\n",
              "       [ 2003.,  1991.,  1990.,  2019.,  2006.]])"
            ]
          },
          "metadata": {},
          "execution_count": 253
        }
      ],
      "source": [
        "datos"
      ]
    },
    {
      "cell_type": "markdown",
      "metadata": {
        "id": "b--BIPcOltpT"
      },
      "source": [
        "![1410-img02.png](https://caelum-online-public.s3.amazonaws.com/1410-pythondatascience/01/1410-img02.png)"
      ]
    },
    {
      "cell_type": "markdown",
      "metadata": {
        "id": "86-hOHa7ltpT"
      },
      "source": [
        "### Indexación\n",
        "\n",
        "<font color=red>**Observación:**</font> La indexación tiene inicio en cero."
      ]
    },
    {
      "cell_type": "code",
      "execution_count": null,
      "metadata": {
        "id": "mr0Q_X0JltpT",
        "colab": {
          "base_uri": "https://localhost:8080/"
        },
        "outputId": "2e8393c1-03a7-4322-b22c-22fdb0a64cc7"
      },
      "outputs": [
        {
          "output_type": "execute_result",
          "data": {
            "text/plain": [
              "array([0, 1, 2, 3, 4, 5, 6, 7, 8, 9])"
            ]
          },
          "metadata": {},
          "execution_count": 254
        }
      ],
      "source": [
        "#para practicarlo usaremos contador\n",
        "contador = np.arange(10)\n",
        "contador"
      ]
    },
    {
      "cell_type": "code",
      "execution_count": null,
      "metadata": {
        "id": "VxiR_IgdltpU",
        "colab": {
          "base_uri": "https://localhost:8080/"
        },
        "outputId": "94f14ab2-b9db-4f86-fd54-4ddba7d7bd33"
      },
      "outputs": [
        {
          "output_type": "execute_result",
          "data": {
            "text/plain": [
              "0"
            ]
          },
          "metadata": {},
          "execution_count": 255
        }
      ],
      "source": [
        "#primer elemento\n",
        "contador[0]"
      ]
    },
    {
      "cell_type": "code",
      "execution_count": null,
      "metadata": {
        "id": "xGDomIyAltpU",
        "colab": {
          "base_uri": "https://localhost:8080/"
        },
        "outputId": "94aa17c0-c720-4c30-b0d9-1f56002c00bf"
      },
      "outputs": [
        {
          "output_type": "execute_result",
          "data": {
            "text/plain": [
              "9"
            ]
          },
          "metadata": {},
          "execution_count": 257
        }
      ],
      "source": [
        "#ultimo elemento\n",
        "contador[9]"
      ]
    },
    {
      "cell_type": "code",
      "execution_count": null,
      "metadata": {
        "id": "QEO5Za5PltpV",
        "colab": {
          "base_uri": "https://localhost:8080/"
        },
        "outputId": "ebfb4d7f-f20a-4a17-a947-93c425c5be1a"
      },
      "outputs": [
        {
          "output_type": "execute_result",
          "data": {
            "text/plain": [
              "9"
            ]
          },
          "metadata": {},
          "execution_count": 258
        }
      ],
      "source": [
        "#ultimo\n",
        "contador[-1]"
      ]
    },
    {
      "cell_type": "code",
      "execution_count": null,
      "metadata": {
        "id": "rvkeMK8KltpV",
        "colab": {
          "base_uri": "https://localhost:8080/"
        },
        "outputId": "5e2a68d0-3e21-4d15-eaef-6f6d7efe71e8"
      },
      "outputs": [
        {
          "output_type": "execute_result",
          "data": {
            "text/plain": [
              "array([44410.,  5712., 37123.,     0., 25757.])"
            ]
          },
          "metadata": {},
          "execution_count": 259
        }
      ],
      "source": [
        "#datos es bidimensional asi q el primer elemento\n",
        "#es una lista de elementos\n",
        "datos[0]"
      ]
    },
    {
      "cell_type": "code",
      "execution_count": null,
      "metadata": {
        "id": "X8c-lJRJltpW",
        "colab": {
          "base_uri": "https://localhost:8080/"
        },
        "outputId": "ef4a2d1f-ada0-41a3-c925-c2f07dcb90d6"
      },
      "outputs": [
        {
          "output_type": "execute_result",
          "data": {
            "text/plain": [
              "44410.0"
            ]
          },
          "metadata": {},
          "execution_count": 260
        }
      ],
      "source": [
        "#para llegar al primer elemento de esa lista entonces\n",
        "datos[0][0]"
      ]
    },
    {
      "cell_type": "code",
      "source": [
        "#el tercer elemento de mi segunda lista\n",
        "datos[1][2]"
      ],
      "metadata": {
        "colab": {
          "base_uri": "https://localhost:8080/"
        },
        "id": "ZiwMg1CRkttJ",
        "outputId": "c92bf691-2801-449c-f2b9-d5fd968fcf4c"
      },
      "execution_count": null,
      "outputs": [
        {
          "output_type": "execute_result",
          "data": {
            "text/plain": [
              "1990.0"
            ]
          },
          "metadata": {},
          "execution_count": 261
        }
      ]
    },
    {
      "cell_type": "markdown",
      "metadata": {
        "id": "fCWUSI1zltpZ"
      },
      "source": [
        "## <font color=green>**Consejo:**</font>\n",
        "### *ndarray[ linea ][ columna ]* o *ndarray[ linea, columna ]*"
      ]
    },
    {
      "cell_type": "code",
      "source": [
        "#  ⬆ aqui vemos las dos formas de escribirlo"
      ],
      "metadata": {
        "id": "iFlTghZIlZL5"
      },
      "execution_count": null,
      "outputs": []
    },
    {
      "cell_type": "code",
      "execution_count": null,
      "metadata": {
        "id": "Nxc3uY-ZltpZ",
        "colab": {
          "base_uri": "https://localhost:8080/"
        },
        "outputId": "c31a7bdf-7b3a-405a-b16a-7135962e3c67"
      },
      "outputs": [
        {
          "output_type": "execute_result",
          "data": {
            "text/plain": [
              "1990.0"
            ]
          },
          "metadata": {},
          "execution_count": 264
        }
      ],
      "source": [
        "#podemos poner el nombre del array q en este caso es datos, la linea q es 1 y la columna q es 2\n",
        "datos[1][2]"
      ]
    },
    {
      "cell_type": "code",
      "execution_count": null,
      "metadata": {
        "id": "xp8ByjualtpZ",
        "colab": {
          "base_uri": "https://localhost:8080/"
        },
        "outputId": "106d9625-855f-4a3d-cdb0-1ba0394be0b9"
      },
      "outputs": [
        {
          "output_type": "execute_result",
          "data": {
            "text/plain": [
              "1990.0"
            ]
          },
          "metadata": {},
          "execution_count": 265
        }
      ],
      "source": [
        "#podemos tambien poner el nombre del\n",
        "#array y con un unico corchete poner\n",
        "#la pocision de la fila, posicion de columna\n",
        "\n",
        "datos[1,2]"
      ]
    },
    {
      "cell_type": "markdown",
      "metadata": {
        "id": "7osmTUC4ltpa"
      },
      "source": [
        " ### Particiones\n",
        "\n",
        "La sintaxis para realizar particiones en un array Numpy es $i : j : k$ donde $i$ es el índice inicial, $j$ es el índice final, y $k$ es el indicador de intervalo ($k\\neq0$)\n",
        "\n",
        "<font color=red>**Observación:**</font> En las particiones (*slices*) el objeto con índice i es **incluído** y el objeto con índice j **no es incluído** en el resultado."
      ]
    },
    {
      "cell_type": "markdown",
      "metadata": {
        "id": "HEx4TbNlltpa"
      },
      "source": [
        "![1410-img01.png](https://caelum-online-public.s3.amazonaws.com/1410-pythondatascience/01/1410-img01.png)"
      ]
    },
    {
      "cell_type": "code",
      "execution_count": null,
      "metadata": {
        "id": "tlaD1SENltpb",
        "colab": {
          "base_uri": "https://localhost:8080/"
        },
        "outputId": "9701c7e7-74de-4fc4-a498-6ff14a066090"
      },
      "outputs": [
        {
          "output_type": "execute_result",
          "data": {
            "text/plain": [
              "array([0, 1, 2, 3, 4, 5, 6, 7, 8, 9])"
            ]
          },
          "metadata": {},
          "execution_count": 266
        }
      ],
      "source": [
        "contador = np.arange(10)\n",
        "contador"
      ]
    },
    {
      "cell_type": "code",
      "execution_count": null,
      "metadata": {
        "id": "vXLIO1cVltpc",
        "colab": {
          "base_uri": "https://localhost:8080/"
        },
        "outputId": "74f04cf4-5466-4242-d3a7-8237c0ac8584"
      },
      "outputs": [
        {
          "output_type": "execute_result",
          "data": {
            "text/plain": [
              "array([1, 2, 3])"
            ]
          },
          "metadata": {},
          "execution_count": 267
        }
      ],
      "source": [
        "#contador es unidimensional\n",
        "#contador[i:j:k]\n",
        "contador[1:4:]"
      ]
    },
    {
      "cell_type": "code",
      "execution_count": null,
      "metadata": {
        "id": "kYLgsQcHltpc",
        "colab": {
          "base_uri": "https://localhost:8080/"
        },
        "outputId": "20ea22ac-06b2-4540-9370-42ca26c60b71"
      },
      "outputs": [
        {
          "output_type": "execute_result",
          "data": {
            "text/plain": [
              "array([1, 3, 5, 7])"
            ]
          },
          "metadata": {},
          "execution_count": 268
        }
      ],
      "source": [
        "contador[1:8:2]"
      ]
    },
    {
      "cell_type": "code",
      "execution_count": null,
      "metadata": {
        "id": "H2MJpIasltpd",
        "colab": {
          "base_uri": "https://localhost:8080/"
        },
        "outputId": "46a02630-1c04-4771-c65f-1bf5cb988b24"
      },
      "outputs": [
        {
          "output_type": "execute_result",
          "data": {
            "text/plain": [
              "array([0, 2, 4, 6, 8])"
            ]
          },
          "metadata": {},
          "execution_count": 269
        }
      ],
      "source": [
        "#aqui dejo los dos indices primeros en blanco\n",
        "# por tanto ira desde el inicio hasta el final\n",
        "#quiero pares y el 0 contara como par, hara salto de 2 en 2\n",
        "contador[::2]"
      ]
    },
    {
      "cell_type": "code",
      "execution_count": null,
      "metadata": {
        "id": "YVzf4fNCltpe",
        "colab": {
          "base_uri": "https://localhost:8080/"
        },
        "outputId": "ea1dcfa8-233a-4c2f-e331-a392b1ccd90c"
      },
      "outputs": [
        {
          "output_type": "execute_result",
          "data": {
            "text/plain": [
              "array([1, 3, 5, 7, 9])"
            ]
          },
          "metadata": {},
          "execution_count": 270
        }
      ],
      "source": [
        "#quiero impares\n",
        "contador[1::2]"
      ]
    },
    {
      "cell_type": "code",
      "execution_count": null,
      "metadata": {
        "id": "bPyQsUFPltpf",
        "colab": {
          "base_uri": "https://localhost:8080/"
        },
        "outputId": "95594714-7bff-4202-f0b0-118e9d6a0e8f"
      },
      "outputs": [
        {
          "output_type": "execute_result",
          "data": {
            "text/plain": [
              "array([[44410.,  5712., 37123.,     0., 25757.],\n",
              "       [ 2003.,  1991.,  1990.,  2019.,  2006.]])"
            ]
          },
          "metadata": {},
          "execution_count": 271
        }
      ],
      "source": [
        "#ARRAY BIDIMENSIONAL\n",
        "datos"
      ]
    },
    {
      "cell_type": "code",
      "execution_count": null,
      "metadata": {
        "id": "IRxfixG-ltpg",
        "colab": {
          "base_uri": "https://localhost:8080/"
        },
        "outputId": "b6a645c4-bd79-418f-ec63-793144f5dab6"
      },
      "outputs": [
        {
          "output_type": "execute_result",
          "data": {
            "text/plain": [
              "array([[ 5712., 37123.],\n",
              "       [ 1991.,  1990.]])"
            ]
          },
          "metadata": {},
          "execution_count": 276
        }
      ],
      "source": [
        "#quiero el segundo ytercer vehiculo, 5712 y 37123,\n",
        "#y quiero sus años correspondientes para ello\n",
        "#quiero todas las lineas y elijo las columnas\n",
        "\n",
        "#recordemos el formato\n",
        "#datos[linea, columna]\n",
        "datos[::, 1:3:]"
      ]
    },
    {
      "cell_type": "code",
      "execution_count": null,
      "metadata": {
        "id": "wfoJ84haltph",
        "colab": {
          "base_uri": "https://localhost:8080/"
        },
        "outputId": "3231fbb8-ec99-43a1-eaae-7dba1b24aff3"
      },
      "outputs": [
        {
          "output_type": "execute_result",
          "data": {
            "text/plain": [
              "array([ 5712., 37123.])"
            ]
          },
          "metadata": {},
          "execution_count": 277
        }
      ],
      "source": [
        "#calcular el km promedio de ambos vehículos\n",
        "#km recorrido / edad del vehiculo (año actual - año fabricacion)\n",
        "\n",
        "#usaremos el anterior corte como base\n",
        "#aqui pedire q del corte anterior me traiga solo la primer\n",
        "#linea q es el km recorrido\n",
        "\n",
        "#recordemos el formato\n",
        "#datos[linea, columna][linea ó dimensión a la que quiero aplicarla]\n",
        "#aqui obtendremos el km recorrido de cada vehículo\n",
        "datos[::, 1:3:][0]"
      ]
    },
    {
      "cell_type": "code",
      "execution_count": null,
      "metadata": {
        "id": "UeejSXUAltph",
        "colab": {
          "base_uri": "https://localhost:8080/"
        },
        "outputId": "63db2af7-5316-451a-e2f4-d81090a52c44"
      },
      "outputs": [
        {
          "output_type": "execute_result",
          "data": {
            "text/plain": [
              "array([1991., 1990.])"
            ]
          },
          "metadata": {},
          "execution_count": 278
        }
      ],
      "source": [
        "#y la segunda linea sera el año de fabricación\n",
        "datos[::, 1:3:][1]"
      ]
    },
    {
      "cell_type": "code",
      "source": [
        "#calculamos el km_promedio\n",
        "#km recorrido / edad del vehiculo (año actual - año fabricacion)\n",
        "km_promedio = datos[::, 1:3:][0] / (2020 - datos[::, 1:3:][1])\n",
        "km_promedio"
      ],
      "metadata": {
        "colab": {
          "base_uri": "https://localhost:8080/"
        },
        "id": "JD3Fv3lEx-dT",
        "outputId": "89ec7568-e197-465b-d8ff-684b3c2c8ed8"
      },
      "execution_count": null,
      "outputs": [
        {
          "output_type": "execute_result",
          "data": {
            "text/plain": [
              "array([ 196.96551724, 1237.43333333])"
            ]
          },
          "metadata": {},
          "execution_count": 279
        }
      ]
    },
    {
      "cell_type": "code",
      "source": [
        "#comprobamos haciendo el mismo calculo para todos los vehiculos\n",
        "\n",
        "datos[0] / (2020 - datos[1])"
      ],
      "metadata": {
        "colab": {
          "base_uri": "https://localhost:8080/"
        },
        "id": "EZ7skqkzyYSt",
        "outputId": "2c5767c0-ad5e-4038-e81c-d67c5f40d2ca"
      },
      "execution_count": null,
      "outputs": [
        {
          "output_type": "execute_result",
          "data": {
            "text/plain": [
              "array([2612.35294118,  196.96551724, 1237.43333333,    0.        ,\n",
              "       1839.78571429])"
            ]
          },
          "metadata": {},
          "execution_count": 281
        }
      ]
    },
    {
      "cell_type": "markdown",
      "metadata": {
        "id": "-fW4EXIqltpi"
      },
      "source": [
        "### Indexación con array booleano\n",
        "\n",
        "<font color=red>**Observación:**</font> Selecciona un grupo de líneas y columnas siguiendo las etiquetas o un array booleano."
      ]
    },
    {
      "cell_type": "code",
      "execution_count": null,
      "metadata": {
        "id": "MgmH-rCSltpi",
        "colab": {
          "base_uri": "https://localhost:8080/"
        },
        "outputId": "f7f91a55-3597-48d1-8739-339faa82c92b"
      },
      "outputs": [
        {
          "output_type": "execute_result",
          "data": {
            "text/plain": [
              "array([0, 1, 2, 3, 4, 5, 6, 7, 8, 9])"
            ]
          },
          "metadata": {},
          "execution_count": 282
        }
      ],
      "source": [
        "#otra forma de hacer cortes con booleanos\n",
        "\n",
        "contador = np.arange(10)\n",
        "contador"
      ]
    },
    {
      "cell_type": "code",
      "execution_count": null,
      "metadata": {
        "id": "HN1i-BlLltpj",
        "colab": {
          "base_uri": "https://localhost:8080/"
        },
        "outputId": "fe5bb564-8954-44e5-e965-e47b85b6f55e"
      },
      "outputs": [
        {
          "output_type": "execute_result",
          "data": {
            "text/plain": [
              "array([False, False, False, False, False, False,  True,  True,  True,\n",
              "        True])"
            ]
          },
          "metadata": {},
          "execution_count": 284
        }
      ],
      "source": [
        "#aqui quiero seleccionar donde mi contador sea mayor a 5\n",
        "#como respuesta obtendremos valores booleanos\n",
        "#\n",
        "\n",
        "contador > 5"
      ]
    },
    {
      "cell_type": "code",
      "execution_count": null,
      "metadata": {
        "id": "iXJa9tL4ltpj",
        "colab": {
          "base_uri": "https://localhost:8080/"
        },
        "outputId": "13fb0068-6dff-4450-f84a-7716ff12d03c"
      },
      "outputs": [
        {
          "output_type": "execute_result",
          "data": {
            "text/plain": [
              "array([6, 7, 8, 9])"
            ]
          },
          "metadata": {},
          "execution_count": 285
        }
      ],
      "source": [
        "# aqui para seleccionar en vez de [i:j:k] ponemos\n",
        "# aqui quiero cortar solo los valores\n",
        "#que sean mayores a 5 osea q cumplan la condicion\n",
        "#asi q para el corte pondre la codición\n",
        "\n",
        "contador[contador > 5]"
      ]
    },
    {
      "cell_type": "code",
      "execution_count": null,
      "metadata": {
        "id": "54gH6X5eltpk",
        "colab": {
          "base_uri": "https://localhost:8080/"
        },
        "outputId": "d0cabd1c-3010-4581-dc77-d4228ff97c25"
      },
      "outputs": [
        {
          "output_type": "execute_result",
          "data": {
            "text/plain": [
              "array([[44410.,  5712., 37123.,     0., 25757.],\n",
              "       [ 2003.,  1991.,  1990.,  2019.,  2006.]])"
            ]
          },
          "metadata": {},
          "execution_count": 286
        }
      ],
      "source": [
        "datos"
      ]
    },
    {
      "cell_type": "code",
      "execution_count": null,
      "metadata": {
        "id": "F3z6zMELltpk",
        "colab": {
          "base_uri": "https://localhost:8080/"
        },
        "outputId": "4c537460-9c7f-4621-9738-3daf564e5577"
      },
      "outputs": [
        {
          "output_type": "execute_result",
          "data": {
            "text/plain": [
              "array([ True, False, False,  True,  True])"
            ]
          },
          "metadata": {},
          "execution_count": 287
        }
      ],
      "source": [
        "#quiero los vehiculos con año de fabricacion mayor a 2000\n",
        "\n",
        "datos [1] > 2000"
      ]
    },
    {
      "cell_type": "code",
      "execution_count": null,
      "metadata": {
        "id": "pk8A68z1ltpl",
        "colab": {
          "base_uri": "https://localhost:8080/"
        },
        "outputId": "0f35f3e6-9d5c-4835-fcfa-e11c439ee0f3"
      },
      "outputs": [
        {
          "output_type": "execute_result",
          "data": {
            "text/plain": [
              "array([[44410.,     0., 25757.],\n",
              "       [ 2003.,  2019.,  2006.]])"
            ]
          },
          "metadata": {},
          "execution_count": 288
        }
      ],
      "source": [
        "#aplicamos la condicion a todo el array datos\n",
        "#para hacer el corte\n",
        "#datos[linea, columnas]\n",
        "\n",
        "datos[::, datos[1]>2000]"
      ]
    },
    {
      "cell_type": "markdown",
      "metadata": {
        "id": "Acw1DffHltpn"
      },
      "source": [
        "# 5.4 Atributos y métodos de arrays Numpy"
      ]
    },
    {
      "cell_type": "markdown",
      "metadata": {
        "id": "RBnSne6Eltpo"
      },
      "source": [
        "### Atributos\n",
        "\n",
        "https://numpy.org/doc/1.16/reference/arrays.ndarray.html#array-attributes"
      ]
    },
    {
      "cell_type": "code",
      "execution_count": null,
      "metadata": {
        "id": "stjvD6m8ltpo",
        "colab": {
          "base_uri": "https://localhost:8080/"
        },
        "outputId": "6e005451-6458-4672-ebd1-ddc04f8adc36"
      },
      "outputs": [
        {
          "output_type": "execute_result",
          "data": {
            "text/plain": [
              "array([[44410.,  5712., 37123.,     0., 25757.],\n",
              "       [ 2003.,  1991.,  1990.,  2019.,  2006.]])"
            ]
          },
          "metadata": {},
          "execution_count": 289
        }
      ],
      "source": [
        "#los metodos y atributos primero veremos\n",
        "#ATRIBUTOS\n",
        "\n",
        "datos"
      ]
    },
    {
      "cell_type": "markdown",
      "metadata": {
        "id": "uKqPxg2Zltpo"
      },
      "source": [
        "## *ndarray.shape*\n",
        "\n",
        "Devuelve una tupla con las dimensiones del array."
      ]
    },
    {
      "cell_type": "code",
      "execution_count": null,
      "metadata": {
        "id": "gmaZhF04ltpp",
        "colab": {
          "base_uri": "https://localhost:8080/"
        },
        "outputId": "00cae4b8-ac29-4ae4-a043-a27971ab849b"
      },
      "outputs": [
        {
          "output_type": "execute_result",
          "data": {
            "text/plain": [
              "(2, 5)"
            ]
          },
          "metadata": {},
          "execution_count": 290
        }
      ],
      "source": [
        "#filas y columnas\n",
        "datos.shape"
      ]
    },
    {
      "cell_type": "markdown",
      "metadata": {
        "id": "XaY6oXkmltpp"
      },
      "source": [
        "## *ndarray.ndim*\n",
        "\n",
        "Devuelve el número de dimensiones del array."
      ]
    },
    {
      "cell_type": "code",
      "execution_count": null,
      "metadata": {
        "id": "inJ4HDjaltpq",
        "colab": {
          "base_uri": "https://localhost:8080/"
        },
        "outputId": "f9daf198-8fc6-4969-8b24-48e0253919e3"
      },
      "outputs": [
        {
          "output_type": "execute_result",
          "data": {
            "text/plain": [
              "2"
            ]
          },
          "metadata": {},
          "execution_count": 291
        }
      ],
      "source": [
        "# devolvera el numero de dimensiones este es bidimensional asi q tiee n2\n",
        "datos.ndim"
      ]
    },
    {
      "cell_type": "markdown",
      "metadata": {
        "id": "ESgVt5xOltpq"
      },
      "source": [
        "## *ndarray.size*\n",
        "\n",
        "Devuelve el número de elementos del array."
      ]
    },
    {
      "cell_type": "code",
      "execution_count": null,
      "metadata": {
        "id": "BWr4efoiltpq",
        "colab": {
          "base_uri": "https://localhost:8080/"
        },
        "outputId": "e8124682-8b2a-4731-a22c-f2d79df1db4a"
      },
      "outputs": [
        {
          "output_type": "execute_result",
          "data": {
            "text/plain": [
              "10"
            ]
          },
          "metadata": {},
          "execution_count": 293
        }
      ],
      "source": [
        "#aqui datos tiene 10 elementos entre ambas dimensiones\n",
        "datos.size"
      ]
    },
    {
      "cell_type": "markdown",
      "metadata": {
        "id": "Ox8JlBM3ltpr"
      },
      "source": [
        "## *ndarray.dtype*\n",
        "\n",
        "Devuelve el tipo de datos de los elementos del array."
      ]
    },
    {
      "cell_type": "code",
      "execution_count": null,
      "metadata": {
        "id": "npiL84Vfltpu",
        "colab": {
          "base_uri": "https://localhost:8080/"
        },
        "outputId": "6292713d-63c0-4f1a-8d74-c112b4d759c3"
      },
      "outputs": [
        {
          "output_type": "execute_result",
          "data": {
            "text/plain": [
              "dtype('float64')"
            ]
          },
          "metadata": {},
          "execution_count": 294
        }
      ],
      "source": [
        "datos.dtype"
      ]
    },
    {
      "cell_type": "markdown",
      "metadata": {
        "id": "j7uPN16oltpv"
      },
      "source": [
        "## *ndarray.T*\n",
        "\n",
        "Devuelve el array transpuesto, es decir, convierte líneas en columnas y viceversa."
      ]
    },
    {
      "cell_type": "code",
      "execution_count": null,
      "metadata": {
        "id": "bLjrrx56ltpv",
        "colab": {
          "base_uri": "https://localhost:8080/"
        },
        "outputId": "9830db49-8d47-4f80-afe0-62799758f285"
      },
      "outputs": [
        {
          "output_type": "execute_result",
          "data": {
            "text/plain": [
              "array([[44410.,  2003.],\n",
              "       [ 5712.,  1991.],\n",
              "       [37123.,  1990.],\n",
              "       [    0.,  2019.],\n",
              "       [25757.,  2006.]])"
            ]
          },
          "metadata": {},
          "execution_count": 295
        }
      ],
      "source": [
        "#convierte las columnas a filas y viceversa\n",
        "datos.T"
      ]
    },
    {
      "cell_type": "code",
      "execution_count": null,
      "metadata": {
        "id": "5A9SlJQvltpw",
        "colab": {
          "base_uri": "https://localhost:8080/"
        },
        "outputId": "d1362550-f176-4200-be23-d6e4e5b46f03"
      },
      "outputs": [
        {
          "output_type": "execute_result",
          "data": {
            "text/plain": [
              "array([[44410.,  2003.],\n",
              "       [ 5712.,  1991.],\n",
              "       [37123.,  1990.],\n",
              "       [    0.,  2019.],\n",
              "       [25757.,  2006.]])"
            ]
          },
          "metadata": {},
          "execution_count": 296
        }
      ],
      "source": [
        "# hace lo mismo q el T\n",
        "\n",
        "datos.transpose()"
      ]
    },
    {
      "cell_type": "markdown",
      "metadata": {
        "id": "e9r6ryTrltpw"
      },
      "source": [
        "### Métodos\n",
        "\n",
        "https://numpy.org/doc/1.16/reference/arrays.ndarray.html#array-methods"
      ]
    },
    {
      "cell_type": "code",
      "source": [
        "# Atributos son propiedades o caracteristicas\n",
        "#de un array y no necesita () al final\n",
        "\n",
        " #Metodos son como funciones y las funciones necesitan\n",
        " #() porq dentro puede ir un parametro"
      ],
      "metadata": {
        "id": "-UULtTe20TWe"
      },
      "execution_count": null,
      "outputs": []
    },
    {
      "cell_type": "markdown",
      "metadata": {
        "id": "SR9KYy-0ltpw"
      },
      "source": [
        "## *ndarray.tolist()*\n",
        "\n",
        "Devuelve el array como una lista Python."
      ]
    },
    {
      "cell_type": "code",
      "execution_count": null,
      "metadata": {
        "id": "C2aTAwOXltpw",
        "colab": {
          "base_uri": "https://localhost:8080/"
        },
        "outputId": "3604afde-f50f-4d8f-9bab-cf68ec16c934"
      },
      "outputs": [
        {
          "output_type": "execute_result",
          "data": {
            "text/plain": [
              "[[44410.0, 5712.0, 37123.0, 0.0, 25757.0],\n",
              " [2003.0, 1991.0, 1990.0, 2019.0, 2006.0]]"
            ]
          },
          "metadata": {},
          "execution_count": 298
        }
      ],
      "source": [
        "#ya no es un array es una lista\n",
        "datos.tolist()"
      ]
    },
    {
      "cell_type": "markdown",
      "metadata": {
        "id": "bHxcxugPltpx"
      },
      "source": [
        "## *ndarray.reshape(shape[, order])*\n",
        "\n",
        "Devuelve un array que contiene los mismos datos con una nueva forma."
      ]
    },
    {
      "cell_type": "code",
      "execution_count": null,
      "metadata": {
        "id": "lwESxO71ltpx",
        "colab": {
          "base_uri": "https://localhost:8080/"
        },
        "outputId": "44fcd2ef-5944-405c-8c59-59e2784aa0f5"
      },
      "outputs": [
        {
          "output_type": "execute_result",
          "data": {
            "text/plain": [
              "array([0, 1, 2, 3, 4, 5, 6, 7, 8, 9])"
            ]
          },
          "metadata": {},
          "execution_count": 301
        }
      ],
      "source": [
        "#redimensiona el array de otra forma, los organiza de formaa\n",
        "#diferente, para ello puedo darle parámetros a tener en cuenta para\n",
        "#la organización\n",
        "\n",
        "contador = np.arange(10)\n",
        "contador"
      ]
    },
    {
      "cell_type": "code",
      "execution_count": null,
      "metadata": {
        "id": "sh9poyfzltpy",
        "colab": {
          "base_uri": "https://localhost:8080/"
        },
        "outputId": "bcc7d706-1256-4f00-cf61-d72ca326d561"
      },
      "outputs": [
        {
          "output_type": "execute_result",
          "data": {
            "text/plain": [
              "array([[0, 1],\n",
              "       [2, 3],\n",
              "       [4, 5],\n",
              "       [6, 7],\n",
              "       [8, 9]])"
            ]
          },
          "metadata": {},
          "execution_count": 302
        }
      ],
      "source": [
        "#redimensionare mi array y le dare como páramentro la cantidad\n",
        "#de columnas y lineas que quiero q tenga\n",
        "#contador.reshape((linea, columnas))\n",
        "\n",
        "contador.reshape((5, 2))"
      ]
    },
    {
      "cell_type": "code",
      "execution_count": null,
      "metadata": {
        "id": "5332Xu8-ltpy",
        "colab": {
          "base_uri": "https://localhost:8080/"
        },
        "outputId": "98890c38-7255-4f5a-d073-85854393cbaa"
      },
      "outputs": [
        {
          "output_type": "execute_result",
          "data": {
            "text/plain": [
              "array([[0, 1],\n",
              "       [2, 3],\n",
              "       [4, 5],\n",
              "       [6, 7],\n",
              "       [8, 9]])"
            ]
          },
          "metadata": {},
          "execution_count": 303
        }
      ],
      "source": [
        "\n",
        "#yo puedo decrle cómo ordenarse\n",
        "# si le digo 'C', se ordenara segun el lenguaje C\n",
        "\n",
        "contador.reshape((5, 2), order = 'C')"
      ]
    },
    {
      "cell_type": "code",
      "execution_count": null,
      "metadata": {
        "id": "2RoZvbgHltpz",
        "colab": {
          "base_uri": "https://localhost:8080/"
        },
        "outputId": "50cfbaf0-8ed3-46ac-ab97-fdcf6654e224"
      },
      "outputs": [
        {
          "output_type": "execute_result",
          "data": {
            "text/plain": [
              "array([[0, 5],\n",
              "       [1, 6],\n",
              "       [2, 7],\n",
              "       [3, 8],\n",
              "       [4, 9]])"
            ]
          },
          "metadata": {},
          "execution_count": 304
        }
      ],
      "source": [
        "#F es otro lenguaje\n",
        "contador.reshape((5, 2), order = 'F')"
      ]
    },
    {
      "cell_type": "code",
      "source": [
        "#aqui tenemos dos listas"
      ],
      "metadata": {
        "id": "JBUIe0dd2LZM"
      },
      "execution_count": null,
      "outputs": []
    },
    {
      "cell_type": "code",
      "execution_count": null,
      "metadata": {
        "id": "6q0dJZ-dltp0"
      },
      "outputs": [],
      "source": [
        "km = [44410, 5712, 37123, 0, 25757]\n",
        "años = [2003, 1991, 1990, 2019, 2006]"
      ]
    },
    {
      "cell_type": "code",
      "execution_count": null,
      "metadata": {
        "id": "bs56aGrkltp0",
        "colab": {
          "base_uri": "https://localhost:8080/"
        },
        "outputId": "febec885-bc25-4696-a745-e7cce11e18bf"
      },
      "outputs": [
        {
          "output_type": "execute_result",
          "data": {
            "text/plain": [
              "[44410, 5712, 37123, 0, 25757, 2003, 1991, 1990, 2019, 2006]"
            ]
          },
          "metadata": {},
          "execution_count": 307
        }
      ],
      "source": [
        "info_carros = km + años\n",
        "info_carros"
      ]
    },
    {
      "cell_type": "code",
      "execution_count": null,
      "metadata": {
        "id": "s_GkTk2fltp1",
        "colab": {
          "base_uri": "https://localhost:8080/"
        },
        "outputId": "500cde18-3a71-436d-e6e5-4e477f6dc206"
      },
      "outputs": [
        {
          "output_type": "execute_result",
          "data": {
            "text/plain": [
              "array([[44410,  5712, 37123,     0, 25757],\n",
              "       [ 2003,  1991,  1990,  2019,  2006]])"
            ]
          },
          "metadata": {},
          "execution_count": 308
        }
      ],
      "source": [
        "#en la celda anterior ya no se entiende bien en qué\n",
        "#pocision esta qué cosa, esta desordenado, ordenemos con métodos\n",
        "\n",
        "#convierto la lista a un array, y luego la ordeno\n",
        "#y le digo cuántas filas y cuántas columnas quiero\n",
        "\n",
        "np.array(info_carros).reshape((2,5))"
      ]
    },
    {
      "cell_type": "code",
      "execution_count": null,
      "metadata": {
        "id": "vB2zxCDtltp2",
        "colab": {
          "base_uri": "https://localhost:8080/"
        },
        "outputId": "b8c42f2d-dbdf-40cb-84da-091b375e2d9b"
      },
      "outputs": [
        {
          "output_type": "execute_result",
          "data": {
            "text/plain": [
              "array([[44410,  2003],\n",
              "       [ 5712,  1991],\n",
              "       [37123,  1990],\n",
              "       [    0,  2019],\n",
              "       [25757,  2006]])"
            ]
          },
          "metadata": {},
          "execution_count": 309
        }
      ],
      "source": [
        "#quiero q cada vehiculo osea cada columna, cada\n",
        "#info de cada carro este en una fila, asi q quiero\n",
        "# 5 filas 2 columnas\n",
        "# en cada fila la info de un vehiculo\n",
        "\n",
        "np.array(info_carros).reshape((5, 2), order = 'F')\n"
      ]
    },
    {
      "cell_type": "markdown",
      "metadata": {
        "id": "Tdj5iArbltp2"
      },
      "source": [
        "## *ndarray.resize(new_shape[, refcheck])*\n",
        "\n",
        "Cambia la forma y el tamaño del array."
      ]
    },
    {
      "cell_type": "code",
      "execution_count": null,
      "metadata": {
        "id": "IMv0m4Multp2",
        "colab": {
          "base_uri": "https://localhost:8080/"
        },
        "outputId": "9aa05fbc-8270-4a76-b421-f3cf0754bc57"
      },
      "outputs": [
        {
          "output_type": "execute_result",
          "data": {
            "text/plain": [
              "array([[44410.,  5712., 37123.,     0., 25757.],\n",
              "       [ 2003.,  1991.,  1990.,  2019.,  2006.]])"
            ]
          },
          "metadata": {},
          "execution_count": 316
        }
      ],
      "source": [
        "datos_new = datos.copy()\n",
        "datos_new"
      ]
    },
    {
      "cell_type": "code",
      "execution_count": null,
      "metadata": {
        "id": "wpAi9928ltp3",
        "colab": {
          "base_uri": "https://localhost:8080/",
          "height": 35
        },
        "outputId": "129afd9e-18ba-4a6b-f805-ea2073f3f1a0"
      },
      "outputs": [
        {
          "output_type": "execute_result",
          "data": {
            "text/plain": [
              "'datos_new.resize((3, 5))'"
            ],
            "application/vnd.google.colaboratory.intrinsic+json": {
              "type": "string"
            }
          },
          "metadata": {},
          "execution_count": 317
        }
      ],
      "source": [
        "#cabiaremos el tamañao del datos\n",
        "\n",
        "'''datos_new.resize((3, 5))'''  #ups aqui da error.\n",
        "\n",
        "#el error noa indica q apesar de haber hecho una copia\n",
        " # existe una referencia al original y no podemos modificar,\n",
        " #la solucion q se nos plantea es renunciar a la referencia con\n",
        " #refcheck=False"
      ]
    },
    {
      "cell_type": "code",
      "execution_count": null,
      "metadata": {
        "id": "CJyuKqaFltp3"
      },
      "outputs": [],
      "source": [
        "datos_new.resize((3, 5), refcheck=False)\n"
      ]
    },
    {
      "cell_type": "code",
      "source": [
        "datos_new"
      ],
      "metadata": {
        "colab": {
          "base_uri": "https://localhost:8080/"
        },
        "id": "hG8t6-dwv-Mh",
        "outputId": "b2fc05bb-2226-4311-9eaa-7a30ae411ca9"
      },
      "execution_count": null,
      "outputs": [
        {
          "output_type": "execute_result",
          "data": {
            "text/plain": [
              "array([[44410.,  5712., 37123.,     0., 25757.],\n",
              "       [ 2003.,  1991.,  1990.,  2019.,  2006.],\n",
              "       [    0.,     0.,     0.,     0.,     0.]])"
            ]
          },
          "metadata": {},
          "execution_count": 319
        }
      ]
    },
    {
      "cell_type": "code",
      "execution_count": null,
      "metadata": {
        "id": "bj_iPZAultp4"
      },
      "outputs": [],
      "source": [
        "#aqui ya tenemmos incluso la tercer fila, aunque está\n",
        "#en ceros pero ya esta hecha la tercer linea de datos_new\n",
        "#ahora queremos llenar esa fila con el dato de\n",
        "#km_promedio\n",
        "\n",
        "datos_new[2] = datos_new[0] / (2020 - datos[1])"
      ]
    },
    {
      "cell_type": "code",
      "source": [
        "datos_new"
      ],
      "metadata": {
        "id": "xZ5ZZUFTx8NP",
        "outputId": "4ca56766-dad1-46c4-c393-a9c1b62abe0c",
        "colab": {
          "base_uri": "https://localhost:8080/"
        }
      },
      "execution_count": null,
      "outputs": [
        {
          "output_type": "execute_result",
          "data": {
            "text/plain": [
              "array([[44410.        ,  5712.        , 37123.        ,     0.        ,\n",
              "        25757.        ],\n",
              "       [ 2003.        ,  1991.        ,  1990.        ,  2019.        ,\n",
              "         2006.        ],\n",
              "       [ 2612.35294118,   196.96551724,  1237.43333333,     0.        ,\n",
              "         1839.78571429]])"
            ]
          },
          "metadata": {},
          "execution_count": 321
        }
      ]
    },
    {
      "cell_type": "markdown",
      "metadata": {
        "id": "GPSk7Q_Dltp4"
      },
      "source": [
        "# 5.5 Estadísticas con arrays Numpy\n",
        "\n",
        "https://numpy.org/doc/1.16/reference/arrays.ndarray.html#calculation\n",
        "\n",
        "y\n",
        "\n",
        "https://numpy.org/doc/1.16/reference/routines.statistics.html\n",
        "\n",
        "y\n",
        "\n",
        "https://numpy.org/doc/1.16/reference/routines.math.html"
      ]
    },
    {
      "cell_type": "code",
      "execution_count": null,
      "metadata": {
        "id": "RH2u1orXltp5"
      },
      "outputs": [],
      "source": [
        "años = np.loadtxt(fname = \"/content/carros-años.txt\", dtype = int)\n",
        "km = np.loadtxt(fname = \"carros-km.txt\")\n",
        "valor = np.loadtxt(fname = \"carros-valor.txt\")"
      ]
    },
    {
      "cell_type": "code",
      "source": [
        "años.shape"
      ],
      "metadata": {
        "colab": {
          "base_uri": "https://localhost:8080/"
        },
        "id": "gug6DiEJAkGl",
        "outputId": "dd4cb264-1a36-4ae6-b9d1-d170b803ba78"
      },
      "execution_count": null,
      "outputs": [
        {
          "output_type": "execute_result",
          "data": {
            "text/plain": [
              "(258,)"
            ]
          },
          "metadata": {},
          "execution_count": 323
        }
      ]
    },
    {
      "cell_type": "code",
      "execution_count": null,
      "metadata": {
        "id": "wefxl-XBltp8"
      },
      "outputs": [],
      "source": [
        "#años es de una sola dimension pero para\n",
        "#hacer calculos estadisticos neccesito  un array de mas de 1 dimension\n",
        "#concatenaremos, para hacer un array de varias dimensiones\n",
        "#pero que este organizado"
      ]
    },
    {
      "cell_type": "markdown",
      "metadata": {
        "id": "U_x3SOVDltp7"
      },
      "source": [
        "https://numpy.org/doc/1.16/reference/generated/numpy.column_stack.html"
      ]
    },
    {
      "cell_type": "code",
      "execution_count": null,
      "metadata": {
        "id": "OzDTTmj8ltp_",
        "scrolled": true,
        "colab": {
          "base_uri": "https://localhost:8080/"
        },
        "collapsed": true,
        "outputId": "31c4c068-4253-4046-bbf3-f263c49f7fde"
      },
      "outputs": [
        {
          "output_type": "execute_result",
          "data": {
            "text/plain": [
              "array([[2.0030000e+03, 4.4410000e+04, 8.8078640e+04],\n",
              "       [1.9910000e+03, 5.7120000e+03, 1.0616194e+05],\n",
              "       [1.9900000e+03, 3.7123000e+04, 7.2832160e+04],\n",
              "       [2.0200000e+03, 0.0000000e+00, 1.2454907e+05],\n",
              "       [2.0060000e+03, 2.5757000e+04, 9.2612100e+04],\n",
              "       [2.0120000e+03, 1.0728000e+04, 9.7497730e+04],\n",
              "       [2.0200000e+03, 0.0000000e+00, 5.6445200e+04],\n",
              "       [2.0090000e+03, 7.7599000e+04, 1.1231044e+05],\n",
              "       [2.0100000e+03, 9.9197000e+04, 1.2071627e+05],\n",
              "       [2.0110000e+03, 3.7978000e+04, 7.6566490e+04],\n",
              "       [2.0020000e+03, 1.2859000e+04, 7.1647590e+04],\n",
              "       [2.0070000e+03, 8.0520000e+03, 7.3919530e+04],\n",
              "       [2.0010000e+03, 8.9773000e+04, 1.1273299e+05],\n",
              "       [2.0200000e+03, 0.0000000e+00, 5.3183380e+04],\n",
              "       [2.0090000e+03, 4.1457000e+04, 1.2748842e+05],\n",
              "       [2.0160000e+03, 1.1560700e+05, 5.9910400e+04],\n",
              "       [2.0120000e+03, 4.6449000e+04, 6.1118590e+04],\n",
              "       [2.0200000e+03, 0.0000000e+00, 8.8552390e+04],\n",
              "       [2.0160000e+03, 3.7086000e+04, 6.2696690e+04],\n",
              "       [2.0170000e+03, 1.5173000e+04, 1.0172630e+05],\n",
              "       [2.0020000e+03, 1.0119300e+05, 1.0614738e+05],\n",
              "       [2.0200000e+03, 0.0000000e+00, 9.4564400e+04],\n",
              "       [1.9940000e+03, 9.8079000e+04, 1.3352984e+05],\n",
              "       [1.9910000e+03, 1.0295900e+05, 1.2568465e+05],\n",
              "       [2.0200000e+03, 0.0000000e+00, 1.2159621e+05],\n",
              "       [2.0200000e+03, 0.0000000e+00, 7.1367100e+04],\n",
              "       [2.0160000e+03, 5.7950000e+03, 9.5347750e+04],\n",
              "       [2.0200000e+03, 0.0000000e+00, 1.0543284e+05],\n",
              "       [2.0020000e+03, 5.8848000e+04, 5.7045270e+04],\n",
              "       [1.9910000e+03, 9.4381000e+04, 1.2043270e+05],\n",
              "       [1.9970000e+03, 3.0163000e+04, 7.0707200e+04],\n",
              "       [1.9950000e+03, 5.3332000e+04, 6.9105180e+04],\n",
              "       [2.0180000e+03, 1.7720000e+04, 5.9358690e+04],\n",
              "       [1.9910000e+03, 3.3808000e+04, 6.5955400e+04],\n",
              "       [2.0140000e+03, 9.0684000e+04, 6.0017030e+04],\n",
              "       [1.9950000e+03, 4.3975000e+04, 1.1890952e+05],\n",
              "       [2.0200000e+03, 0.0000000e+00, 5.1606590e+04],\n",
              "       [2.0200000e+03, 0.0000000e+00, 1.2328187e+05],\n",
              "       [2.0090000e+03, 5.5260000e+03, 6.9770180e+04],\n",
              "       [2.0200000e+03, 0.0000000e+00, 1.0260954e+05],\n",
              "       [2.0130000e+03, 9.3415000e+04, 6.7997190e+04],\n",
              "       [2.0030000e+03, 4.0762000e+04, 1.3523529e+05],\n",
              "       [2.0200000e+03, 0.0000000e+00, 8.6641340e+04],\n",
              "       [2.0020000e+03, 8.6302000e+04, 1.3681839e+05],\n",
              "       [2.0200000e+03, 0.0000000e+00, 1.1762673e+05],\n",
              "       [2.0020000e+03, 9.7550000e+03, 5.6208700e+04],\n",
              "       [2.0040000e+03, 6.9945000e+04, 8.4222650e+04],\n",
              "       [2.0010000e+03, 2.3950000e+03, 9.0781650e+04],\n",
              "       [2.0200000e+03, 0.0000000e+00, 6.4701100e+04],\n",
              "       [2.0030000e+03, 8.0349000e+04, 1.2635049e+05],\n",
              "       [2.0090000e+03, 8.5554000e+04, 1.4815289e+05],\n",
              "       [2.0060000e+03, 5.0496000e+04, 1.3229883e+05],\n",
              "       [2.0000000e+03, 6.7716000e+04, 1.3762763e+05],\n",
              "       [2.0060000e+03, 9.3947000e+04, 8.0422710e+04],\n",
              "       [2.0100000e+03, 3.5345000e+04, 5.6373990e+04],\n",
              "       [1.9940000e+03, 8.1007000e+04, 7.0846030e+04],\n",
              "       [2.0070000e+03, 1.1951300e+05, 1.2869423e+05],\n",
              "       [2.0200000e+03, 0.0000000e+00, 1.3332919e+05],\n",
              "       [2.0200000e+03, 0.0000000e+00, 1.3196143e+05],\n",
              "       [2.0200000e+03, 0.0000000e+00, 1.1203327e+05],\n",
              "       [2.0200000e+03, 0.0000000e+00, 8.1399350e+04],\n",
              "       [2.0200000e+03, 0.0000000e+00, 9.7163100e+04],\n",
              "       [2.0170000e+03, 1.1889500e+05, 6.6007160e+04],\n",
              "       [2.0110000e+03, 4.8509000e+04, 1.2877622e+05],\n",
              "       [2.0010000e+03, 1.0091200e+05, 1.4262302e+05],\n",
              "       [1.9960000e+03, 9.5649000e+04, 1.3693013e+05],\n",
              "       [2.0200000e+03, 0.0000000e+00, 6.6526610e+04],\n",
              "       [1.9940000e+03, 9.0495000e+04, 1.1415487e+05],\n",
              "       [2.0200000e+03, 0.0000000e+00, 1.4239275e+05],\n",
              "       [2.0070000e+03, 2.9132000e+04, 1.4671691e+05],\n",
              "       [1.9940000e+03, 2.3802000e+04, 1.2248568e+05],\n",
              "       [2.0070000e+03, 8.4992000e+04, 9.7951030e+04],\n",
              "       [1.9970000e+03, 5.4395000e+04, 7.8283490e+04],\n",
              "       [2.0060000e+03, 2.6731000e+04, 8.3434040e+04],\n",
              "       [2.0130000e+03, 4.4329000e+04, 7.7836230e+04],\n",
              "       [1.9940000e+03, 1.1823600e+05, 6.0813920e+04],\n",
              "       [2.0080000e+03, 1.1380800e+05, 9.1353860e+04],\n",
              "       [2.0080000e+03, 6.1000000e+02, 1.1628121e+05],\n",
              "       [2.0200000e+03, 0.0000000e+00, 1.4519770e+05],\n",
              "       [2.0200000e+03, 0.0000000e+00, 5.0742100e+04],\n",
              "       [1.9990000e+03, 1.2887000e+04, 7.3033530e+04],\n",
              "       [2.0070000e+03, 7.9607000e+04, 5.4332870e+04],\n",
              "       [1.9930000e+03, 9.0924000e+04, 5.2207450e+04],\n",
              "       [1.9950000e+03, 4.2733000e+04, 6.3578500e+04],\n",
              "       [2.0200000e+03, 0.0000000e+00, 6.4507720e+04],\n",
              "       [2.0200000e+03, 0.0000000e+00, 1.1507559e+05],\n",
              "       [2.0160000e+03, 1.1771400e+05, 1.3303060e+05],\n",
              "       [2.0110000e+03, 1.1388500e+05, 1.4159186e+05],\n",
              "       [2.0200000e+03, 0.0000000e+00, 1.0038028e+05],\n",
              "       [2.0020000e+03, 3.0511000e+04, 9.6369040e+04],\n",
              "       [2.0130000e+03, 7.4867000e+04, 1.4260384e+05],\n",
              "       [2.0170000e+03, 1.1976000e+05, 1.1770967e+05],\n",
              "       [2.0160000e+03, 8.3560000e+03, 1.0224154e+05],\n",
              "       [2.0080000e+03, 6.4247000e+04, 9.6065380e+04],\n",
              "       [2.0180000e+03, 8.8661000e+04, 5.3894610e+04],\n",
              "       [2.0030000e+03, 4.5390000e+03, 1.2391178e+05],\n",
              "       [2.0030000e+03, 1.1011600e+05, 1.0199635e+05],\n",
              "       [2.0040000e+03, 3.3215000e+04, 8.3431660e+04],\n",
              "       [2.0100000e+03, 9.2001000e+04, 1.2297563e+05],\n",
              "       [2.0200000e+03, 0.0000000e+00, 9.3227730e+04],\n",
              "       [2.0060000e+03, 8.1708000e+04, 5.8762650e+04],\n",
              "       [2.0010000e+03, 7.0641000e+04, 1.3954967e+05],\n",
              "       [2.0200000e+03, 0.0000000e+00, 1.2201642e+05],\n",
              "       [2.0150000e+03, 9.1277000e+04, 7.2731980e+04],\n",
              "       [2.0180000e+03, 2.6544000e+04, 8.8416540e+04],\n",
              "       [2.0170000e+03, 5.2596000e+04, 7.3873420e+04],\n",
              "       [1.9920000e+03, 4.7503000e+04, 7.0709340e+04],\n",
              "       [2.0010000e+03, 8.9056000e+04, 1.1530650e+05],\n",
              "       [1.9930000e+03, 2.8834000e+04, 5.5924630e+04],\n",
              "       [1.9950000e+03, 1.1056400e+05, 8.5052260e+04],\n",
              "       [2.0030000e+03, 5.6638000e+04, 5.6646340e+04],\n",
              "       [2.0140000e+03, 1.7357000e+04, 1.3894688e+05],\n",
              "       [2.0080000e+03, 7.4015000e+04, 1.0825672e+05],\n",
              "       [2.0130000e+03, 1.5196000e+04, 5.8979300e+04],\n",
              "       [2.0200000e+03, 0.0000000e+00, 1.1472768e+05],\n",
              "       [2.0170000e+03, 1.0821000e+04, 1.3966148e+05],\n",
              "       [2.0200000e+03, 0.0000000e+00, 8.0382240e+04],\n",
              "       [2.0200000e+03, 0.0000000e+00, 1.4915717e+05],\n",
              "       [2.0060000e+03, 9.5950000e+03, 8.7830410e+04],\n",
              "       [2.0150000e+03, 9.9052000e+04, 1.4356822e+05],\n",
              "       [2.0070000e+03, 5.2389000e+04, 1.3817185e+05],\n",
              "       [2.0050000e+03, 1.1994500e+05, 1.1578495e+05],\n",
              "       [2.0170000e+03, 9.6005000e+04, 1.4650899e+05],\n",
              "       [1.9980000e+03, 3.1639000e+04, 1.3767023e+05],\n",
              "       [2.0200000e+03, 0.0000000e+00, 1.3859727e+05],\n",
              "       [1.9990000e+03, 8.0187000e+04, 1.4762781e+05],\n",
              "       [2.0200000e+03, 0.0000000e+00, 6.2999020e+04],\n",
              "       [2.0090000e+03, 5.8212000e+04, 9.1242440e+04],\n",
              "       [2.0030000e+03, 6.1672000e+04, 1.4948992e+05],\n",
              "       [1.9940000e+03, 3.2017000e+04, 6.3529950e+04],\n",
              "       [2.0200000e+03, 0.0000000e+00, 5.8525410e+04],\n",
              "       [1.9940000e+03, 5.6944000e+04, 9.0345050e+04],\n",
              "       [2.0200000e+03, 0.0000000e+00, 1.4777087e+05],\n",
              "       [2.0150000e+03, 8.6519000e+04, 1.0661771e+05],\n",
              "       [1.9960000e+03, 4.8210000e+03, 1.0492988e+05],\n",
              "       [1.9970000e+03, 1.0102500e+05, 1.0071245e+05],\n",
              "       [1.9930000e+03, 3.0705000e+04, 1.4198293e+05],\n",
              "       [2.0200000e+03, 0.0000000e+00, 1.0403879e+05],\n",
              "       [1.9920000e+03, 3.2555000e+04, 8.8501540e+04],\n",
              "       [1.9950000e+03, 1.0338900e+05, 7.9782020e+04],\n",
              "       [2.0200000e+03, 0.0000000e+00, 8.6224100e+04],\n",
              "       [1.9900000e+03, 5.5289000e+04, 1.0359618e+05],\n",
              "       [2.0200000e+03, 0.0000000e+00, 1.4899647e+05],\n",
              "       [2.0200000e+03, 0.0000000e+00, 6.0948010e+04],\n",
              "       [1.9910000e+03, 1.1593000e+05, 6.9535440e+04],\n",
              "       [1.9900000e+03, 6.6437000e+04, 1.1113033e+05],\n",
              "       [2.0120000e+03, 9.6800000e+04, 6.5847690e+04],\n",
              "       [2.0070000e+03, 1.4237000e+04, 7.8096060e+04],\n",
              "       [2.0130000e+03, 1.9896000e+04, 6.9219890e+04],\n",
              "       [2.0000000e+03, 1.1304500e+05, 1.4411891e+05],\n",
              "       [2.0020000e+03, 1.1494200e+05, 7.7397050e+04],\n",
              "       [1.9960000e+03, 3.1730000e+03, 6.8974250e+04],\n",
              "       [1.9960000e+03, 8.3611000e+04, 1.2523130e+05],\n",
              "       [2.0150000e+03, 2.5356000e+04, 8.5501120e+04],\n",
              "       [1.9930000e+03, 8.8634000e+04, 1.3711621e+05],\n",
              "       [2.0130000e+03, 2.3140000e+03, 1.3882381e+05],\n",
              "       [2.0130000e+03, 2.6270000e+03, 1.1796195e+05],\n",
              "       [2.0090000e+03, 5.2034000e+04, 1.3266232e+05],\n",
              "       [2.0200000e+03, 0.0000000e+00, 1.4640579e+05],\n",
              "       [2.0200000e+03, 0.0000000e+00, 8.1999210e+04],\n",
              "       [2.0020000e+03, 7.9577000e+04, 1.4093460e+05],\n",
              "       [1.9970000e+03, 1.0820100e+05, 8.2366810e+04],\n",
              "       [1.9980000e+03, 7.6453000e+04, 7.0424110e+04],\n",
              "       [2.0040000e+03, 5.7683000e+04, 5.3620310e+04],\n",
              "       [1.9960000e+03, 9.6610000e+04, 7.3389180e+04],\n",
              "       [2.0150000e+03, 1.0900100e+05, 1.1161812e+05],\n",
              "       [2.0160000e+03, 2.6212000e+04, 1.1218737e+05],\n",
              "       [2.0050000e+03, 4.5971000e+04, 1.2081257e+05],\n",
              "       [1.9990000e+03, 4.9182000e+04, 1.1603104e+05],\n",
              "       [1.9950000e+03, 4.9907000e+04, 1.2539811e+05],\n",
              "       [1.9930000e+03, 3.8620000e+04, 7.6101470e+04],\n",
              "       [2.0040000e+03, 6.0996000e+04, 7.5263240e+04],\n",
              "       [2.0130000e+03, 7.3914000e+04, 1.4738776e+05],\n",
              "       [1.9980000e+03, 1.0739200e+05, 8.5311400e+04],\n",
              "       [2.0180000e+03, 9.1460000e+03, 5.4388110e+04],\n",
              "       [2.0200000e+03, 0.0000000e+00, 1.2415665e+05],\n",
              "       [2.0180000e+03, 1.7924000e+04, 1.4620334e+05],\n",
              "       [2.0200000e+03, 0.0000000e+00, 5.6453940e+04],\n",
              "       [1.9900000e+03, 1.1694900e+05, 6.8873790e+04],\n",
              "       [2.0090000e+03, 2.0476000e+04, 9.1667610e+04],\n",
              "       [1.9900000e+03, 5.2804000e+04, 9.3776520e+04],\n",
              "       [2.0060000e+03, 8.8490000e+03, 6.6433820e+04],\n",
              "       [2.0020000e+03, 9.1724000e+04, 1.0905927e+05],\n",
              "       [1.9910000e+03, 3.2056000e+04, 1.2206997e+05],\n",
              "       [1.9920000e+03, 7.4886000e+04, 1.1309032e+05],\n",
              "       [2.0200000e+03, 0.0000000e+00, 8.9401100e+04],\n",
              "       [2.0200000e+03, 0.0000000e+00, 5.6842790e+04],\n",
              "       [2.0050000e+03, 5.2189000e+04, 1.4667671e+05],\n",
              "       [2.0100000e+03, 8.3559000e+04, 8.9511960e+04],\n",
              "       [2.0200000e+03, 0.0000000e+00, 9.7290180e+04],\n",
              "       [2.0160000e+03, 2.0328000e+04, 1.2067356e+05],\n",
              "       [2.0200000e+03, 0.0000000e+00, 1.1443494e+05],\n",
              "       [2.0100000e+03, 7.5577000e+04, 1.3954669e+05],\n",
              "       [1.9940000e+03, 3.3659000e+04, 9.5078160e+04],\n",
              "       [2.0010000e+03, 1.0434100e+05, 6.8091770e+04],\n",
              "       [2.0140000e+03, 2.5510000e+04, 6.1496970e+04],\n",
              "       [1.9960000e+03, 1.8965000e+04, 1.3966930e+05],\n",
              "       [1.9930000e+03, 8.7161000e+04, 8.0661390e+04],\n",
              "       [1.9930000e+03, 6.6520000e+03, 6.1783650e+04],\n",
              "       [2.0010000e+03, 5.5738000e+04, 5.2805910e+04],\n",
              "       [2.0200000e+03, 0.0000000e+00, 1.2702475e+05],\n",
              "       [2.0200000e+03, 0.0000000e+00, 1.3554300e+05],\n",
              "       [2.0200000e+03, 0.0000000e+00, 1.2170873e+05],\n",
              "       [2.0070000e+03, 6.4320000e+04, 1.0734268e+05],\n",
              "       [2.0200000e+03, 0.0000000e+00, 5.7888100e+04],\n",
              "       [2.0160000e+03, 6.8678000e+04, 1.1816148e+05],\n",
              "       [2.0140000e+03, 7.1697000e+04, 1.4249906e+05],\n",
              "       [2.0200000e+03, 0.0000000e+00, 1.2839611e+05],\n",
              "       [2.0150000e+03, 3.4783000e+04, 1.1235061e+05],\n",
              "       [2.0150000e+03, 3.3772000e+04, 1.2466138e+05],\n",
              "       [1.9960000e+03, 8.5127000e+04, 5.4263160e+04],\n",
              "       [2.0020000e+03, 1.3606000e+04, 6.2041320e+04],\n",
              "       [2.0050000e+03, 3.5647000e+04, 1.2929611e+05],\n",
              "       [1.9950000e+03, 9.5128000e+04, 6.0998330e+04],\n",
              "       [1.9990000e+03, 1.4046000e+04, 5.8008500e+04],\n",
              "       [2.0050000e+03, 4.1194000e+04, 8.2304190e+04],\n",
              "       [2.0200000e+03, 0.0000000e+00, 1.1453174e+05],\n",
              "       [1.9970000e+03, 9.6100000e+04, 1.2856561e+05],\n",
              "       [1.9900000e+03, 1.0390000e+05, 1.2648826e+05],\n",
              "       [2.0010000e+03, 4.3814000e+04, 1.1907455e+05],\n",
              "       [2.0130000e+03, 2.4638000e+04, 1.3023804e+05],\n",
              "       [2.0200000e+03, 0.0000000e+00, 1.1576017e+05],\n",
              "       [2.0170000e+03, 1.1096600e+05, 1.2124800e+05],\n",
              "       [2.0110000e+03, 1.5987000e+04, 9.8156350e+04],\n",
              "       [2.0050000e+03, 5.3369000e+04, 1.1214680e+05],\n",
              "       [2.0070000e+03, 1.0077000e+04, 1.0272963e+05],\n",
              "       [1.9930000e+03, 7.1544000e+04, 1.4108335e+05],\n",
              "       [1.9910000e+03, 1.0700000e+02, 1.0296876e+05],\n",
              "       [1.9910000e+03, 8.3940000e+03, 7.6310010e+04],\n",
              "       [1.9970000e+03, 4.1498000e+04, 1.2048174e+05],\n",
              "       [2.0000000e+03, 1.1600200e+05, 5.4559180e+04],\n",
              "       [2.0070000e+03, 1.0085800e+05, 9.2957640e+04],\n",
              "       [2.0060000e+03, 6.7475000e+04, 1.2781006e+05],\n",
              "       [2.0150000e+03, 8.4970000e+03, 7.3311750e+04],\n",
              "       [2.0080000e+03, 4.4200000e+03, 6.5138030e+04],\n",
              "       [2.0200000e+03, 0.0000000e+00, 9.0141470e+04],\n",
              "       [1.9960000e+03, 5.8537000e+04, 7.1160360e+04],\n",
              "       [2.0200000e+03, 0.0000000e+00, 6.7539790e+04],\n",
              "       [2.0200000e+03, 0.0000000e+00, 6.7664860e+04],\n",
              "       [2.0140000e+03, 1.1201600e+05, 6.8652160e+04],\n",
              "       [2.0040000e+03, 9.1840000e+04, 1.1472874e+05],\n",
              "       [2.0080000e+03, 1.1278700e+05, 1.4164508e+05],\n",
              "       [2.0200000e+03, 0.0000000e+00, 1.2624784e+05],\n",
              "       [2.0200000e+03, 0.0000000e+00, 1.2885221e+05],\n",
              "       [2.0120000e+03, 9.2930000e+03, 1.3238476e+05],\n",
              "       [2.0200000e+03, 0.0000000e+00, 1.2941533e+05],\n",
              "       [1.9960000e+03, 5.5083000e+04, 8.9536820e+04],\n",
              "       [2.0110000e+03, 4.8796000e+04, 8.7975300e+04],\n",
              "       [2.0200000e+03, 0.0000000e+00, 7.7675790e+04],\n",
              "       [2.0100000e+03, 8.9685000e+04, 5.8881670e+04],\n",
              "       [2.0070000e+03, 8.5384000e+04, 5.5081990e+04],\n",
              "       [1.9940000e+03, 9.8108000e+04, 1.1882644e+05],\n",
              "       [2.0070000e+03, 7.1280000e+04, 1.3762762e+05],\n",
              "       [2.0140000e+03, 2.7505000e+04, 5.1759580e+04],\n",
              "       [1.9910000e+03, 2.9981000e+04, 5.1667060e+04],\n",
              "       [2.0020000e+03, 5.2637000e+04, 6.8934030e+04],\n",
              "       [1.9960000e+03, 7.6850000e+03, 1.2211090e+05],\n",
              "       [1.9920000e+03, 5.0188000e+04, 9.0381470e+04]])"
            ]
          },
          "metadata": {},
          "execution_count": 325
        }
      ],
      "source": [
        "dataset = np.column_stack((años, km, valor))\n",
        "dataset"
      ]
    },
    {
      "cell_type": "code",
      "source": [
        "#bien, aqui el metodo colum_stack le pasamos\n",
        "#los datos q tenemos y que quermos q convierta\n",
        "# a columna, asi cada lista la convirtio en una sola\n",
        "#matriz de 3 columnas y varias dimensiones."
      ],
      "metadata": {
        "id": "eLD6O4TdBTXJ"
      },
      "execution_count": null,
      "outputs": []
    },
    {
      "cell_type": "code",
      "source": [
        "#los valores estan en decimales"
      ],
      "metadata": {
        "id": "LbYX751QBmwA"
      },
      "execution_count": null,
      "outputs": []
    },
    {
      "cell_type": "code",
      "source": [
        "dataset.shape"
      ],
      "metadata": {
        "colab": {
          "base_uri": "https://localhost:8080/"
        },
        "id": "RjllDXsdBttC",
        "outputId": "64d5ffd8-82f6-4d0c-cd3a-bd8f8c0f1b78"
      },
      "execution_count": null,
      "outputs": [
        {
          "output_type": "execute_result",
          "data": {
            "text/plain": [
              "(258, 3)"
            ]
          },
          "metadata": {},
          "execution_count": 327
        }
      ]
    },
    {
      "cell_type": "markdown",
      "metadata": {
        "id": "Me6yUU_RltqA"
      },
      "source": [
        "## *np.mean()*\n",
        "\n",
        "Devuelve el promedio de los elementos del array a lo largo del eje especificado."
      ]
    },
    {
      "cell_type": "code",
      "execution_count": null,
      "metadata": {
        "id": "MNEKcP38ltqA",
        "colab": {
          "base_uri": "https://localhost:8080/"
        },
        "outputId": "3fd73587-6ee6-464a-c255-8dc7b4b02e9b"
      },
      "outputs": [
        {
          "output_type": "execute_result",
          "data": {
            "text/plain": [
              "48489.225297157616"
            ]
          },
          "metadata": {},
          "execution_count": 328
        }
      ],
      "source": [
        "#este usa el promedio, vermeos el promedio del datset\n",
        "np.mean(dataset)"
      ]
    },
    {
      "cell_type": "code",
      "execution_count": null,
      "metadata": {
        "id": "sekHQ84zltqB",
        "colab": {
          "base_uri": "https://localhost:8080/"
        },
        "outputId": "ee245d1f-7345-4034-d932-e13121a02074"
      },
      "outputs": [
        {
          "output_type": "execute_result",
          "data": {
            "text/plain": [
              "array([ 2007.74806202, 44499.41472868, 98960.51310078])"
            ]
          },
          "metadata": {},
          "execution_count": 329
        }
      ],
      "source": [
        "#pero anterioromente hizo una media de todo en conjunto, pero queremos l\n",
        "#la media de cada dato por separado y esto lo hacemos con\n",
        "#axis\n",
        "#asi elegimos si quiere q l media sea de columnas q seria =0\n",
        "#o de filas que seria =1\n",
        "\n",
        "#en este caso lo haremos por columnas\n",
        "np.mean(dataset, axis = 0)"
      ]
    },
    {
      "cell_type": "code",
      "execution_count": null,
      "metadata": {
        "id": "RpyETIVSltqC",
        "colab": {
          "base_uri": "https://localhost:8080/"
        },
        "collapsed": true,
        "outputId": "450e46f3-bac8-4058-8d34-4245e8c72437"
      },
      "outputs": [
        {
          "output_type": "execute_result",
          "data": {
            "text/plain": [
              "array([44830.54666667, 37954.98      , 37315.05333333, 42189.69      ,\n",
              "       40125.03333333, 36745.91      , 19488.4       , 63972.81333333,\n",
              "       73974.42333333, 38851.83      , 28836.19666667, 27992.84333333,\n",
              "       68168.99666667, 18401.12666667, 56984.80666667, 59177.8       ,\n",
              "       36526.53      , 30190.79666667, 33932.89666667, 39638.76666667,\n",
              "       69780.79333333, 32194.8       , 77867.61333333, 76878.21666667,\n",
              "       41205.40333333, 24462.36666667, 34386.25      , 35817.61333333,\n",
              "       39298.42333333, 72268.23333333, 34289.06666667, 41477.39333333,\n",
              "       26365.56333333, 33918.13333333, 50905.01      , 54959.84      ,\n",
              "       17875.53      , 41767.29      , 25768.39333333, 34876.51333333,\n",
              "       54475.06333333, 59333.43      , 29553.78      , 75040.79666667,\n",
              "       39882.24333333, 22655.23333333, 52057.21666667, 31725.88333333,\n",
              "       22240.36666667, 69567.49666667, 78571.96333333, 61600.27666667,\n",
              "       69114.54333333, 58791.90333333, 31242.99666667, 51282.34333333,\n",
              "       83404.74333333, 45116.39666667, 44660.47666667, 38017.75666667,\n",
              "       27806.45      , 33061.03333333, 62306.38666667, 59765.40666667,\n",
              "       81845.34      , 78191.71      , 22848.87      , 68881.29      ,\n",
              "       48137.58333333, 59285.30333333, 49427.22666667, 61650.01      ,\n",
              "       44891.83      , 37390.34666667, 41392.74333333, 60347.97333333,\n",
              "       69056.62      , 39633.07      , 49072.56666667, 17587.36666667,\n",
              "       29306.51      , 45315.62333333, 48374.81666667, 36102.16666667,\n",
              "       22175.90666667, 39031.86333333, 84253.53333333, 85829.28666667,\n",
              "       34133.42666667, 42960.68      , 73161.28      , 79828.89      ,\n",
              "       37537.84666667, 54106.79333333, 48191.20333333, 43484.59333333,\n",
              "       71371.78333333, 39550.22      , 72328.87666667, 31749.24333333,\n",
              "       47492.21666667, 70730.55666667, 41345.47333333, 55341.32666667,\n",
              "       38992.84666667, 42828.80666667, 40068.11333333, 68787.83333333,\n",
              "       28917.21      , 65870.42      , 38429.11333333, 52772.62666667,\n",
              "       61426.57333333, 25396.1       , 38915.89333333, 50833.16      ,\n",
              "       27467.41333333, 50392.39      , 33143.80333333, 81545.07333333,\n",
              "       64189.28333333, 79244.98333333, 81510.33      , 57102.41      ,\n",
              "       46872.42333333, 76604.60333333, 21673.00666667, 50487.81333333,\n",
              "       71054.97333333, 32513.65      , 20181.80333333, 49761.01666667,\n",
              "       49930.29      , 65050.57      , 37248.96      , 67911.48333333,\n",
              "       58226.97666667, 35352.93      , 41016.18      , 61722.00666667,\n",
              "       29414.7       , 53625.06      , 50338.82333333, 20989.33666667,\n",
              "       62485.48      , 59852.44333333, 54886.56333333, 31446.68666667,\n",
              "       30376.29666667, 86387.97      , 64780.35      , 24714.41666667,\n",
              "       70279.43333333, 37624.04      , 75914.40333333, 47716.93666667,\n",
              "       40867.31666667, 62235.10666667, 49475.26333333, 28006.40333333,\n",
              "       74171.2       , 64188.27      , 49625.03666667, 37769.10333333,\n",
              "       57331.72666667, 74211.37333333, 46805.12333333, 56262.85666667,\n",
              "       55737.34666667, 59100.03666667, 38904.82333333, 46087.74666667,\n",
              "       74438.25333333, 64900.46666667, 21850.70333333, 42058.88333333,\n",
              "       55381.78      , 19491.31333333, 62604.26333333, 38050.87      ,\n",
              "       49523.50666667, 25762.94      , 67595.09      , 52038.99      ,\n",
              "       63322.77333333, 30473.7       , 19620.93      , 66956.90333333,\n",
              "       58360.32      , 33103.39333333, 47672.52      , 38818.31333333,\n",
              "       72377.89666667, 43577.05333333, 58144.59      , 29673.65666667,\n",
              "       53543.43333333, 56605.13      , 23476.21666667, 36848.30333333,\n",
              "       43014.91666667, 45854.33333333, 41242.91      , 57889.89333333,\n",
              "       19969.36666667, 62951.82666667, 72070.02      , 43472.03666667,\n",
              "       49716.20333333, 53482.79333333, 47128.72      , 25883.10666667,\n",
              "       55649.37      , 52707.11      , 24684.5       , 41834.39666667,\n",
              "       38850.58      , 75554.20333333, 77459.42      , 54963.18333333,\n",
              "       52296.34666667, 39260.05666667, 78077.        , 38718.11666667,\n",
              "       55840.26666667, 38271.21      , 71540.11666667, 35022.25333333,\n",
              "       28898.33666667, 54658.91333333, 57520.39333333, 65274.21333333,\n",
              "       65763.68666667, 27941.25      , 23855.34333333, 30720.49      ,\n",
              "       43897.78666667, 23186.59666667, 23228.28666667, 60894.05333333,\n",
              "       69524.24666667, 85480.02666667, 42755.94666667, 43624.07      ,\n",
              "       47896.58666667, 43811.77666667, 48871.94      , 46260.76666667,\n",
              "       26565.26333333, 50192.22333333, 47490.99666667, 72976.14666667,\n",
              "       70304.87333333, 27092.86      , 27879.68666667, 41191.01      ,\n",
              "       43930.63333333, 47520.49      ])"
            ]
          },
          "metadata": {},
          "execution_count": 330
        }
      ],
      "source": [
        "#ahora por filas, uqneu no tiene sentio en este caso pero veamos\n",
        "np.mean(dataset, axis = 1)"
      ]
    },
    {
      "cell_type": "code",
      "execution_count": null,
      "metadata": {
        "id": "_-kpcTI8ltqD",
        "scrolled": true,
        "colab": {
          "base_uri": "https://localhost:8080/"
        },
        "outputId": "5c412df3-b78b-477b-e7d5-cfdd9afd23fe"
      },
      "outputs": [
        {
          "output_type": "execute_result",
          "data": {
            "text/plain": [
              "44499.41472868217"
            ]
          },
          "metadata": {},
          "execution_count": 331
        }
      ],
      "source": [
        "#lo haremos con particion, todas las lineas con solo la primer columna\n",
        "np.mean(dataset[::, 1])"
      ]
    },
    {
      "cell_type": "code",
      "source": [
        "np.mean(dataset[::, 2])"
      ],
      "metadata": {
        "colab": {
          "base_uri": "https://localhost:8080/"
        },
        "id": "AK_W4d5-C4k-",
        "outputId": "306d0996-6942-49b9-a629-fcfbeefcdc13"
      },
      "execution_count": null,
      "outputs": [
        {
          "output_type": "execute_result",
          "data": {
            "text/plain": [
              "98960.51310077519"
            ]
          },
          "metadata": {},
          "execution_count": 332
        }
      ]
    },
    {
      "cell_type": "markdown",
      "metadata": {
        "id": "71jViVBUltqE"
      },
      "source": [
        "## *np.std()*\n",
        "\n",
        "Devuelve la desviación estándar de los elementos del array a lo largo del eje especificado."
      ]
    },
    {
      "cell_type": "code",
      "source": [
        "'''\n",
        "La desviación estándar es una medida de dispersión que indica\n",
        "cuánto se alejan los valores de una muestra o una población\n",
        "respecto a su media. En otras palabras, mide el promedio de las\n",
        "diferencias entre los valores individuales y la media del\n",
        "conjunto de datos. Una desviación estándar baja significa\n",
        "que los valores tienden a estar cerca de la media, mientras que\n",
        "una desviación estándar alta indica que los valores están más\n",
        "dispersos.\n",
        "'''"
      ],
      "metadata": {
        "id": "eYRnQl2GDUY0"
      },
      "execution_count": null,
      "outputs": []
    },
    {
      "cell_type": "code",
      "execution_count": null,
      "metadata": {
        "id": "lEwUbPx2ltqE",
        "scrolled": true,
        "colab": {
          "base_uri": "https://localhost:8080/"
        },
        "outputId": "8a22ad26-2ed9-45ea-b475-af13b4334825"
      },
      "outputs": [
        {
          "output_type": "execute_result",
          "data": {
            "text/plain": [
              "29754.101150388564"
            ]
          },
          "metadata": {},
          "execution_count": 333
        }
      ],
      "source": [
        "np.std(dataset[::, 2])"
      ]
    },
    {
      "cell_type": "markdown",
      "metadata": {
        "id": "JTUH-vAeltqG"
      },
      "source": [
        "## *ndarray.sum()*\n",
        "\n",
        "Devuelve la suma de los elementos del array a lo largo del eje especificado."
      ]
    },
    {
      "cell_type": "code",
      "execution_count": null,
      "metadata": {
        "id": "jIi3yoaWltqG",
        "colab": {
          "base_uri": "https://localhost:8080/"
        },
        "outputId": "59e9f003-9132-43e1-fac2-4d53c9a21804"
      },
      "outputs": [
        {
          "output_type": "execute_result",
          "data": {
            "text/plain": [
              "array([  517999.        , 11480849.        , 25531812.37999999])"
            ]
          },
          "metadata": {},
          "execution_count": 334
        }
      ],
      "source": [
        "#sumaremos de forma vertical, cada columna puesto\n",
        "#q representan informcion del mismo vehículo\n",
        "\n",
        "#esto nos mostrara la suma independient de cada columna\n",
        "dataset.sum(axis = 0)"
      ]
    },
    {
      "cell_type": "code",
      "execution_count": null,
      "metadata": {
        "id": "X3QYbdYLltqH",
        "colab": {
          "base_uri": "https://localhost:8080/"
        },
        "outputId": "f94f4206-d3e2-48b8-a8f7-e39bdf40ec9d"
      },
      "outputs": [
        {
          "output_type": "execute_result",
          "data": {
            "text/plain": [
              "11480849.0"
            ]
          },
          "metadata": {},
          "execution_count": 335
        }
      ],
      "source": [
        "#otra forma de sumar es con particones\n",
        "#dataset[lineas, columnas]\n",
        "\n",
        "dataset[::, 1].sum()\n"
      ]
    },
    {
      "cell_type": "markdown",
      "metadata": {
        "id": "WbBD5ixaltqH"
      },
      "source": [
        "## *np.sum()*\n",
        "\n",
        "Devuelve la suma de los elementos del array a lo largo del eje especificado."
      ]
    },
    {
      "cell_type": "code",
      "execution_count": null,
      "metadata": {
        "id": "omB6kgWgltqH",
        "colab": {
          "base_uri": "https://localhost:8080/"
        },
        "outputId": "f3987c2d-0c77-4466-81e2-04caa50117c8"
      },
      "outputs": [
        {
          "output_type": "execute_result",
          "data": {
            "text/plain": [
              "array([  517999.        , 11480849.        , 25531812.37999999])"
            ]
          },
          "metadata": {},
          "execution_count": 336
        }
      ],
      "source": [
        "np.sum(dataset, axis = 0)"
      ]
    },
    {
      "cell_type": "code",
      "execution_count": null,
      "metadata": {
        "id": "LiD4G3kQltqI",
        "colab": {
          "base_uri": "https://localhost:8080/"
        },
        "outputId": "26fb5aa2-b5b7-4505-c930-82c26cc3e37c"
      },
      "outputs": [
        {
          "output_type": "execute_result",
          "data": {
            "text/plain": [
              "25531812.38"
            ]
          },
          "metadata": {},
          "execution_count": 337
        }
      ],
      "source": [
        "np.sum(dataset[::, 2])"
      ]
    },
    {
      "cell_type": "markdown",
      "source": [
        "Ahora como preambulo del siguiente curso, convertireos el dataset a un DataFrame, importamos pandas, y generamos el dataframe en una variable df q tomara como datos el dataset  le especifico que quiero q lo ponga en columnas, con sus nombres.\n",
        "\n",
        "Luego genero una variabl resultado q agrupara el df por años, y calculara y mostrara la media del km y el valor segun l agrupación, para finalizar llamando a imprimir a la variable resultado"
      ],
      "metadata": {
        "id": "hNeYnlpOFpr8"
      }
    },
    {
      "cell_type": "code",
      "execution_count": null,
      "metadata": {
        "id": "kpakpnntltqJ",
        "colab": {
          "base_uri": "https://localhost:8080/"
        },
        "outputId": "14904190-bf5e-4ec9-c174-9e9b841a3fa1"
      },
      "outputs": [
        {
          "output_type": "stream",
          "name": "stdout",
          "text": [
            "                  km          valor\n",
            "años                               \n",
            "1990.0  72083.666667   96116.206667\n",
            "1991.0  47036.444444   93420.658889\n",
            "1992.0  51283.000000   90670.667500\n",
            "1993.0  55384.250000   93357.635000\n",
            "1994.0  70260.777778   96623.326667\n",
            "1995.0  71289.714286   86117.702857\n",
            "1996.0  50926.100000   98619.528000\n",
            "1997.0  71897.000000   96852.883333\n",
            "1998.0  71828.000000   97801.913333\n",
            "1999.0  39075.500000   98675.220000\n",
            "2000.0  98921.000000  112101.906667\n",
            "2001.0  69583.750000  105120.757500\n",
            "2002.0  59268.545455   89327.512727\n",
            "2003.0  56926.571429  111672.687143\n",
            "2004.0  62735.800000   82253.320000\n",
            "2005.0  58052.500000  117836.888333\n",
            "2006.0  45569.750000   91200.577500\n",
            "2007.0  59986.750000  101135.170000\n",
            "2008.0  61647.833333  103123.380000\n",
            "2009.0  48694.000000  110470.614286\n",
            "2010.0  79227.333333   98001.035000\n",
            "2011.0  53031.000000  106613.244000\n",
            "2012.0  40817.500000   89212.192500\n",
            "2013.0  39021.777778  105672.001111\n",
            "2014.0  57461.500000   87228.613333\n",
            "2015.0  61032.125000  103795.111250\n",
            "2016.0  49972.000000  100531.173750\n",
            "2017.0  74888.000000  109533.574286\n",
            "2018.0  31999.000000   80452.258000\n",
            "2020.0      0.000000  100423.811803\n"
          ]
        }
      ],
      "source": [
        "import pandas as pd\n",
        "\n",
        "df = pd.DataFrame(data = dataset, columns=[\"años\", \"km\", \"valor\"])\n",
        "result = df.groupby('años').mean()\n",
        "print(result)\n",
        "\n"
      ]
    }
  ],
  "metadata": {
    "colab": {
      "provenance": [],
      "collapsed_sections": [
        "gSnX12-sltjH",
        "2oZuKvWkltjJ",
        "v86aEyR2ltjR",
        "X1K5kisFltj1",
        "MUrQAf6Mltkm",
        "gCBkfq_8ltky",
        "uoRXMeRDltlQ",
        "_ilupwV-ltl-",
        "gGpflJMYltmd",
        "zhS89xysltnS",
        "5yMXJ0xdltna",
        "k7wWCbAmltnl",
        "R-S-LCPGltn0",
        "gxUmCLyJltoU",
        "AcAcaKFXltom",
        "cJ4fPdj5ltou",
        "CKjrvO5Tltoz",
        "aRfQfubxlto6",
        "ul4MuKyTltpG"
      ],
      "include_colab_link": true
    },
    "kernelspec": {
      "display_name": "Python 3",
      "language": "python",
      "name": "python3"
    },
    "language_info": {
      "codemirror_mode": {
        "name": "ipython",
        "version": 3
      },
      "file_extension": ".py",
      "mimetype": "text/x-python",
      "name": "python",
      "nbconvert_exporter": "python",
      "pygments_lexer": "ipython3",
      "version": "3.7.1"
    }
  },
  "nbformat": 4,
  "nbformat_minor": 0
}