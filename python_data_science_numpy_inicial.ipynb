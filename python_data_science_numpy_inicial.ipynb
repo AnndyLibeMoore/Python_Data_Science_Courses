{
  "cells": [
    {
      "cell_type": "markdown",
      "metadata": {
        "id": "view-in-github",
        "colab_type": "text"
      },
      "source": [
        "<a href=\"https://colab.research.google.com/github/AnndyLibeMoore/Python_My_Learn/blob/main/python_data_science_numpy_inicial.ipynb\" target=\"_parent\"><img src=\"https://colab.research.google.com/assets/colab-badge.svg\" alt=\"Open In Colab\"/></a>"
      ]
    },
    {
      "cell_type": "markdown",
      "metadata": {
        "id": "do3kUOLbltjE"
      },
      "source": [
        "# <font color=green> PYTHON PARA DATA SCIENCE - NUMPY\n",
        "---"
      ]
    },
    {
      "cell_type": "markdown",
      "metadata": {
        "id": "umSz9TLxltjG"
      },
      "source": [
        "# <font color=green> 1. INTRODUCCIÓN A PYTHON\n",
        "---"
      ]
    },
    {
      "cell_type": "markdown",
      "metadata": {
        "id": "gSnX12-sltjH"
      },
      "source": [
        "# 1.1 Introducción"
      ]
    },
    {
      "cell_type": "markdown",
      "metadata": {
        "id": "SRG_k55kltjI"
      },
      "source": [
        "> Python es un lenguaje de programación de alto nivel con soporte a múltiples paradigmas de programación. Es un proyecto *open source* y desde su surgimiento, en 1991, viene convirtiéndose en uno de los lenguajes de programación interpretados más populares.\n",
        ">\n",
        "> En los últimos años Python desarrolló una comunidad activa de procesamiento científico y análisis de datos y viene destacándose como uno de los lenguajes más relevantes cuando el asunto es ciencia de datos y machine learning, tanto en el entorno acadêmico como también en el entorno laboral."
      ]
    },
    {
      "cell_type": "markdown",
      "metadata": {
        "id": "2oZuKvWkltjJ"
      },
      "source": [
        "# 1.2 Instalación y entorno de trabajo"
      ]
    },
    {
      "cell_type": "markdown",
      "metadata": {
        "id": "v4P8bMEIltjK"
      },
      "source": [
        "### Instalación Local\n",
        "\n",
        "### https://www.python.org/downloads/\n",
        "### o\n",
        "### https://www.anaconda.com/distribution/"
      ]
    },
    {
      "cell_type": "markdown",
      "metadata": {
        "id": "FZtu5tjrltjL"
      },
      "source": [
        "### Google Colaboratory\n",
        "\n",
        "### https://colab.research.google.com"
      ]
    },
    {
      "cell_type": "markdown",
      "metadata": {
        "id": "C6vbfq8DltjM"
      },
      "source": [
        "### Verificando versión"
      ]
    },
    {
      "cell_type": "code",
      "execution_count": null,
      "metadata": {
        "colab": {
          "base_uri": "https://localhost:8080/"
        },
        "id": "jeuAt-4NltjM",
        "outputId": "786e095c-82f3-4169-8b0b-6db9d62ffb7b"
      },
      "outputs": [
        {
          "output_type": "stream",
          "name": "stdout",
          "text": [
            "Python 3.10.12\n"
          ]
        }
      ],
      "source": [
        "!python -V"
      ]
    },
    {
      "cell_type": "markdown",
      "metadata": {
        "id": "v86aEyR2ltjR"
      },
      "source": [
        "# 1.3 Trabajando con Numpy"
      ]
    },
    {
      "cell_type": "code",
      "execution_count": null,
      "metadata": {
        "id": "6FEhElzNltjR"
      },
      "outputs": [],
      "source": [
        "import numpy as np\n"
      ]
    },
    {
      "cell_type": "code",
      "execution_count": null,
      "metadata": {
        "id": "qjL5wPLKltjU"
      },
      "outputs": [],
      "source": [
        "km = np.loadtxt('carros-km.txt', dtype = int)"
      ]
    },
    {
      "cell_type": "code",
      "execution_count": null,
      "metadata": {
        "id": "OFaxgUptltjW",
        "scrolled": true
      },
      "outputs": [],
      "source": [
        "km"
      ]
    },
    {
      "cell_type": "code",
      "execution_count": null,
      "metadata": {
        "id": "FXjYowRDltjZ"
      },
      "outputs": [],
      "source": [
        "años = np.loadtxt('/content/carros-años.txt', dtype = int)"
      ]
    },
    {
      "cell_type": "code",
      "execution_count": null,
      "metadata": {
        "id": "f_d2Ya-vltjb"
      },
      "outputs": [],
      "source": [
        "años"
      ]
    },
    {
      "cell_type": "markdown",
      "metadata": {
        "id": "wMdUsAq4ltjs"
      },
      "source": [
        "### Obtener el promedio de kilometros recorridos por año"
      ]
    },
    {
      "cell_type": "code",
      "execution_count": null,
      "metadata": {
        "colab": {
          "base_uri": "https://localhost:8080/"
        },
        "id": "cD2M3s3Fltjt",
        "outputId": "f0d9a358-f527-44a0-ba26-bd6720879c68"
      },
      "outputs": [
        {
          "output_type": "stream",
          "name": "stderr",
          "text": [
            "<ipython-input-13-b38a4470df6a>:1: RuntimeWarning: invalid value encountered in divide\n",
            "  km_promedio = km /  (2020 - años)\n"
          ]
        }
      ],
      "source": [
        "km_promedio = km /  (2020 - años)"
      ]
    },
    {
      "cell_type": "code",
      "execution_count": null,
      "metadata": {
        "id": "65IyPzKKltjv"
      },
      "outputs": [],
      "source": [
        "km_promedio"
      ]
    },
    {
      "cell_type": "code",
      "execution_count": null,
      "metadata": {
        "colab": {
          "base_uri": "https://localhost:8080/"
        },
        "id": "Z0JCmAWvltjy",
        "outputId": "29a6dddb-ea4b-4493-8c90-21c4258d11d2"
      },
      "outputs": [
        {
          "output_type": "execute_result",
          "data": {
            "text/plain": [
              "numpy.ndarray"
            ]
          },
          "metadata": {},
          "execution_count": 15
        }
      ],
      "source": [
        "type(km_promedio)"
      ]
    },
    {
      "cell_type": "markdown",
      "metadata": {
        "id": "KdG5NmmGltj0"
      },
      "source": [
        "# <font color=green> 2. CARACTERÍSTICAS BÁSICAS DEL LENGUAJE\n",
        "---"
      ]
    },
    {
      "cell_type": "markdown",
      "metadata": {
        "id": "X1K5kisFltj1"
      },
      "source": [
        "# 2.1 Operaciones matemáticas\n",
        "\n",
        "### Operadores aritméticos: $+$, $-$, $*$, $/$, $**$, $\\%$, $//$"
      ]
    },
    {
      "cell_type": "markdown",
      "metadata": {
        "id": "8YCDVpbYltj1"
      },
      "source": [
        "### Suma ($+$)"
      ]
    },
    {
      "cell_type": "code",
      "execution_count": null,
      "metadata": {
        "colab": {
          "base_uri": "https://localhost:8080/"
        },
        "id": "h6DsMqhaltj2",
        "outputId": "800ba8f2-d2b8-4eb3-a0e4-3ccd7dcfed87"
      },
      "outputs": [
        {
          "output_type": "execute_result",
          "data": {
            "text/plain": [
              "4"
            ]
          },
          "metadata": {},
          "execution_count": 16
        }
      ],
      "source": [
        "2 + 2"
      ]
    },
    {
      "cell_type": "markdown",
      "metadata": {
        "id": "WeJG-WJBltj8"
      },
      "source": [
        "### Resta ($-$)"
      ]
    },
    {
      "cell_type": "code",
      "execution_count": null,
      "metadata": {
        "colab": {
          "base_uri": "https://localhost:8080/"
        },
        "id": "zoB7_OcRltj9",
        "outputId": "2a5ff791-a775-4e77-94d0-d740f958829e"
      },
      "outputs": [
        {
          "output_type": "execute_result",
          "data": {
            "text/plain": [
              "0"
            ]
          },
          "metadata": {},
          "execution_count": 17
        }
      ],
      "source": [
        "2-2"
      ]
    },
    {
      "cell_type": "markdown",
      "metadata": {
        "id": "zuv8N7fjltkC"
      },
      "source": [
        "### Multiplicación ($*$)"
      ]
    },
    {
      "cell_type": "code",
      "execution_count": null,
      "metadata": {
        "colab": {
          "base_uri": "https://localhost:8080/"
        },
        "id": "TAWG7xSTltkD",
        "outputId": "ff0b1341-a472-42ab-886f-9593b04ff98d"
      },
      "outputs": [
        {
          "output_type": "execute_result",
          "data": {
            "text/plain": [
              "6"
            ]
          },
          "metadata": {},
          "execution_count": 19
        }
      ],
      "source": [
        "2 * 3"
      ]
    },
    {
      "cell_type": "markdown",
      "metadata": {
        "id": "dMp7BsnwltkF"
      },
      "source": [
        "### División ($/$) y ($//$)\n",
        "La operación división siempre devuelve un número con punto decimal"
      ]
    },
    {
      "cell_type": "code",
      "execution_count": null,
      "metadata": {
        "colab": {
          "base_uri": "https://localhost:8080/"
        },
        "id": "DD5kx3H3ltkF",
        "outputId": "80b45cec-6544-48af-b83d-97f1f3397142"
      },
      "outputs": [
        {
          "output_type": "execute_result",
          "data": {
            "text/plain": [
              "3.3333333333333335"
            ]
          },
          "metadata": {},
          "execution_count": 20
        }
      ],
      "source": [
        "10 / 3"
      ]
    },
    {
      "cell_type": "code",
      "execution_count": null,
      "metadata": {
        "colab": {
          "base_uri": "https://localhost:8080/"
        },
        "id": "ji0CYH3UltkI",
        "outputId": "20a70023-b558-4a66-a8ec-adbd6caeface"
      },
      "outputs": [
        {
          "output_type": "execute_result",
          "data": {
            "text/plain": [
              "3"
            ]
          },
          "metadata": {},
          "execution_count": 21
        }
      ],
      "source": [
        "10 // 3"
      ]
    },
    {
      "cell_type": "markdown",
      "metadata": {
        "id": "3DSO7TcvltkL"
      },
      "source": [
        "### Exponenciación ($**$)"
      ]
    },
    {
      "cell_type": "code",
      "execution_count": null,
      "metadata": {
        "colab": {
          "base_uri": "https://localhost:8080/"
        },
        "id": "tBKvl2TWltkM",
        "outputId": "df7b4ce0-3381-468a-9fbb-c95843cc9b58"
      },
      "outputs": [
        {
          "output_type": "execute_result",
          "data": {
            "text/plain": [
              "8"
            ]
          },
          "metadata": {},
          "execution_count": 22
        }
      ],
      "source": [
        "2 ** 3\n"
      ]
    },
    {
      "cell_type": "markdown",
      "metadata": {
        "id": "MhD56p-9ltkQ"
      },
      "source": [
        "### Resto de la división ($\\%$)"
      ]
    },
    {
      "cell_type": "code",
      "execution_count": null,
      "metadata": {
        "colab": {
          "base_uri": "https://localhost:8080/"
        },
        "id": "bfa7phO6ltkR",
        "outputId": "ed95c8a9-c6dd-4248-a5e9-b3196c734ab5"
      },
      "outputs": [
        {
          "output_type": "execute_result",
          "data": {
            "text/plain": [
              "1"
            ]
          },
          "metadata": {},
          "execution_count": 23
        }
      ],
      "source": [
        "10 % 3"
      ]
    },
    {
      "cell_type": "code",
      "execution_count": null,
      "metadata": {
        "colab": {
          "base_uri": "https://localhost:8080/"
        },
        "id": "khIEx6olltkT",
        "outputId": "a3ff6e7e-e710-4e9f-ffb2-fc2abae15258"
      },
      "outputs": [
        {
          "output_type": "execute_result",
          "data": {
            "text/plain": [
              "0"
            ]
          },
          "metadata": {},
          "execution_count": 24
        }
      ],
      "source": [
        "10 % 2"
      ]
    },
    {
      "cell_type": "markdown",
      "metadata": {
        "id": "8pVVp5fsltkV"
      },
      "source": [
        "### Expresiones matemáticas"
      ]
    },
    {
      "cell_type": "code",
      "execution_count": null,
      "metadata": {
        "colab": {
          "base_uri": "https://localhost:8080/"
        },
        "id": "jlQTk4gNltkW",
        "outputId": "401cf346-8be4-43a3-af15-44a56d640804"
      },
      "outputs": [
        {
          "output_type": "execute_result",
          "data": {
            "text/plain": [
              "16"
            ]
          },
          "metadata": {},
          "execution_count": 25
        }
      ],
      "source": [
        "5 * 2 + 3 * 2"
      ]
    },
    {
      "cell_type": "code",
      "execution_count": null,
      "metadata": {
        "colab": {
          "base_uri": "https://localhost:8080/"
        },
        "id": "kkCb6Crgltka",
        "outputId": "3601f5c0-d649-41ae-9295-06e2b71d63e1"
      },
      "outputs": [
        {
          "output_type": "execute_result",
          "data": {
            "text/plain": [
              "16"
            ]
          },
          "metadata": {},
          "execution_count": 26
        }
      ],
      "source": [
        "(5 * 2) + (3 * 2)"
      ]
    },
    {
      "cell_type": "code",
      "execution_count": null,
      "metadata": {
        "colab": {
          "base_uri": "https://localhost:8080/"
        },
        "id": "UD12tlgAltkd",
        "outputId": "30e96e45-220f-4b72-8e58-e751de1b0543"
      },
      "outputs": [
        {
          "output_type": "execute_result",
          "data": {
            "text/plain": [
              "50"
            ]
          },
          "metadata": {},
          "execution_count": 27
        }
      ],
      "source": [
        "5 * (2 + 3) * 2"
      ]
    },
    {
      "cell_type": "markdown",
      "metadata": {
        "id": "a5tKQ5Beltkf"
      },
      "source": [
        "### La variable _\n",
        "\n",
        "En el modo interactivo, el último resultado impreso en pantalla es atribuído a la variable _"
      ]
    },
    {
      "cell_type": "code",
      "execution_count": null,
      "metadata": {
        "colab": {
          "base_uri": "https://localhost:8080/"
        },
        "id": "VkHEx516ltkg",
        "outputId": "0bc3f0d6-6a15-4f69-b74b-ae015fcdff5a"
      },
      "outputs": [
        {
          "output_type": "execute_result",
          "data": {
            "text/plain": [
              "50"
            ]
          },
          "metadata": {},
          "execution_count": 28
        }
      ],
      "source": [
        "_"
      ]
    },
    {
      "cell_type": "code",
      "execution_count": null,
      "metadata": {
        "colab": {
          "base_uri": "https://localhost:8080/"
        },
        "id": "dFShsobXltki",
        "outputId": "08638cca-3067-4c2b-bcd7-8931f140ceae"
      },
      "outputs": [
        {
          "output_type": "execute_result",
          "data": {
            "text/plain": [
              "10"
            ]
          },
          "metadata": {},
          "execution_count": 29
        }
      ],
      "source": [
        "5 * 2"
      ]
    },
    {
      "cell_type": "code",
      "execution_count": null,
      "metadata": {
        "colab": {
          "base_uri": "https://localhost:8080/"
        },
        "id": "hJIpR3KUltkk",
        "outputId": "57c0c766-2639-4dcf-c545-3e3090f2c655"
      },
      "outputs": [
        {
          "output_type": "execute_result",
          "data": {
            "text/plain": [
              "10"
            ]
          },
          "metadata": {},
          "execution_count": 30
        }
      ],
      "source": [
        "_"
      ]
    },
    {
      "cell_type": "code",
      "source": [
        "_ + 3 * 2"
      ],
      "metadata": {
        "colab": {
          "base_uri": "https://localhost:8080/"
        },
        "id": "GMnmgSJ6H15i",
        "outputId": "d89f9da3-7033-4c24-e009-360f39dc6ea2"
      },
      "execution_count": null,
      "outputs": [
        {
          "output_type": "execute_result",
          "data": {
            "text/plain": [
              "16"
            ]
          },
          "metadata": {},
          "execution_count": 31
        }
      ]
    },
    {
      "cell_type": "code",
      "source": [
        "_ / 2"
      ],
      "metadata": {
        "colab": {
          "base_uri": "https://localhost:8080/"
        },
        "id": "DEMQR4EYH9ye",
        "outputId": "5acb1d88-a052-4ea1-d420-72c3f6d5673e"
      },
      "execution_count": null,
      "outputs": [
        {
          "output_type": "execute_result",
          "data": {
            "text/plain": [
              "8.0"
            ]
          },
          "metadata": {},
          "execution_count": 32
        }
      ]
    },
    {
      "cell_type": "markdown",
      "metadata": {
        "id": "MUrQAf6Mltkm"
      },
      "source": [
        "# 2.2 Variables"
      ]
    },
    {
      "cell_type": "markdown",
      "metadata": {
        "id": "qaVLKIeultkn"
      },
      "source": [
        "### Nombres de variables\n",
        "\n",
        "- Nombres de variables pueden comenzar con letras (a - z, A - Z) o con el símbolo *underscore* (_):\n",
        "\n",
        "    > Altura\n",
        "    >\n",
        "    > _peso\n",
        "    \n",
        "- El resto del nombre puede contener letras, números o el símbolo \"_\":\n",
        "\n",
        "    > nombre_de_variable\n",
        "    >\n",
        "    > _valor\n",
        "    >\n",
        "    > dia_28_11_\n",
        "    \n",
        "\n",
        "- Los nombres son *case sensitive*:\n",
        "\n",
        "    > Nombre_De_Variable $\\ne$ nombre_de_variable $\\ne$ NOMBRE_DE_VARIABLE\n",
        "    \n",
        "### <font color=red>Observaciones:\n",
        "- Existen algumas palabras reservadas del lenguaje que no pueden ser utilizadas como nombres de variables:\n",
        "\n",
        "| |Lista de palabras <br>reservadas en Python| |\n",
        "|:-------------:|:------------:|:-------------:|\n",
        "| and           | as           | not           |\n",
        "| assert        | finally      | or            |\n",
        "| break         | for          | pass          |\n",
        "| class         | from         | nonlocal      |\n",
        "| continue      | global       | raise         |\n",
        "| def           | if           | return        |\n",
        "| del           | import       | try           |\n",
        "| elif          | in           | while         |\n",
        "| else          | is           | with          |\n",
        "| except        | lambda       | yield         |\n",
        "| False         | True         | None          |"
      ]
    },
    {
      "cell_type": "markdown",
      "metadata": {
        "id": "3frWjfAtltkn"
      },
      "source": [
        "### Declaración de variables\n",
        "\n",
        "### Operadores de asignación: $=$, $+=$, $-=$, $*=$, $/=$, $**=$, $\\%=$, $//=$"
      ]
    },
    {
      "cell_type": "code",
      "execution_count": null,
      "metadata": {
        "id": "7VIcrXNHltko"
      },
      "outputs": [],
      "source": [
        "año_actual = 2020\n",
        "año_fabricacion = 2003\n",
        "km_total = 44410.0"
      ]
    },
    {
      "cell_type": "code",
      "execution_count": null,
      "metadata": {
        "colab": {
          "base_uri": "https://localhost:8080/"
        },
        "id": "atVoqp6bltkq",
        "outputId": "24ffef2a-46be-4110-c5ae-127dc99e335f"
      },
      "outputs": [
        {
          "output_type": "execute_result",
          "data": {
            "text/plain": [
              "2020"
            ]
          },
          "metadata": {},
          "execution_count": 34
        }
      ],
      "source": [
        "año_actual"
      ]
    },
    {
      "cell_type": "code",
      "execution_count": null,
      "metadata": {
        "colab": {
          "base_uri": "https://localhost:8080/"
        },
        "id": "_t82qXrOltkt",
        "outputId": "85a16683-52eb-413c-9e90-43282ef07622"
      },
      "outputs": [
        {
          "output_type": "execute_result",
          "data": {
            "text/plain": [
              "2003"
            ]
          },
          "metadata": {},
          "execution_count": 35
        }
      ],
      "source": [
        "año_fabricacion"
      ]
    },
    {
      "cell_type": "code",
      "execution_count": null,
      "metadata": {
        "colab": {
          "base_uri": "https://localhost:8080/"
        },
        "id": "1anwuDHiltkv",
        "outputId": "cd6014a9-b198-4c95-99e1-caef3559847b"
      },
      "outputs": [
        {
          "output_type": "execute_result",
          "data": {
            "text/plain": [
              "44410.0"
            ]
          },
          "metadata": {},
          "execution_count": 36
        }
      ],
      "source": [
        "km_total"
      ]
    },
    {
      "cell_type": "markdown",
      "metadata": {
        "id": "gCBkfq_8ltky"
      },
      "source": [
        "# $$km_{promedio} = \\frac {km_{total}}{(Año_{actual} - Año_{fabricación})}$$"
      ]
    },
    {
      "cell_type": "markdown",
      "metadata": {
        "id": "zswWS4hNltky"
      },
      "source": [
        "### Operaciones con variables"
      ]
    },
    {
      "cell_type": "code",
      "execution_count": null,
      "metadata": {
        "colab": {
          "base_uri": "https://localhost:8080/"
        },
        "id": "HxxU0rnfltkz",
        "outputId": "7f0c0a62-bec6-4554-eea0-ab3060ff9093"
      },
      "outputs": [
        {
          "output_type": "execute_result",
          "data": {
            "text/plain": [
              "2612.3529411764707"
            ]
          },
          "metadata": {},
          "execution_count": 37
        }
      ],
      "source": [
        "km_total / (año_actual - año_fabricacion)"
      ]
    },
    {
      "cell_type": "code",
      "execution_count": null,
      "metadata": {
        "colab": {
          "base_uri": "https://localhost:8080/"
        },
        "id": "_2Qhb32jltk1",
        "outputId": "f6421c5b-964d-43f4-bc0a-a68f27230590"
      },
      "outputs": [
        {
          "output_type": "execute_result",
          "data": {
            "text/plain": [
              "2612.3529411764707"
            ]
          },
          "metadata": {},
          "execution_count": 38
        }
      ],
      "source": [
        "km_promedio = km_total / (año_actual - año_fabricacion)\n",
        "km_promedio"
      ]
    },
    {
      "cell_type": "code",
      "execution_count": null,
      "metadata": {
        "colab": {
          "base_uri": "https://localhost:8080/"
        },
        "id": "nCJzA7dyltk3",
        "outputId": "b71085a0-1967-4bcc-9eb5-c8b8771bbf1b"
      },
      "outputs": [
        {
          "output_type": "execute_result",
          "data": {
            "text/plain": [
              "2612.3529411764707"
            ]
          },
          "metadata": {},
          "execution_count": 39
        }
      ],
      "source": [
        "año_actual = 2020\n",
        "año_fabricacion = 2003\n",
        "km_total = 44410.0\n",
        "km_promedio = km_total / (año_actual - año_fabricacion)\n",
        "km_promedio"
      ]
    },
    {
      "cell_type": "code",
      "execution_count": null,
      "metadata": {
        "colab": {
          "base_uri": "https://localhost:8080/"
        },
        "id": "ifRwQ0vEltk9",
        "outputId": "e3e5fb5e-6aa2-4b94-bd7b-f8e7f7438909"
      },
      "outputs": [
        {
          "output_type": "execute_result",
          "data": {
            "text/plain": [
              "47022.35294117647"
            ]
          },
          "metadata": {},
          "execution_count": 40
        }
      ],
      "source": [
        "año_actual = 2020\n",
        "año_fabricacion = 2003\n",
        "km_total = 44410.0\n",
        "km_promedio = km_total / (año_actual - año_fabricacion)\n",
        "\n",
        "km_total = km_total + km_promedio\n",
        "km_total\n",
        "\n"
      ]
    },
    {
      "cell_type": "markdown",
      "source": [
        "en la celda anterior obtuve el promedio de km que recorrera el carro en el 2021, tomando en cuenta que el dato que use es que actualmente estoy en el 2020, obtuve el promedio de lo q recorre el auto por año, y obtuve el total de km q hania recorrido hasta el 2020, con esos datos pude obtener la previsión de cuántos km recorria en el 2021 (año siguiente para el ejemplo) sumando el total de km hasta el 2020 y el promedio q recorre por año. En la siguiente celda obtendre lo mismo pero resumiendo la utima operación con +=\n"
      ],
      "metadata": {
        "id": "cfWa28-kL3QP"
      }
    },
    {
      "cell_type": "code",
      "source": [
        "año_actual = 2020\n",
        "año_fabricacion = 2003\n",
        "km_total = 44410.0\n",
        "km_promedio = km_total / (año_actual - año_fabricacion)\n",
        "\n",
        "km_total +=  km_promedio\n",
        "km_total"
      ],
      "metadata": {
        "colab": {
          "base_uri": "https://localhost:8080/"
        },
        "id": "iu5tatHBMiOc",
        "outputId": "6c5c53be-d80f-4df0-9370-3f6eaecff787"
      },
      "execution_count": null,
      "outputs": [
        {
          "output_type": "execute_result",
          "data": {
            "text/plain": [
              "47022.35294117647"
            ]
          },
          "metadata": {},
          "execution_count": 41
        }
      ]
    },
    {
      "cell_type": "markdown",
      "metadata": {
        "id": "fDBrHWSBltlB"
      },
      "source": [
        "### Conclusión:\n",
        "```\n",
        "\"valor = valor + 1\" es equivalente a \"valor += 1\"\n",
        "```"
      ]
    },
    {
      "cell_type": "markdown",
      "metadata": {
        "id": "uVAyJbmAltlC"
      },
      "source": [
        "### Declaración múltiple"
      ]
    },
    {
      "cell_type": "code",
      "execution_count": null,
      "metadata": {
        "id": "oMWEzjPOltlC"
      },
      "outputs": [],
      "source": [
        "año_actual, año_fabricacion, km_tota = 2020, 2003, 44410.0\n"
      ]
    },
    {
      "cell_type": "code",
      "execution_count": null,
      "metadata": {
        "colab": {
          "base_uri": "https://localhost:8080/"
        },
        "id": "9ZKlHkLultlE",
        "outputId": "b3d25b6d-5641-4842-9703-93b48e772d5a"
      },
      "outputs": [
        {
          "output_type": "execute_result",
          "data": {
            "text/plain": [
              "2020"
            ]
          },
          "metadata": {},
          "execution_count": 43
        }
      ],
      "source": [
        "año_actual"
      ]
    },
    {
      "cell_type": "code",
      "execution_count": null,
      "metadata": {
        "colab": {
          "base_uri": "https://localhost:8080/"
        },
        "id": "-mcMuW9nltlG",
        "outputId": "270a50e1-b17a-4f74-9094-dfe25f724d69"
      },
      "outputs": [
        {
          "output_type": "execute_result",
          "data": {
            "text/plain": [
              "2003"
            ]
          },
          "metadata": {},
          "execution_count": 44
        }
      ],
      "source": [
        "año_fabricacion"
      ]
    },
    {
      "cell_type": "code",
      "execution_count": null,
      "metadata": {
        "colab": {
          "base_uri": "https://localhost:8080/"
        },
        "id": "WFFavLIvltlL",
        "outputId": "464667ea-a639-480e-c280-cb0ea87bed43"
      },
      "outputs": [
        {
          "output_type": "execute_result",
          "data": {
            "text/plain": [
              "47022.35294117647"
            ]
          },
          "metadata": {},
          "execution_count": 45
        }
      ],
      "source": [
        "km_total"
      ]
    },
    {
      "cell_type": "markdown",
      "metadata": {
        "id": "uoRXMeRDltlQ"
      },
      "source": [
        "# 2.3 Tipos de datos"
      ]
    },
    {
      "cell_type": "markdown",
      "metadata": {
        "id": "sW_G6EjWltlQ"
      },
      "source": [
        "Los tipos de datos especifican como números y caracteres estarán guardados y manipulados dentro de un programa. Los tipos de datos básicos en Python son:\n",
        "\n",
        "1. **Números**\n",
        "    1. ***int*** - Enteros\n",
        "    - ***float*** - Decimales\n",
        "- **Booleanos** - Contiene valores True o False. Esencial cuando comenzamos a trabajar con declaraciones condicionales\n",
        "- ***Strings*** - Secuencia de uno o más caracteres que puede incluir letras, números y otros tipos de caracteres. Representa un texto.\n",
        "- **None** - Representa la ausencia de valor"
      ]
    },
    {
      "cell_type": "markdown",
      "metadata": {
        "id": "-HRRxQOtltlQ"
      },
      "source": [
        "### Números"
      ]
    },
    {
      "cell_type": "code",
      "execution_count": null,
      "metadata": {
        "id": "5PKIcIuUltlR"
      },
      "outputs": [],
      "source": [
        "año_actual = 2020\n"
      ]
    },
    {
      "cell_type": "code",
      "source": [
        "año_actual"
      ],
      "metadata": {
        "colab": {
          "base_uri": "https://localhost:8080/"
        },
        "id": "G4axw25mOTnd",
        "outputId": "c2e78532-0089-4664-8183-610cd6c76ee1"
      },
      "execution_count": null,
      "outputs": [
        {
          "output_type": "execute_result",
          "data": {
            "text/plain": [
              "2020"
            ]
          },
          "metadata": {},
          "execution_count": 56
        }
      ]
    },
    {
      "cell_type": "code",
      "execution_count": null,
      "metadata": {
        "id": "A0nySb3LltlZ"
      },
      "outputs": [],
      "source": [
        "año_fabricacion = 2013"
      ]
    },
    {
      "cell_type": "code",
      "source": [
        "type (año_fabricacion)"
      ],
      "metadata": {
        "id": "-fHKnL24PMwJ"
      },
      "execution_count": null,
      "outputs": []
    },
    {
      "cell_type": "code",
      "source": [
        "km_total = 44410.0"
      ],
      "metadata": {
        "id": "f8WO_sLTRBXN"
      },
      "execution_count": null,
      "outputs": []
    },
    {
      "cell_type": "code",
      "source": [
        "type (km_total)"
      ],
      "metadata": {
        "colab": {
          "base_uri": "https://localhost:8080/",
          "height": 182
        },
        "id": "-pqXFR6HRKXM",
        "outputId": "4d2c14e7-4983-4978-bd55-becefec786d5"
      },
      "execution_count": null,
      "outputs": [
        {
          "output_type": "error",
          "ename": "TypeError",
          "evalue": "ignored",
          "traceback": [
            "\u001b[0;31m---------------------------------------------------------------------------\u001b[0m",
            "\u001b[0;31mTypeError\u001b[0m                                 Traceback (most recent call last)",
            "\u001b[0;32m<ipython-input-65-e3a1aaf4b5d1>\u001b[0m in \u001b[0;36m<cell line: 1>\u001b[0;34m()\u001b[0m\n\u001b[0;32m----> 1\u001b[0;31m \u001b[0mtype\u001b[0m \u001b[0;34m(\u001b[0m\u001b[0mkm_total\u001b[0m\u001b[0;34m)\u001b[0m\u001b[0;34m\u001b[0m\u001b[0;34m\u001b[0m\u001b[0m\n\u001b[0m",
            "\u001b[0;31mTypeError\u001b[0m: 'int' object is not callable"
          ]
        }
      ]
    },
    {
      "cell_type": "markdown",
      "metadata": {
        "id": "7X9iheAnltld"
      },
      "source": [
        "### Booleanos"
      ]
    },
    {
      "cell_type": "code",
      "execution_count": null,
      "metadata": {
        "id": "liUYdchPltle"
      },
      "outputs": [],
      "source": [
        "zero_km = True"
      ]
    },
    {
      "cell_type": "code",
      "execution_count": null,
      "metadata": {
        "id": "oZIQAghaltlh",
        "colab": {
          "base_uri": "https://localhost:8080/"
        },
        "outputId": "44f3ce7e-f609-4342-ff5c-0caa636a4e76"
      },
      "outputs": [
        {
          "output_type": "execute_result",
          "data": {
            "text/plain": [
              "bool"
            ]
          },
          "metadata": {},
          "execution_count": 2
        }
      ],
      "source": [
        "type (zero_km)"
      ]
    },
    {
      "cell_type": "code",
      "execution_count": null,
      "metadata": {
        "id": "XCAYApe3ltlj"
      },
      "outputs": [],
      "source": [
        "zero_km = False"
      ]
    },
    {
      "cell_type": "code",
      "execution_count": null,
      "metadata": {
        "id": "mJ0nGEV7ltll",
        "colab": {
          "base_uri": "https://localhost:8080/"
        },
        "outputId": "3398def2-d8b1-4442-b180-1291a43d0698"
      },
      "outputs": [
        {
          "output_type": "execute_result",
          "data": {
            "text/plain": [
              "bool"
            ]
          },
          "metadata": {},
          "execution_count": 4
        }
      ],
      "source": [
        "type (zero_km)"
      ]
    },
    {
      "cell_type": "markdown",
      "metadata": {
        "id": "Ipjq4eiSltlp"
      },
      "source": [
        "### Strings"
      ]
    },
    {
      "cell_type": "code",
      "execution_count": null,
      "metadata": {
        "id": "OeW_GQzOltlr",
        "colab": {
          "base_uri": "https://localhost:8080/",
          "height": 36
        },
        "outputId": "1829d962-8a40-48de-eb1e-06eef945ec34"
      },
      "outputs": [
        {
          "output_type": "execute_result",
          "data": {
            "text/plain": [
              "'Jetta Variant'"
            ],
            "application/vnd.google.colaboratory.intrinsic+json": {
              "type": "string"
            }
          },
          "metadata": {},
          "execution_count": 7
        }
      ],
      "source": [
        "nombre = \"Jetta Variant\"\n",
        "nombre"
      ]
    },
    {
      "cell_type": "code",
      "execution_count": null,
      "metadata": {
        "id": "xF1Bi-Rkltlu",
        "colab": {
          "base_uri": "https://localhost:8080/",
          "height": 36
        },
        "outputId": "8f880d96-e1a7-4e97-cb81-9186e8b5fa31"
      },
      "outputs": [
        {
          "output_type": "execute_result",
          "data": {
            "text/plain": [
              "'Jetta \"Variant\"'"
            ],
            "application/vnd.google.colaboratory.intrinsic+json": {
              "type": "string"
            }
          },
          "metadata": {},
          "execution_count": 8
        }
      ],
      "source": [
        "nombre = 'Jetta \"Variant\"'\n",
        "nombre"
      ]
    },
    {
      "cell_type": "code",
      "execution_count": null,
      "metadata": {
        "id": "QlobSFUtltlw",
        "colab": {
          "base_uri": "https://localhost:8080/",
          "height": 36
        },
        "outputId": "0832cc13-a1b3-4604-e767-3e60f2ec37c7"
      },
      "outputs": [
        {
          "output_type": "execute_result",
          "data": {
            "text/plain": [
              "\"Jetta 'Variant'\""
            ],
            "application/vnd.google.colaboratory.intrinsic+json": {
              "type": "string"
            }
          },
          "metadata": {},
          "execution_count": 9
        }
      ],
      "source": [
        "nombre = \"Jetta 'Variant'\"\n",
        "nombre"
      ]
    },
    {
      "cell_type": "code",
      "execution_count": null,
      "metadata": {
        "id": "8LBWzzfbltly"
      },
      "outputs": [],
      "source": [
        "carro = '''\n",
        " Nombre\n",
        " Edad\n",
        " Nota\n",
        " '''"
      ]
    },
    {
      "cell_type": "code",
      "execution_count": null,
      "metadata": {
        "id": "ycEhoxtUltl0",
        "colab": {
          "base_uri": "https://localhost:8080/",
          "height": 36
        },
        "outputId": "3a052b06-68a9-40e2-a11d-cc7734644bbb"
      },
      "outputs": [
        {
          "output_type": "execute_result",
          "data": {
            "text/plain": [
              "'\\n Nombre\\n Edad\\n Nota\\n '"
            ],
            "application/vnd.google.colaboratory.intrinsic+json": {
              "type": "string"
            }
          },
          "metadata": {},
          "execution_count": 11
        }
      ],
      "source": [
        "carro"
      ]
    },
    {
      "cell_type": "code",
      "execution_count": null,
      "metadata": {
        "id": "bjZQzpuUltl2",
        "colab": {
          "base_uri": "https://localhost:8080/"
        },
        "outputId": "24defe61-a259-46ec-fefd-45cc527f3571"
      },
      "outputs": [
        {
          "output_type": "execute_result",
          "data": {
            "text/plain": [
              "str"
            ]
          },
          "metadata": {},
          "execution_count": 12
        }
      ],
      "source": [
        "type(carro)"
      ]
    },
    {
      "cell_type": "markdown",
      "metadata": {
        "id": "w6bJU-R9ltl5"
      },
      "source": [
        "### None"
      ]
    },
    {
      "cell_type": "code",
      "execution_count": null,
      "metadata": {
        "id": "RgeVhXGxltl5"
      },
      "outputs": [],
      "source": [
        "kilometraje = None\n",
        "kilometraje"
      ]
    },
    {
      "cell_type": "code",
      "execution_count": null,
      "metadata": {
        "id": "MJI6PKS6ltl8",
        "colab": {
          "base_uri": "https://localhost:8080/"
        },
        "outputId": "63c452bb-584e-4db6-ca02-2f6a3cb5f5f8"
      },
      "outputs": [
        {
          "output_type": "execute_result",
          "data": {
            "text/plain": [
              "NoneType"
            ]
          },
          "metadata": {},
          "execution_count": 14
        }
      ],
      "source": [
        "type (kilometraje)"
      ]
    },
    {
      "cell_type": "markdown",
      "metadata": {
        "id": "_ilupwV-ltl-"
      },
      "source": [
        "# 2.4 Conversión de tipos"
      ]
    },
    {
      "cell_type": "code",
      "execution_count": null,
      "metadata": {
        "id": "D5hq5Qbvltl-"
      },
      "outputs": [],
      "source": [
        "a = 10\n",
        "b = 20\n",
        "c = 'Python es '\n",
        "d = 'genial'"
      ]
    },
    {
      "cell_type": "code",
      "execution_count": null,
      "metadata": {
        "id": "aJ0vi8_Nltl_",
        "colab": {
          "base_uri": "https://localhost:8080/"
        },
        "outputId": "696f0fc7-744d-4220-f879-33819ccde84d"
      },
      "outputs": [
        {
          "output_type": "execute_result",
          "data": {
            "text/plain": [
              "int"
            ]
          },
          "metadata": {},
          "execution_count": 16
        }
      ],
      "source": [
        "type(a)"
      ]
    },
    {
      "cell_type": "code",
      "execution_count": null,
      "metadata": {
        "id": "29FVH7p7ltmB",
        "colab": {
          "base_uri": "https://localhost:8080/"
        },
        "outputId": "8e051ce3-9ed9-451d-96c2-2e5be74640a5"
      },
      "outputs": [
        {
          "output_type": "execute_result",
          "data": {
            "text/plain": [
              "int"
            ]
          },
          "metadata": {},
          "execution_count": 17
        }
      ],
      "source": [
        "type(b)"
      ]
    },
    {
      "cell_type": "code",
      "execution_count": null,
      "metadata": {
        "id": "NGseTO2SltmC",
        "colab": {
          "base_uri": "https://localhost:8080/"
        },
        "outputId": "4289224a-7c18-4ef9-c3fa-3bc6ddd120f7"
      },
      "outputs": [
        {
          "output_type": "execute_result",
          "data": {
            "text/plain": [
              "str"
            ]
          },
          "metadata": {},
          "execution_count": 18
        }
      ],
      "source": [
        "type(c)"
      ]
    },
    {
      "cell_type": "code",
      "execution_count": null,
      "metadata": {
        "id": "yaSBhwNWltmE",
        "colab": {
          "base_uri": "https://localhost:8080/"
        },
        "outputId": "a01a1dcb-96aa-4b4c-e334-d02471afbd53"
      },
      "outputs": [
        {
          "output_type": "execute_result",
          "data": {
            "text/plain": [
              "str"
            ]
          },
          "metadata": {},
          "execution_count": 19
        }
      ],
      "source": [
        "type(d)"
      ]
    },
    {
      "cell_type": "code",
      "execution_count": null,
      "metadata": {
        "id": "5zMXVwLHltmF",
        "colab": {
          "base_uri": "https://localhost:8080/"
        },
        "outputId": "068bd43c-8ef0-4738-94c8-bb57686dc227"
      },
      "outputs": [
        {
          "output_type": "execute_result",
          "data": {
            "text/plain": [
              "30"
            ]
          },
          "metadata": {},
          "execution_count": 20
        }
      ],
      "source": [
        "a + b"
      ]
    },
    {
      "cell_type": "code",
      "execution_count": null,
      "metadata": {
        "id": "JJrqKRZFltmJ",
        "colab": {
          "base_uri": "https://localhost:8080/",
          "height": 36
        },
        "outputId": "fe870cc5-0f87-4d19-8b70-b0befa49d710"
      },
      "outputs": [
        {
          "output_type": "execute_result",
          "data": {
            "text/plain": [
              "'Python es genial'"
            ],
            "application/vnd.google.colaboratory.intrinsic+json": {
              "type": "string"
            }
          },
          "metadata": {},
          "execution_count": 21
        }
      ],
      "source": [
        "c + d"
      ]
    },
    {
      "cell_type": "code",
      "execution_count": null,
      "metadata": {
        "id": "hWEIttpgltmM"
      },
      "outputs": [],
      "source": [
        " #c + a"
      ]
    },
    {
      "cell_type": "markdown",
      "metadata": {
        "id": "dByigpENltmO"
      },
      "source": [
        "### Conversiones de tipo\n",
        "\n",
        "Funciones int(), float(), str()"
      ]
    },
    {
      "cell_type": "code",
      "execution_count": null,
      "metadata": {
        "id": "MtecvWlsltmP",
        "colab": {
          "base_uri": "https://localhost:8080/",
          "height": 36
        },
        "outputId": "95924329-ffad-4d61-864c-b1bd8f039e10"
      },
      "outputs": [
        {
          "output_type": "execute_result",
          "data": {
            "text/plain": [
              "'10'"
            ],
            "application/vnd.google.colaboratory.intrinsic+json": {
              "type": "string"
            }
          },
          "metadata": {},
          "execution_count": 23
        }
      ],
      "source": [
        "str(a)"
      ]
    },
    {
      "cell_type": "code",
      "execution_count": null,
      "metadata": {
        "id": "S1NuIhDVltmS",
        "colab": {
          "base_uri": "https://localhost:8080/"
        },
        "outputId": "30543098-f67c-4291-ef03-53e4af542a50"
      },
      "outputs": [
        {
          "output_type": "execute_result",
          "data": {
            "text/plain": [
              "int"
            ]
          },
          "metadata": {},
          "execution_count": 24
        }
      ],
      "source": [
        "type (a)"
      ]
    },
    {
      "cell_type": "code",
      "execution_count": null,
      "metadata": {
        "id": "3kCUD1X-ltmT",
        "colab": {
          "base_uri": "https://localhost:8080/"
        },
        "outputId": "da3b9298-b943-446c-d200-4ba6e40fc661"
      },
      "outputs": [
        {
          "output_type": "execute_result",
          "data": {
            "text/plain": [
              "str"
            ]
          },
          "metadata": {},
          "execution_count": 26
        }
      ],
      "source": [
        "type(str(a))"
      ]
    },
    {
      "cell_type": "code",
      "execution_count": null,
      "metadata": {
        "id": "TTjSEVRaltmU",
        "colab": {
          "base_uri": "https://localhost:8080/",
          "height": 36
        },
        "outputId": "1ba6901b-9a20-4e86-f0dd-50067212eda0"
      },
      "outputs": [
        {
          "output_type": "execute_result",
          "data": {
            "text/plain": [
              "'Python es 10'"
            ],
            "application/vnd.google.colaboratory.intrinsic+json": {
              "type": "string"
            }
          },
          "metadata": {},
          "execution_count": 28
        }
      ],
      "source": [
        "c + str(a)"
      ]
    },
    {
      "cell_type": "code",
      "execution_count": null,
      "metadata": {
        "id": "P1P1bXaYltmV",
        "colab": {
          "base_uri": "https://localhost:8080/"
        },
        "outputId": "eade47fb-f9b8-4bea-caf3-e6d8e011f6af"
      },
      "outputs": [
        {
          "output_type": "execute_result",
          "data": {
            "text/plain": [
              "10.0"
            ]
          },
          "metadata": {},
          "execution_count": 29
        }
      ],
      "source": [
        "float(a)"
      ]
    },
    {
      "cell_type": "code",
      "execution_count": null,
      "metadata": {
        "id": "F_8Cn0aAltmW",
        "colab": {
          "base_uri": "https://localhost:8080/"
        },
        "outputId": "bff3d168-13da-4bc2-b037-a2922956530a"
      },
      "outputs": [
        {
          "output_type": "execute_result",
          "data": {
            "text/plain": [
              "float"
            ]
          },
          "metadata": {},
          "execution_count": 30
        }
      ],
      "source": [
        "type (float(a))"
      ]
    },
    {
      "cell_type": "code",
      "execution_count": null,
      "metadata": {
        "id": "_KA6MUgmltmY"
      },
      "outputs": [],
      "source": [
        "var = 3.141592"
      ]
    },
    {
      "cell_type": "code",
      "execution_count": null,
      "metadata": {
        "id": "7uiCxqUcltma",
        "colab": {
          "base_uri": "https://localhost:8080/"
        },
        "outputId": "71b68539-0ec7-485e-e222-941cdc527a11"
      },
      "outputs": [
        {
          "output_type": "execute_result",
          "data": {
            "text/plain": [
              "3"
            ]
          },
          "metadata": {},
          "execution_count": 32
        }
      ],
      "source": [
        "int(var)"
      ]
    },
    {
      "cell_type": "code",
      "source": [
        "var = 3.99"
      ],
      "metadata": {
        "id": "uJCXP66pWw1i"
      },
      "execution_count": null,
      "outputs": []
    },
    {
      "cell_type": "code",
      "source": [
        "int (var)"
      ],
      "metadata": {
        "id": "AVA8vAOcW4vm",
        "outputId": "4af0fd69-4a88-4882-df78-0e7fe2af81ab",
        "colab": {
          "base_uri": "https://localhost:8080/"
        }
      },
      "execution_count": null,
      "outputs": [
        {
          "output_type": "execute_result",
          "data": {
            "text/plain": [
              "3"
            ]
          },
          "metadata": {},
          "execution_count": 34
        }
      ]
    },
    {
      "cell_type": "raw",
      "metadata": {
        "id": "UMqFOEZU6Ni-"
      },
      "source": []
    },
    {
      "cell_type": "markdown",
      "metadata": {
        "id": "gGpflJMYltmd"
      },
      "source": [
        "# 2.5 Indentación, comentarios y formatación de *strings*\n",
        "\n",
        "### Indentación\n",
        "\n",
        "En el lenguaje Python los programas son estructurados por medio de indentación. En cualquier lenguaje de programación la práctica de colocar indentación es bastante útil, facilitando la lectura y también el mantenimiento del código. En Python la indentación no es solamente una cuestión de organización y estilo, sino que es un requisito del lenguaje."
      ]
    },
    {
      "cell_type": "code",
      "execution_count": null,
      "metadata": {
        "id": "DqXANnyultmw",
        "colab": {
          "base_uri": "https://localhost:8080/"
        },
        "outputId": "a78de6e4-5862-46bb-f5c0-edbc632b51f9"
      },
      "outputs": [
        {
          "output_type": "stream",
          "name": "stdout",
          "text": [
            "Verdadero\n"
          ]
        }
      ],
      "source": [
        "año_actual = 2020\n",
        "año_fabricacion = 2020\n",
        "\n",
        "if (año_actual == año_fabricacion):\n",
        "    print('Verdadero')\n",
        "else:\n",
        "    print('Falso')"
      ]
    },
    {
      "cell_type": "markdown",
      "metadata": {
        "id": "dNBfv7x7ltmy"
      },
      "source": [
        "### Comentarios\n",
        "\n",
        "Comentarios son extremamente importantes en un programa. Consiste en un texto que describe lo que el programa o una parte específica del programa está haciendo. Los comentarios son ignorados por el interpretador Python.\n",
        "\n",
        "Podemos tener comentarios de una única linea o de múltiples líneas."
      ]
    },
    {
      "cell_type": "code",
      "execution_count": null,
      "metadata": {
        "id": "GN3DfwiRltmy"
      },
      "outputs": [],
      "source": [
        "# Esto es un comentario\n",
        "año_actual = 2020\n",
        "año_actual"
      ]
    },
    {
      "cell_type": "code",
      "execution_count": null,
      "metadata": {
        "id": "PICBiohFltm2"
      },
      "outputs": [],
      "source": [
        "# Esto\n",
        "# es un\n",
        "# comentario\n",
        "año_actual = 2020\n",
        "año_actual"
      ]
    },
    {
      "cell_type": "code",
      "execution_count": null,
      "metadata": {
        "id": "PTkJ4Vjultm4",
        "colab": {
          "base_uri": "https://localhost:8080/"
        },
        "outputId": "247e8e5f-9ade-4804-ed65-66e30e5114d2"
      },
      "outputs": [
        {
          "output_type": "execute_result",
          "data": {
            "text/plain": [
              "2020"
            ]
          },
          "metadata": {},
          "execution_count": 36
        }
      ],
      "source": [
        "'''Esto es un\n",
        "comentario'''\n",
        "año_actual = 2020\n",
        "año_actual"
      ]
    },
    {
      "cell_type": "code",
      "execution_count": null,
      "metadata": {
        "id": "SYEGdALxltm5",
        "colab": {
          "base_uri": "https://localhost:8080/"
        },
        "outputId": "b7a91022-8592-4d12-9252-3853077ca1e7"
      },
      "outputs": [
        {
          "output_type": "stream",
          "name": "stdout",
          "text": [
            "Verdadero\n"
          ]
        }
      ],
      "source": [
        "# Definiendo variables\n",
        "año_actual = 2020\n",
        "año_fabricacion = 2020\n",
        "\n",
        "'''\n",
        "Estructura condicional que vamos\n",
        "a aprender la próxima clase\n",
        "'''\n",
        "if (año_actual == año_fabricacion):   # Probando si la condición es verdadera\n",
        "    print('Verdadero')\n",
        "else:                               # Probando si la condición es falsa\n",
        "    print('Falso')"
      ]
    },
    {
      "cell_type": "markdown",
      "metadata": {
        "id": "8--bcJ01ltm8"
      },
      "source": [
        "### Formatación de *strings*"
      ]
    },
    {
      "cell_type": "markdown",
      "metadata": {
        "id": "CMovhJZ_ltnG"
      },
      "source": [
        "## *str.format()*\n",
        "\n",
        "https://docs.python.org/3.6/library/stdtypes.html#str.format"
      ]
    },
    {
      "cell_type": "code",
      "execution_count": null,
      "metadata": {
        "id": "N12xmMehltnG",
        "colab": {
          "base_uri": "https://localhost:8080/"
        },
        "outputId": "b29a4ca3-3471-428d-9d3c-e6ca4b82d698"
      },
      "outputs": [
        {
          "output_type": "stream",
          "name": "stdout",
          "text": [
            "Hola, {}\n"
          ]
        }
      ],
      "source": [
        "print('Hola, {}')"
      ]
    },
    {
      "cell_type": "code",
      "execution_count": null,
      "metadata": {
        "id": "mRBmU9G1ltnJ",
        "colab": {
          "base_uri": "https://localhost:8080/"
        },
        "outputId": "17145543-bb4d-480e-c639-e03d8aadba2a"
      },
      "outputs": [
        {
          "output_type": "stream",
          "name": "stdout",
          "text": [
            "Hola, Andrea\n"
          ]
        }
      ],
      "source": [
        "print('Hola, {}'.format('Andrea'))"
      ]
    },
    {
      "cell_type": "code",
      "execution_count": null,
      "metadata": {
        "id": "wpqEsTwnltnL",
        "colab": {
          "base_uri": "https://localhost:8080/"
        },
        "outputId": "b835042e-614b-4c7e-b9a2-95d88ef907e5"
      },
      "outputs": [
        {
          "output_type": "stream",
          "name": "stdout",
          "text": [
            "Hola, Andrea !Esta es su visita numero 32\n"
          ]
        }
      ],
      "source": [
        "print('Hola, {} !Esta es su visita numero {}'.format('Andrea', 32))"
      ]
    },
    {
      "cell_type": "code",
      "source": [
        "print('Hola, {nombre} !Esta es su visita numero {visita}'.format(visita=32,nombre='Andrea', ))"
      ],
      "metadata": {
        "id": "pJKBeZ5rZDRT",
        "outputId": "88215dc9-19e5-4468-cf3a-4652115635d8",
        "colab": {
          "base_uri": "https://localhost:8080/"
        }
      },
      "execution_count": null,
      "outputs": [
        {
          "output_type": "stream",
          "name": "stdout",
          "text": [
            "Hola, Andrea !Esta es su visita numero 32\n"
          ]
        }
      ]
    },
    {
      "cell_type": "markdown",
      "metadata": {
        "id": "V-wPNUN9ltnN"
      },
      "source": [
        "## *f-Strings*\n",
        "\n",
        "https://docs.python.org/3.6/reference/lexical_analysis.html#f-strings"
      ]
    },
    {
      "cell_type": "code",
      "execution_count": null,
      "metadata": {
        "id": "7Fq_WPv0ltnO"
      },
      "outputs": [],
      "source": [
        "nombre = 'Andrea'\n",
        "visita = 32\n"
      ]
    },
    {
      "cell_type": "code",
      "execution_count": null,
      "metadata": {
        "id": "bE3qbd6WltnR",
        "colab": {
          "base_uri": "https://localhost:8080/"
        },
        "outputId": "698454a2-9dfd-460a-ec01-36f1505943d6"
      },
      "outputs": [
        {
          "output_type": "stream",
          "name": "stdout",
          "text": [
            "Hola, {nombre} !Esta es su visita numero {visita}\n"
          ]
        }
      ],
      "source": [
        "print('Hola, {nombre} !Esta es su visita numero {visita}')"
      ]
    },
    {
      "cell_type": "code",
      "source": [
        "print(f'Hola, {nombre} !Esta es su visita numero {visita}')"
      ],
      "metadata": {
        "id": "ix9jruYoZjB2",
        "outputId": "0212e87f-331f-40ec-ca98-40e6710ed6cb",
        "colab": {
          "base_uri": "https://localhost:8080/"
        }
      },
      "execution_count": null,
      "outputs": [
        {
          "output_type": "stream",
          "name": "stdout",
          "text": [
            "Hola, Andrea !Esta es su visita numero 32\n"
          ]
        }
      ]
    },
    {
      "cell_type": "markdown",
      "metadata": {
        "id": "_IZuNE48ltnS"
      },
      "source": [
        "# <font color=green> 3. TRABAJANDO CON LISTAS\n",
        "---"
      ]
    },
    {
      "cell_type": "markdown",
      "metadata": {
        "id": "zhS89xysltnS"
      },
      "source": [
        "# 3.1 Creando listas\n",
        "\n",
        "Listas son secuencias **mutables** que son utilizadas para guardar colecciones de objetos, generalmente homogéneos. Pueden ser construídas de varias formas:\n",
        "```\n",
        "- Utilizando un par de corchetes: [ ], [ 1 ]\n",
        "- Utilizando un par de corchetes con objetos separados por comas: [ 1, 2, 3 ]\n",
        "```"
      ]
    },
    {
      "cell_type": "code",
      "execution_count": null,
      "metadata": {
        "id": "aE4UWF10ltnS",
        "colab": {
          "base_uri": "https://localhost:8080/"
        },
        "outputId": "a25764b5-b556-4546-d92c-84866cb7fe13"
      },
      "outputs": [
        {
          "output_type": "execute_result",
          "data": {
            "text/plain": [
              "['Cerraduras eléctricas',\n",
              " 'Piloto automático',\n",
              " 'Asientos de cuero',\n",
              " 'Aire acondicionado',\n",
              " 'Sensor de estacionamiento',\n",
              " 'Sensor de lluvia']"
            ]
          },
          "metadata": {},
          "execution_count": 46
        }
      ],
      "source": [
        "Accesorios = ['Cerraduras eléctricas', 'Piloto automático', 'Asientos de cuero', 'Aire acondicionado', 'Sensor de estacionamiento', 'Sensor de lluvia']\n",
        "Accesorios"
      ]
    },
    {
      "cell_type": "code",
      "source": [
        "type(Accesorios)"
      ],
      "metadata": {
        "id": "rqnrTC-baplw",
        "outputId": "13523483-63f9-45e6-e0a6-3774c297090f",
        "colab": {
          "base_uri": "https://localhost:8080/"
        }
      },
      "execution_count": null,
      "outputs": [
        {
          "output_type": "execute_result",
          "data": {
            "text/plain": [
              "list"
            ]
          },
          "metadata": {},
          "execution_count": 47
        }
      ]
    },
    {
      "cell_type": "markdown",
      "metadata": {
        "id": "Mmlkh5TVltnT"
      },
      "source": [
        "### Lista con tipos de datos variados"
      ]
    },
    {
      "cell_type": "code",
      "execution_count": null,
      "metadata": {
        "id": "Mfpu7NoJltnT"
      },
      "outputs": [],
      "source": [
        "Carro_1 = ['Jetta Variant', 'Motor 4.0 Turbo', 2003, 44410.0, False, ['Cerraduras eléctricas', 'Piloto automático'], 88078.64]\n",
        "Carro_2 = ['Passat', 'Motor Diesel', 1991, 5712.0, False, ['Central multimedia', 'Frenos ABS'], 106161.94]"
      ]
    },
    {
      "cell_type": "code",
      "execution_count": null,
      "metadata": {
        "id": "EJSJFJjKltnV",
        "colab": {
          "base_uri": "https://localhost:8080/"
        },
        "outputId": "a1ac4ab6-245c-4da1-b5d2-33df20533706"
      },
      "outputs": [
        {
          "output_type": "execute_result",
          "data": {
            "text/plain": [
              "['Jetta Variant',\n",
              " 'Motor 4.0 Turbo',\n",
              " 2003,\n",
              " 44410.0,\n",
              " False,\n",
              " ['Cerraduras eléctricas', 'Piloto automático'],\n",
              " 88078.64]"
            ]
          },
          "metadata": {},
          "execution_count": 50
        }
      ],
      "source": [
        "Carro_1"
      ]
    },
    {
      "cell_type": "code",
      "execution_count": null,
      "metadata": {
        "id": "7MMG7L8VltnX",
        "colab": {
          "base_uri": "https://localhost:8080/"
        },
        "outputId": "163067b2-c89a-4a0c-9815-96397738b066"
      },
      "outputs": [
        {
          "output_type": "execute_result",
          "data": {
            "text/plain": [
              "['Passat',\n",
              " 'Motor Diesel',\n",
              " 1991,\n",
              " 5712.0,\n",
              " False,\n",
              " ['Central multimedia', 'Frenos ABS'],\n",
              " 106161.94]"
            ]
          },
          "metadata": {},
          "execution_count": 51
        }
      ],
      "source": [
        "Carro_2"
      ]
    },
    {
      "cell_type": "code",
      "execution_count": null,
      "metadata": {
        "id": "7E8erLgZltnZ",
        "colab": {
          "base_uri": "https://localhost:8080/"
        },
        "outputId": "1bf2998f-477e-406a-eff9-41378078993b"
      },
      "outputs": [
        {
          "output_type": "execute_result",
          "data": {
            "text/plain": [
              "[['Jetta Variant',\n",
              "  'Motor 4.0 Turbo',\n",
              "  2003,\n",
              "  44410.0,\n",
              "  False,\n",
              "  ['Cerraduras eléctricas', 'Piloto automático'],\n",
              "  88078.64],\n",
              " ['Passat',\n",
              "  'Motor Diesel',\n",
              "  1991,\n",
              "  5712.0,\n",
              "  False,\n",
              "  ['Central multimedia', 'Frenos ABS'],\n",
              "  106161.94]]"
            ]
          },
          "metadata": {},
          "execution_count": 53
        }
      ],
      "source": [
        "Carros = [Carro_1, Carro_2]\n",
        "Carros"
      ]
    },
    {
      "cell_type": "markdown",
      "metadata": {
        "id": "5yMXJ0xdltna"
      },
      "source": [
        "# 3.2 Operaciones con listas\n",
        "\n",
        "https://docs.python.org/3.6/library/stdtypes.html#common-sequence-operations"
      ]
    },
    {
      "cell_type": "markdown",
      "metadata": {
        "id": "YSorJOGlltna"
      },
      "source": [
        "## *x in A*\n",
        "\n",
        "Devuelve **True** si un elemento de la lista *A es igual a x*."
      ]
    },
    {
      "cell_type": "code",
      "execution_count": null,
      "metadata": {
        "id": "GgSP_nlHltnb",
        "colab": {
          "base_uri": "https://localhost:8080/"
        },
        "outputId": "5b0b2de0-229e-4894-9083-ea7ff64147b3"
      },
      "outputs": [
        {
          "output_type": "execute_result",
          "data": {
            "text/plain": [
              "['Cerraduras eléctricas',\n",
              " 'Piloto automático',\n",
              " 'Asientos de cuero',\n",
              " 'Aire acondicionado',\n",
              " 'Sensor de estacionamiento',\n",
              " 'Sensor de lluvia']"
            ]
          },
          "metadata": {},
          "execution_count": 54
        }
      ],
      "source": [
        "Accesorios"
      ]
    },
    {
      "cell_type": "code",
      "execution_count": null,
      "metadata": {
        "id": "_JyyHPmWltnd",
        "colab": {
          "base_uri": "https://localhost:8080/"
        },
        "outputId": "154b0009-51ec-41fb-ac9d-349997059ca4"
      },
      "outputs": [
        {
          "output_type": "execute_result",
          "data": {
            "text/plain": [
              "True"
            ]
          },
          "metadata": {},
          "execution_count": 55
        }
      ],
      "source": [
        "'Cerraduras eléctricas' in Accesorios\n"
      ]
    },
    {
      "cell_type": "code",
      "execution_count": null,
      "metadata": {
        "id": "tebg9gAyltne",
        "colab": {
          "base_uri": "https://localhost:8080/"
        },
        "outputId": "860bed0d-7fa6-4de6-86bb-5f12e28c2f20"
      },
      "outputs": [
        {
          "output_type": "execute_result",
          "data": {
            "text/plain": [
              "False"
            ]
          },
          "metadata": {},
          "execution_count": 56
        }
      ],
      "source": [
        "'4 x 4' in Accesorios"
      ]
    },
    {
      "cell_type": "code",
      "execution_count": null,
      "metadata": {
        "id": "W_1PKJYsltnf",
        "colab": {
          "base_uri": "https://localhost:8080/"
        },
        "outputId": "cfff8916-039e-41eb-d63e-61af7a6d9a41"
      },
      "outputs": [
        {
          "output_type": "execute_result",
          "data": {
            "text/plain": [
              "False"
            ]
          },
          "metadata": {},
          "execution_count": 57
        }
      ],
      "source": [
        "'Cerraduras eléctricas' not in Accesorios\n"
      ]
    },
    {
      "cell_type": "code",
      "execution_count": null,
      "metadata": {
        "id": "1WNsBXFyltng",
        "colab": {
          "base_uri": "https://localhost:8080/"
        },
        "outputId": "68643d02-3de5-48eb-baba-46f94b13eedf"
      },
      "outputs": [
        {
          "output_type": "execute_result",
          "data": {
            "text/plain": [
              "True"
            ]
          },
          "metadata": {},
          "execution_count": 58
        }
      ],
      "source": [
        "'4 x 4' not in Accesorios"
      ]
    },
    {
      "cell_type": "markdown",
      "metadata": {
        "id": "RF6_rf90ltnh"
      },
      "source": [
        "## *A + B*\n",
        "\n",
        "Concatena las listas *A y B*."
      ]
    },
    {
      "cell_type": "code",
      "execution_count": null,
      "metadata": {
        "id": "8lnzbYnRltnh"
      },
      "outputs": [],
      "source": [
        "A = ['Cerraduras eléctricas', 'Piloto automático', 'Asientos de cuero']\n",
        "B = ['Aire acondicionado', 'Sensor de estacionamiento', 'Sensor de lluvia']"
      ]
    },
    {
      "cell_type": "code",
      "execution_count": null,
      "metadata": {
        "id": "SzbiHHF4ltni",
        "colab": {
          "base_uri": "https://localhost:8080/"
        },
        "outputId": "3eb222f3-d0cf-4e6d-ad9d-972454c2b20b"
      },
      "outputs": [
        {
          "output_type": "execute_result",
          "data": {
            "text/plain": [
              "2"
            ]
          },
          "metadata": {},
          "execution_count": 59
        }
      ],
      "source": [
        "1 + 1"
      ]
    },
    {
      "cell_type": "code",
      "execution_count": null,
      "metadata": {
        "id": "It5Cn5aXltni",
        "colab": {
          "base_uri": "https://localhost:8080/",
          "height": 36
        },
        "outputId": "16999e54-0053-4878-aeb5-0434f14c6d93"
      },
      "outputs": [
        {
          "output_type": "execute_result",
          "data": {
            "text/plain": [
              "'11'"
            ],
            "application/vnd.google.colaboratory.intrinsic+json": {
              "type": "string"
            }
          },
          "metadata": {},
          "execution_count": 60
        }
      ],
      "source": [
        "'1'+ '1'"
      ]
    },
    {
      "cell_type": "code",
      "execution_count": null,
      "metadata": {
        "id": "l7gF4Ph5ltnj",
        "colab": {
          "base_uri": "https://localhost:8080/"
        },
        "outputId": "0c3765cb-2cab-487b-abb9-da2c3130b134"
      },
      "outputs": [
        {
          "output_type": "execute_result",
          "data": {
            "text/plain": [
              "['Cerraduras eléctricas',\n",
              " 'Piloto automático',\n",
              " 'Asientos de cuero',\n",
              " 'Aire acondicionado',\n",
              " 'Sensor de estacionamiento',\n",
              " 'Sensor de lluvia']"
            ]
          },
          "metadata": {},
          "execution_count": 63
        }
      ],
      "source": [
        "A + B"
      ]
    },
    {
      "cell_type": "markdown",
      "metadata": {
        "id": "iTv5t7zAltnk"
      },
      "source": [
        "## *len(A)*\n",
        "\n",
        "Tamaño de la lista A."
      ]
    },
    {
      "cell_type": "code",
      "execution_count": null,
      "metadata": {
        "id": "dtbuCDSOltnk",
        "colab": {
          "base_uri": "https://localhost:8080/"
        },
        "outputId": "108dbad5-d1f4-4373-d4a3-1cfa3f5b08e8"
      },
      "outputs": [
        {
          "output_type": "execute_result",
          "data": {
            "text/plain": [
              "6"
            ]
          },
          "metadata": {},
          "execution_count": 64
        }
      ],
      "source": [
        "len(Accesorios)"
      ]
    },
    {
      "cell_type": "markdown",
      "metadata": {
        "id": "k7wWCbAmltnl"
      },
      "source": [
        "# 3.3 Selecciones en listas"
      ]
    },
    {
      "cell_type": "markdown",
      "metadata": {
        "id": "uF3NmgUaltnl"
      },
      "source": [
        "## *A[ n ]*\n",
        "\n",
        "Devuelve el n-ésimo objeto de la lista *A*.\n",
        "\n",
        "<font color=red>**Observación:**</font> Listas tienen indexación con inicio en cero."
      ]
    },
    {
      "cell_type": "code",
      "execution_count": null,
      "metadata": {
        "id": "f5ct7w1Wltnm",
        "colab": {
          "base_uri": "https://localhost:8080/"
        },
        "outputId": "d73a72cb-ee50-425c-d470-7fb75a0ac9bc"
      },
      "outputs": [
        {
          "output_type": "execute_result",
          "data": {
            "text/plain": [
              "['Cerraduras eléctricas',\n",
              " 'Piloto automático',\n",
              " 'Asientos de cuero',\n",
              " 'Aire acondicionado',\n",
              " 'Sensor de estacionamiento',\n",
              " 'Sensor de lluvia']"
            ]
          },
          "metadata": {},
          "execution_count": 65
        }
      ],
      "source": [
        "Accesorios"
      ]
    },
    {
      "cell_type": "code",
      "execution_count": null,
      "metadata": {
        "id": "-BLG7yifltnn",
        "colab": {
          "base_uri": "https://localhost:8080/",
          "height": 36
        },
        "outputId": "305c3ddd-c7a1-47ac-9929-cd9e9ae52f30"
      },
      "outputs": [
        {
          "output_type": "execute_result",
          "data": {
            "text/plain": [
              "'Cerraduras eléctricas'"
            ],
            "application/vnd.google.colaboratory.intrinsic+json": {
              "type": "string"
            }
          },
          "metadata": {},
          "execution_count": 66
        }
      ],
      "source": [
        "Accesorios[0]"
      ]
    },
    {
      "cell_type": "code",
      "execution_count": null,
      "metadata": {
        "id": "SoL6PIjJltno",
        "colab": {
          "base_uri": "https://localhost:8080/",
          "height": 36
        },
        "outputId": "669d4426-5510-433a-f96f-8ca8a1043cd6"
      },
      "outputs": [
        {
          "output_type": "execute_result",
          "data": {
            "text/plain": [
              "'Piloto automático'"
            ],
            "application/vnd.google.colaboratory.intrinsic+json": {
              "type": "string"
            }
          },
          "metadata": {},
          "execution_count": 67
        }
      ],
      "source": [
        "Accesorios[1]"
      ]
    },
    {
      "cell_type": "code",
      "execution_count": null,
      "metadata": {
        "id": "pGMDc5FLltnq",
        "colab": {
          "base_uri": "https://localhost:8080/",
          "height": 36
        },
        "outputId": "3fa8b825-414d-4e43-86ba-80a491de28ea"
      },
      "outputs": [
        {
          "output_type": "execute_result",
          "data": {
            "text/plain": [
              "'Sensor de lluvia'"
            ],
            "application/vnd.google.colaboratory.intrinsic+json": {
              "type": "string"
            }
          },
          "metadata": {},
          "execution_count": 70
        }
      ],
      "source": [
        "Accesorios[-1]"
      ]
    },
    {
      "cell_type": "code",
      "execution_count": null,
      "metadata": {
        "id": "m3AaFe73ltnr",
        "colab": {
          "base_uri": "https://localhost:8080/",
          "height": 36
        },
        "outputId": "869d1394-406f-4570-8ffc-85224ff36a44"
      },
      "outputs": [
        {
          "output_type": "execute_result",
          "data": {
            "text/plain": [
              "'Sensor de estacionamiento'"
            ],
            "application/vnd.google.colaboratory.intrinsic+json": {
              "type": "string"
            }
          },
          "metadata": {},
          "execution_count": 71
        }
      ],
      "source": [
        "Accesorios[-2]"
      ]
    },
    {
      "cell_type": "code",
      "execution_count": null,
      "metadata": {
        "id": "AeDJviqoltns",
        "colab": {
          "base_uri": "https://localhost:8080/"
        },
        "outputId": "e2fa60f5-926b-453d-a74b-ba58ae547059"
      },
      "outputs": [
        {
          "output_type": "execute_result",
          "data": {
            "text/plain": [
              "[['Jetta Variant',\n",
              "  'Motor 4.0 Turbo',\n",
              "  2003,\n",
              "  44410.0,\n",
              "  False,\n",
              "  ['Cerraduras eléctricas', 'Piloto automático'],\n",
              "  88078.64],\n",
              " ['Passat',\n",
              "  'Motor Diesel',\n",
              "  1991,\n",
              "  5712.0,\n",
              "  False,\n",
              "  ['Central multimedia', 'Frenos ABS'],\n",
              "  106161.94]]"
            ]
          },
          "metadata": {},
          "execution_count": 72
        }
      ],
      "source": [
        "Carros"
      ]
    },
    {
      "cell_type": "code",
      "execution_count": null,
      "metadata": {
        "id": "KdenG1BZltnt",
        "colab": {
          "base_uri": "https://localhost:8080/"
        },
        "outputId": "d496e15d-f30b-436e-fe20-3948cb9a8dff"
      },
      "outputs": [
        {
          "output_type": "execute_result",
          "data": {
            "text/plain": [
              "['Jetta Variant',\n",
              " 'Motor 4.0 Turbo',\n",
              " 2003,\n",
              " 44410.0,\n",
              " False,\n",
              " ['Cerraduras eléctricas', 'Piloto automático'],\n",
              " 88078.64]"
            ]
          },
          "metadata": {},
          "execution_count": 73
        }
      ],
      "source": [
        "Carros[0]"
      ]
    },
    {
      "cell_type": "code",
      "execution_count": null,
      "metadata": {
        "id": "iOjsfrlFltnu",
        "colab": {
          "base_uri": "https://localhost:8080/",
          "height": 36
        },
        "outputId": "f21f663e-f2b6-4cdf-9786-e6f68a09afc0"
      },
      "outputs": [
        {
          "output_type": "execute_result",
          "data": {
            "text/plain": [
              "'Jetta Variant'"
            ],
            "application/vnd.google.colaboratory.intrinsic+json": {
              "type": "string"
            }
          },
          "metadata": {},
          "execution_count": 74
        }
      ],
      "source": [
        "Carros[0][0]"
      ]
    },
    {
      "cell_type": "code",
      "execution_count": null,
      "metadata": {
        "id": "6BrON70Zltnu",
        "colab": {
          "base_uri": "https://localhost:8080/"
        },
        "outputId": "2c85f4cb-2502-4e02-eb4c-1b07bc924947"
      },
      "outputs": [
        {
          "output_type": "execute_result",
          "data": {
            "text/plain": [
              "['Cerraduras eléctricas', 'Piloto automático']"
            ]
          },
          "metadata": {},
          "execution_count": 75
        }
      ],
      "source": [
        "Carros [0][-2]"
      ]
    },
    {
      "cell_type": "code",
      "source": [
        "Carros[0][-2][1]"
      ],
      "metadata": {
        "id": "iVPS9Z2jk208",
        "outputId": "22c79c63-b7f2-4888-de1f-b52061da271d",
        "colab": {
          "base_uri": "https://localhost:8080/",
          "height": 36
        }
      },
      "execution_count": null,
      "outputs": [
        {
          "output_type": "execute_result",
          "data": {
            "text/plain": [
              "'Piloto automático'"
            ],
            "application/vnd.google.colaboratory.intrinsic+json": {
              "type": "string"
            }
          },
          "metadata": {},
          "execution_count": 76
        }
      ]
    },
    {
      "cell_type": "markdown",
      "metadata": {
        "id": "9WgwxPIMltnv"
      },
      "source": [
        "## *A[ i : j ]*\n",
        "\n",
        "Recorta la lista A desde el índice i hasta j. En este recorte el elemento con índice i **es incluído** y el elemento con índice j **no es incluído** en el resultado."
      ]
    },
    {
      "cell_type": "code",
      "execution_count": null,
      "metadata": {
        "id": "bJzL2PMiltnv",
        "colab": {
          "base_uri": "https://localhost:8080/"
        },
        "outputId": "78e0930b-dea7-4176-c138-08df5595e94b"
      },
      "outputs": [
        {
          "output_type": "execute_result",
          "data": {
            "text/plain": [
              "['Cerraduras eléctricas',\n",
              " 'Piloto automático',\n",
              " 'Asientos de cuero',\n",
              " 'Aire acondicionado',\n",
              " 'Sensor de estacionamiento',\n",
              " 'Sensor de lluvia']"
            ]
          },
          "metadata": {},
          "execution_count": 77
        }
      ],
      "source": [
        "Accesorios"
      ]
    },
    {
      "cell_type": "code",
      "execution_count": null,
      "metadata": {
        "id": "sFAlJ4u_ltnw",
        "colab": {
          "base_uri": "https://localhost:8080/"
        },
        "outputId": "1f0624f5-5437-4e6b-babe-93dad386f465"
      },
      "outputs": [
        {
          "output_type": "execute_result",
          "data": {
            "text/plain": [
              "['Asientos de cuero', 'Aire acondicionado', 'Sensor de estacionamiento']"
            ]
          },
          "metadata": {},
          "execution_count": 79
        }
      ],
      "source": [
        "Accesorios[2:5]"
      ]
    },
    {
      "cell_type": "code",
      "execution_count": null,
      "metadata": {
        "id": "dFdTBWa9ltnz",
        "colab": {
          "base_uri": "https://localhost:8080/"
        },
        "outputId": "cf0bf48f-6626-41a5-e8ea-3ba3bd98c7c7"
      },
      "outputs": [
        {
          "output_type": "execute_result",
          "data": {
            "text/plain": [
              "['Asientos de cuero',\n",
              " 'Aire acondicionado',\n",
              " 'Sensor de estacionamiento',\n",
              " 'Sensor de lluvia']"
            ]
          },
          "metadata": {},
          "execution_count": 80
        }
      ],
      "source": [
        "Accesorios[2:6]"
      ]
    },
    {
      "cell_type": "code",
      "execution_count": null,
      "metadata": {
        "id": "yxxB2-_Dltn0",
        "colab": {
          "base_uri": "https://localhost:8080/"
        },
        "outputId": "8db20a43-ca79-4c6c-8751-61c4a34b8763"
      },
      "outputs": [
        {
          "output_type": "execute_result",
          "data": {
            "text/plain": [
              "['Asientos de cuero',\n",
              " 'Aire acondicionado',\n",
              " 'Sensor de estacionamiento',\n",
              " 'Sensor de lluvia']"
            ]
          },
          "metadata": {},
          "execution_count": 81
        }
      ],
      "source": [
        "Accesorios[2:]"
      ]
    },
    {
      "cell_type": "code",
      "source": [
        "Accesorios[:5]"
      ],
      "metadata": {
        "id": "vEni5zY4mWlo",
        "outputId": "af8ede26-42a3-4e96-df56-e2960f5bc11d",
        "colab": {
          "base_uri": "https://localhost:8080/"
        }
      },
      "execution_count": null,
      "outputs": [
        {
          "output_type": "execute_result",
          "data": {
            "text/plain": [
              "['Cerraduras eléctricas',\n",
              " 'Piloto automático',\n",
              " 'Asientos de cuero',\n",
              " 'Aire acondicionado',\n",
              " 'Sensor de estacionamiento']"
            ]
          },
          "metadata": {},
          "execution_count": 82
        }
      ]
    },
    {
      "cell_type": "markdown",
      "metadata": {
        "id": "R-S-LCPGltn0"
      },
      "source": [
        "# 3.4 Métodos en listas\n",
        "\n",
        "https://docs.python.org/3.6/library/stdtypes.html#mutable-sequence-types"
      ]
    },
    {
      "cell_type": "markdown",
      "metadata": {
        "id": "j9s2OyyPltn1"
      },
      "source": [
        "## *A.sort()*\n",
        "\n",
        "Ordena la lista *A*."
      ]
    },
    {
      "cell_type": "code",
      "execution_count": null,
      "metadata": {
        "id": "A2dJGhFsltn1",
        "colab": {
          "base_uri": "https://localhost:8080/"
        },
        "outputId": "02475efc-dd76-4185-a13f-ce2147819307"
      },
      "outputs": [
        {
          "output_type": "execute_result",
          "data": {
            "text/plain": [
              "['Cerraduras eléctricas',\n",
              " 'Piloto automático',\n",
              " 'Asientos de cuero',\n",
              " 'Aire acondicionado',\n",
              " 'Sensor de estacionamiento',\n",
              " 'Sensor de lluvia']"
            ]
          },
          "metadata": {},
          "execution_count": 83
        }
      ],
      "source": [
        "Accesorios"
      ]
    },
    {
      "cell_type": "code",
      "execution_count": null,
      "metadata": {
        "id": "VDWCHlTcltn2",
        "colab": {
          "base_uri": "https://localhost:8080/"
        },
        "outputId": "1c964226-28c0-47c3-d635-c96630fd7adb"
      },
      "outputs": [
        {
          "output_type": "execute_result",
          "data": {
            "text/plain": [
              "['Aire acondicionado',\n",
              " 'Asientos de cuero',\n",
              " 'Cerraduras eléctricas',\n",
              " 'Piloto automático',\n",
              " 'Sensor de estacionamiento',\n",
              " 'Sensor de lluvia']"
            ]
          },
          "metadata": {},
          "execution_count": 85
        }
      ],
      "source": [
        "Accesorios.sort()\n",
        "Accesorios"
      ]
    },
    {
      "cell_type": "markdown",
      "metadata": {
        "id": "N9Spp7-xltn3"
      },
      "source": [
        "## *A.append(x)*\n",
        "\n",
        "Añade el elemento *x al final de la lista A*"
      ]
    },
    {
      "cell_type": "code",
      "execution_count": null,
      "metadata": {
        "id": "l7I_U-sRltn4",
        "colab": {
          "base_uri": "https://localhost:8080/"
        },
        "outputId": "0b22bbfc-7c13-4840-f2a1-e23db18ace31"
      },
      "outputs": [
        {
          "output_type": "execute_result",
          "data": {
            "text/plain": [
              "['Aire acondicionado',\n",
              " 'Asientos de cuero',\n",
              " 'Cerraduras eléctricas',\n",
              " 'Piloto automático',\n",
              " 'Sensor de estacionamiento',\n",
              " 'Sensor de lluvia',\n",
              " '4 x 4',\n",
              " '4 x 4']"
            ]
          },
          "metadata": {},
          "execution_count": 87
        }
      ],
      "source": [
        "Accesorios.append('4 x 4')\n",
        "Accesorios"
      ]
    },
    {
      "cell_type": "code",
      "source": [
        "Accesorios"
      ],
      "metadata": {
        "id": "pKQXa2a6nYBU",
        "outputId": "001403ab-320a-4c75-f41a-d69fdcb11fa3",
        "colab": {
          "base_uri": "https://localhost:8080/"
        }
      },
      "execution_count": null,
      "outputs": [
        {
          "output_type": "execute_result",
          "data": {
            "text/plain": [
              "['Aire acondicionado',\n",
              " 'Asientos de cuero',\n",
              " 'Cerraduras eléctricas',\n",
              " 'Piloto automático',\n",
              " 'Sensor de estacionamiento',\n",
              " 'Sensor de lluvia',\n",
              " '4 x 4',\n",
              " '4 x 4']"
            ]
          },
          "metadata": {},
          "execution_count": 88
        }
      ]
    },
    {
      "cell_type": "markdown",
      "metadata": {
        "id": "eiP3oACPltn6"
      },
      "source": [
        "## *A.pop(i)*\n",
        "\n",
        "Elimina y devuelve el elemento de índice i de la lista *A*.\n",
        "\n",
        "<font color=red>**Observación:**</font> Por *defecto* el método *pop()* elimina y devuelve el último elemento de una lista."
      ]
    },
    {
      "cell_type": "code",
      "execution_count": null,
      "metadata": {
        "id": "BoCKa5Hqltn6",
        "colab": {
          "base_uri": "https://localhost:8080/",
          "height": 36
        },
        "outputId": "b3ff2e03-d5c3-4b8e-e515-4c24489864d8"
      },
      "outputs": [
        {
          "output_type": "execute_result",
          "data": {
            "text/plain": [
              "'4 x 4'"
            ],
            "application/vnd.google.colaboratory.intrinsic+json": {
              "type": "string"
            }
          },
          "metadata": {},
          "execution_count": 89
        }
      ],
      "source": [
        "Accesorios.pop()"
      ]
    },
    {
      "cell_type": "code",
      "execution_count": null,
      "metadata": {
        "id": "GfGX1jw-ltn9",
        "colab": {
          "base_uri": "https://localhost:8080/"
        },
        "outputId": "aa1bbdaa-20eb-4881-e905-e99f5a61e4f6"
      },
      "outputs": [
        {
          "output_type": "execute_result",
          "data": {
            "text/plain": [
              "['Aire acondicionado',\n",
              " 'Asientos de cuero',\n",
              " 'Cerraduras eléctricas',\n",
              " 'Piloto automático',\n",
              " 'Sensor de estacionamiento',\n",
              " 'Sensor de lluvia',\n",
              " '4 x 4']"
            ]
          },
          "metadata": {},
          "execution_count": 90
        }
      ],
      "source": [
        "Accesorios"
      ]
    },
    {
      "cell_type": "code",
      "execution_count": null,
      "metadata": {
        "id": "tppe9tqbltn-",
        "colab": {
          "base_uri": "https://localhost:8080/",
          "height": 36
        },
        "outputId": "3d53b26c-89db-4a06-d39f-35eb0f9a1509"
      },
      "outputs": [
        {
          "output_type": "execute_result",
          "data": {
            "text/plain": [
              "'4 x 4'"
            ],
            "application/vnd.google.colaboratory.intrinsic+json": {
              "type": "string"
            }
          },
          "metadata": {},
          "execution_count": 91
        }
      ],
      "source": [
        "Accesorios.pop()"
      ]
    },
    {
      "cell_type": "code",
      "execution_count": null,
      "metadata": {
        "id": "Ku6ZHTdJltn_",
        "colab": {
          "base_uri": "https://localhost:8080/"
        },
        "outputId": "b638a9f7-27fe-4594-a92e-dd76a9f98ffb"
      },
      "outputs": [
        {
          "output_type": "execute_result",
          "data": {
            "text/plain": [
              "['Aire acondicionado',\n",
              " 'Asientos de cuero',\n",
              " 'Cerraduras eléctricas',\n",
              " 'Piloto automático',\n",
              " 'Sensor de estacionamiento',\n",
              " 'Sensor de lluvia']"
            ]
          },
          "metadata": {},
          "execution_count": 92
        }
      ],
      "source": [
        "Accesorios\n"
      ]
    },
    {
      "cell_type": "code",
      "source": [
        "Accesorios.pop(3)"
      ],
      "metadata": {
        "id": "tX7vNXW2ntsr",
        "outputId": "fa860232-c512-4676-c14f-cff55a3d4555",
        "colab": {
          "base_uri": "https://localhost:8080/",
          "height": 36
        }
      },
      "execution_count": null,
      "outputs": [
        {
          "output_type": "execute_result",
          "data": {
            "text/plain": [
              "'Piloto automático'"
            ],
            "application/vnd.google.colaboratory.intrinsic+json": {
              "type": "string"
            }
          },
          "metadata": {},
          "execution_count": 93
        }
      ]
    },
    {
      "cell_type": "code",
      "source": [
        "Accesorios"
      ],
      "metadata": {
        "id": "gHoDuVNOnzMI",
        "outputId": "65be44b7-f27e-432f-d86e-38a6dd4296d6",
        "colab": {
          "base_uri": "https://localhost:8080/"
        }
      },
      "execution_count": null,
      "outputs": [
        {
          "output_type": "execute_result",
          "data": {
            "text/plain": [
              "['Aire acondicionado',\n",
              " 'Asientos de cuero',\n",
              " 'Cerraduras eléctricas',\n",
              " 'Sensor de estacionamiento',\n",
              " 'Sensor de lluvia']"
            ]
          },
          "metadata": {},
          "execution_count": 94
        }
      ]
    },
    {
      "cell_type": "markdown",
      "metadata": {
        "id": "NySIp62hltoC"
      },
      "source": [
        "## *A.copy()*\n",
        "\n",
        "Crea una copia de la lista *A*.\n",
        "\n",
        "<font color=red>**Observación:**</font> El mismo resultado puede ser obtenido con el seguinte código:\n",
        "```\n",
        "A[:]\n",
        "```"
      ]
    },
    {
      "cell_type": "code",
      "execution_count": null,
      "metadata": {
        "id": "yP9ODygcltoC",
        "colab": {
          "base_uri": "https://localhost:8080/"
        },
        "outputId": "560136aa-4f0e-4678-d866-22d6847c07ef"
      },
      "outputs": [
        {
          "output_type": "execute_result",
          "data": {
            "text/plain": [
              "['Aire acondicionado',\n",
              " 'Asientos de cuero',\n",
              " 'Cerraduras eléctricas',\n",
              " 'Sensor de estacionamiento',\n",
              " 'Sensor de lluvia']"
            ]
          },
          "metadata": {},
          "execution_count": 95
        }
      ],
      "source": [
        "Accesorios_2 = Accesorios\n",
        "Accesorios_2"
      ]
    },
    {
      "cell_type": "code",
      "execution_count": null,
      "metadata": {
        "id": "W3eQdVWkltoF",
        "colab": {
          "base_uri": "https://localhost:8080/"
        },
        "outputId": "f957d839-9432-4c9d-d151-9927804c987c"
      },
      "outputs": [
        {
          "output_type": "execute_result",
          "data": {
            "text/plain": [
              "['Aire acondicionado',\n",
              " 'Asientos de cuero',\n",
              " 'Cerraduras eléctricas',\n",
              " 'Sensor de estacionamiento',\n",
              " 'Sensor de lluvia',\n",
              " '4x4']"
            ]
          },
          "metadata": {},
          "execution_count": 96
        }
      ],
      "source": [
        "Accesorios_2.append('4x4')\n",
        "Accesorios_2"
      ]
    },
    {
      "cell_type": "code",
      "execution_count": null,
      "metadata": {
        "id": "OVbvjjmdltoG",
        "colab": {
          "base_uri": "https://localhost:8080/"
        },
        "outputId": "2f1ce469-0a14-4aa2-8ed1-b11a4bea6c5c"
      },
      "outputs": [
        {
          "output_type": "execute_result",
          "data": {
            "text/plain": [
              "['Aire acondicionado',\n",
              " 'Asientos de cuero',\n",
              " 'Cerraduras eléctricas',\n",
              " 'Sensor de estacionamiento',\n",
              " 'Sensor de lluvia',\n",
              " '4x4']"
            ]
          },
          "metadata": {},
          "execution_count": 98
        }
      ],
      "source": [
        "Accesorios"
      ]
    },
    {
      "cell_type": "code",
      "execution_count": null,
      "metadata": {
        "id": "P-MN1JfAltoH",
        "colab": {
          "base_uri": "https://localhost:8080/",
          "height": 36
        },
        "outputId": "3e3293b8-d0e6-4a4e-d30f-bff98cfdb236"
      },
      "outputs": [
        {
          "output_type": "execute_result",
          "data": {
            "text/plain": [
              "'4x4'"
            ],
            "application/vnd.google.colaboratory.intrinsic+json": {
              "type": "string"
            }
          },
          "metadata": {},
          "execution_count": 99
        }
      ],
      "source": [
        "Accesorios.pop()"
      ]
    },
    {
      "cell_type": "code",
      "execution_count": null,
      "metadata": {
        "id": "ZVQ38eqVltoJ",
        "colab": {
          "base_uri": "https://localhost:8080/"
        },
        "outputId": "ca527148-cdd1-4fc8-c172-7e438603fa92"
      },
      "outputs": [
        {
          "output_type": "execute_result",
          "data": {
            "text/plain": [
              "['Aire acondicionado',\n",
              " 'Asientos de cuero',\n",
              " 'Cerraduras eléctricas',\n",
              " 'Sensor de estacionamiento',\n",
              " 'Sensor de lluvia']"
            ]
          },
          "metadata": {},
          "execution_count": 100
        }
      ],
      "source": [
        "Accesorios_2"
      ]
    },
    {
      "cell_type": "code",
      "execution_count": null,
      "metadata": {
        "id": "bqPiw5wSltoM",
        "colab": {
          "base_uri": "https://localhost:8080/"
        },
        "outputId": "f9034448-116f-450c-a3dc-d91fb80ff78c"
      },
      "outputs": [
        {
          "output_type": "execute_result",
          "data": {
            "text/plain": [
              "['Aire acondicionado',\n",
              " 'Asientos de cuero',\n",
              " 'Cerraduras eléctricas',\n",
              " 'Sensor de estacionamiento',\n",
              " 'Sensor de lluvia']"
            ]
          },
          "metadata": {},
          "execution_count": 101
        }
      ],
      "source": [
        "Accesorios_2 = Accesorios.copy()\n",
        "Accesorios_2"
      ]
    },
    {
      "cell_type": "code",
      "execution_count": null,
      "metadata": {
        "id": "Lo9WgzF6ltoP",
        "colab": {
          "base_uri": "https://localhost:8080/"
        },
        "outputId": "6e935c4d-1d5a-48ae-b214-152bb51ab513"
      },
      "outputs": [
        {
          "output_type": "execute_result",
          "data": {
            "text/plain": [
              "['Aire acondicionado',\n",
              " 'Asientos de cuero',\n",
              " 'Cerraduras eléctricas',\n",
              " 'Sensor de estacionamiento',\n",
              " 'Sensor de lluvia',\n",
              " '4 x 4']"
            ]
          },
          "metadata": {},
          "execution_count": 102
        }
      ],
      "source": [
        "Accesorios_2.append('4 x 4')\n",
        "Accesorios_2"
      ]
    },
    {
      "cell_type": "code",
      "execution_count": null,
      "metadata": {
        "id": "r2LPHB34ltoQ",
        "colab": {
          "base_uri": "https://localhost:8080/"
        },
        "outputId": "96cd0f4b-6f39-4c72-8161-41a03c5e540a"
      },
      "outputs": [
        {
          "output_type": "execute_result",
          "data": {
            "text/plain": [
              "['Aire acondicionado',\n",
              " 'Asientos de cuero',\n",
              " 'Cerraduras eléctricas',\n",
              " 'Sensor de estacionamiento',\n",
              " 'Sensor de lluvia']"
            ]
          },
          "metadata": {},
          "execution_count": 103
        }
      ],
      "source": [
        "Accesorios"
      ]
    },
    {
      "cell_type": "code",
      "execution_count": null,
      "metadata": {
        "id": "UQqUkO8YltoR",
        "colab": {
          "base_uri": "https://localhost:8080/"
        },
        "outputId": "d67120ed-871f-406e-f763-fe73852ad858"
      },
      "outputs": [
        {
          "output_type": "execute_result",
          "data": {
            "text/plain": [
              "['Aire acondicionado',\n",
              " 'Asientos de cuero',\n",
              " 'Cerraduras eléctricas',\n",
              " 'Sensor de estacionamiento',\n",
              " 'Sensor de lluvia']"
            ]
          },
          "metadata": {},
          "execution_count": 104
        }
      ],
      "source": [
        "Accesorios_2 = Accesorios[:]\n",
        "Accesorios_2\n"
      ]
    },
    {
      "cell_type": "markdown",
      "metadata": {
        "id": "8zMZNsg2ltoU"
      },
      "source": [
        "# <font color=green> 4. ESTRUCTURAS DE REPETICIÓN Y CONDICIONALES\n",
        "---"
      ]
    },
    {
      "cell_type": "markdown",
      "metadata": {
        "id": "gxUmCLyJltoU"
      },
      "source": [
        "# 4.1 Instrucción *for*\n",
        "\n",
        "#### Formato estándar\n",
        "\n",
        "```\n",
        "for <variable> in <coleccion>:\n",
        "    <instrucciones>\n",
        "```"
      ]
    },
    {
      "cell_type": "markdown",
      "metadata": {
        "id": "Irl5oa0altoU"
      },
      "source": [
        "### Loops con listas"
      ]
    },
    {
      "cell_type": "code",
      "execution_count": null,
      "metadata": {
        "id": "E1LZ5n25ltoV"
      },
      "outputs": [],
      "source": []
    },
    {
      "cell_type": "code",
      "execution_count": null,
      "metadata": {
        "id": "Z459QqsFltoY"
      },
      "outputs": [],
      "source": []
    },
    {
      "cell_type": "markdown",
      "metadata": {
        "id": "Gbztj9T4ltoZ"
      },
      "source": [
        "###  List comprehensions\n",
        "\n",
        "https://docs.python.org/3.6/tutorial/datastructures.html#list-comprehensions"
      ]
    },
    {
      "cell_type": "markdown",
      "metadata": {
        "id": "4Y8g0cSHjbof"
      },
      "source": [
        "*range()* -> https://docs.python.org/3.6/library/functions.html#func-range"
      ]
    },
    {
      "cell_type": "code",
      "execution_count": null,
      "metadata": {
        "id": "xDo9TLdYltoZ"
      },
      "outputs": [],
      "source": []
    },
    {
      "cell_type": "code",
      "execution_count": null,
      "metadata": {
        "id": "V12p_CQBltoc"
      },
      "outputs": [],
      "source": []
    },
    {
      "cell_type": "code",
      "execution_count": null,
      "metadata": {
        "id": "OOzHHRWHltof"
      },
      "outputs": [],
      "source": []
    },
    {
      "cell_type": "code",
      "execution_count": null,
      "metadata": {
        "id": "TKynwnxgltog"
      },
      "outputs": [],
      "source": []
    },
    {
      "cell_type": "code",
      "execution_count": null,
      "metadata": {
        "id": "d77YH_dVltoh"
      },
      "outputs": [],
      "source": []
    },
    {
      "cell_type": "code",
      "execution_count": null,
      "metadata": {
        "id": "3OmElLO2ltoi"
      },
      "outputs": [],
      "source": []
    },
    {
      "cell_type": "code",
      "execution_count": null,
      "metadata": {
        "id": "HKUkvcDkltok"
      },
      "outputs": [],
      "source": []
    },
    {
      "cell_type": "markdown",
      "metadata": {
        "id": "AcAcaKFXltom"
      },
      "source": [
        "# 4.2 Loops anidados"
      ]
    },
    {
      "cell_type": "code",
      "execution_count": null,
      "metadata": {
        "id": "mjgJCo3dlton"
      },
      "outputs": [],
      "source": [
        "datos = [\n",
        "    ['Llantas de aleación', 'Cerraduras eléctricas', 'Piloto automático', 'Asientos de cuero', 'Aire acondicionado', 'Sensor de estacionamiento', 'Sensor de crepúsculo', 'Sensor de lluvia'],\n",
        "    ['Central multimedia', 'Techo panorámico', 'Frenos ABS', '4 X 4', 'Panel digital', 'Piloto automático', 'Asientos de cuero', 'Cámara de estacionamiento'],\n",
        "    ['Piloto automático', 'Control de estabilidad', 'Sensor crepuscular', 'Frenos ABS', 'Transmisión automática', 'Asientos de cuero', 'Central multimedia', 'Ventanas eléctricas']\n",
        "]\n",
        "datos"
      ]
    },
    {
      "cell_type": "code",
      "execution_count": null,
      "metadata": {
        "id": "pLgxwApVltop"
      },
      "outputs": [],
      "source": []
    },
    {
      "cell_type": "code",
      "execution_count": null,
      "metadata": {
        "id": "OYnDRvcYltor"
      },
      "outputs": [],
      "source": []
    },
    {
      "cell_type": "code",
      "execution_count": null,
      "metadata": {
        "id": "DbJa5_cJltos"
      },
      "outputs": [],
      "source": []
    },
    {
      "cell_type": "markdown",
      "metadata": {
        "id": "RrGAOy1rn1Dj"
      },
      "source": [
        "## *set()*\n",
        "\n",
        "https://docs.python.org/3.6/library/stdtypes.html#types-set\n",
        "\n",
        "https://docs.python.org/3.6/library/functions.html#func-set"
      ]
    },
    {
      "cell_type": "code",
      "execution_count": null,
      "metadata": {
        "id": "CuB-9ClSltos"
      },
      "outputs": [],
      "source": []
    },
    {
      "cell_type": "markdown",
      "metadata": {
        "id": "9hHKKABhltot"
      },
      "source": [
        "### List comprehensions"
      ]
    },
    {
      "cell_type": "code",
      "execution_count": null,
      "metadata": {
        "id": "T6t79LTlltot"
      },
      "outputs": [],
      "source": []
    },
    {
      "cell_type": "markdown",
      "metadata": {
        "id": "cJ4fPdj5ltou"
      },
      "source": [
        "# 4.3 Instrucción *if*\n",
        "\n",
        "#### Formato estándar\n",
        "\n",
        "```\n",
        "if <condicion>:\n",
        "     <instrucciones en caso la condición sea verdadera>\n",
        "```"
      ]
    },
    {
      "cell_type": "markdown",
      "metadata": {
        "id": "bqOYDJiWltou"
      },
      "source": [
        "### Operadores de comparación: $==$, $!=$, $>$, $<$, $>=$, $<=$\n",
        "### y\n",
        "### Operadores lógicos: $and$, $or$, $not$"
      ]
    },
    {
      "cell_type": "code",
      "execution_count": null,
      "metadata": {
        "id": "5eY_XPmrltov"
      },
      "outputs": [],
      "source": [
        "# 1º objeto de la lista - Nombre del vehículo\n",
        "# 2º objeto de la lista - Año de fabricación\n",
        "# 3º objeto de la lista - Vehículo es cero km?\n",
        "\n",
        "datos = [\n",
        "    ['Jetta Variant', 2003, False],\n",
        "    ['Passat', 1991, False],\n",
        "    ['Crossfox', 1990, False],\n",
        "    ['DS5', 2019, True],\n",
        "    ['Aston Martin DB4', 2006, False],\n",
        "    ['Palio Weekend', 2012, False],\n",
        "    ['A5', 2019, True],\n",
        "    ['Série 3 Cabrio', 2009, False],\n",
        "    ['Dodge Jorney', 2019, False],\n",
        "    ['Carens', 2011, False]\n",
        "]\n",
        "datos"
      ]
    },
    {
      "cell_type": "code",
      "execution_count": null,
      "metadata": {
        "id": "nyb0iDH1ltoy"
      },
      "outputs": [],
      "source": []
    },
    {
      "cell_type": "code",
      "execution_count": null,
      "metadata": {
        "id": "5MlITJppltoy"
      },
      "outputs": [],
      "source": []
    },
    {
      "cell_type": "markdown",
      "metadata": {
        "id": "51Js0kXD0aRH"
      },
      "source": [
        "### List comprehensions"
      ]
    },
    {
      "cell_type": "code",
      "execution_count": null,
      "metadata": {
        "id": "Ly4QUX5J0aRI"
      },
      "outputs": [],
      "source": []
    },
    {
      "cell_type": "markdown",
      "metadata": {
        "id": "CKjrvO5Tltoz"
      },
      "source": [
        "# 4.4 Instrucciones *if-else* y *if-elif-else*\n",
        "\n",
        "#### Formato estándar\n",
        "\n",
        "```\n",
        "if <condicion>:\n",
        "    <instrucciones en caso la condición sea verdadera>\n",
        "else:\n",
        "    <instrucciones en caso la condición no sea verdadera>\n",
        "```"
      ]
    },
    {
      "cell_type": "code",
      "execution_count": null,
      "metadata": {
        "id": "K_VORb47ltoz"
      },
      "outputs": [],
      "source": []
    },
    {
      "cell_type": "code",
      "execution_count": null,
      "metadata": {
        "id": "vhz5T7jDlto1"
      },
      "outputs": [],
      "source": []
    },
    {
      "cell_type": "code",
      "execution_count": null,
      "metadata": {
        "id": "XlvlpPjhlto1"
      },
      "outputs": [],
      "source": []
    },
    {
      "cell_type": "markdown",
      "metadata": {
        "id": "Z2-8WeN1lto2"
      },
      "source": [
        "#### Formato estándar\n",
        "\n",
        "```\n",
        "if <condicion 1>:\n",
        "    <instrucciones en caso la condición 1 sea verdadera>\n",
        "elif <condicion 2>:\n",
        "    <instrucciones en caso la condición 2 sea verdadera>\n",
        "elif <condicion 3>:\n",
        "    <instrucciones en caso la condición 3 sea verdadera>\n",
        "                        .\n",
        "                        .\n",
        "                        .\n",
        "else:\n",
        "    <instrucciones en caso las condiciones anteriores no sean verdaderas>\n",
        "```"
      ]
    },
    {
      "cell_type": "code",
      "execution_count": null,
      "metadata": {
        "id": "ggrbaB4Tlto2"
      },
      "outputs": [],
      "source": []
    },
    {
      "cell_type": "code",
      "execution_count": null,
      "metadata": {
        "id": "KJgRc1F9lto3"
      },
      "outputs": [],
      "source": [
        "print('AND')\n",
        "print(f'(True and True) el resultado es: {True and True}')\n",
        "print(f'(True and False) el resultado es: {True and False}')\n",
        "print(f'(False and True) el resultado es: {False and True}')\n",
        "print(f'(False and False) el resultado es: {False and False}')"
      ]
    },
    {
      "cell_type": "code",
      "execution_count": null,
      "metadata": {
        "id": "sb0mSh-o0aRM"
      },
      "outputs": [],
      "source": [
        "print('OR')\n",
        "print(f'(True or True) el resultado es: {True or True}')\n",
        "print(f'(True or False) el resultado es: {True or False}')\n",
        "print(f'(False or True) el resultado es: {False or True}')\n",
        "print(f'(False or False) el resultado es: {False or False}')"
      ]
    },
    {
      "cell_type": "code",
      "execution_count": null,
      "metadata": {
        "id": "AfNdTPzElto3"
      },
      "outputs": [],
      "source": []
    },
    {
      "cell_type": "code",
      "execution_count": null,
      "metadata": {
        "id": "5bN7SuvTlto4"
      },
      "outputs": [],
      "source": []
    },
    {
      "cell_type": "code",
      "execution_count": null,
      "metadata": {
        "id": "dDEl3Vfglto4"
      },
      "outputs": [],
      "source": []
    },
    {
      "cell_type": "code",
      "execution_count": null,
      "metadata": {
        "id": "Ot4HLQlelto5"
      },
      "outputs": [],
      "source": []
    },
    {
      "cell_type": "code",
      "execution_count": null,
      "metadata": {
        "id": "FN26ZBKJlto5"
      },
      "outputs": [],
      "source": []
    },
    {
      "cell_type": "markdown",
      "metadata": {
        "id": "aRfQfubxlto6"
      },
      "source": [
        "# <font color=green> 5. NUMPY BÁSICO\n",
        "---\n",
        "\n",
        "Numpy es la abreviación de Numerical Python y es uno de los paquetes más importantes para procesamiento numérico en Python. Numpy ofrece la base para la mayoría de los paquetes de aplicaciones científicas que usen datos numéricos en Python (estructuras de datos y algoritmos). Pueden destacarse los siguientes recursos que el paquete Numpy contiene:\n",
        "\n",
        "- Un poderoso objeto array multidimensional;\n",
        "- Funciones matemáticas sofisticadas para operaciones con arrays sin la necesidad de utilización de bucles *for*;\n",
        "- Recursos de algebra linear y generación de números aleatórios\n",
        "\n",
        "Además de sus obvios usos científicos, el paquete NumPy también es muy utilizado en análisis de datos como un eficiente contenedor multidimensional de datos genéricos para transporte entre diversos algoritmos y bibliotecas en Python.\n",
        "\n",
        "**Versión:** 1.18.4\n",
        "\n",
        "**Instalación:** https://scipy.org/install.html\n",
        "\n",
        "**Documentación:** https://numpy.org/doc/1.18/"
      ]
    },
    {
      "cell_type": "markdown",
      "metadata": {
        "id": "RtG2-g1ultme"
      },
      "source": [
        "### Paquetes\n",
        "\n",
        "Existen diversos paquetes Python disponibles para download en internet. Cada paquete tiene como objetivo la solución de determinado tipo de problema y para esto son desarrollados nuevos tipos, funciones y métodos.\n",
        "\n",
        "Algunos paquetes son bastante utilizados en un contexto de ciencia de datos, como por ejemplo:\n",
        "\n",
        "- Numpy\n",
        "- Pandas\n",
        "- Scikit-learn\n",
        "- Matplotlib\n",
        "\n",
        "Algunos paquetes no son distribuidos en la instalación estándar de Python. En este caso debemos instalar los paquetes que necesitamos en nuestro sistema para poder utilizar sus funcionalidades."
      ]
    },
    {
      "cell_type": "markdown",
      "metadata": {
        "id": "b8prsQjmltme"
      },
      "source": [
        "### Importando todo el paquete"
      ]
    },
    {
      "cell_type": "code",
      "execution_count": null,
      "metadata": {
        "id": "lP0tqXHLltmf"
      },
      "outputs": [],
      "source": []
    },
    {
      "cell_type": "markdown",
      "metadata": {
        "id": "a2-nN3Je6NjO"
      },
      "source": [
        "https://numpy.org/doc/1.16/reference/generated/numpy.arange.html"
      ]
    },
    {
      "cell_type": "code",
      "execution_count": null,
      "metadata": {
        "id": "Y40UP3K7ltmg"
      },
      "outputs": [],
      "source": []
    },
    {
      "cell_type": "markdown",
      "metadata": {
        "id": "84-53f4Lltmh"
      },
      "source": [
        "### Importando todo el paquete y asignándole un nuevo nombre"
      ]
    },
    {
      "cell_type": "code",
      "execution_count": null,
      "metadata": {
        "id": "CzESWck7ltmi"
      },
      "outputs": [],
      "source": []
    },
    {
      "cell_type": "code",
      "execution_count": null,
      "metadata": {
        "id": "RC7Dr5Viltmj"
      },
      "outputs": [],
      "source": []
    },
    {
      "cell_type": "markdown",
      "metadata": {
        "id": "WWawttSpltml"
      },
      "source": [
        "### Importando parte del paquete"
      ]
    },
    {
      "cell_type": "code",
      "execution_count": null,
      "metadata": {
        "id": "8kTeo3Ltltmo"
      },
      "outputs": [],
      "source": []
    },
    {
      "cell_type": "code",
      "execution_count": null,
      "metadata": {
        "id": "4LPnpiEwltmt"
      },
      "outputs": [],
      "source": []
    },
    {
      "cell_type": "markdown",
      "metadata": {
        "id": "VSmffnCklto6"
      },
      "source": [
        "# 5.1 Creando arrays Numpy"
      ]
    },
    {
      "cell_type": "code",
      "execution_count": null,
      "metadata": {
        "id": "Wqpin_-Plto8"
      },
      "outputs": [],
      "source": []
    },
    {
      "cell_type": "markdown",
      "metadata": {
        "id": "ock4Ku-Ulto8"
      },
      "source": [
        "### A partir de listas\n",
        "\n",
        "https://numpy.org/doc/1.16/user/basics.creation.html"
      ]
    },
    {
      "cell_type": "code",
      "execution_count": null,
      "metadata": {
        "id": "82H-09CQlto9"
      },
      "outputs": [],
      "source": []
    },
    {
      "cell_type": "code",
      "execution_count": null,
      "metadata": {
        "id": "8VYE3JSYlto9"
      },
      "outputs": [],
      "source": []
    },
    {
      "cell_type": "code",
      "execution_count": null,
      "metadata": {
        "id": "OBsa5Cfplto-"
      },
      "outputs": [],
      "source": []
    },
    {
      "cell_type": "markdown",
      "metadata": {
        "id": "RfQ3jJSAlto-"
      },
      "source": [
        "https://numpy.org/doc/1.16/user/basics.types.html"
      ]
    },
    {
      "cell_type": "code",
      "execution_count": null,
      "metadata": {
        "id": "6yLpkJcAlto-"
      },
      "outputs": [],
      "source": []
    },
    {
      "cell_type": "markdown",
      "metadata": {
        "id": "1pFx86QPlto_"
      },
      "source": [
        "### A partir de datos externos\n",
        "\n",
        "https://numpy.org/doc/1.16/reference/generated/numpy.loadtxt.html"
      ]
    },
    {
      "cell_type": "code",
      "execution_count": null,
      "metadata": {
        "id": "26pQLNgrlto_"
      },
      "outputs": [],
      "source": []
    },
    {
      "cell_type": "code",
      "execution_count": null,
      "metadata": {
        "id": "FoP42bdpltpA",
        "scrolled": true
      },
      "outputs": [],
      "source": []
    },
    {
      "cell_type": "code",
      "execution_count": null,
      "metadata": {
        "id": "MNPjZJbYltpA"
      },
      "outputs": [],
      "source": []
    },
    {
      "cell_type": "markdown",
      "metadata": {
        "id": "_wnTg0wJltpB"
      },
      "source": [
        "### Arrays con dos dimensiones"
      ]
    },
    {
      "cell_type": "code",
      "execution_count": null,
      "metadata": {
        "id": "Gt1dL27GltpB",
        "scrolled": true
      },
      "outputs": [],
      "source": [
        "datos = [\n",
        "    ['Llantas de aleación', 'Cerraduras eléctricas', 'Piloto automático', 'Asientos de cuero', 'Aire acondicionado', 'Sensor de estacionamiento', 'Sensor de crepúsculo', 'Sensor de lluvia'],\n",
        "    ['Central multimedia', 'Techo panorámico', 'Frenos ABS', '4 X 4', 'Panel digital', 'Piloto automático', 'Asientos de cuero', 'Cámara de estacionamiento'],\n",
        "    ['Piloto automático', 'Control de estabilidad', 'Sensor crepuscular', 'Frenos ABS', 'Transmisión automática', 'Asientos de cuero', 'Central multimedia', 'Ventanas eléctricas']\n",
        "]\n",
        "datos"
      ]
    },
    {
      "cell_type": "code",
      "execution_count": null,
      "metadata": {
        "id": "IlbYeZPkltpC"
      },
      "outputs": [],
      "source": []
    },
    {
      "cell_type": "code",
      "execution_count": null,
      "metadata": {
        "id": "FgjmWozgltpD",
        "scrolled": true
      },
      "outputs": [],
      "source": []
    },
    {
      "cell_type": "code",
      "execution_count": null,
      "metadata": {
        "id": "TDM9HskUltpD"
      },
      "outputs": [],
      "source": []
    },
    {
      "cell_type": "code",
      "execution_count": null,
      "metadata": {
        "id": "bBmnzpF5ltpE"
      },
      "outputs": [],
      "source": []
    },
    {
      "cell_type": "markdown",
      "metadata": {
        "id": "cPbkST9pltpE"
      },
      "source": [
        "### Comparando desempeño con listas"
      ]
    },
    {
      "cell_type": "code",
      "execution_count": null,
      "metadata": {
        "id": "tTPC-G4vltpE"
      },
      "outputs": [],
      "source": []
    },
    {
      "cell_type": "code",
      "execution_count": null,
      "metadata": {
        "id": "PIC-ndg9ltpF"
      },
      "outputs": [],
      "source": []
    },
    {
      "cell_type": "code",
      "execution_count": null,
      "metadata": {
        "id": "vXy57nk2ltpF"
      },
      "outputs": [],
      "source": []
    },
    {
      "cell_type": "code",
      "execution_count": null,
      "metadata": {
        "id": "I94lVgCRltpG"
      },
      "outputs": [],
      "source": []
    },
    {
      "cell_type": "markdown",
      "metadata": {
        "id": "ul4MuKyTltpG"
      },
      "source": [
        "# 5.2 Operaciones aritméticas con arrays Numpy"
      ]
    },
    {
      "cell_type": "markdown",
      "metadata": {
        "id": "QwnxO_rYltpH"
      },
      "source": [
        "### Operaciones entre arrays y constantes"
      ]
    },
    {
      "cell_type": "code",
      "execution_count": null,
      "metadata": {
        "id": "63KVHPK0ltpH"
      },
      "outputs": [],
      "source": [
        "km = [44410., 5712., 37123., 0., 25757.]\n",
        "años = [2003, 1991, 1990, 2019, 2006]"
      ]
    },
    {
      "cell_type": "code",
      "execution_count": null,
      "metadata": {
        "id": "AryIZaBIltpH"
      },
      "outputs": [],
      "source": []
    },
    {
      "cell_type": "code",
      "execution_count": null,
      "metadata": {
        "id": "s8GvEk4HltpI"
      },
      "outputs": [],
      "source": [
        "km = np.array([44410., 5712., 37123., 0., 25757.])\n",
        "años = np.array([2003, 1991, 1990, 2019, 2006])"
      ]
    },
    {
      "cell_type": "code",
      "execution_count": null,
      "metadata": {
        "id": "aUnYV7OultpI"
      },
      "outputs": [],
      "source": []
    },
    {
      "cell_type": "code",
      "execution_count": null,
      "metadata": {
        "id": "vg5yZ9IpltpJ"
      },
      "outputs": [],
      "source": []
    },
    {
      "cell_type": "markdown",
      "metadata": {
        "id": "qn1PUsM9ltpJ"
      },
      "source": [
        "### Operaciones entre arrays"
      ]
    },
    {
      "cell_type": "code",
      "execution_count": null,
      "metadata": {
        "id": "gU_d5aZkltpJ"
      },
      "outputs": [],
      "source": []
    },
    {
      "cell_type": "code",
      "execution_count": null,
      "metadata": {
        "id": "U9DXntUEltpK"
      },
      "outputs": [],
      "source": []
    },
    {
      "cell_type": "code",
      "execution_count": null,
      "metadata": {
        "id": "n0rPxgY1ltpL"
      },
      "outputs": [],
      "source": []
    },
    {
      "cell_type": "markdown",
      "metadata": {
        "id": "o4-gsGICltpN"
      },
      "source": [
        "### Operaciones con arrays de dos dimensiones"
      ]
    },
    {
      "cell_type": "code",
      "execution_count": null,
      "metadata": {
        "id": "VT71Pbb3ltpN"
      },
      "outputs": [],
      "source": []
    },
    {
      "cell_type": "code",
      "execution_count": null,
      "metadata": {
        "id": "bgDe00q8ltpO"
      },
      "outputs": [],
      "source": []
    },
    {
      "cell_type": "code",
      "execution_count": null,
      "metadata": {
        "id": "jIQU2ugKltpP"
      },
      "outputs": [],
      "source": []
    },
    {
      "cell_type": "markdown",
      "metadata": {
        "id": "dsgz-E5ZltpP"
      },
      "source": [
        "![1410-img01.png](https://caelum-online-public.s3.amazonaws.com/1410-pythondatascience/01/1410-img01.png)"
      ]
    },
    {
      "cell_type": "code",
      "execution_count": null,
      "metadata": {
        "id": "imANn6HultpQ"
      },
      "outputs": [],
      "source": []
    },
    {
      "cell_type": "code",
      "execution_count": null,
      "metadata": {
        "id": "Nkp9ljkvltpQ"
      },
      "outputs": [],
      "source": []
    },
    {
      "cell_type": "code",
      "execution_count": null,
      "metadata": {
        "id": "njJ2z3HJltpR"
      },
      "outputs": [],
      "source": []
    },
    {
      "cell_type": "markdown",
      "metadata": {
        "id": "4CAwtS0-ltpR"
      },
      "source": [
        "# 5.3 Selecciones con arrays Numpy"
      ]
    },
    {
      "cell_type": "markdown",
      "metadata": {
        "id": "QDAT1vODltpS"
      },
      "source": [
        "![1410-img01.png](https://caelum-online-public.s3.amazonaws.com/1410-pythondatascience/01/1410-img01.png)"
      ]
    },
    {
      "cell_type": "code",
      "execution_count": null,
      "metadata": {
        "id": "nZpPGS2TltpS"
      },
      "outputs": [],
      "source": []
    },
    {
      "cell_type": "markdown",
      "metadata": {
        "id": "b--BIPcOltpT"
      },
      "source": [
        "![1410-img02.png](https://caelum-online-public.s3.amazonaws.com/1410-pythondatascience/01/1410-img02.png)"
      ]
    },
    {
      "cell_type": "markdown",
      "metadata": {
        "id": "86-hOHa7ltpT"
      },
      "source": [
        "### Indexación\n",
        "\n",
        "<font color=red>**Observación:**</font> La indexación tiene inicio en cero."
      ]
    },
    {
      "cell_type": "code",
      "execution_count": null,
      "metadata": {
        "id": "mr0Q_X0JltpT"
      },
      "outputs": [],
      "source": []
    },
    {
      "cell_type": "code",
      "execution_count": null,
      "metadata": {
        "id": "VxiR_IgdltpU"
      },
      "outputs": [],
      "source": []
    },
    {
      "cell_type": "code",
      "execution_count": null,
      "metadata": {
        "id": "xGDomIyAltpU"
      },
      "outputs": [],
      "source": []
    },
    {
      "cell_type": "code",
      "execution_count": null,
      "metadata": {
        "id": "QEO5Za5PltpV"
      },
      "outputs": [],
      "source": []
    },
    {
      "cell_type": "code",
      "execution_count": null,
      "metadata": {
        "id": "rvkeMK8KltpV"
      },
      "outputs": [],
      "source": []
    },
    {
      "cell_type": "code",
      "execution_count": null,
      "metadata": {
        "id": "X8c-lJRJltpW"
      },
      "outputs": [],
      "source": []
    },
    {
      "cell_type": "markdown",
      "metadata": {
        "id": "fCWUSI1zltpZ"
      },
      "source": [
        "## <font color=green>**Consejo:**</font>\n",
        "### *ndarray[ linea ][ columna ]* o *ndarray[ linea, columna ]*"
      ]
    },
    {
      "cell_type": "code",
      "execution_count": null,
      "metadata": {
        "id": "Nxc3uY-ZltpZ"
      },
      "outputs": [],
      "source": []
    },
    {
      "cell_type": "code",
      "execution_count": null,
      "metadata": {
        "id": "xp8ByjualtpZ"
      },
      "outputs": [],
      "source": []
    },
    {
      "cell_type": "markdown",
      "metadata": {
        "id": "7osmTUC4ltpa"
      },
      "source": [
        " ### Particiones\n",
        "\n",
        "La sintaxis para realizar particiones en un array Numpy es $i : j : k$ donde $i$ es el índice inicial, $j$ es el índice final, y $k$ es el indicador de intervalo ($k\\neq0$)\n",
        "\n",
        "<font color=red>**Observación:**</font> En las particiones (*slices*) el objeto con índice i es **incluído** y el objeto con índice j **no es incluído** en el resultado."
      ]
    },
    {
      "cell_type": "markdown",
      "metadata": {
        "id": "HEx4TbNlltpa"
      },
      "source": [
        "![1410-img01.png](https://caelum-online-public.s3.amazonaws.com/1410-pythondatascience/01/1410-img01.png)"
      ]
    },
    {
      "cell_type": "code",
      "execution_count": null,
      "metadata": {
        "id": "tlaD1SENltpb"
      },
      "outputs": [],
      "source": []
    },
    {
      "cell_type": "code",
      "execution_count": null,
      "metadata": {
        "id": "vXLIO1cVltpc"
      },
      "outputs": [],
      "source": []
    },
    {
      "cell_type": "code",
      "execution_count": null,
      "metadata": {
        "id": "kYLgsQcHltpc"
      },
      "outputs": [],
      "source": []
    },
    {
      "cell_type": "code",
      "execution_count": null,
      "metadata": {
        "id": "H2MJpIasltpd"
      },
      "outputs": [],
      "source": []
    },
    {
      "cell_type": "code",
      "execution_count": null,
      "metadata": {
        "id": "YVzf4fNCltpe"
      },
      "outputs": [],
      "source": []
    },
    {
      "cell_type": "code",
      "execution_count": null,
      "metadata": {
        "id": "bPyQsUFPltpf"
      },
      "outputs": [],
      "source": []
    },
    {
      "cell_type": "code",
      "execution_count": null,
      "metadata": {
        "id": "IRxfixG-ltpg"
      },
      "outputs": [],
      "source": []
    },
    {
      "cell_type": "code",
      "execution_count": null,
      "metadata": {
        "id": "wfoJ84haltph"
      },
      "outputs": [],
      "source": []
    },
    {
      "cell_type": "code",
      "execution_count": null,
      "metadata": {
        "id": "UeejSXUAltph"
      },
      "outputs": [],
      "source": []
    },
    {
      "cell_type": "markdown",
      "metadata": {
        "id": "-fW4EXIqltpi"
      },
      "source": [
        "### Indexación con array booleano\n",
        "\n",
        "<font color=red>**Observación:**</font> Selecciona un grupo de líneas y columnas siguiendo las etiquetas o un array booleano."
      ]
    },
    {
      "cell_type": "code",
      "execution_count": null,
      "metadata": {
        "id": "MgmH-rCSltpi"
      },
      "outputs": [],
      "source": []
    },
    {
      "cell_type": "code",
      "execution_count": null,
      "metadata": {
        "id": "HN1i-BlLltpj"
      },
      "outputs": [],
      "source": []
    },
    {
      "cell_type": "code",
      "execution_count": null,
      "metadata": {
        "id": "iXJa9tL4ltpj"
      },
      "outputs": [],
      "source": []
    },
    {
      "cell_type": "code",
      "execution_count": null,
      "metadata": {
        "id": "54gH6X5eltpk"
      },
      "outputs": [],
      "source": []
    },
    {
      "cell_type": "code",
      "execution_count": null,
      "metadata": {
        "id": "F3z6zMELltpk"
      },
      "outputs": [],
      "source": []
    },
    {
      "cell_type": "code",
      "execution_count": null,
      "metadata": {
        "id": "pk8A68z1ltpl"
      },
      "outputs": [],
      "source": []
    },
    {
      "cell_type": "code",
      "execution_count": null,
      "metadata": {
        "id": "WUVMN29_ltpm"
      },
      "outputs": [],
      "source": []
    },
    {
      "cell_type": "markdown",
      "metadata": {
        "id": "Acw1DffHltpn"
      },
      "source": [
        "# 5.4 Atributos y métodos de arrays Numpy"
      ]
    },
    {
      "cell_type": "markdown",
      "metadata": {
        "id": "RBnSne6Eltpo"
      },
      "source": [
        "### Atributos\n",
        "\n",
        "https://numpy.org/doc/1.16/reference/arrays.ndarray.html#array-attributes"
      ]
    },
    {
      "cell_type": "code",
      "execution_count": null,
      "metadata": {
        "id": "stjvD6m8ltpo"
      },
      "outputs": [],
      "source": []
    },
    {
      "cell_type": "markdown",
      "metadata": {
        "id": "uKqPxg2Zltpo"
      },
      "source": [
        "## *ndarray.shape*\n",
        "\n",
        "Devuelve una tupla con las dimensiones del array."
      ]
    },
    {
      "cell_type": "code",
      "execution_count": null,
      "metadata": {
        "id": "gmaZhF04ltpp"
      },
      "outputs": [],
      "source": []
    },
    {
      "cell_type": "markdown",
      "metadata": {
        "id": "XaY6oXkmltpp"
      },
      "source": [
        "## *ndarray.ndim*\n",
        "\n",
        "Devuelve el número de dimensiones del array."
      ]
    },
    {
      "cell_type": "code",
      "execution_count": null,
      "metadata": {
        "id": "inJ4HDjaltpq"
      },
      "outputs": [],
      "source": []
    },
    {
      "cell_type": "markdown",
      "metadata": {
        "id": "ESgVt5xOltpq"
      },
      "source": [
        "## *ndarray.size*\n",
        "\n",
        "Devuelve el número de elementos del array."
      ]
    },
    {
      "cell_type": "code",
      "execution_count": null,
      "metadata": {
        "id": "BWr4efoiltpq"
      },
      "outputs": [],
      "source": []
    },
    {
      "cell_type": "markdown",
      "metadata": {
        "id": "Ox8JlBM3ltpr"
      },
      "source": [
        "## *ndarray.dtype*\n",
        "\n",
        "Devuelve el tipo de datos de los elementos del array."
      ]
    },
    {
      "cell_type": "code",
      "execution_count": null,
      "metadata": {
        "id": "npiL84Vfltpu"
      },
      "outputs": [],
      "source": []
    },
    {
      "cell_type": "markdown",
      "metadata": {
        "id": "j7uPN16oltpv"
      },
      "source": [
        "## *ndarray.T*\n",
        "\n",
        "Devuelve el array transpuesto, es decir, convierte líneas en columnas y viceversa."
      ]
    },
    {
      "cell_type": "code",
      "execution_count": null,
      "metadata": {
        "id": "bLjrrx56ltpv"
      },
      "outputs": [],
      "source": []
    },
    {
      "cell_type": "code",
      "execution_count": null,
      "metadata": {
        "id": "5A9SlJQvltpw"
      },
      "outputs": [],
      "source": []
    },
    {
      "cell_type": "markdown",
      "metadata": {
        "id": "e9r6ryTrltpw"
      },
      "source": [
        "### Métodos\n",
        "\n",
        "https://numpy.org/doc/1.16/reference/arrays.ndarray.html#array-methods"
      ]
    },
    {
      "cell_type": "markdown",
      "metadata": {
        "id": "SR9KYy-0ltpw"
      },
      "source": [
        "## *ndarray.tolist()*\n",
        "\n",
        "Devuelve el array como una lista Python."
      ]
    },
    {
      "cell_type": "code",
      "execution_count": null,
      "metadata": {
        "id": "C2aTAwOXltpw"
      },
      "outputs": [],
      "source": []
    },
    {
      "cell_type": "markdown",
      "metadata": {
        "id": "bHxcxugPltpx"
      },
      "source": [
        "## *ndarray.reshape(shape[, order])*\n",
        "\n",
        "Devuelve un array que contiene los mismos datos con una nueva forma."
      ]
    },
    {
      "cell_type": "code",
      "execution_count": null,
      "metadata": {
        "id": "lwESxO71ltpx"
      },
      "outputs": [],
      "source": []
    },
    {
      "cell_type": "code",
      "execution_count": null,
      "metadata": {
        "id": "sh9poyfzltpy"
      },
      "outputs": [],
      "source": []
    },
    {
      "cell_type": "code",
      "execution_count": null,
      "metadata": {
        "id": "5332Xu8-ltpy"
      },
      "outputs": [],
      "source": []
    },
    {
      "cell_type": "code",
      "execution_count": null,
      "metadata": {
        "id": "2RoZvbgHltpz"
      },
      "outputs": [],
      "source": []
    },
    {
      "cell_type": "code",
      "execution_count": null,
      "metadata": {
        "id": "6q0dJZ-dltp0"
      },
      "outputs": [],
      "source": [
        "km = [44410, 5712, 37123, 0, 25757]\n",
        "años = [2003, 1991, 1990, 2019, 2006]"
      ]
    },
    {
      "cell_type": "code",
      "execution_count": null,
      "metadata": {
        "id": "bs56aGrkltp0"
      },
      "outputs": [],
      "source": []
    },
    {
      "cell_type": "code",
      "execution_count": null,
      "metadata": {
        "id": "s_GkTk2fltp1"
      },
      "outputs": [],
      "source": []
    },
    {
      "cell_type": "code",
      "execution_count": null,
      "metadata": {
        "id": "xodm8DVZltp1"
      },
      "outputs": [],
      "source": []
    },
    {
      "cell_type": "markdown",
      "metadata": {
        "id": "Tdj5iArbltp2"
      },
      "source": [
        "## *ndarray.resize(new_shape[, refcheck])*\n",
        "\n",
        "Cambia la forma y el tamaño del array."
      ]
    },
    {
      "cell_type": "code",
      "execution_count": null,
      "metadata": {
        "id": "vB2zxCDtltp2"
      },
      "outputs": [],
      "source": []
    },
    {
      "cell_type": "code",
      "execution_count": null,
      "metadata": {
        "id": "IMv0m4Multp2"
      },
      "outputs": [],
      "source": []
    },
    {
      "cell_type": "code",
      "execution_count": null,
      "metadata": {
        "id": "wpAi9928ltp3"
      },
      "outputs": [],
      "source": []
    },
    {
      "cell_type": "code",
      "execution_count": null,
      "metadata": {
        "id": "CJyuKqaFltp3"
      },
      "outputs": [],
      "source": []
    },
    {
      "cell_type": "code",
      "execution_count": null,
      "metadata": {
        "id": "bj_iPZAultp4"
      },
      "outputs": [],
      "source": []
    },
    {
      "cell_type": "markdown",
      "metadata": {
        "id": "GPSk7Q_Dltp4"
      },
      "source": [
        "# 5.5 Estadísticas con arrays Numpy\n",
        "\n",
        "https://numpy.org/doc/1.16/reference/arrays.ndarray.html#calculation\n",
        "\n",
        "y\n",
        "\n",
        "https://numpy.org/doc/1.16/reference/routines.statistics.html\n",
        "\n",
        "y\n",
        "\n",
        "https://numpy.org/doc/1.16/reference/routines.math.html"
      ]
    },
    {
      "cell_type": "code",
      "execution_count": null,
      "metadata": {
        "id": "RH2u1orXltp5"
      },
      "outputs": [],
      "source": [
        "años = np.loadtxt(fname = \"carros-años.txt\", dtype = int)\n",
        "km = np.loadtxt(fname = \"carros-km.txt\")\n",
        "valor = np.loadtxt(fname = \"carros-valor.txt\")"
      ]
    },
    {
      "cell_type": "code",
      "execution_count": null,
      "metadata": {
        "id": "wbITF7r6ltp5"
      },
      "outputs": [],
      "source": []
    },
    {
      "cell_type": "markdown",
      "metadata": {
        "id": "U_x3SOVDltp7"
      },
      "source": [
        "https://numpy.org/doc/1.16/reference/generated/numpy.column_stack.html"
      ]
    },
    {
      "cell_type": "code",
      "execution_count": null,
      "metadata": {
        "id": "wefxl-XBltp8"
      },
      "outputs": [],
      "source": []
    },
    {
      "cell_type": "code",
      "execution_count": null,
      "metadata": {
        "id": "OzDTTmj8ltp_",
        "scrolled": true
      },
      "outputs": [],
      "source": []
    },
    {
      "cell_type": "markdown",
      "metadata": {
        "id": "Me6yUU_RltqA"
      },
      "source": [
        "## *np.mean()*\n",
        "\n",
        "Devuelve el promedio de los elementos del array a lo largo del eje especificado."
      ]
    },
    {
      "cell_type": "code",
      "execution_count": null,
      "metadata": {
        "id": "MNEKcP38ltqA"
      },
      "outputs": [],
      "source": []
    },
    {
      "cell_type": "code",
      "execution_count": null,
      "metadata": {
        "id": "sekHQ84zltqB"
      },
      "outputs": [],
      "source": []
    },
    {
      "cell_type": "code",
      "execution_count": null,
      "metadata": {
        "id": "RpyETIVSltqC"
      },
      "outputs": [],
      "source": []
    },
    {
      "cell_type": "code",
      "execution_count": null,
      "metadata": {
        "id": "_-kpcTI8ltqD",
        "scrolled": true
      },
      "outputs": [],
      "source": []
    },
    {
      "cell_type": "markdown",
      "metadata": {
        "id": "71jViVBUltqE"
      },
      "source": [
        "## *np.std()*\n",
        "\n",
        "Devuelve la desviación estándar de los elementos del array a lo largo del eje especificado."
      ]
    },
    {
      "cell_type": "code",
      "execution_count": null,
      "metadata": {
        "id": "lEwUbPx2ltqE",
        "scrolled": true
      },
      "outputs": [],
      "source": []
    },
    {
      "cell_type": "markdown",
      "metadata": {
        "id": "JTUH-vAeltqG"
      },
      "source": [
        "## *ndarray.sum()*\n",
        "\n",
        "Devuelve la suma de los elementos del array a lo largo del eje especificado."
      ]
    },
    {
      "cell_type": "code",
      "execution_count": null,
      "metadata": {
        "id": "jIi3yoaWltqG"
      },
      "outputs": [],
      "source": []
    },
    {
      "cell_type": "code",
      "execution_count": null,
      "metadata": {
        "id": "X3QYbdYLltqH"
      },
      "outputs": [],
      "source": []
    },
    {
      "cell_type": "markdown",
      "metadata": {
        "id": "WbBD5ixaltqH"
      },
      "source": [
        "## *np.sum()*\n",
        "\n",
        "Devuelve la suma de los elementos del array a lo largo del eje especificado."
      ]
    },
    {
      "cell_type": "code",
      "execution_count": null,
      "metadata": {
        "id": "omB6kgWgltqH"
      },
      "outputs": [],
      "source": []
    },
    {
      "cell_type": "code",
      "execution_count": null,
      "metadata": {
        "id": "LiD4G3kQltqI"
      },
      "outputs": [],
      "source": []
    },
    {
      "cell_type": "code",
      "execution_count": null,
      "metadata": {
        "id": "kpakpnntltqJ"
      },
      "outputs": [],
      "source": []
    }
  ],
  "metadata": {
    "colab": {
      "provenance": [],
      "include_colab_link": true
    },
    "kernelspec": {
      "display_name": "Python 3",
      "language": "python",
      "name": "python3"
    },
    "language_info": {
      "codemirror_mode": {
        "name": "ipython",
        "version": 3
      },
      "file_extension": ".py",
      "mimetype": "text/x-python",
      "name": "python",
      "nbconvert_exporter": "python",
      "pygments_lexer": "ipython3",
      "version": "3.7.1"
    }
  },
  "nbformat": 4,
  "nbformat_minor": 0
}