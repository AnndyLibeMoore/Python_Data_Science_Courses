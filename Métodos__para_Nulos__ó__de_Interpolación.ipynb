{
  "nbformat": 4,
  "nbformat_minor": 0,
  "metadata": {
    "colab": {
      "provenance": [],
      "authorship_tag": "ABX9TyOJ8EAZ14QaM88GBMAzhGiE",
      "include_colab_link": true
    },
    "kernelspec": {
      "name": "python3",
      "display_name": "Python 3"
    },
    "language_info": {
      "name": "python"
    }
  },
  "cells": [
    {
      "cell_type": "markdown",
      "metadata": {
        "id": "view-in-github",
        "colab_type": "text"
      },
      "source": [
        "<a href=\"https://colab.research.google.com/github/AnndyLibeMoore/Python_My_Learn/blob/main/M%C3%A9todos__para_Nulos__%C3%B3__de_Interpolaci%C3%B3n.ipynb\" target=\"_parent\"><img src=\"https://colab.research.google.com/assets/colab-badge.svg\" alt=\"Open In Colab\"/></a>"
      ]
    },
    {
      "cell_type": "code",
      "execution_count": 1,
      "metadata": {
        "id": "I-0LvMdh_gf4"
      },
      "outputs": [],
      "source": [
        "import pandas as pd"
      ]
    },
    {
      "cell_type": "code",
      "source": [
        "data = [0.5, None, None, 0.52, 0.54, None, None, 0.59, 0.6, None, 0.7]"
      ],
      "metadata": {
        "id": "4Z8q5AGm_pNY"
      },
      "execution_count": 2,
      "outputs": []
    },
    {
      "cell_type": "code",
      "source": [
        "s=pd.Series(data)\n",
        "s"
      ],
      "metadata": {
        "colab": {
          "base_uri": "https://localhost:8080/"
        },
        "id": "ApQ8dWNB_zdw",
        "outputId": "e979d5a6-9161-4584-ae24-ced8622420df"
      },
      "execution_count": 3,
      "outputs": [
        {
          "output_type": "execute_result",
          "data": {
            "text/plain": [
              "0     0.50\n",
              "1      NaN\n",
              "2      NaN\n",
              "3     0.52\n",
              "4     0.54\n",
              "5      NaN\n",
              "6      NaN\n",
              "7     0.59\n",
              "8     0.60\n",
              "9      NaN\n",
              "10    0.70\n",
              "dtype: float64"
            ]
          },
          "metadata": {},
          "execution_count": 3
        }
      ]
    },
    {
      "cell_type": "code",
      "source": [
        "#llamaremos a fillna para sustituir\n",
        "s.fillna(0)"
      ],
      "metadata": {
        "colab": {
          "base_uri": "https://localhost:8080/"
        },
        "id": "LL7ogW9y_3Lh",
        "outputId": "c13f9a15-c274-45fe-9406-5a9587f5f75e"
      },
      "execution_count": 5,
      "outputs": [
        {
          "output_type": "execute_result",
          "data": {
            "text/plain": [
              "0     0.50\n",
              "1     0.00\n",
              "2     0.00\n",
              "3     0.52\n",
              "4     0.54\n",
              "5     0.00\n",
              "6     0.00\n",
              "7     0.59\n",
              "8     0.60\n",
              "9     0.00\n",
              "10    0.70\n",
              "dtype: float64"
            ]
          },
          "metadata": {},
          "execution_count": 5
        }
      ]
    },
    {
      "cell_type": "code",
      "source": [
        "#aqui seguiran los nan porq noo hemos puesto el inplace\n",
        "s"
      ],
      "metadata": {
        "colab": {
          "base_uri": "https://localhost:8080/"
        },
        "id": "7SvKO-8_AAFx",
        "outputId": "13e4d9fd-3c5c-44d3-927c-5bbe771f40bf"
      },
      "execution_count": 7,
      "outputs": [
        {
          "output_type": "execute_result",
          "data": {
            "text/plain": [
              "0     0.50\n",
              "1      NaN\n",
              "2      NaN\n",
              "3     0.52\n",
              "4     0.54\n",
              "5      NaN\n",
              "6      NaN\n",
              "7     0.59\n",
              "8     0.60\n",
              "9      NaN\n",
              "10    0.70\n",
              "dtype: float64"
            ]
          },
          "metadata": {},
          "execution_count": 7
        }
      ]
    },
    {
      "cell_type": "markdown",
      "source": [
        "metodo ffill\n",
        "\n",
        "este buscara de adelante hacia el final los nulos de nuestros datos, recorrera los datos el primer valor no es nulo, pues pasa al siguiente como este sí es nulo lo sustituye con el valor anterior a este, y asi sucesivamente, veamos"
      ],
      "metadata": {
        "id": "M3MGnnnXAfi_"
      }
    },
    {
      "cell_type": "code",
      "source": [
        "#pero veremos mas formas de manejar nulos\n",
        "\n",
        "s.fillna(method = 'ffill')"
      ],
      "metadata": {
        "colab": {
          "base_uri": "https://localhost:8080/"
        },
        "id": "6ozywz-fALqK",
        "outputId": "947af854-851b-4284-92d8-2e1c77a54f9c"
      },
      "execution_count": 8,
      "outputs": [
        {
          "output_type": "execute_result",
          "data": {
            "text/plain": [
              "0     0.50\n",
              "1     0.50\n",
              "2     0.50\n",
              "3     0.52\n",
              "4     0.54\n",
              "5     0.54\n",
              "6     0.54\n",
              "7     0.59\n",
              "8     0.60\n",
              "9     0.60\n",
              "10    0.70\n",
              "dtype: float64"
            ]
          },
          "metadata": {},
          "execution_count": 8
        }
      ]
    },
    {
      "cell_type": "code",
      "source": [
        "#otro metodo es bfill\n",
        "#este trabaja igual pero iniciando desde el\n",
        "#último registro al inicio\n",
        "\n",
        "s.fillna(method = 'bfill')"
      ],
      "metadata": {
        "colab": {
          "base_uri": "https://localhost:8080/"
        },
        "id": "9ONmsTRgA7lB",
        "outputId": "f6fbc774-a3d4-4acd-98e1-77e2b487548f"
      },
      "execution_count": 10,
      "outputs": [
        {
          "output_type": "execute_result",
          "data": {
            "text/plain": [
              "0     0.50\n",
              "1     0.52\n",
              "2     0.52\n",
              "3     0.52\n",
              "4     0.54\n",
              "5     0.59\n",
              "6     0.59\n",
              "7     0.59\n",
              "8     0.60\n",
              "9     0.70\n",
              "10    0.70\n",
              "dtype: float64"
            ]
          },
          "metadata": {},
          "execution_count": 10
        }
      ]
    },
    {
      "cell_type": "code",
      "source": [
        "#otro metodo es mean\n",
        "#osea se calculara la media de mis datos y este valor\n",
        "#fijo reemplazara a los nulos\n",
        "s.fillna(s.mean())\n",
        "\n",
        "#este es el método más usado"
      ],
      "metadata": {
        "colab": {
          "base_uri": "https://localhost:8080/"
        },
        "id": "3G0MTJApBCXa",
        "outputId": "7af5d0af-db23-4926-a053-a61b7d82d7cf"
      },
      "execution_count": 11,
      "outputs": [
        {
          "output_type": "execute_result",
          "data": {
            "text/plain": [
              "0     0.500\n",
              "1     0.575\n",
              "2     0.575\n",
              "3     0.520\n",
              "4     0.540\n",
              "5     0.575\n",
              "6     0.575\n",
              "7     0.590\n",
              "8     0.600\n",
              "9     0.575\n",
              "10    0.700\n",
              "dtype: float64"
            ]
          },
          "metadata": {},
          "execution_count": 11
        }
      ]
    },
    {
      "cell_type": "code",
      "source": [
        "#ahora qué pasa si quiero usar el ffill pero tengo\n",
        "#muchos registros nulos de seguidos?\n",
        "#no es recomendable sustituir varios nulos de seguido\n",
        "#con el mismo valor, asi que aqui vamos a ponerle un\n",
        "# limite y los otros los dejara en nulos\n",
        "\n",
        "s.fillna(method = 'ffill', limit = 1)\n",
        "\n",
        "#si lo hacemos asi evitamos valores y resultados erroneos"
      ],
      "metadata": {
        "colab": {
          "base_uri": "https://localhost:8080/"
        },
        "id": "kNJehQTuB5LF",
        "outputId": "4f7863e5-6304-4423-ad24-7badb9cd6ae2"
      },
      "execution_count": 12,
      "outputs": [
        {
          "output_type": "execute_result",
          "data": {
            "text/plain": [
              "0     0.50\n",
              "1     0.50\n",
              "2      NaN\n",
              "3     0.52\n",
              "4     0.54\n",
              "5     0.54\n",
              "6      NaN\n",
              "7     0.59\n",
              "8     0.60\n",
              "9     0.60\n",
              "10    0.70\n",
              "dtype: float64"
            ]
          },
          "metadata": {},
          "execution_count": 12
        }
      ]
    },
    {
      "cell_type": "code",
      "source": [
        "s"
      ],
      "metadata": {
        "colab": {
          "base_uri": "https://localhost:8080/"
        },
        "id": "esvb67ssCaJf",
        "outputId": "004df8c3-64ff-4434-f2f6-147339f19a46"
      },
      "execution_count": 13,
      "outputs": [
        {
          "output_type": "execute_result",
          "data": {
            "text/plain": [
              "0     0.50\n",
              "1      NaN\n",
              "2      NaN\n",
              "3     0.52\n",
              "4     0.54\n",
              "5      NaN\n",
              "6      NaN\n",
              "7     0.59\n",
              "8     0.60\n",
              "9      NaN\n",
              "10    0.70\n",
              "dtype: float64"
            ]
          },
          "metadata": {},
          "execution_count": 13
        }
      ]
    },
    {
      "cell_type": "code",
      "source": [
        "'''#y si tengo una serie de miles de elementos, no\n",
        "es correcto llenar los nulos con los elementos del\n",
        "valor superior, más bien podria llenar los nulos mas\n",
        "proximos a la parte superios con ese valor y los\n",
        "proximos a la parte final con el valor de la parte final\n",
        "esto supondria una combiancion de metodos\n",
        "como el ffill y el bfill\n",
        "veamos\n",
        "'''\n",
        "#aqui llenaremos de adelante hacia atras\n",
        "s1 = s.fillna(method= 'ffill', limit = 1)\n",
        "\n",
        "s1"
      ],
      "metadata": {
        "colab": {
          "base_uri": "https://localhost:8080/"
        },
        "id": "_3jeC9poCfsW",
        "outputId": "f53541d3-72e8-4443-b55f-6e3cc8523150"
      },
      "execution_count": 14,
      "outputs": [
        {
          "output_type": "execute_result",
          "data": {
            "text/plain": [
              "0     0.50\n",
              "1     0.50\n",
              "2      NaN\n",
              "3     0.52\n",
              "4     0.54\n",
              "5     0.54\n",
              "6      NaN\n",
              "7     0.59\n",
              "8     0.60\n",
              "9     0.60\n",
              "10    0.70\n",
              "dtype: float64"
            ]
          },
          "metadata": {},
          "execution_count": 14
        }
      ]
    },
    {
      "cell_type": "code",
      "source": [
        "#ahora completaremos los nulos con el otro metodo\n",
        "\n",
        "s2 = s1.fillna(method= 'bfill', limit = 1)\n",
        "s2"
      ],
      "metadata": {
        "colab": {
          "base_uri": "https://localhost:8080/"
        },
        "id": "d5W_ZPe6DLkn",
        "outputId": "4addd4cf-9ba8-42b7-d7fb-e762113db0b4"
      },
      "execution_count": 15,
      "outputs": [
        {
          "output_type": "execute_result",
          "data": {
            "text/plain": [
              "0     0.50\n",
              "1     0.50\n",
              "2     0.52\n",
              "3     0.52\n",
              "4     0.54\n",
              "5     0.54\n",
              "6     0.59\n",
              "7     0.59\n",
              "8     0.60\n",
              "9     0.60\n",
              "10    0.70\n",
              "dtype: float64"
            ]
          },
          "metadata": {},
          "execution_count": 15
        }
      ]
    },
    {
      "cell_type": "code",
      "source": [
        "#Genial tenemos ya nuestros datos limpios y equilibrados"
      ],
      "metadata": {
        "id": "ln-zbC_JDXvm"
      },
      "execution_count": null,
      "outputs": []
    }
  ]
}