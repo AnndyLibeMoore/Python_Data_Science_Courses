{
  "nbformat": 4,
  "nbformat_minor": 0,
  "metadata": {
    "colab": {
      "provenance": [],
      "authorship_tag": "ABX9TyMfA3UZa89AFe1ZZXkE1rr9",
      "include_colab_link": true
    },
    "kernelspec": {
      "name": "python3",
      "display_name": "Python 3"
    },
    "language_info": {
      "name": "python"
    }
  },
  "cells": [
    {
      "cell_type": "markdown",
      "metadata": {
        "id": "view-in-github",
        "colab_type": "text"
      },
      "source": [
        "<a href=\"https://colab.research.google.com/github/AnndyLibeMoore/Python_My_Learn/blob/main/Creando_estructuras_de_datos.ipynb\" target=\"_parent\"><img src=\"https://colab.research.google.com/assets/colab-badge.svg\" alt=\"Open In Colab\"/></a>"
      ]
    },
    {
      "cell_type": "markdown",
      "source": [
        "# Creando estructuras de datos"
      ],
      "metadata": {
        "id": "0ukbODrSDbW_"
      }
    },
    {
      "cell_type": "code",
      "execution_count": 4,
      "metadata": {
        "id": "6Hgx_P_qDZP2"
      },
      "outputs": [],
      "source": [
        "import pandas as pd\n"
      ]
    },
    {
      "cell_type": "markdown",
      "source": [
        "#Series"
      ],
      "metadata": {
        "id": "m_SkvoSCDmlQ"
      }
    },
    {
      "cell_type": "code",
      "source": [
        "data = [1,2,3,4,5]"
      ],
      "metadata": {
        "id": "XT-1-XE1Dr6x"
      },
      "execution_count": 7,
      "outputs": []
    },
    {
      "cell_type": "code",
      "source": [
        "#generare una serie a partir de la lista anterior\n",
        "s = pd.Series(data)\n",
        "s"
      ],
      "metadata": {
        "colab": {
          "base_uri": "https://localhost:8080/"
        },
        "id": "kwwz1wZmDvok",
        "outputId": "f3155949-75cb-4afa-e9d2-96a023c688a9"
      },
      "execution_count": 8,
      "outputs": [
        {
          "output_type": "execute_result",
          "data": {
            "text/plain": [
              "0    1\n",
              "1    2\n",
              "2    3\n",
              "3    4\n",
              "4    5\n",
              "dtype: int64"
            ]
          },
          "metadata": {},
          "execution_count": 8
        }
      ]
    },
    {
      "cell_type": "code",
      "source": [
        "#tengo una serie de indices que van del 0 - 4 y contienen los valores del 1 - 5\n",
        "#yo puedo manipular los indices\n",
        "#generare una list comprenhension\n",
        "# genrare los nuevos indices cin un for y un range para decrile hasta donde debe generar ó contar\n",
        "index = ['Linea' + str (i) for i in range(5)]\n",
        "index"
      ],
      "metadata": {
        "colab": {
          "base_uri": "https://localhost:8080/"
        },
        "id": "GzSnMpjSD4Se",
        "outputId": "397f78b3-3e24-4a80-e40c-dc538fef61aa"
      },
      "execution_count": 9,
      "outputs": [
        {
          "output_type": "execute_result",
          "data": {
            "text/plain": [
              "['Linea0', 'Linea1', 'Linea2', 'Linea3', 'Linea4']"
            ]
          },
          "metadata": {},
          "execution_count": 9
        }
      ]
    },
    {
      "cell_type": "code",
      "source": [
        "#ahora generare nuestro objeto serie\n",
        "#aqui le dire que el data seguire siendo la misma variable data y que los indices son La\n",
        "#variable que acabe de crear index asiq ue debe tomarlos de allí\n",
        "s = pd.Series(data = data, index = index)\n",
        "s\n"
      ],
      "metadata": {
        "colab": {
          "base_uri": "https://localhost:8080/"
        },
        "id": "a39GjFXkEw1o",
        "outputId": "818cef88-472b-48cb-bb12-43e839693222"
      },
      "execution_count": 10,
      "outputs": [
        {
          "output_type": "execute_result",
          "data": {
            "text/plain": [
              "Linea0    1\n",
              "Linea1    2\n",
              "Linea2    3\n",
              "Linea3    4\n",
              "Linea4    5\n",
              "dtype: int64"
            ]
          },
          "metadata": {},
          "execution_count": 10
        }
      ]
    },
    {
      "cell_type": "code",
      "source": [
        "#otra forma de generar indices\n",
        "#genrare un diccionario con nombre data\n",
        "#le dire que el index sera 'Linea' + el iterador i que ira aumentando esta sera la llave\n",
        "#segun el for que contara siguiendo el range hasta 5 que sera el valor que tendra el indice\n",
        "data = {'Linea' + str(i) : i + 1 for i in range(5)}\n",
        "data"
      ],
      "metadata": {
        "colab": {
          "base_uri": "https://localhost:8080/"
        },
        "id": "npWd0zwpE9k9",
        "outputId": "ecab88fb-a4af-4e91-a708-4db6d67cafc5"
      },
      "execution_count": 11,
      "outputs": [
        {
          "output_type": "execute_result",
          "data": {
            "text/plain": [
              "{'Linea0': 1, 'Linea1': 2, 'Linea2': 3, 'Linea3': 4, 'Linea4': 5}"
            ]
          },
          "metadata": {},
          "execution_count": 11
        }
      ]
    },
    {
      "cell_type": "code",
      "source": [
        "hora"
      ],
      "metadata": {
        "id": "SboNy2tgHXzM"
      },
      "execution_count": null,
      "outputs": []
    },
    {
      "cell_type": "code",
      "source": [
        "#ahora puedo crear la serie\n",
        "s = pd.Series(data)\n",
        "s"
      ],
      "metadata": {
        "colab": {
          "base_uri": "https://localhost:8080/"
        },
        "id": "r3zwEq5yGgih",
        "outputId": "4a1884da-85c7-45e0-9bc1-7ec938e51c5c"
      },
      "execution_count": 12,
      "outputs": [
        {
          "output_type": "execute_result",
          "data": {
            "text/plain": [
              "Linea0    1\n",
              "Linea1    2\n",
              "Linea2    3\n",
              "Linea3    4\n",
              "Linea4    5\n",
              "dtype: int64"
            ]
          },
          "metadata": {},
          "execution_count": 12
        }
      ]
    },
    {
      "cell_type": "code",
      "source": [
        "#hemos creado series con una list conprehensino y con diccionario"
      ],
      "metadata": {
        "id": "BkV_MnA4HN5b"
      },
      "execution_count": 13,
      "outputs": []
    },
    {
      "cell_type": "code",
      "source": [
        "#ahora quiero generar intereacciones entre diccionarios\n",
        "#quiero trabjr condos dicciionarios\n",
        "#quiero que sume 2 unidades a cada elemento de la serie q ya tengo\n",
        "\n",
        "s1 = s + 2"
      ],
      "metadata": {
        "id": "bQ2JDOUmHUbt"
      },
      "execution_count": 14,
      "outputs": []
    },
    {
      "cell_type": "code",
      "source": [
        "s1"
      ],
      "metadata": {
        "colab": {
          "base_uri": "https://localhost:8080/"
        },
        "id": "7hl-ckUbHnqt",
        "outputId": "89f4d164-3ee9-4ca5-dd5f-2aa79273cc74"
      },
      "execution_count": 15,
      "outputs": [
        {
          "output_type": "execute_result",
          "data": {
            "text/plain": [
              "Linea0    3\n",
              "Linea1    4\n",
              "Linea2    5\n",
              "Linea3    6\n",
              "Linea4    7\n",
              "dtype: int64"
            ]
          },
          "metadata": {},
          "execution_count": 15
        }
      ]
    },
    {
      "cell_type": "code",
      "source": [
        "#ahora aqui trabaje con serie y número\n",
        "#quiero trabajar con dos series pero esto se puede si los valores\n",
        "#tienen los mismos indices\n",
        "\n",
        "s2 = s1 + s"
      ],
      "metadata": {
        "id": "chv9P0KFHovS"
      },
      "execution_count": 16,
      "outputs": []
    },
    {
      "cell_type": "code",
      "source": [
        "s2\n",
        "# aqui obtuvimos una suma de los valores de cada indice"
      ],
      "metadata": {
        "colab": {
          "base_uri": "https://localhost:8080/"
        },
        "id": "LlkW6Y05H959",
        "outputId": "01380ca1-e4c6-4c51-faf3-8ca462862497"
      },
      "execution_count": 17,
      "outputs": [
        {
          "output_type": "execute_result",
          "data": {
            "text/plain": [
              "Linea0     4\n",
              "Linea1     6\n",
              "Linea2     8\n",
              "Linea3    10\n",
              "Linea4    12\n",
              "dtype: int64"
            ]
          },
          "metadata": {},
          "execution_count": 17
        }
      ]
    },
    {
      "cell_type": "code",
      "source": [
        "#si el indice no es el mismo, su resultado sera nan"
      ],
      "metadata": {
        "id": "Ab3mfkbTIAGc"
      },
      "execution_count": null,
      "outputs": []
    }
  ]
}