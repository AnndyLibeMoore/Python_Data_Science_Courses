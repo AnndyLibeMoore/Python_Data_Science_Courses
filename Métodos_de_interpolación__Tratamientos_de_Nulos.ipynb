{
  "nbformat": 4,
  "nbformat_minor": 0,
  "metadata": {
    "colab": {
      "provenance": [],
      "authorship_tag": "ABX9TyNZt3woLS7dsHFQyR0+Q1pF",
      "include_colab_link": true
    },
    "kernelspec": {
      "name": "python3",
      "display_name": "Python 3"
    },
    "language_info": {
      "name": "python"
    }
  },
  "cells": [
    {
      "cell_type": "markdown",
      "metadata": {
        "id": "view-in-github",
        "colab_type": "text"
      },
      "source": [
        "<a href=\"https://colab.research.google.com/github/AnndyLibeMoore/Python_My_Learn/blob/main/M%C3%A9todos_de_interpolaci%C3%B3n__Tratamientos_de_Nulos.ipynb\" target=\"_parent\"><img src=\"https://colab.research.google.com/assets/colab-badge.svg\" alt=\"Open In Colab\"/></a>"
      ]
    },
    {
      "cell_type": "markdown",
      "source": [
        "Métodos de Interpolación\n"
      ],
      "metadata": {
        "id": "nmcikwFrXrUd"
      }
    },
    {
      "cell_type": "code",
      "execution_count": 2,
      "metadata": {
        "id": "59HC0c-oXqoj"
      },
      "outputs": [],
      "source": [
        "import pandas as pd"
      ]
    },
    {
      "cell_type": "code",
      "source": [
        "#otras formasd e tratar nulos\n",
        "data = [0.5, None, None, 0.52, 0.54, None, None, 0.59, 0,6, None, 0.7]"
      ],
      "metadata": {
        "id": "r4L0hG6fXw-y"
      },
      "execution_count": 6,
      "outputs": []
    },
    {
      "cell_type": "code",
      "source": [
        "s = pd.Series(data)"
      ],
      "metadata": {
        "id": "DZ69r8FeYDzw"
      },
      "execution_count": 7,
      "outputs": []
    },
    {
      "cell_type": "code",
      "source": [
        "s"
      ],
      "metadata": {
        "colab": {
          "base_uri": "https://localhost:8080/"
        },
        "id": "FCzMaRvXYINN",
        "outputId": "a664918c-c138-410a-d9c5-2379602d32c8"
      },
      "execution_count": 8,
      "outputs": [
        {
          "output_type": "execute_result",
          "data": {
            "text/plain": [
              "0     0.50\n",
              "1      NaN\n",
              "2      NaN\n",
              "3     0.52\n",
              "4     0.54\n",
              "5      NaN\n",
              "6      NaN\n",
              "7     0.59\n",
              "8     0.00\n",
              "9     6.00\n",
              "10     NaN\n",
              "11    0.70\n",
              "dtype: float64"
            ]
          },
          "metadata": {},
          "execution_count": 8
        }
      ]
    },
    {
      "cell_type": "code",
      "source": [
        "# primero rellenamos\n",
        "s.fillna(0)"
      ],
      "metadata": {
        "colab": {
          "base_uri": "https://localhost:8080/"
        },
        "id": "cV5uZMBeYJhQ",
        "outputId": "38b0c8ca-d204-448f-e0ac-090fb1e72a74"
      },
      "execution_count": 9,
      "outputs": [
        {
          "output_type": "execute_result",
          "data": {
            "text/plain": [
              "0     0.50\n",
              "1     0.00\n",
              "2     0.00\n",
              "3     0.52\n",
              "4     0.54\n",
              "5     0.00\n",
              "6     0.00\n",
              "7     0.59\n",
              "8     0.00\n",
              "9     6.00\n",
              "10    0.00\n",
              "11    0.70\n",
              "dtype: float64"
            ]
          },
          "metadata": {},
          "execution_count": 9
        }
      ]
    },
    {
      "cell_type": "code",
      "source": [
        "#podemos tambien usando el metodo ffill\n",
        "#este buscara de adelante al final los nulos\n",
        "#ira al primer valor no es nulo pasa al siguiente es nulo lo sustituye\n",
        "#con el valor anterior y asi\n",
        "s.fillna(method = 'ffill')"
      ],
      "metadata": {
        "colab": {
          "base_uri": "https://localhost:8080/"
        },
        "id": "EZT9mjuCYhLx",
        "outputId": "51159f5e-87e9-433d-e013-c333242ae5e5"
      },
      "execution_count": 11,
      "outputs": [
        {
          "output_type": "execute_result",
          "data": {
            "text/plain": [
              "0     0.50\n",
              "1     0.50\n",
              "2     0.50\n",
              "3     0.52\n",
              "4     0.54\n",
              "5     0.54\n",
              "6     0.54\n",
              "7     0.59\n",
              "8     0.00\n",
              "9     6.00\n",
              "10    6.00\n",
              "11    0.70\n",
              "dtype: float64"
            ]
          },
          "metadata": {},
          "execution_count": 11
        }
      ]
    },
    {
      "cell_type": "code",
      "source": [
        "s"
      ],
      "metadata": {
        "colab": {
          "base_uri": "https://localhost:8080/"
        },
        "id": "z5_dAGhjYpO6",
        "outputId": "df6bbd23-98d2-4739-e43d-14d0ad67e7d7"
      },
      "execution_count": 12,
      "outputs": [
        {
          "output_type": "execute_result",
          "data": {
            "text/plain": [
              "0     0.50\n",
              "1      NaN\n",
              "2      NaN\n",
              "3     0.52\n",
              "4     0.54\n",
              "5      NaN\n",
              "6      NaN\n",
              "7     0.59\n",
              "8     0.00\n",
              "9     6.00\n",
              "10     NaN\n",
              "11    0.70\n",
              "dtype: float64"
            ]
          },
          "metadata": {},
          "execution_count": 12
        }
      ]
    },
    {
      "cell_type": "code",
      "source": [
        "#ahora el método bfill, este hace lo contrario empieza\n",
        "#de abajo para ariba y sustituye de esa forma\n",
        "s.fillna(method = 'bfill')"
      ],
      "metadata": {
        "colab": {
          "base_uri": "https://localhost:8080/"
        },
        "id": "GQf157L_ZWXz",
        "outputId": "85899b29-2a29-4e18-b4a4-9b601ed3d8b4"
      },
      "execution_count": 13,
      "outputs": [
        {
          "output_type": "execute_result",
          "data": {
            "text/plain": [
              "0     0.50\n",
              "1     0.52\n",
              "2     0.52\n",
              "3     0.52\n",
              "4     0.54\n",
              "5     0.59\n",
              "6     0.59\n",
              "7     0.59\n",
              "8     0.00\n",
              "9     6.00\n",
              "10    0.70\n",
              "11    0.70\n",
              "dtype: float64"
            ]
          },
          "metadata": {},
          "execution_count": 13
        }
      ]
    },
    {
      "cell_type": "code",
      "source": [
        "s"
      ],
      "metadata": {
        "colab": {
          "base_uri": "https://localhost:8080/"
        },
        "id": "h5ggOjmuZg5D",
        "outputId": "83f4b3eb-ff2d-479b-f3f2-c4c2b9e4bd22"
      },
      "execution_count": 14,
      "outputs": [
        {
          "output_type": "execute_result",
          "data": {
            "text/plain": [
              "0     0.50\n",
              "1      NaN\n",
              "2      NaN\n",
              "3     0.52\n",
              "4     0.54\n",
              "5      NaN\n",
              "6      NaN\n",
              "7     0.59\n",
              "8     0.00\n",
              "9     6.00\n",
              "10     NaN\n",
              "11    0.70\n",
              "dtype: float64"
            ]
          },
          "metadata": {},
          "execution_count": 14
        }
      ]
    },
    {
      "cell_type": "code",
      "source": [
        "#a veces los nulos se sustituyen por la media de valores, es muy común\n",
        "s.fillna(s.mean())"
      ],
      "metadata": {
        "colab": {
          "base_uri": "https://localhost:8080/"
        },
        "id": "k5RzjRLTZiib",
        "outputId": "d49a4bf0-bca3-4e98-a4a6-67afa7463d37"
      },
      "execution_count": 15,
      "outputs": [
        {
          "output_type": "execute_result",
          "data": {
            "text/plain": [
              "0     0.500000\n",
              "1     1.264286\n",
              "2     1.264286\n",
              "3     0.520000\n",
              "4     0.540000\n",
              "5     1.264286\n",
              "6     1.264286\n",
              "7     0.590000\n",
              "8     0.000000\n",
              "9     6.000000\n",
              "10    1.264286\n",
              "11    0.700000\n",
              "dtype: float64"
            ]
          },
          "metadata": {},
          "execution_count": 15
        }
      ]
    },
    {
      "cell_type": "code",
      "source": [
        "s"
      ],
      "metadata": {
        "colab": {
          "base_uri": "https://localhost:8080/"
        },
        "id": "9IC59w8tZxAN",
        "outputId": "75d4c73c-ede2-4604-b3da-99e16b3efaf4"
      },
      "execution_count": 16,
      "outputs": [
        {
          "output_type": "execute_result",
          "data": {
            "text/plain": [
              "0     0.50\n",
              "1      NaN\n",
              "2      NaN\n",
              "3     0.52\n",
              "4     0.54\n",
              "5      NaN\n",
              "6      NaN\n",
              "7     0.59\n",
              "8     0.00\n",
              "9     6.00\n",
              "10     NaN\n",
              "11    0.70\n",
              "dtype: float64"
            ]
          },
          "metadata": {},
          "execution_count": 16
        }
      ]
    },
    {
      "cell_type": "code",
      "source": [
        "#si tuvieramos muchos nulos en secuencia, por ejemplo si suamos el fill, los\n",
        "#siguientes 5 valores seran iguales al primer que no era nulo y al momento de\n",
        "#gráficar esto tiene peso y puede alterar, no es recomendable\n",
        "#sustituir tantos valores de seguidos, hay q poner un límite\n",
        "#asi que eso haremos\n",
        "\n",
        "s.fillna(method = 'ffill', limit = 1)\n",
        "\n",
        "#aquí solo sustituimos 1 valor nulo"
      ],
      "metadata": {
        "colab": {
          "base_uri": "https://localhost:8080/"
        },
        "id": "6GjXj1SOZ3aj",
        "outputId": "9b10a220-12b2-40dd-ca45-26203995d1c9"
      },
      "execution_count": 17,
      "outputs": [
        {
          "output_type": "execute_result",
          "data": {
            "text/plain": [
              "0     0.50\n",
              "1     0.50\n",
              "2      NaN\n",
              "3     0.52\n",
              "4     0.54\n",
              "5     0.54\n",
              "6      NaN\n",
              "7     0.59\n",
              "8     0.00\n",
              "9     6.00\n",
              "10    6.00\n",
              "11    0.70\n",
              "dtype: float64"
            ]
          },
          "metadata": {},
          "execution_count": 17
        }
      ]
    },
    {
      "cell_type": "code",
      "source": [
        "#supongamos q la series q tenemos es de miles d elementos, np puedo rellenar\n",
        "#todos los nulos con el valor del prier elemento, lo mas lógico seria q los primeros\n",
        "#se llenaran con el valor de arriba y los ultimos con el de abajo, como si\n",
        "#combinara el metodo ffill y bfill, cómo combinamos?\n",
        "\n",
        "s1 = s.fillna(method = 'ffill', limit = 1)"
      ],
      "metadata": {
        "id": "Aj9eWTeWaUyc"
      },
      "execution_count": 18,
      "outputs": []
    },
    {
      "cell_type": "code",
      "source": [
        "s1"
      ],
      "metadata": {
        "colab": {
          "base_uri": "https://localhost:8080/"
        },
        "id": "8BhMAYKZa-X2",
        "outputId": "0cc2803c-e0d3-4f27-a720-6451016249e6"
      },
      "execution_count": 19,
      "outputs": [
        {
          "output_type": "execute_result",
          "data": {
            "text/plain": [
              "0     0.50\n",
              "1     0.50\n",
              "2      NaN\n",
              "3     0.52\n",
              "4     0.54\n",
              "5     0.54\n",
              "6      NaN\n",
              "7     0.59\n",
              "8     0.00\n",
              "9     6.00\n",
              "10    6.00\n",
              "11    0.70\n",
              "dtype: float64"
            ]
          },
          "metadata": {},
          "execution_count": 19
        }
      ]
    },
    {
      "cell_type": "code",
      "source": [
        "s2 = s1.fillna(method = 'bfill', limit = 1)"
      ],
      "metadata": {
        "id": "0buO3PrBbBbc"
      },
      "execution_count": 20,
      "outputs": []
    },
    {
      "cell_type": "code",
      "source": [
        "s2"
      ],
      "metadata": {
        "colab": {
          "base_uri": "https://localhost:8080/"
        },
        "id": "4sOZGwoabG6_",
        "outputId": "ea5064c6-4aad-47a5-b8ae-2a4c3a182a5d"
      },
      "execution_count": 21,
      "outputs": [
        {
          "output_type": "execute_result",
          "data": {
            "text/plain": [
              "0     0.50\n",
              "1     0.50\n",
              "2     0.52\n",
              "3     0.52\n",
              "4     0.54\n",
              "5     0.54\n",
              "6     0.59\n",
              "7     0.59\n",
              "8     0.00\n",
              "9     6.00\n",
              "10    6.00\n",
              "11    0.70\n",
              "dtype: float64"
            ]
          },
          "metadata": {},
          "execution_count": 21
        }
      ]
    },
    {
      "cell_type": "code",
      "source": [],
      "metadata": {
        "id": "ni3ipO12bHjm"
      },
      "execution_count": null,
      "outputs": []
    }
  ]
}